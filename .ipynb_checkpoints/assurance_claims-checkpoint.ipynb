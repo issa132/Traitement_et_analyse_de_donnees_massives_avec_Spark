{
 "cells": [
  {
   "cell_type": "code",
   "execution_count": 1,
   "metadata": {
    "colab": {
     "base_uri": "https://localhost:8080/",
     "height": 296
    },
    "executionInfo": {
     "elapsed": 23552,
     "status": "ok",
     "timestamp": 1758485272045,
     "user": {
      "displayName": "Abdoulaye Issa",
      "userId": "11578120158179831578"
     },
     "user_tz": 240
    },
    "id": "Bb4yxygcmwCH",
    "outputId": "01a505e1-1a7e-40f0-c619-f04b5784ff72"
   },
   "outputs": [
    {
     "name": "stdout",
     "output_type": "stream",
     "text": [
      "Requirement already satisfied: pyspark in /usr/local/lib/python3.10/dist-packages (3.4.1)\n",
      "Requirement already satisfied: py4j==0.10.9.7 in /usr/local/lib/python3.10/dist-packages (from pyspark) (0.10.9.7)\n",
      "\u001b[33mWARNING: Running pip as the 'root' user can result in broken permissions and conflicting behaviour with the system package manager. It is recommended to use a virtual environment instead: https://pip.pypa.io/warnings/venv\u001b[0m\u001b[33m\n",
      "\u001b[0mRequirement already satisfied: findspark in /usr/local/lib/python3.10/dist-packages (2.0.1)\n",
      "\u001b[33mWARNING: Running pip as the 'root' user can result in broken permissions and conflicting behaviour with the system package manager. It is recommended to use a virtual environment instead: https://pip.pypa.io/warnings/venv\u001b[0m\u001b[33m\n",
      "\u001b[0mRequirement already satisfied: numpy in /usr/local/lib/python3.10/dist-packages (2.2.6)\n",
      "\u001b[33mWARNING: Running pip as the 'root' user can result in broken permissions and conflicting behaviour with the system package manager. It is recommended to use a virtual environment instead: https://pip.pypa.io/warnings/venv\u001b[0m\u001b[33m\n",
      "\u001b[0m"
     ]
    },
    {
     "data": {
      "text/plain": [
       "'\\nC:\\\\Program Files\\\\Eclipse Adoptium\\\\jdk-21.0.8.9-hotspot\\x08in\\\\java.exe\\nC:\\\\Program Files\\\\Common Files\\\\Oracle\\\\Java\\\\javapath\\\\java.exe\\nC:\\\\Program Files (x86)\\\\Common Files\\\\Oracle\\\\Java\\\\java8path\\\\java.exe\\n'"
      ]
     },
     "execution_count": 1,
     "metadata": {},
     "output_type": "execute_result"
    }
   ],
   "source": [
    "# Install PySpark in Colab\n",
    "!pip install pyspark\n",
    "!pip install findspark\n",
    "#!pip install delta-spark\n",
    "#!pip install pyspark\n",
    "!pip install numpy\n",
    "# Set Java path for Colab\n",
    "import os\n",
    "#os.environ['JAVA_HOME'] = r'C:\\Program Files\\Eclipse Adoptium\\jdk-21.0.8.9-hotspot'\n",
    "#os.environ['JAVA_HOME'] = r\"C:/Program Files/Eclipse Adoptium/jdk-21.0.8.9-hotspot\"\n",
    "#'/usr/lib/jvm/java-11-openjdk-amd64'\n",
    "#os.environ['JAVA_HOME'] = r\"C:/Program Files/Eclipse Adoptium/jdk-21.0.8.9-hotspot\"\n",
    "#os.environ['PATH'] = os.environ['JAVA_HOME'] + r\"\\bin;\" + os.environ['PATH']\n",
    "#os.environ['JAVA_HOME'] =r\"/usr/lib/jvm/java-11-openjdk-amd64\"\n",
    "\n",
    "'''\n",
    "C:\\Program Files\\Eclipse Adoptium\\jdk-21.0.8.9-hotspot\\bin\\java.exe\n",
    "C:\\Program Files\\Common Files\\Oracle\\Java\\javapath\\java.exe\n",
    "C:\\Program Files (x86)\\Common Files\\Oracle\\Java\\java8path\\java.exe\n",
    "'''"
   ]
  },
  {
   "cell_type": "code",
   "execution_count": 6,
   "metadata": {
    "colab": {
     "base_uri": "https://localhost:8080/",
     "height": 356
    },
    "executionInfo": {
     "elapsed": 142,
     "status": "error",
     "timestamp": 1758485272189,
     "user": {
      "displayName": "Abdoulaye Issa",
      "userId": "11578120158179831578"
     },
     "user_tz": 240
    },
    "id": "nkDVDXgEFblv",
    "outputId": "2f37a672-45d6-4bc0-cbcd-bc9895fe608e"
   },
   "outputs": [
    {
     "name": "stdout",
     "output_type": "stream",
     "text": [
      ":: loading settings :: url = jar:file:/usr/local/lib/python3.10/dist-packages/pyspark/jars/ivy-2.5.1.jar!/org/apache/ivy/core/settings/ivysettings.xml\n"
     ]
    },
    {
     "name": "stderr",
     "output_type": "stream",
     "text": [
      "Ivy Default Cache set to: /root/.ivy2/cache\n",
      "The jars for the packages stored in: /root/.ivy2/jars\n",
      "io.delta#delta-core_2.12 added as a dependency\n",
      ":: resolving dependencies :: org.apache.spark#spark-submit-parent-1048ec62-811c-47ad-8b9d-7cb7fa58767f;1.0\n",
      "\tconfs: [default]\n",
      "\tfound io.delta#delta-core_2.12;2.4.0 in central\n",
      "\tfound io.delta#delta-storage;2.4.0 in central\n",
      "\tfound org.antlr#antlr4-runtime;4.9.3 in central\n",
      ":: resolution report :: resolve 395ms :: artifacts dl 10ms\n",
      "\t:: modules in use:\n",
      "\tio.delta#delta-core_2.12;2.4.0 from central in [default]\n",
      "\tio.delta#delta-storage;2.4.0 from central in [default]\n",
      "\torg.antlr#antlr4-runtime;4.9.3 from central in [default]\n",
      "\t---------------------------------------------------------------------\n",
      "\t|                  |            modules            ||   artifacts   |\n",
      "\t|       conf       | number| search|dwnlded|evicted|| number|dwnlded|\n",
      "\t---------------------------------------------------------------------\n",
      "\t|      default     |   3   |   0   |   0   |   0   ||   3   |   0   |\n",
      "\t---------------------------------------------------------------------\n",
      ":: retrieving :: org.apache.spark#spark-submit-parent-1048ec62-811c-47ad-8b9d-7cb7fa58767f\n",
      "\tconfs: [default]\n",
      "\t0 artifacts copied, 3 already retrieved (0kB/7ms)\n",
      "25/10/03 21:29:25 WARN NativeCodeLoader: Unable to load native-hadoop library for your platform... using builtin-java classes where applicable\n",
      "Setting default log level to \"WARN\".\n",
      "To adjust logging level use sc.setLogLevel(newLevel). For SparkR, use setLogLevel(newLevel).\n"
     ]
    }
   ],
   "source": [
    "from pyspark.sql import SparkSession\n",
    "\n",
    "\n",
    "#import os\n",
    "#os.environ['JAVA_HOME'] = r'C:\\Program Files\\Eclipse Adoptium\\jdk-21.0.8.9-hotspot'\n",
    "\n",
    "# Create a new SparkSession\n",
    "spark = (SparkSession\n",
    "         .builder\n",
    "         .appName(\"projet_sparkSQL_SQL_DeltaLake_Warehouse\")\n",
    "         .master(\"local[*]\")  # Use local mode\n",
    "         .config(\"spark.rpc.message.maxSize\", \"2047\")\n",
    "         .config(\"spark.network.maxFrameSize\", \"2047m\")\n",
    "         .config(\"spark.serializer.objectStreamReset\", \"10000\")\n",
    "         .config(\"spark.rpc.askTimeout\", \"120s\")\n",
    "         .config(\"spark.network.timeout\", \"240s\")\n",
    "         .config(\"spark.executor.memory\", \"512m\")  \n",
    "         .config(\"spark.driver.memory\", \"4g\") # Increased driver memory again\n",
    "         #.config(\"spark.jars.packages\", \"io.delta:delta-core_2.12:2.1.0\")#delta-core_2.12-2.4.0.jar\n",
    "         #\n",
    "         .config(\"spark.sql.extensions\", \"io.delta.sql.DeltaSparkSessionExtension\") \\\n",
    "         .config(\"spark.sql.catalog.spark_catalog\", \"org.apache.spark.sql.delta.catalog.DeltaCatalog\")\n",
    "         #\n",
    "         .config(\"spark.jars.packages\", \"io.delta:delta-core_2.12:2.4.0\") \n",
    "         .config(\"spark.sql.adaptive.enabled\", \"false\")\n",
    "         .config(\"spark.dynamicAllocation.enabled\", \"false\")\n",
    "         .config(\"spark.sql.shuffle.partitions\", \"8\")\n",
    "         .getOrCreate())\n",
    "\n",
    "# Set log level to ERROR\n",
    "spark.sparkContext.setLogLevel(\"ERROR\")"
   ]
  },
  {
   "cell_type": "code",
   "execution_count": 7,
   "metadata": {
    "executionInfo": {
     "elapsed": 3,
     "status": "aborted",
     "timestamp": 1758485272229,
     "user": {
      "displayName": "Abdoulaye Issa",
      "userId": "11578120158179831578"
     },
     "user_tz": 240
    },
    "id": "YKg7GuZoFrxV"
   },
   "outputs": [],
   "source": [
    "# Read CSV file into a DataFrame\n",
    "df = (spark.read\n",
    "      .format(\"csv\")\n",
    "      .option(\"header\", \"true\")\n",
    "      .load(\"../data/insurance_claims.csv\"))\n",
    "\n",
    "# Alternatively\n",
    "## If your CSV file does not have a header row\n",
    "\n",
    "#df = (spark.read\n",
    "#      .format(\"csv\")\n",
    "#      .option(\"header\", \"false\") # When the CSV file does not have any headers\n",
    "#      .load(\"../data/netflix_titles.csv\"))"
   ]
  },
  {
   "cell_type": "code",
   "execution_count": 8,
   "metadata": {
    "executionInfo": {
     "elapsed": 3,
     "status": "aborted",
     "timestamp": 1758485272231,
     "user": {
      "displayName": "Abdoulaye Issa",
      "userId": "11578120158179831578"
     },
     "user_tz": 240
    },
    "id": "p2yiV8t8G1Oc"
   },
   "outputs": [
    {
     "name": "stdout",
     "output_type": "stream",
     "text": [
      "+------------------+---+-------------+----------------+------------+----------+-----------------+---------------------+--------------+-----------+-----------+-----------------------+------------------+---------------+--------------------+-------------+------------+-------------+------------------------+---------------+-----------------+---------------------+--------------+-------------+------------------+------------------------+---------------------------+---------------+---------------+---------+-----------------------+------------------+------------+--------------+-------------+---------+----------+---------+--------------+----+\n",
      "|months_as_customer|age|policy_number|policy_bind_date|policy_state|policy_csl|policy_deductable|policy_annual_premium|umbrella_limit|insured_zip|insured_sex|insured_education_level|insured_occupation|insured_hobbies|insured_relationship|capital-gains|capital-loss|incident_date|           incident_type| collision_type|incident_severity|authorities_contacted|incident_state|incident_city| incident_location|incident_hour_of_the_day|number_of_vehicles_involved|property_damage|bodily_injuries|witnesses|police_report_available|total_claim_amount|injury_claim|property_claim|vehicle_claim|auto_make|auto_model|auto_year|fraud_reported|_c39|\n",
      "+------------------+---+-------------+----------------+------------+----------+-----------------+---------------------+--------------+-----------+-----------+-----------------------+------------------+---------------+--------------------+-------------+------------+-------------+------------------------+---------------+-----------------+---------------------+--------------+-------------+------------------+------------------------+---------------------------+---------------+---------------+---------+-----------------------+------------------+------------+--------------+-------------+---------+----------+---------+--------------+----+\n",
      "|               328| 48|       521585|      2014-10-17|          OH|   250/500|             1000|              1406.91|             0|     466132|       MALE|                     MD|      craft-repair|       sleeping|             husband|        53300|           0|   2015-01-25|Single Vehicle Collision| Side Collision|     Major Damage|               Police|            SC|     Columbus|    9935 4th Drive|                       5|                          1|            YES|              1|        2|                    YES|             71610|        6510|         13020|        52080|     Saab|       92x|     2004|             Y|null|\n",
      "|               228| 42|       342868|      2006-06-27|          IN|   250/500|             2000|              1197.22|       5000000|     468176|       MALE|                     MD| machine-op-inspct|        reading|      other-relative|            0|           0|   2015-01-21|           Vehicle Theft|              ?|     Minor Damage|               Police|            VA|    Riverwood|      6608 MLK Hwy|                       8|                          1|              ?|              0|        0|                      ?|              5070|         780|           780|         3510| Mercedes|      E400|     2007|             Y|null|\n",
      "|               134| 29|       687698|      2000-09-06|          OH|   100/300|             2000|              1413.14|       5000000|     430632|     FEMALE|                    PhD|             sales|    board-games|           own-child|        35100|           0|   2015-02-22| Multi-vehicle Collision| Rear Collision|     Minor Damage|               Police|            NY|     Columbus| 7121 Francis Lane|                       7|                          3|             NO|              2|        3|                     NO|             34650|        7700|          3850|        23100|    Dodge|       RAM|     2007|             N|null|\n",
      "|               256| 41|       227811|      1990-05-25|          IL|   250/500|             2000|              1415.74|       6000000|     608117|     FEMALE|                    PhD|      armed-forces|    board-games|           unmarried|        48900|      -62400|   2015-01-10|Single Vehicle Collision|Front Collision|     Major Damage|               Police|            OH|    Arlington|  6956 Maple Drive|                       5|                          1|              ?|              1|        2|                     NO|             63400|        6340|          6340|        50720|Chevrolet|     Tahoe|     2014|             Y|null|\n",
      "|               228| 44|       367455|      2014-06-06|          IL|  500/1000|             1000|              1583.91|       6000000|     610706|       MALE|              Associate|             sales|    board-games|           unmarried|        66000|      -46000|   2015-02-17|           Vehicle Theft|              ?|     Minor Damage|                 None|            NY|    Arlington|      3041 3rd Ave|                      20|                          1|             NO|              0|        1|                     NO|              6500|        1300|           650|         4550|   Accura|       RSX|     2009|             N|null|\n",
      "|               256| 39|       104594|      2006-10-12|          OH|   250/500|             1000|               1351.1|             0|     478456|     FEMALE|                    PhD|      tech-support| bungie-jumping|           unmarried|            0|           0|   2015-01-02| Multi-vehicle Collision| Rear Collision|     Major Damage|                 Fire|            SC|    Arlington|8973 Washington St|                      19|                          3|             NO|              0|        2|                     NO|             64100|        6410|          6410|        51280|     Saab|        95|     2003|             Y|null|\n",
      "|               137| 34|       413978|      2000-06-04|          IN|   250/500|             1000|              1333.35|             0|     441716|       MALE|                    PhD|    prof-specialty|    board-games|             husband|            0|      -77000|   2015-01-13| Multi-vehicle Collision|Front Collision|     Minor Damage|               Police|            NY|  Springfield| 5846 Weaver Drive|                       0|                          3|              ?|              0|        0|                      ?|             78650|       21450|          7150|        50050|   Nissan|Pathfinder|     2012|             N|null|\n",
      "|               165| 37|       429027|      1990-02-03|          IL|   100/300|             1000|              1137.03|             0|     603195|       MALE|              Associate|      tech-support|   base-jumping|           unmarried|            0|           0|   2015-02-27| Multi-vehicle Collision|Front Collision|       Total Loss|               Police|            VA|     Columbus|      3525 3rd Hwy|                      23|                          3|              ?|              2|        2|                    YES|             51590|        9380|          9380|        32830|     Audi|        A5|     2015|             N|null|\n",
      "|                27| 33|       485665|      1997-02-05|          IL|   100/300|              500|              1442.99|             0|     601734|     FEMALE|                    PhD|     other-service|           golf|           own-child|            0|           0|   2015-01-30|Single Vehicle Collision|Front Collision|       Total Loss|               Police|            WV|    Arlington|   4872 Rock Ridge|                      21|                          1|             NO|              1|        1|                    YES|             27700|        2770|          2770|        22160|   Toyota|     Camry|     2012|             N|null|\n",
      "|               212| 42|       636550|      2011-07-25|          IL|   100/300|              500|              1315.68|             0|     600983|       MALE|                    PhD|   priv-house-serv|        camping|                wife|            0|      -39300|   2015-01-05|Single Vehicle Collision| Rear Collision|       Total Loss|                Other|            NC|    Hillsdale|  3066 Francis Ave|                      14|                          1|             NO|              2|        1|                      ?|             42300|        4700|          4700|        32900|     Saab|       92x|     1996|             N|null|\n",
      "+------------------+---+-------------+----------------+------------+----------+-----------------+---------------------+--------------+-----------+-----------+-----------------------+------------------+---------------+--------------------+-------------+------------+-------------+------------------------+---------------+-----------------+---------------------+--------------+-------------+------------------+------------------------+---------------------------+---------------+---------------+---------+-----------------------+------------------+------------+--------------+-------------+---------+----------+---------+--------------+----+\n",
      "only showing top 10 rows\n",
      "\n"
     ]
    }
   ],
   "source": [
    "df.show(10, truncate=30)"
   ]
  },
  {
   "cell_type": "code",
   "execution_count": 5,
   "metadata": {
    "executionInfo": {
     "elapsed": 1,
     "status": "aborted",
     "timestamp": 1758485272234,
     "user": {
      "displayName": "Abdoulaye Issa",
      "userId": "11578120158179831578"
     },
     "user_tz": 240
    },
    "id": "TnILgmg_HAF1"
   },
   "outputs": [
    {
     "name": "stdout",
     "output_type": "stream",
     "text": [
      "root\n",
      " |-- months_as_customer: string (nullable = true)\n",
      " |-- age: string (nullable = true)\n",
      " |-- policy_number: string (nullable = true)\n",
      " |-- policy_bind_date: string (nullable = true)\n",
      " |-- policy_state: string (nullable = true)\n",
      " |-- policy_csl: string (nullable = true)\n",
      " |-- policy_deductable: string (nullable = true)\n",
      " |-- policy_annual_premium: string (nullable = true)\n",
      " |-- umbrella_limit: string (nullable = true)\n",
      " |-- insured_zip: string (nullable = true)\n",
      " |-- insured_sex: string (nullable = true)\n",
      " |-- insured_education_level: string (nullable = true)\n",
      " |-- insured_occupation: string (nullable = true)\n",
      " |-- insured_hobbies: string (nullable = true)\n",
      " |-- insured_relationship: string (nullable = true)\n",
      " |-- capital-gains: string (nullable = true)\n",
      " |-- capital-loss: string (nullable = true)\n",
      " |-- incident_date: string (nullable = true)\n",
      " |-- incident_type: string (nullable = true)\n",
      " |-- collision_type: string (nullable = true)\n",
      " |-- incident_severity: string (nullable = true)\n",
      " |-- authorities_contacted: string (nullable = true)\n",
      " |-- incident_state: string (nullable = true)\n",
      " |-- incident_city: string (nullable = true)\n",
      " |-- incident_location: string (nullable = true)\n",
      " |-- incident_hour_of_the_day: string (nullable = true)\n",
      " |-- number_of_vehicles_involved: string (nullable = true)\n",
      " |-- property_damage: string (nullable = true)\n",
      " |-- bodily_injuries: string (nullable = true)\n",
      " |-- witnesses: string (nullable = true)\n",
      " |-- police_report_available: string (nullable = true)\n",
      " |-- total_claim_amount: string (nullable = true)\n",
      " |-- injury_claim: string (nullable = true)\n",
      " |-- property_claim: string (nullable = true)\n",
      " |-- vehicle_claim: string (nullable = true)\n",
      " |-- auto_make: string (nullable = true)\n",
      " |-- auto_model: string (nullable = true)\n",
      " |-- auto_year: string (nullable = true)\n",
      " |-- fraud_reported: string (nullable = true)\n",
      " |-- _c39: string (nullable = true)\n",
      "\n"
     ]
    }
   ],
   "source": [
    "# Print schema of DataFrame\n",
    "df.printSchema()"
   ]
  },
  {
   "cell_type": "code",
   "execution_count": 6,
   "metadata": {
    "executionInfo": {
     "elapsed": 23859,
     "status": "aborted",
     "timestamp": 1758485272237,
     "user": {
      "displayName": "Abdoulaye Issa",
      "userId": "11578120158179831578"
     },
     "user_tz": 240
    },
    "id": "Dinh9GNQJd3S"
   },
   "outputs": [],
   "source": [
    "from pyspark.sql.types import StructType, StructField, StringType, IntegerType, DateType\n",
    "\n",
    "# Define a Schema\n",
    "schema = StructType([\n",
    "\n",
    "    StructField(\"months_as_customer\", StringType(), True),\n",
    "    StructField(\"age\", StringType(), True),\n",
    "    StructField(\"policy_number\", StringType(), True),\n",
    "    StructField(\"policy_bind_date\", StringType(), True),\n",
    "    StructField(\"policy_state\", StringType(), True),\n",
    "    StructField(\"policy_csl\", StringType(), True),\n",
    "    #StructField(\"policy_deductable\", DateType(), True),\n",
    "    StructField(\"policy_deductable\", StringType(), True),\n",
    "    StructField(\"policy_annual_premium\", StringType(), True),\n",
    "    StructField(\"umbrella_limit\", StringType(), True),\n",
    "    StructField(\"insured_zip\", StringType(), True),\n",
    "    StructField(\"insured_sex\", StringType(), True),\n",
    "    StructField(\"insured_education_level\", StringType(), True),\n",
    "    StructField(\"insured_occupation\", StringType(), True),\n",
    "    StructField(\"insured_hobbies\", StringType(), True),\n",
    "    StructField(\"insured_relationship\", StringType(), True),\n",
    "    StructField(\"capital-gains\", StringType(), True),\n",
    "    #StructField(\"capital-loss\", DateType(), True),\n",
    "    StructField(\"capital-loss\", StringType(), True),\n",
    "    #StructField(\"incident_date\", IntegerType(), True),\n",
    "    StructField(\"incident_date\", StringType(), True),\n",
    "    StructField(\"incident_type\", StringType(), True),\n",
    "    StructField(\"collision_type\", StringType(), True),\n",
    "    StructField(\"incident_severity\", StringType(), True),\n",
    "    StructField(\"authorities_contacted\", StringType(), True),\n",
    "    #StructField(\"incident_state\", DateType(), True),\n",
    "    StructField(\"incident_state\", StringType(), True),\n",
    "    #StructField(\"incident_city\", IntegerType(), True),\n",
    "    StructField(\"incident_city\", StringType(), True),\n",
    "    StructField(\"incident_location\", StringType(), True),\n",
    "    StructField(\"incident_hour_of_the_day\", StringType(), True),\n",
    "    StructField(\"number_of_vehicles_involved\", StringType(), True),\n",
    "    StructField(\"property_damage\", StringType(), True),\n",
    "    StructField(\"bodily_injuries\", StringType(), True),\n",
    "    #StructField(\"witnesses\", DateType(), True),\n",
    "    StructField(\"witnesses\", StringType(), True),\n",
    "    #StructField(\"police_report_available\", IntegerType(), True),\n",
    "    StructField(\"police_report_available\", StringType(), True),\n",
    "    StructField(\"total_claim_amount\", StringType(), True),\n",
    "    StructField(\"injury_claim\", StringType(), True),\n",
    "    StructField(\"property_claim\", StringType(), True),\n",
    "    StructField(\"vehicle_claim\", StringType(), True),\n",
    "    StructField(\"auto_make\", StringType(), True),\n",
    "    StructField(\"auto_model\", StringType(), True),\n",
    "    StructField(\"auto_year\", StringType(), True),\n",
    "    StructField(\"fraud_reported\", StringType(), True),\n",
    "    StructField(\"_c39\", StringType(), True),\n",
    "    ])\n",
    "\n",
    "\n"
   ]
  },
  {
   "cell_type": "code",
   "execution_count": 7,
   "metadata": {
    "executionInfo": {
     "elapsed": 1,
     "status": "aborted",
     "timestamp": 1758485272240,
     "user": {
      "displayName": "Abdoulaye Issa",
      "userId": "11578120158179831578"
     },
     "user_tz": 240
    },
    "id": "kxT3Aw4wMsMH"
   },
   "outputs": [],
   "source": [
    "# Read CSV file into a DataFrame\n",
    "df = (spark.read.format(\"csv\")\n",
    "      .option(\"header\", \"true\")\n",
    "      .option(\"nullValue\", \"null\")\n",
    "      .option(\"emptyValues\", \"\")\n",
    "      .option(\"dateFormat\", \"LLLL d, y\")\n",
    "      .schema(schema)\n",
    "      .load(\"../data/insurance_claims.csv\"))"
   ]
  },
  {
   "cell_type": "code",
   "execution_count": 8,
   "metadata": {
    "executionInfo": {
     "elapsed": 23863,
     "status": "aborted",
     "timestamp": 1758485272242,
     "user": {
      "displayName": "Abdoulaye Issa",
      "userId": "11578120158179831578"
     },
     "user_tz": 240
    },
    "id": "bnQdWRBBNIiF"
   },
   "outputs": [
    {
     "name": "stdout",
     "output_type": "stream",
     "text": [
      "+------------------+---+-------------+----------------+------------+----------+-----------------+---------------------+--------------+-----------+-----------+-----------------------+------------------+---------------+--------------------+-------------+------------+-------------+------------------------+---------------+-----------------+---------------------+--------------+-------------+------------------+------------------------+---------------------------+---------------+---------------+---------+-----------------------+------------------+------------+--------------+-------------+---------+----------+---------+--------------+----+\n",
      "|months_as_customer|age|policy_number|policy_bind_date|policy_state|policy_csl|policy_deductable|policy_annual_premium|umbrella_limit|insured_zip|insured_sex|insured_education_level|insured_occupation|insured_hobbies|insured_relationship|capital-gains|capital-loss|incident_date|           incident_type| collision_type|incident_severity|authorities_contacted|incident_state|incident_city| incident_location|incident_hour_of_the_day|number_of_vehicles_involved|property_damage|bodily_injuries|witnesses|police_report_available|total_claim_amount|injury_claim|property_claim|vehicle_claim|auto_make|auto_model|auto_year|fraud_reported|_c39|\n",
      "+------------------+---+-------------+----------------+------------+----------+-----------------+---------------------+--------------+-----------+-----------+-----------------------+------------------+---------------+--------------------+-------------+------------+-------------+------------------------+---------------+-----------------+---------------------+--------------+-------------+------------------+------------------------+---------------------------+---------------+---------------+---------+-----------------------+------------------+------------+--------------+-------------+---------+----------+---------+--------------+----+\n",
      "|               328| 48|       521585|      2014-10-17|          OH|   250/500|             1000|              1406.91|             0|     466132|       MALE|                     MD|      craft-repair|       sleeping|             husband|        53300|           0|   2015-01-25|Single Vehicle Collision| Side Collision|     Major Damage|               Police|            SC|     Columbus|    9935 4th Drive|                       5|                          1|            YES|              1|        2|                    YES|             71610|        6510|         13020|        52080|     Saab|       92x|     2004|             Y|null|\n",
      "|               228| 42|       342868|      2006-06-27|          IN|   250/500|             2000|              1197.22|       5000000|     468176|       MALE|                     MD| machine-op-inspct|        reading|      other-relative|            0|           0|   2015-01-21|           Vehicle Theft|              ?|     Minor Damage|               Police|            VA|    Riverwood|      6608 MLK Hwy|                       8|                          1|              ?|              0|        0|                      ?|              5070|         780|           780|         3510| Mercedes|      E400|     2007|             Y|null|\n",
      "|               134| 29|       687698|      2000-09-06|          OH|   100/300|             2000|              1413.14|       5000000|     430632|     FEMALE|                    PhD|             sales|    board-games|           own-child|        35100|           0|   2015-02-22| Multi-vehicle Collision| Rear Collision|     Minor Damage|               Police|            NY|     Columbus| 7121 Francis Lane|                       7|                          3|             NO|              2|        3|                     NO|             34650|        7700|          3850|        23100|    Dodge|       RAM|     2007|             N|null|\n",
      "|               256| 41|       227811|      1990-05-25|          IL|   250/500|             2000|              1415.74|       6000000|     608117|     FEMALE|                    PhD|      armed-forces|    board-games|           unmarried|        48900|      -62400|   2015-01-10|Single Vehicle Collision|Front Collision|     Major Damage|               Police|            OH|    Arlington|  6956 Maple Drive|                       5|                          1|              ?|              1|        2|                     NO|             63400|        6340|          6340|        50720|Chevrolet|     Tahoe|     2014|             Y|null|\n",
      "|               228| 44|       367455|      2014-06-06|          IL|  500/1000|             1000|              1583.91|       6000000|     610706|       MALE|              Associate|             sales|    board-games|           unmarried|        66000|      -46000|   2015-02-17|           Vehicle Theft|              ?|     Minor Damage|                 None|            NY|    Arlington|      3041 3rd Ave|                      20|                          1|             NO|              0|        1|                     NO|              6500|        1300|           650|         4550|   Accura|       RSX|     2009|             N|null|\n",
      "|               256| 39|       104594|      2006-10-12|          OH|   250/500|             1000|               1351.1|             0|     478456|     FEMALE|                    PhD|      tech-support| bungie-jumping|           unmarried|            0|           0|   2015-01-02| Multi-vehicle Collision| Rear Collision|     Major Damage|                 Fire|            SC|    Arlington|8973 Washington St|                      19|                          3|             NO|              0|        2|                     NO|             64100|        6410|          6410|        51280|     Saab|        95|     2003|             Y|null|\n",
      "|               137| 34|       413978|      2000-06-04|          IN|   250/500|             1000|              1333.35|             0|     441716|       MALE|                    PhD|    prof-specialty|    board-games|             husband|            0|      -77000|   2015-01-13| Multi-vehicle Collision|Front Collision|     Minor Damage|               Police|            NY|  Springfield| 5846 Weaver Drive|                       0|                          3|              ?|              0|        0|                      ?|             78650|       21450|          7150|        50050|   Nissan|Pathfinder|     2012|             N|null|\n",
      "|               165| 37|       429027|      1990-02-03|          IL|   100/300|             1000|              1137.03|             0|     603195|       MALE|              Associate|      tech-support|   base-jumping|           unmarried|            0|           0|   2015-02-27| Multi-vehicle Collision|Front Collision|       Total Loss|               Police|            VA|     Columbus|      3525 3rd Hwy|                      23|                          3|              ?|              2|        2|                    YES|             51590|        9380|          9380|        32830|     Audi|        A5|     2015|             N|null|\n",
      "|                27| 33|       485665|      1997-02-05|          IL|   100/300|              500|              1442.99|             0|     601734|     FEMALE|                    PhD|     other-service|           golf|           own-child|            0|           0|   2015-01-30|Single Vehicle Collision|Front Collision|       Total Loss|               Police|            WV|    Arlington|   4872 Rock Ridge|                      21|                          1|             NO|              1|        1|                    YES|             27700|        2770|          2770|        22160|   Toyota|     Camry|     2012|             N|null|\n",
      "|               212| 42|       636550|      2011-07-25|          IL|   100/300|              500|              1315.68|             0|     600983|       MALE|                    PhD|   priv-house-serv|        camping|                wife|            0|      -39300|   2015-01-05|Single Vehicle Collision| Rear Collision|       Total Loss|                Other|            NC|    Hillsdale|  3066 Francis Ave|                      14|                          1|             NO|              2|        1|                      ?|             42300|        4700|          4700|        32900|     Saab|       92x|     1996|             N|null|\n",
      "+------------------+---+-------------+----------------+------------+----------+-----------------+---------------------+--------------+-----------+-----------+-----------------------+------------------+---------------+--------------------+-------------+------------+-------------+------------------------+---------------+-----------------+---------------------+--------------+-------------+------------------+------------------------+---------------------------+---------------+---------------+---------+-----------------------+------------------+------------+--------------+-------------+---------+----------+---------+--------------+----+\n",
      "only showing top 10 rows\n",
      "\n"
     ]
    }
   ],
   "source": [
    "df.show(10, truncate=30)"
   ]
  },
  {
   "cell_type": "code",
   "execution_count": 9,
   "metadata": {
    "executionInfo": {
     "elapsed": 23865,
     "status": "aborted",
     "timestamp": 1758485272244,
     "user": {
      "displayName": "Abdoulaye Issa",
      "userId": "11578120158179831578"
     },
     "user_tz": 240
    },
    "id": "eUCEEEEQDwnU"
   },
   "outputs": [
    {
     "name": "stderr",
     "output_type": "stream",
     "text": [
      "[Stage 3:>                                                          (0 + 1) / 1]\r"
     ]
    },
    {
     "name": "stdout",
     "output_type": "stream",
     "text": [
      "+------------------+---+-------------+----------------+------------+----------+-----------------+---------------------+--------------+-----------+-----------+-----------------------+------------------+---------------+--------------------+-------------+------------+-------------+------------------------+---------------+-----------------+---------------------+--------------+-------------+-------------------+------------------------+---------------------------+---------------+---------------+---------+-----------------------+------------------+------------+--------------+-------------+----------+----------+---------+--------------+----+\n",
      "|months_as_customer|age|policy_number|policy_bind_date|policy_state|policy_csl|policy_deductable|policy_annual_premium|umbrella_limit|insured_zip|insured_sex|insured_education_level|insured_occupation|insured_hobbies|insured_relationship|capital-gains|capital-loss|incident_date|           incident_type| collision_type|incident_severity|authorities_contacted|incident_state|incident_city|  incident_location|incident_hour_of_the_day|number_of_vehicles_involved|property_damage|bodily_injuries|witnesses|police_report_available|total_claim_amount|injury_claim|property_claim|vehicle_claim| auto_make|auto_model|auto_year|fraud_reported|_c39|\n",
      "+------------------+---+-------------+----------------+------------+----------+-----------------+---------------------+--------------+-----------+-----------+-----------------------+------------------+---------------+--------------------+-------------+------------+-------------+------------------------+---------------+-----------------+---------------------+--------------+-------------+-------------------+------------------------+---------------------------+---------------+---------------+---------+-----------------------+------------------+------------+--------------+-------------+----------+----------+---------+--------------+----+\n",
      "|                97| 28|       191891|      2010-02-11|          OH|   100/300|             1000|               830.31|             0|     443854|       MALE|                     JD|   farming-fishing|    video-games|             husband|            0|      -32600|   2015-01-13|Single Vehicle Collision| Rear Collision|       Total Loss|            Ambulance|            SC|  Springfield|   8212 Flute Ridge|                      22|                          1|              ?|              1|        0|                      ?|             45270|       10060|         10060|        25150|      Jeep|  Wrangler|     2006|             N|null|\n",
      "|               290| 47|       885789|      2008-07-21|          IN|   250/500|             1000|              1393.34|             0|     472922|       MALE|            High School|   exec-managerial| bungie-jumping|      other-relative|            0|      -61400|   2015-01-15| Multi-vehicle Collision| Side Collision|     Minor Damage|            Ambulance|            WV|    Northbend|      4939 Oak Lane|                      20|                          3|            YES|              1|        3|                    YES|             56160|        6240|         12480|        37440|      Audi|        A5|     2002|             N|null|\n",
      "|               295| 48|       678849|      1992-02-22|          OH|  500/1000|             1000|              1332.07|             0|     609409|     FEMALE|                     MD|   exec-managerial|           polo|           unmarried|        49700|      -59100|   2015-01-28| Multi-vehicle Collision| Side Collision|       Total Loss|            Ambulance|            NY|    Hillsdale|1815 Cherokee Drive|                      20|                          2|             NO|              2|        1|                    YES|             86060|       13240|         13240|        59580|Volkswagen|    Passat|     2002|             N|null|\n",
      "|               283| 46|       487356|      2000-08-30|          IL|  500/1000|             2000|              1313.33|             0|     455332|     FEMALE|                    PhD|  transport-moving|        reading|             husband|        53500|      -73600|   2015-01-09| Multi-vehicle Collision|Front Collision|     Major Damage|            Ambulance|            NY|    Riverwood|   4434 Lincoln Ave|                       3|                          3|              ?|              1|        3|                     NO|             77660|        7060|         14120|        56480|    Nissan|    Maxima|     2004|             Y|null|\n",
      "|               118| 28|       283414|      1991-12-28|          IN|  500/1000|             2000|              1207.36|             0|     432896|     FEMALE|            High School| handlers-cleaners|        camping|           own-child|            0|      -57000|   2015-03-01| Multi-vehicle Collision|Front Collision|     Major Damage|            Ambulance|            WV|     Columbus|       7428 Sky Hwy|                      22|                          2|             NO|              1|        0|                      ?|             74200|        7420|         14840|        51940|Volkswagen|    Passat|     1997|             N|null|\n",
      "|               269| 41|       334749|      1996-07-29|          OH|   100/300|             2000|              1422.21|             0|     620507|     FEMALE|              Associate| handlers-cleaners|           polo|           unmarried|            0|      -46400|   2015-01-16|Single Vehicle Collision| Side Collision|     Major Damage|            Ambulance|            WV|    Riverwood|        5022 1st St|                      21|                          1|            YES|              2|        1|                     NO|             85900|       17180|         17180|        51540|    Suburu| Forrestor|     2005|             Y|null|\n",
      "|                61| 25|       757644|      1998-01-29|          IN|   100/300|             2000|               988.06|             0|     460579|     FEMALE|                Masters|     other-service|        dancing|       not-in-family|            0|           0|   2015-02-05| Multi-vehicle Collision| Rear Collision|     Minor Damage|            Ambulance|            WV|    Northbend| 7976 Britain Drive|                       1|                          3|            YES|              1|        0|                     NO|             32320|        4040|          4040|        24240|     Dodge|       RAM|     2000|             N|null|\n",
      "|                64| 29|       796375|      2011-10-22|          OH|   250/500|             2000|              1202.28|             0|     479327|       MALE|            High School|   exec-managerial|      cross-fit|      other-relative|            0|      -61400|   2015-01-12|Single Vehicle Collision| Side Collision|     Minor Damage|            Ambulance|            VA|    Hillsdale|        5007 Oak St|                       4|                          1|              ?|              1|        2|                     NO|             43700|        4370|          4370|        34960|    Nissan|Pathfinder|     2007|             Y|null|\n",
      "|               174| 33|       179538|      2014-04-07|          IN|   250/500|             2000|              1124.43|             0|     477346|     FEMALE|                College|   farming-fishing|      paintball|           own-child|            0|           0|   2015-01-16| Multi-vehicle Collision| Rear Collision|       Total Loss|            Ambulance|            WV|   Northbrook|        1916 Elm St|                      14|                          3|            YES|              0|        1|                    YES|             44200|        8840|          4420|        30940|      Saab|        93|     1995|             N|null|\n",
      "|               145| 34|       454758|      1990-05-20|          IN|   100/300|             1000|              1142.48|             0|     608813|     FEMALE|                     JD|   priv-house-serv|       sleeping|      other-relative|            0|           0|   2015-01-13|Single Vehicle Collision| Side Collision|       Total Loss|            Ambulance|            NC|    Northbend|8805 Cherokee Drive|                      18|                          1|            YES|              2|        0|                     NO|             52250|        9500|          4750|        38000|    Suburu|    Legacy|     2012|             N|null|\n",
      "+------------------+---+-------------+----------------+------------+----------+-----------------+---------------------+--------------+-----------+-----------+-----------------------+------------------+---------------+--------------------+-------------+------------+-------------+------------------------+---------------+-----------------+---------------------+--------------+-------------+-------------------+------------------------+---------------------------+---------------+---------------+---------+-----------------------+------------------+------------+--------------+-------------+----------+----------+---------+--------------+----+\n",
      "only showing top 10 rows\n",
      "\n"
     ]
    },
    {
     "name": "stderr",
     "output_type": "stream",
     "text": [
      "                                                                                \r"
     ]
    }
   ],
   "source": [
    "df_deduped = df.dropDuplicates([\n",
    "               \"months_as_customer\"\n",
    "               ,\"age\"\n",
    "               ,\"policy_state\"\n",
    "               ,\"policy_annual_premium\"\n",
    "               ,\"insured_zip\"\n",
    "               ,\"insured_sex\"\n",
    "               ,\"insured_education_level\"\n",
    "               ,\"insured_occupation\"\n",
    "               ,\"insured_hobbies\"\n",
    "               ,\"insured_relationship\"\n",
    "               ,\"incident_date\"\n",
    "               ,\"incident_type\"\n",
    "               ,\"collision_type\"\n",
    "               ,\"collision_type\"\n",
    "               ,\"incident_severity\"\n",
    "               ,\"authorities_contacted\"\n",
    "               ,\"incident_state\"\n",
    "               ,\"incident_city\"\n",
    "               ,\"incident_location\"\n",
    "               ,\"incident_hour_of_the_day\"\n",
    "               ,\"number_of_vehicles_involved\"\n",
    "               ,\"police_report_available\"\n",
    "               ,\"total_claim_amount\"\n",
    "               ,\"injury_claim\"\n",
    "               ,\"property_claim\"\n",
    "               ,\"vehicle_claim\"\n",
    "               ,\"auto_make\"\n",
    "               ,\"auto_model\"\n",
    "               ,\"auto_year\"\n",
    "    ])\n",
    "\n",
    "df_deduped.show(10, truncate=30)"
   ]
  },
  {
   "cell_type": "code",
   "execution_count": 10,
   "metadata": {
    "executionInfo": {
     "elapsed": 23866,
     "status": "aborted",
     "timestamp": 1758485272245,
     "user": {
      "displayName": "Abdoulaye Issa",
      "userId": "11578120158179831578"
     },
     "user_tz": 240
    },
    "id": "zY5SUEWwEqok"
   },
   "outputs": [
    {
     "name": "stdout",
     "output_type": "stream",
     "text": [
      "+------------------+---+-------------+----------------+------------+----------+-----------------+---------------------+--------------+-----------+-----------+-----------------------+------------------+---------------+--------------------+-------------+------------+-------------+------------------------+---------------+-----------------+---------------------+--------------+-------------+--------------------+------------------------+---------------------------+---------------+---------------+---------+-----------------------+------------------+------------+--------------+-------------+----------+----------+---------+--------------+----+\n",
      "|months_as_customer|age|policy_number|policy_bind_date|policy_state|policy_csl|policy_deductable|policy_annual_premium|umbrella_limit|insured_zip|insured_sex|insured_education_level|insured_occupation|insured_hobbies|insured_relationship|capital-gains|capital-loss|incident_date|           incident_type| collision_type|incident_severity|authorities_contacted|incident_state|incident_city|   incident_location|incident_hour_of_the_day|number_of_vehicles_involved|property_damage|bodily_injuries|witnesses|police_report_available|total_claim_amount|injury_claim|property_claim|vehicle_claim| auto_make|auto_model|auto_year|fraud_reported|_c39|\n",
      "+------------------+---+-------------+----------------+------------+----------+-----------------+---------------------+--------------+-----------+-----------+-----------------------+------------------+---------------+--------------------+-------------+------------+-------------+------------------------+---------------+-----------------+---------------------+--------------+-------------+--------------------+------------------------+---------------------------+---------------+---------------+---------+-----------------------+------------------+------------+--------------+-------------+----------+----------+---------+--------------+----+\n",
      "|               406| 58|       756981|      2003-10-02|          OH|   250/500|             2000|              1117.04|             0|     605121|       MALE|                     MD|   exec-managerial|    video-games|           own-child|            0|      -42700|   2015-01-01| Multi-vehicle Collision|Front Collision|       Total Loss|                Other|            WV|    Northbend|      7571 Elm Ridge|                      15|                          3|              ?|              1|        2|                      ?|             65520|       10920|          5460|        49140|Volkswagen|     Jetta|     2009|             N|null|\n",
      "|               126| 28|       596914|      1992-01-05|          IN|   250/500|              500|               1508.9|             0|     472814|     FEMALE|                     JD| machine-op-inspct|      skydiving|      other-relative|            0|           0|   2015-01-01| Multi-vehicle Collision| Rear Collision|       Total Loss|               Police|            WV|    Northbend|       5333 MLK Lane|                       3|                          4|             NO|              0|        1|                      ?|             67800|       11300|         11300|        45200|      Ford|      F150|     2011|             N|null|\n",
      "|                61| 29|       180720|      1995-03-14|          IN|   250/500|             1000|              1115.27|             0|     613816|       MALE|                     JD| handlers-cleaners|           polo|           unmarried|            0|      -66000|   2015-01-01|              Parked Car|              ?|   Trivial Damage|                 None|            VA|    Hillsdale|      4629 Elm Ridge|                      10|                          1|            YES|              2|        1|                    YES|              5900|         590|           590|         4720|    Nissan|Pathfinder|     2010|             N|null|\n",
      "|               460| 62|       183430|      2002-06-25|          IN|   250/500|             1000|              1187.96|       4000000|     618845|       MALE|                     JD|     other-service| bungie-jumping|           own-child|            0|           0|   2015-01-01| Multi-vehicle Collision| Rear Collision|     Minor Damage|               Police|            NY|     Columbus|        5380 Pine St|                      20|                          3|             NO|              1|        0|                      ?|             47160|           0|          5240|        41920|    Suburu|   Impreza|     2011|             N|null|\n",
      "|               123| 28|       137675|      2012-12-03|          IL|   100/300|             2000|              1836.02|             0|     470559|       MALE|                Masters|  transport-moving|         movies|           own-child|        38000|      -41200|   2015-01-01|Single Vehicle Collision| Side Collision|     Major Damage|            Ambulance|            NC|    Riverwood|         4335 1st St|                       5|                          1|              ?|              2|        1|                    YES|             79800|       13300|          6650|        59850|Volkswagen|    Passat|     2011|             Y|null|\n",
      "|               295| 49|       872814|      1992-06-13|          IL|   100/300|              500|              1141.62|             0|     451672|       MALE|                College|    prof-specialty|       kayaking|             husband|        34300|      -24300|   2015-01-01|           Vehicle Theft|              ?|     Minor Damage|                 None|            WV|     Columbus|  8085 Andromedia St|                       4|                          1|            YES|              1|        3|                    YES|              4320|         480|           480|         3360|  Mercedes|      E400|     2002|             N|null|\n",
      "|               389| 53|       714738|      1998-03-21|          IL|  500/1000|             2000|               791.47|             0|     477260|       MALE|                Masters|      armed-forces|          chess|           unmarried|            0|           0|   2015-01-01|           Vehicle Theft|              ?|     Minor Damage|               Police|            NC|    Riverwood|     1617 Rock Drive|                       6|                          1|             NO|              1|        2|                     NO|              6300|         630|          1260|         4410|  Mercedes|      C300|     2001|             Y|null|\n",
      "|                95| 28|       208298|      1990-11-03|          OH|   250/500|             1000|               773.99|             0|     458727|       MALE|              Associate|      armed-forces|    board-games|      other-relative|            0|      -70300|   2015-01-01|           Vehicle Theft|              ?|   Trivial Damage|                 None|            PA|  Springfield|      6359 MLK Ridge|                       3|                          1|            YES|              1|        2|                     NO|              3200|         640|           320|         2240|  Mercedes|      E400|     2014|             N|null|\n",
      "|                 1| 29|       357949|      2006-05-24|          OH|  500/1000|              500|               854.58|             0|     612826|     FEMALE|                     JD|      craft-repair|      paintball|      other-relative|        52200|           0|   2015-01-01|Single Vehicle Collision| Side Collision|     Minor Damage|               Police|            SC|   Northbrook|     7178 Best Drive|                      15|                          1|              ?|              2|        3|                    YES|             86790|        7890|         23670|        55230|     Honda|       CRV|     2003|             N|null|\n",
      "|               236| 39|       830878|      1996-11-03|          IN|   250/500|             1000|              1151.39|       4000000|     604555|     FEMALE|                Masters|   exec-managerial|        reading|                wife|            0|      -63900|   2015-01-01|              Parked Car|              ?|     Minor Damage|               Police|            NY|  Springfield|2832 Andromedia Lane|                      17|                          1|            YES|              0|        0|                      ?|              8700|         870|          1740|         6090|    Accura|       RSX|     2003|             N|null|\n",
      "+------------------+---+-------------+----------------+------------+----------+-----------------+---------------------+--------------+-----------+-----------+-----------------------+------------------+---------------+--------------------+-------------+------------+-------------+------------------------+---------------+-----------------+---------------------+--------------+-------------+--------------------+------------------------+---------------------------+---------------+---------------+---------+-----------------------+------------------+------------+--------------+-------------+----------+----------+---------+--------------+----+\n",
      "only showing top 10 rows\n",
      "\n"
     ]
    }
   ],
   "source": [
    "# Sort by year in ascending order\n",
    "df_sorted = df.orderBy(\"incident_date\")\n",
    "\n",
    "df_sorted.show(10, truncate=30)\n",
    "\n",
    "# Sort by year in descending order, then by category in ascending order\n",
    "df_sorted_descending = df.orderBy([\"incident_date\", \"age\"], ascending=[False, True])\n"
   ]
  },
  {
   "cell_type": "code",
   "execution_count": 11,
   "metadata": {
    "executionInfo": {
     "elapsed": 23867,
     "status": "aborted",
     "timestamp": 1758485272247,
     "user": {
      "displayName": "Abdoulaye Issa",
      "userId": "11578120158179831578"
     },
     "user_tz": 240
    },
    "id": "Lqy-XCn8pMej"
   },
   "outputs": [
    {
     "name": "stdout",
     "output_type": "stream",
     "text": [
      "+------------------+---+-------------+----------------+------------+----------+-----------------+---------------------+--------------+-----------+-----------+-----------------------+------------------+---------------+--------------------+-------------+------------+-------------+------------------------+---------------+-----------------+---------------------+--------------+-------------+------------------+------------------------+---------------------------+---------------+---------------+---------+-----------------------+------------------+------------+--------------+-------------+---------+----------+---------+--------------+----+----+\n",
      "|months_as_customer|age|policy_number|policy_bind_date|policy_state|policy_csl|policy_deductable|policy_annual_premium|umbrella_limit|insured_zip|insured_sex|insured_education_level|insured_occupation|insured_hobbies|insured_relationship|capital-gains|capital-loss|incident_date|           incident_type| collision_type|incident_severity|authorities_contacted|incident_state|incident_city| incident_location|incident_hour_of_the_day|number_of_vehicles_involved|property_damage|bodily_injuries|witnesses|police_report_available|total_claim_amount|injury_claim|property_claim|vehicle_claim|auto_make|auto_model|auto_year|fraud_reported|_c39|year|\n",
      "+------------------+---+-------------+----------------+------------+----------+-----------------+---------------------+--------------+-----------+-----------+-----------------------+------------------+---------------+--------------------+-------------+------------+-------------+------------------------+---------------+-----------------+---------------------+--------------+-------------+------------------+------------------------+---------------------------+---------------+---------------+---------+-----------------------+------------------+------------+--------------+-------------+---------+----------+---------+--------------+----+----+\n",
      "|               328| 48|       521585|      2014-10-17|          OH|   250/500|             1000|              1406.91|             0|     466132|       MALE|                     MD|      craft-repair|       sleeping|             husband|        53300|           0|   2015-01-25|Single Vehicle Collision| Side Collision|     Major Damage|               Police|            SC|     Columbus|    9935 4th Drive|                       5|                          1|            YES|              1|        2|                    YES|             71610|        6510|         13020|        52080|     Saab|       92x|     2004|             Y|null|2015|\n",
      "|               228| 42|       342868|      2006-06-27|          IN|   250/500|             2000|              1197.22|       5000000|     468176|       MALE|                     MD| machine-op-inspct|        reading|      other-relative|            0|           0|   2015-01-21|           Vehicle Theft|              ?|     Minor Damage|               Police|            VA|    Riverwood|      6608 MLK Hwy|                       8|                          1|              ?|              0|        0|                      ?|              5070|         780|           780|         3510| Mercedes|      E400|     2007|             Y|null|2015|\n",
      "|               134| 29|       687698|      2000-09-06|          OH|   100/300|             2000|              1413.14|       5000000|     430632|     FEMALE|                    PhD|             sales|    board-games|           own-child|        35100|           0|   2015-02-22| Multi-vehicle Collision| Rear Collision|     Minor Damage|               Police|            NY|     Columbus| 7121 Francis Lane|                       7|                          3|             NO|              2|        3|                     NO|             34650|        7700|          3850|        23100|    Dodge|       RAM|     2007|             N|null|2015|\n",
      "|               256| 41|       227811|      1990-05-25|          IL|   250/500|             2000|              1415.74|       6000000|     608117|     FEMALE|                    PhD|      armed-forces|    board-games|           unmarried|        48900|      -62400|   2015-01-10|Single Vehicle Collision|Front Collision|     Major Damage|               Police|            OH|    Arlington|  6956 Maple Drive|                       5|                          1|              ?|              1|        2|                     NO|             63400|        6340|          6340|        50720|Chevrolet|     Tahoe|     2014|             Y|null|2015|\n",
      "|               228| 44|       367455|      2014-06-06|          IL|  500/1000|             1000|              1583.91|       6000000|     610706|       MALE|              Associate|             sales|    board-games|           unmarried|        66000|      -46000|   2015-02-17|           Vehicle Theft|              ?|     Minor Damage|                 None|            NY|    Arlington|      3041 3rd Ave|                      20|                          1|             NO|              0|        1|                     NO|              6500|        1300|           650|         4550|   Accura|       RSX|     2009|             N|null|2015|\n",
      "|               256| 39|       104594|      2006-10-12|          OH|   250/500|             1000|               1351.1|             0|     478456|     FEMALE|                    PhD|      tech-support| bungie-jumping|           unmarried|            0|           0|   2015-01-02| Multi-vehicle Collision| Rear Collision|     Major Damage|                 Fire|            SC|    Arlington|8973 Washington St|                      19|                          3|             NO|              0|        2|                     NO|             64100|        6410|          6410|        51280|     Saab|        95|     2003|             Y|null|2015|\n",
      "|               137| 34|       413978|      2000-06-04|          IN|   250/500|             1000|              1333.35|             0|     441716|       MALE|                    PhD|    prof-specialty|    board-games|             husband|            0|      -77000|   2015-01-13| Multi-vehicle Collision|Front Collision|     Minor Damage|               Police|            NY|  Springfield| 5846 Weaver Drive|                       0|                          3|              ?|              0|        0|                      ?|             78650|       21450|          7150|        50050|   Nissan|Pathfinder|     2012|             N|null|2015|\n",
      "|               165| 37|       429027|      1990-02-03|          IL|   100/300|             1000|              1137.03|             0|     603195|       MALE|              Associate|      tech-support|   base-jumping|           unmarried|            0|           0|   2015-02-27| Multi-vehicle Collision|Front Collision|       Total Loss|               Police|            VA|     Columbus|      3525 3rd Hwy|                      23|                          3|              ?|              2|        2|                    YES|             51590|        9380|          9380|        32830|     Audi|        A5|     2015|             N|null|2015|\n",
      "|                27| 33|       485665|      1997-02-05|          IL|   100/300|              500|              1442.99|             0|     601734|     FEMALE|                    PhD|     other-service|           golf|           own-child|            0|           0|   2015-01-30|Single Vehicle Collision|Front Collision|       Total Loss|               Police|            WV|    Arlington|   4872 Rock Ridge|                      21|                          1|             NO|              1|        1|                    YES|             27700|        2770|          2770|        22160|   Toyota|     Camry|     2012|             N|null|2015|\n",
      "|               212| 42|       636550|      2011-07-25|          IL|   100/300|              500|              1315.68|             0|     600983|       MALE|                    PhD|   priv-house-serv|        camping|                wife|            0|      -39300|   2015-01-05|Single Vehicle Collision| Rear Collision|       Total Loss|                Other|            NC|    Hillsdale|  3066 Francis Ave|                      14|                          1|             NO|              2|        1|                      ?|             42300|        4700|          4700|        32900|     Saab|       92x|     1996|             N|null|2015|\n",
      "+------------------+---+-------------+----------------+------------+----------+-----------------+---------------------+--------------+-----------+-----------+-----------------------+------------------+---------------+--------------------+-------------+------------+-------------+------------------------+---------------+-----------------+---------------------+--------------+-------------+------------------+------------------------+---------------------------+---------------+---------------+---------+-----------------------+------------------+------------+--------------+-------------+---------+----------+---------+--------------+----+----+\n",
      "only showing top 10 rows\n",
      "\n"
     ]
    }
   ],
   "source": [
    "from pyspark.sql.functions import col\n",
    "#filtered_df = df.filter(col(\"incident_date\").year > 2015)\n",
    "#filtered_df.show()\n",
    "\n",
    "from pyspark.sql.functions import col, substring\n",
    "\n",
    "# Extraire les 4 premiers caractères (année)\n",
    "df_year = df.withColumn(\"year\", substring(col(\"incident_date\"), 1, 4))\n",
    "#df_day = df.withColumn(\"day\", substring(col(\"incident_date\"), 9, 2))\n",
    "df_year.show(10, truncate=30)\n"
   ]
  },
  {
   "cell_type": "code",
   "execution_count": 12,
   "metadata": {
    "executionInfo": {
     "elapsed": 23869,
     "status": "aborted",
     "timestamp": 1758485272249,
     "user": {
      "displayName": "Abdoulaye Issa",
      "userId": "11578120158179831578"
     },
     "user_tz": 240
    },
    "id": "PHFJYn1RrtAO"
   },
   "outputs": [
    {
     "name": "stdout",
     "output_type": "stream",
     "text": [
      "+------------------+---+-------------+----------------+------------+----------+-----------------+---------------------+--------------+-----------+-----------+-----------------------+------------------+---------------+--------------------+-------------+------------+-------------+------------------------+---------------+-----------------+---------------------+--------------+-------------+-------------------+------------------------+---------------------------+---------------+---------------+---------+-----------------------+------------------+------------+--------------+-------------+---------+----------+---------+--------------+----+\n",
      "|months_as_customer|age|policy_number|policy_bind_date|policy_state|policy_csl|policy_deductable|policy_annual_premium|umbrella_limit|insured_zip|insured_sex|insured_education_level|insured_occupation|insured_hobbies|insured_relationship|capital-gains|capital-loss|incident_date|           incident_type| collision_type|incident_severity|authorities_contacted|incident_state|incident_city|  incident_location|incident_hour_of_the_day|number_of_vehicles_involved|property_damage|bodily_injuries|witnesses|police_report_available|total_claim_amount|injury_claim|property_claim|vehicle_claim|auto_make|auto_model|auto_year|fraud_reported|_c39|\n",
      "+------------------+---+-------------+----------------+------------+----------+-----------------+---------------------+--------------+-----------+-----------+-----------------------+------------------+---------------+--------------------+-------------+------------+-------------+------------------------+---------------+-----------------+---------------------+--------------+-------------+-------------------+------------------------+---------------------------+---------------+---------------+---------+-----------------------+------------------+------------+--------------+-------------+---------+----------+---------+--------------+----+\n",
      "|               137| 34|       413978|      2000-06-04|          IN|   250/500|             1000|              1333.35|             0|     441716|       MALE|                    PhD|    prof-specialty|    board-games|             husband|            0|      -77000|   2015-01-13| Multi-vehicle Collision|Front Collision|     Minor Damage|               Police|            NY|  Springfield|  5846 Weaver Drive|                       0|                          3|              ?|              0|        0|                      ?|             78650|       21450|          7150|        50050|   Nissan|Pathfinder|     2012|             N|null|\n",
      "|                70| 26|       558938|      2005-06-08|          OH|  500/1000|             1000|              1199.44|       5000000|     619884|       MALE|                College| machine-op-inspct|         hiking|           own-child|        63600|           0|   2015-02-22| Multi-vehicle Collision| Rear Collision|     Major Damage|                Other|            NY|    Riverwood|        5074 3rd St|                       0|                          3|              ?|              1|        2|                    YES|             52110|        5790|          5790|        40530|   Nissan|    Maxima|     2012|             N|null|\n",
      "|               196| 39|       143972|      1992-08-02|          IN|  500/1000|             2000|              1475.73|             0|     477670|     FEMALE|            High School| handlers-cleaners|        camping|           own-child|        57000|      -27300|   2015-02-22| Multi-vehicle Collision| Side Collision|     Major Damage|               Police|            VA|     Columbus|     8101 3rd Ridge|                       8|                          3|              ?|              2|        0|                     NO|             60400|        6040|          6040|        48320|   Nissan|Pathfinder|     2014|             N|null|\n",
      "|               199| 37|       982871|      1997-07-27|          IN|   250/500|              500|              1262.08|             0|     474615|       MALE|                     JD|      tech-support|    video-games|                wife|        48500|           0|   2015-01-08|Single Vehicle Collision|Front Collision|     Major Damage|            Ambulance|            NC|     Columbus|      3422 Flute St|                       4|                          1|              ?|              0|        3|                     NO|             60170|       10940|         10940|        38290|   Nissan|Pathfinder|     2011|             Y|null|\n",
      "|               430| 59|       691189|      2004-01-10|          OH|   250/500|             2000|              1326.62|       7000000|     477310|       MALE|                     MD|     other-service| bungie-jumping|           own-child|            0|           0|   2015-01-03| Multi-vehicle Collision|Front Collision|     Minor Damage|                 Fire|            NY|    Riverwood| 5104 Francis Drive|                      19|                          3|              ?|              0|        3|                    YES|             81800|       16360|          8180|        57260|   Nissan|Pathfinder|     1998|             N|null|\n",
      "|               154| 34|       598554|      1990-02-14|          IN|   100/300|              500|               795.23|             0|     609216|       MALE|                    PhD| machine-op-inspct|   base-jumping|      other-relative|        36900|           0|   2015-01-10| Multi-vehicle Collision| Rear Collision|     Major Damage|               Police|            NY|  Springfield|6618 Cherokee Drive|                      15|                          3|            YES|              2|        1|                      ?|             69480|       15440|             0|        54040|   Nissan|    Maxima|     2014|             Y|null|\n",
      "|                78| 29|       694662|      2011-02-15|          IL|   250/500|             1000|               1234.2|       6000000|     457767|       MALE|                Masters|     other-service| bungie-jumping|      other-relative|            0|           0|   2015-01-29|           Vehicle Theft|              ?|     Minor Damage|               Police|            NY|   Northbrook|      5124 Maple St|                       3|                          1|            YES|              2|        2|                     NO|              7500|         750|          1500|         5250|   Nissan|    Maxima|     2002|             N|null|\n",
      "|                29| 25|       235220|      2014-11-01|          IL|   250/500|             2000|              1352.83|             0|     464959|       MALE|                Masters|   farming-fishing|      skydiving|           own-child|            0|      -71700|   2015-01-22| Multi-vehicle Collision| Rear Collision|     Minor Damage|                Other|            SC|    Hillsdale|       1679 2nd Hwy|                       4|                          4|            YES|              1|        2|                    YES|             64890|        7210|          7210|        50470|   Nissan|Pathfinder|     2013|             Y|null|\n",
      "|                87| 31|       853360|      2009-06-26|          IN|  500/1000|             1000|              1074.07|             0|     451312|     FEMALE|                Masters|             sales|          chess|             husband|            0|      -47500|   2015-01-27| Multi-vehicle Collision| Rear Collision|     Major Damage|                 Fire|            NY|  Springfield|  3052 Weaver Ridge|                      16|                          3|             NO|              0|        3|                    YES|             60940|        5540|         11080|        44320|   Nissan|    Ultima|     2006|             Y|null|\n",
      "|               203| 38|       155724|      1998-02-20|          IL|   250/500|              500|              1394.43|             0|     606352|     FEMALE|                Masters|     other-service|      skydiving|       not-in-family|            0|           0|   2015-01-31|Single Vehicle Collision|Front Collision|     Major Damage|            Ambulance|            VA|     Columbus|   5071 Flute Ridge|                       7|                          1|              ?|              0|        1|                    YES|             55440|           0|          6160|        49280|   Nissan|    Maxima|     1999|             Y|null|\n",
      "+------------------+---+-------------+----------------+------------+----------+-----------------+---------------------+--------------+-----------+-----------+-----------------------+------------------+---------------+--------------------+-------------+------------+-------------+------------------------+---------------+-----------------+---------------------+--------------+-------------+-------------------+------------------------+---------------------------+---------------+---------------+---------+-----------------------+------------------+------------+--------------+-------------+---------+----------+---------+--------------+----+\n",
      "only showing top 10 rows\n",
      "\n"
     ]
    }
   ],
   "source": [
    "filtered_df = (\n",
    "    df.filter(\n",
    "        (col(\"auto_make\") == \"Nissan\")\n",
    "        & (substring(col(\"incident_date\"), 1, 4) > 2010)))\n",
    "\n",
    "filtered_df.show(10, truncate=30)\n",
    " "
   ]
  },
  {
   "cell_type": "code",
   "execution_count": 13,
   "metadata": {
    "executionInfo": {
     "elapsed": 23900,
     "status": "aborted",
     "timestamp": 1758485272280,
     "user": {
      "displayName": "Abdoulaye Issa",
      "userId": "11578120158179831578"
     },
     "user_tz": 240
    },
    "id": "s7UJApensDXI"
   },
   "outputs": [
    {
     "name": "stdout",
     "output_type": "stream",
     "text": [
      "+------------------+---+-------------+----------------+------------+----------+-----------------+---------------------+--------------+-----------+-----------+-----------------------+------------------+---------------+--------------------+-------------+------------+-------------+------------------------+---------------+-----------------+---------------------+--------------+-------------+------------------+------------------------+---------------------------+---------------+---------------+---------+-----------------------+------------------+------------+--------------+-------------+---------+----------+---------+--------------+----+\n",
      "|months_as_customer|age|policy_number|policy_bind_date|policy_state|policy_csl|policy_deductable|policy_annual_premium|umbrella_limit|insured_zip|insured_sex|insured_education_level|insured_occupation|insured_hobbies|insured_relationship|capital-gains|capital-loss|incident_date|           incident_type| collision_type|incident_severity|authorities_contacted|incident_state|incident_city| incident_location|incident_hour_of_the_day|number_of_vehicles_involved|property_damage|bodily_injuries|witnesses|police_report_available|total_claim_amount|injury_claim|property_claim|vehicle_claim|auto_make|auto_model|auto_year|fraud_reported|_c39|\n",
      "+------------------+---+-------------+----------------+------------+----------+-----------------+---------------------+--------------+-----------+-----------+-----------------------+------------------+---------------+--------------------+-------------+------------+-------------+------------------------+---------------+-----------------+---------------------+--------------+-------------+------------------+------------------------+---------------------------+---------------+---------------+---------+-----------------------+------------------+------------+--------------+-------------+---------+----------+---------+--------------+----+\n",
      "|               328| 48|       521585|      2014-10-17|          OH|   250/500|             1000|              1406.91|             0|     466132|       MALE|                     MD|      craft-repair|       sleeping|             husband|        53300|           0|   2015-01-25|Single Vehicle Collision| Side Collision|     Major Damage|               Police|            SC|     Columbus|    9935 4th Drive|                       5|                          1|            YES|              1|        2|                    YES|             71610|        6510|         13020|        52080|     Saab|       92x|     2004|             Y|null|\n",
      "|               228| 42|       342868|      2006-06-27|          IN|   250/500|             2000|              1197.22|       5000000|     468176|       MALE|                     MD| machine-op-inspct|        reading|      other-relative|            0|           0|   2015-01-21|           Vehicle Theft|              ?|     Minor Damage|               Police|            VA|    Riverwood|      6608 MLK Hwy|                       8|                          1|              ?|              0|        0|                      ?|              5070|         780|           780|         3510| Mercedes|      E400|     2007|             Y|null|\n",
      "|               134| 29|       687698|      2000-09-06|          OH|   100/300|             2000|              1413.14|       5000000|     430632|     FEMALE|                    PhD|             sales|    board-games|           own-child|        35100|           0|   2015-02-22| Multi-vehicle Collision| Rear Collision|     Minor Damage|               Police|            NY|     Columbus| 7121 Francis Lane|                       7|                          3|             NO|              2|        3|                     NO|             34650|        7700|          3850|        23100|    Dodge|       RAM|     2007|             N|null|\n",
      "|               256| 41|       227811|      1990-05-25|          IL|   250/500|             2000|              1415.74|       6000000|     608117|     FEMALE|                    PhD|      armed-forces|    board-games|           unmarried|        48900|      -62400|   2015-01-10|Single Vehicle Collision|Front Collision|     Major Damage|               Police|            OH|    Arlington|  6956 Maple Drive|                       5|                          1|              ?|              1|        2|                     NO|             63400|        6340|          6340|        50720|Chevrolet|     Tahoe|     2014|             Y|null|\n",
      "|               228| 44|       367455|      2014-06-06|          IL|  500/1000|             1000|              1583.91|       6000000|     610706|       MALE|              Associate|             sales|    board-games|           unmarried|        66000|      -46000|   2015-02-17|           Vehicle Theft|              ?|     Minor Damage|                 None|            NY|    Arlington|      3041 3rd Ave|                      20|                          1|             NO|              0|        1|                     NO|              6500|        1300|           650|         4550|   Accura|       RSX|     2009|             N|null|\n",
      "|               256| 39|       104594|      2006-10-12|          OH|   250/500|             1000|               1351.1|             0|     478456|     FEMALE|                    PhD|      tech-support| bungie-jumping|           unmarried|            0|           0|   2015-01-02| Multi-vehicle Collision| Rear Collision|     Major Damage|                 Fire|            SC|    Arlington|8973 Washington St|                      19|                          3|             NO|              0|        2|                     NO|             64100|        6410|          6410|        51280|     Saab|        95|     2003|             Y|null|\n",
      "|               137| 34|       413978|      2000-06-04|          IN|   250/500|             1000|              1333.35|             0|     441716|       MALE|                    PhD|    prof-specialty|    board-games|             husband|            0|      -77000|   2015-01-13| Multi-vehicle Collision|Front Collision|     Minor Damage|               Police|            NY|  Springfield| 5846 Weaver Drive|                       0|                          3|              ?|              0|        0|                      ?|             78650|       21450|          7150|        50050|   Nissan|Pathfinder|     2012|             N|null|\n",
      "|               165| 37|       429027|      1990-02-03|          IL|   100/300|             1000|              1137.03|             0|     603195|       MALE|              Associate|      tech-support|   base-jumping|           unmarried|            0|           0|   2015-02-27| Multi-vehicle Collision|Front Collision|       Total Loss|               Police|            VA|     Columbus|      3525 3rd Hwy|                      23|                          3|              ?|              2|        2|                    YES|             51590|        9380|          9380|        32830|     Audi|        A5|     2015|             N|null|\n",
      "|                27| 33|       485665|      1997-02-05|          IL|   100/300|              500|              1442.99|             0|     601734|     FEMALE|                    PhD|     other-service|           golf|           own-child|            0|           0|   2015-01-30|Single Vehicle Collision|Front Collision|       Total Loss|               Police|            WV|    Arlington|   4872 Rock Ridge|                      21|                          1|             NO|              1|        1|                    YES|             27700|        2770|          2770|        22160|   Toyota|     Camry|     2012|             N|null|\n",
      "|               212| 42|       636550|      2011-07-25|          IL|   100/300|              500|              1315.68|             0|     600983|       MALE|                    PhD|   priv-house-serv|        camping|                wife|            0|      -39300|   2015-01-05|Single Vehicle Collision| Rear Collision|       Total Loss|                Other|            NC|    Hillsdale|  3066 Francis Ave|                      14|                          1|             NO|              2|        1|                      ?|             42300|        4700|          4700|        32900|     Saab|       92x|     1996|             N|null|\n",
      "+------------------+---+-------------+----------------+------------+----------+-----------------+---------------------+--------------+-----------+-----------+-----------------------+------------------+---------------+--------------------+-------------+------------+-------------+------------------------+---------------+-----------------+---------------------+--------------+-------------+------------------+------------------------+---------------------------+---------------+---------------+---------+-----------------------+------------------+------------+--------------+-------------+---------+----------+---------+--------------+----+\n",
      "only showing top 10 rows\n",
      "\n"
     ]
    }
   ],
   "source": [
    "filtered_df = (\n",
    "    df.filter(\n",
    "        col(\"policy_state\")\n",
    "        .isin([\"IN\", \"OH\",  \"IL\"])))\n",
    "#filtered_df.show(3)\n",
    "filtered_df.show(10, truncate=30)\n"
   ]
  },
  {
   "cell_type": "code",
   "execution_count": 14,
   "metadata": {
    "executionInfo": {
     "elapsed": 23902,
     "status": "aborted",
     "timestamp": 1758485272283,
     "user": {
      "displayName": "Abdoulaye Issa",
      "userId": "11578120158179831578"
     },
     "user_tz": 240
    },
    "id": "3C-KJPjZsZi_"
   },
   "outputs": [
    {
     "name": "stdout",
     "output_type": "stream",
     "text": [
      "+------------------+---+-------------+----------------+------------+----------+-----------------+---------------------+--------------+-----------+-----------+-----------------------+------------------+---------------+--------------------+-------------+------------+-------------+------------------------+---------------+-----------------+---------------------+--------------+-------------+-----------------+------------------------+---------------------------+---------------+---------------+---------+-----------------------+------------------+------------+--------------+-------------+---------+----------+---------+--------------+----+\n",
      "|months_as_customer|age|policy_number|policy_bind_date|policy_state|policy_csl|policy_deductable|policy_annual_premium|umbrella_limit|insured_zip|insured_sex|insured_education_level|insured_occupation|insured_hobbies|insured_relationship|capital-gains|capital-loss|incident_date|           incident_type| collision_type|incident_severity|authorities_contacted|incident_state|incident_city|incident_location|incident_hour_of_the_day|number_of_vehicles_involved|property_damage|bodily_injuries|witnesses|police_report_available|total_claim_amount|injury_claim|property_claim|vehicle_claim|auto_make|auto_model|auto_year|fraud_reported|_c39|\n",
      "+------------------+---+-------------+----------------+------------+----------+-----------------+---------------------+--------------+-----------+-----------+-----------------------+------------------+---------------+--------------------+-------------+------------+-------------+------------------------+---------------+-----------------+---------------------+--------------+-------------+-----------------+------------------------+---------------------------+---------------+---------------+---------+-----------------------+------------------+------------+--------------+-------------+---------+----------+---------+--------------+----+\n",
      "|               328| 48|       521585|      2014-10-17|          OH|   250/500|             1000|              1406.91|             0|     466132|       MALE|                     MD|      craft-repair|       sleeping|             husband|        53300|           0|   2015-01-25|Single Vehicle Collision| Side Collision|     Major Damage|               Police|            SC|     Columbus|   9935 4th Drive|                       5|                          1|            YES|              1|        2|                    YES|             71610|        6510|         13020|        52080|     Saab|       92x|     2004|             Y|null|\n",
      "|               228| 42|       342868|      2006-06-27|          IN|   250/500|             2000|              1197.22|       5000000|     468176|       MALE|                     MD| machine-op-inspct|        reading|      other-relative|            0|           0|   2015-01-21|           Vehicle Theft|              ?|     Minor Damage|               Police|            VA|    Riverwood|     6608 MLK Hwy|                       8|                          1|              ?|              0|        0|                      ?|              5070|         780|           780|         3510| Mercedes|      E400|     2007|             Y|null|\n",
      "|               256| 41|       227811|      1990-05-25|          IL|   250/500|             2000|              1415.74|       6000000|     608117|     FEMALE|                    PhD|      armed-forces|    board-games|           unmarried|        48900|      -62400|   2015-01-10|Single Vehicle Collision|Front Collision|     Major Damage|               Police|            OH|    Arlington| 6956 Maple Drive|                       5|                          1|              ?|              1|        2|                     NO|             63400|        6340|          6340|        50720|Chevrolet|     Tahoe|     2014|             Y|null|\n",
      "|               228| 44|       367455|      2014-06-06|          IL|  500/1000|             1000|              1583.91|       6000000|     610706|       MALE|              Associate|             sales|    board-games|           unmarried|        66000|      -46000|   2015-02-17|           Vehicle Theft|              ?|     Minor Damage|                 None|            NY|    Arlington|     3041 3rd Ave|                      20|                          1|             NO|              0|        1|                     NO|              6500|        1300|           650|         4550|   Accura|       RSX|     2009|             N|null|\n",
      "|                27| 33|       485665|      1997-02-05|          IL|   100/300|              500|              1442.99|             0|     601734|     FEMALE|                    PhD|     other-service|           golf|           own-child|            0|           0|   2015-01-30|Single Vehicle Collision|Front Collision|       Total Loss|               Police|            WV|    Arlington|  4872 Rock Ridge|                      21|                          1|             NO|              1|        1|                    YES|             27700|        2770|          2770|        22160|   Toyota|     Camry|     2012|             N|null|\n",
      "|               212| 42|       636550|      2011-07-25|          IL|   100/300|              500|              1315.68|             0|     600983|       MALE|                    PhD|   priv-house-serv|        camping|                wife|            0|      -39300|   2015-01-05|Single Vehicle Collision| Rear Collision|       Total Loss|                Other|            NC|    Hillsdale| 3066 Francis Ave|                      14|                          1|             NO|              2|        1|                      ?|             42300|        4700|          4700|        32900|     Saab|       92x|     1996|             N|null|\n",
      "|               235| 42|       543610|      2002-05-26|          OH|   100/300|              500|              1253.12|       4000000|     462283|     FEMALE|                Masters|   exec-managerial|        dancing|      other-relative|        38400|           0|   2015-01-06|Single Vehicle Collision|Front Collision|       Total Loss|               Police|            NY|    Northbend|   1558 1st Ridge|                      22|                          1|            YES|              2|        2|                      ?|             87010|        7910|         15820|        63280|     Ford|      F150|     2002|             N|null|\n",
      "|                60| 23|       842643|      1997-11-20|          OH|  500/1000|              500|              1215.36|       3000000|     432220|       MALE|                     MD|   protective-serv|        reading|                wife|            0|           0|   2015-01-22|Single Vehicle Collision| Rear Collision|       Total Loss|            Ambulance|            SC|    Northbend|   6655 5th Drive|                       9|                          1|            YES|              1|        0|                     NO|             56520|        4710|          9420|        42390|     Saab|        95|     2000|             N|null|\n",
      "|               180| 38|       644081|      1998-12-28|          OH|   250/500|             2000|              1301.13|             0|     476685|     FEMALE|                College| machine-op-inspct|    board-games|       not-in-family|        41300|      -55500|   2015-01-15|Single Vehicle Collision| Rear Collision|       Total Loss|               Police|            SC|  Springfield|   6851 3rd Drive|                      12|                          1|             NO|              0|        2|                    YES|             46200|        4200|          8400|        33600|    Dodge|      Neon|     2003|             Y|null|\n",
      "|               140| 31|       275265|      2004-11-15|          IN|  500/1000|              500|               708.64|       6000000|     470610|       MALE|            High School| machine-op-inspct|        reading|           unmarried|        53500|           0|   2015-01-06|Single Vehicle Collision| Side Collision|       Total Loss|               Police|            WV|    Northbend|     4546 Tree St|                       9|                          1|             NO|              0|        2|                    YES|             77880|       14160|          7080|        56640|   Suburu|    Legacy|     2015|             N|null|\n",
      "+------------------+---+-------------+----------------+------------+----------+-----------------+---------------------+--------------+-----------+-----------+-----------------------+------------------+---------------+--------------------+-------------+------------+-------------+------------------------+---------------+-----------------+---------------------+--------------+-------------+-----------------+------------------------+---------------------------+---------------+---------------+---------+-----------------------+------------------+------------+--------------+-------------+---------+----------+---------+--------------+----+\n",
      "only showing top 10 rows\n",
      "\n"
     ]
    }
   ],
   "source": [
    "# filter the DataFrame based on a substring match\n",
    "filtered_df = df.filter(col(\"incident_type\").like(\"%Vehicle%\"))\n",
    "\n",
    "# display the filtered DataFrame\n",
    "filtered_df.show(10, truncate=30)\n"
   ]
  },
  {
   "cell_type": "code",
   "execution_count": 15,
   "metadata": {
    "executionInfo": {
     "elapsed": 23903,
     "status": "aborted",
     "timestamp": 1758485272284,
     "user": {
      "displayName": "Abdoulaye Issa",
      "userId": "11578120158179831578"
     },
     "user_tz": 240
    },
    "id": "Wrb0EaY4tDp5"
   },
   "outputs": [
    {
     "name": "stdout",
     "output_type": "stream",
     "text": [
      "+------------------+---+-------------+----------------+------------+----------+-----------------+---------------------+--------------+-----------+-----------+-----------------------+------------------+---------------+--------------------+-------------+------------+-------------+------------------------+---------------+-----------------+---------------------+--------------+-------------+------------------+------------------------+---------------------------+---------------+---------------+---------+-----------------------+------------------+------------+--------------+-------------+---------+----------+---------+--------------+----+\n",
      "|months_as_customer|age|policy_number|policy_bind_date|policy_state|policy_csl|policy_deductable|policy_annual_premium|umbrella_limit|insured_zip|insured_sex|insured_education_level|insured_occupation|insured_hobbies|insured_relationship|capital-gains|capital-loss|incident_date|           incident_type| collision_type|incident_severity|authorities_contacted|incident_state|incident_city| incident_location|incident_hour_of_the_day|number_of_vehicles_involved|property_damage|bodily_injuries|witnesses|police_report_available|total_claim_amount|injury_claim|property_claim|vehicle_claim|auto_make|auto_model|auto_year|fraud_reported|_c39|\n",
      "+------------------+---+-------------+----------------+------------+----------+-----------------+---------------------+--------------+-----------+-----------+-----------------------+------------------+---------------+--------------------+-------------+------------+-------------+------------------------+---------------+-----------------+---------------------+--------------+-------------+------------------+------------------------+---------------------------+---------------+---------------+---------+-----------------------+------------------+------------+--------------+-------------+---------+----------+---------+--------------+----+\n",
      "|               328| 48|       521585|      2014-10-17|          OH|   250/500|             1000|              1406.91|             0|     466132|       MALE|                     MD|      craft-repair|       sleeping|             husband|        53300|           0|   2015-01-25|Single Vehicle Collision| Side Collision|     Major Damage|               Police|            SC|     Columbus|    9935 4th Drive|                       5|                          1|            YES|              1|        2|                    YES|             71610|        6510|         13020|        52080|     Saab|       92x|     2004|             Y|null|\n",
      "|               228| 42|       342868|      2006-06-27|          IN|   250/500|             2000|              1197.22|       5000000|     468176|       MALE|                     MD| machine-op-inspct|        reading|      other-relative|            0|           0|   2015-01-21|           Vehicle Theft|              ?|     Minor Damage|               Police|            VA|    Riverwood|      6608 MLK Hwy|                       8|                          1|              ?|              0|        0|                      ?|              5070|         780|           780|         3510| Mercedes|      E400|     2007|             Y|null|\n",
      "|               134| 29|       687698|      2000-09-06|          OH|   100/300|             2000|              1413.14|       5000000|     430632|     FEMALE|                    PhD|             sales|    board-games|           own-child|        35100|           0|   2015-02-22| Multi-vehicle Collision| Rear Collision|     Minor Damage|               Police|            NY|     Columbus| 7121 Francis Lane|                       7|                          3|             NO|              2|        3|                     NO|             34650|        7700|          3850|        23100|    Dodge|       RAM|     2007|             N|null|\n",
      "|               256| 41|       227811|      1990-05-25|          IL|   250/500|             2000|              1415.74|       6000000|     608117|     FEMALE|                    PhD|      armed-forces|    board-games|           unmarried|        48900|      -62400|   2015-01-10|Single Vehicle Collision|Front Collision|     Major Damage|               Police|            OH|    Arlington|  6956 Maple Drive|                       5|                          1|              ?|              1|        2|                     NO|             63400|        6340|          6340|        50720|Chevrolet|     Tahoe|     2014|             Y|null|\n",
      "|               228| 44|       367455|      2014-06-06|          IL|  500/1000|             1000|              1583.91|       6000000|     610706|       MALE|              Associate|             sales|    board-games|           unmarried|        66000|      -46000|   2015-02-17|           Vehicle Theft|              ?|     Minor Damage|                 None|            NY|    Arlington|      3041 3rd Ave|                      20|                          1|             NO|              0|        1|                     NO|              6500|        1300|           650|         4550|   Accura|       RSX|     2009|             N|null|\n",
      "|               256| 39|       104594|      2006-10-12|          OH|   250/500|             1000|               1351.1|             0|     478456|     FEMALE|                    PhD|      tech-support| bungie-jumping|           unmarried|            0|           0|   2015-01-02| Multi-vehicle Collision| Rear Collision|     Major Damage|                 Fire|            SC|    Arlington|8973 Washington St|                      19|                          3|             NO|              0|        2|                     NO|             64100|        6410|          6410|        51280|     Saab|        95|     2003|             Y|null|\n",
      "|               137| 34|       413978|      2000-06-04|          IN|   250/500|             1000|              1333.35|             0|     441716|       MALE|                    PhD|    prof-specialty|    board-games|             husband|            0|      -77000|   2015-01-13| Multi-vehicle Collision|Front Collision|     Minor Damage|               Police|            NY|  Springfield| 5846 Weaver Drive|                       0|                          3|              ?|              0|        0|                      ?|             78650|       21450|          7150|        50050|   Nissan|Pathfinder|     2012|             N|null|\n",
      "|               165| 37|       429027|      1990-02-03|          IL|   100/300|             1000|              1137.03|             0|     603195|       MALE|              Associate|      tech-support|   base-jumping|           unmarried|            0|           0|   2015-02-27| Multi-vehicle Collision|Front Collision|       Total Loss|               Police|            VA|     Columbus|      3525 3rd Hwy|                      23|                          3|              ?|              2|        2|                    YES|             51590|        9380|          9380|        32830|     Audi|        A5|     2015|             N|null|\n",
      "|                27| 33|       485665|      1997-02-05|          IL|   100/300|              500|              1442.99|             0|     601734|     FEMALE|                    PhD|     other-service|           golf|           own-child|            0|           0|   2015-01-30|Single Vehicle Collision|Front Collision|       Total Loss|               Police|            WV|    Arlington|   4872 Rock Ridge|                      21|                          1|             NO|              1|        1|                    YES|             27700|        2770|          2770|        22160|   Toyota|     Camry|     2012|             N|null|\n",
      "|               212| 42|       636550|      2011-07-25|          IL|   100/300|              500|              1315.68|             0|     600983|       MALE|                    PhD|   priv-house-serv|        camping|                wife|            0|      -39300|   2015-01-05|Single Vehicle Collision| Rear Collision|       Total Loss|                Other|            NC|    Hillsdale|  3066 Francis Ave|                      14|                          1|             NO|              2|        1|                      ?|             42300|        4700|          4700|        32900|     Saab|       92x|     1996|             N|null|\n",
      "+------------------+---+-------------+----------------+------------+----------+-----------------+---------------------+--------------+-----------+-----------+-----------------------+------------------+---------------+--------------------+-------------+------------+-------------+------------------------+---------------+-----------------+---------------------+--------------+-------------+------------------+------------------------+---------------------------+---------------+---------------+---------+-----------------------+------------------+------------+--------------+-------------+---------+----------+---------+--------------+----+\n",
      "only showing top 10 rows\n",
      "\n"
     ]
    }
   ],
   "source": [
    "# filter the DataFrame based on a date range\n",
    "filtered_df = df.filter((col(\"incident_date\") >= \"2010-09-05\") & (col(\"incident_date\") <= \"2020-09-01\"))\n",
    "\n",
    "# display the filtered DataFrame\n",
    "filtered_df.show(10, truncate=30)\n"
   ]
  },
  {
   "cell_type": "code",
   "execution_count": 16,
   "metadata": {
    "executionInfo": {
     "elapsed": 23906,
     "status": "aborted",
     "timestamp": 1758485272287,
     "user": {
      "displayName": "Abdoulaye Issa",
      "userId": "11578120158179831578"
     },
     "user_tz": 240
    },
    "id": "Tgs_76H3tvMQ"
   },
   "outputs": [
    {
     "name": "stdout",
     "output_type": "stream",
     "text": [
      "+------------------+---+-------------+----------------+------------+----------+-----------------+---------------------+--------------+-----------+-----------+-----------------------+------------------+---------------+--------------------+-------------+------------+-------------+------------------------+---------------+-----------------+---------------------+--------------+-------------+------------------+------------------------+---------------------------+---------------+---------------+---------+-----------------------+------------------+------------+--------------+-------------+---------+----------+---------+--------------+----+\n",
      "|months_as_customer|age|policy_number|policy_bind_date|policy_state|policy_csl|policy_deductable|policy_annual_premium|umbrella_limit|insured_zip|insured_sex|insured_education_level|insured_occupation|insured_hobbies|insured_relationship|capital-gains|capital-loss|incident_date|           incident_type| collision_type|incident_severity|authorities_contacted|incident_state|incident_city| incident_location|incident_hour_of_the_day|number_of_vehicles_involved|property_damage|bodily_injuries|witnesses|police_report_available|total_claim_amount|injury_claim|property_claim|vehicle_claim|auto_make|auto_model|auto_year|fraud_reported|_c39|\n",
      "+------------------+---+-------------+----------------+------------+----------+-----------------+---------------------+--------------+-----------+-----------+-----------------------+------------------+---------------+--------------------+-------------+------------+-------------+------------------------+---------------+-----------------+---------------------+--------------+-------------+------------------+------------------------+---------------------------+---------------+---------------+---------+-----------------------+------------------+------------+--------------+-------------+---------+----------+---------+--------------+----+\n",
      "|               328| 48|       521585|      2014-10-17|          OH|   250/500|             1000|              1406.91|             0|     466132|       MALE|                     MD|      craft-repair|       sleeping|             husband|        53300|           0|   2015-01-25|Single Vehicle Collision| Side Collision|     Major Damage|               Police|            SC|     Columbus|    9935 4th Drive|                       5|                          1|            YES|              1|        2|                    YES|             71610|        6510|         13020|        52080|     Saab|       92x|     2004|             Y|null|\n",
      "|               228| 42|       342868|      2006-06-27|          IN|   250/500|             2000|              1197.22|       5000000|     468176|       MALE|                     MD| machine-op-inspct|        reading|      other-relative|            0|           0|   2015-01-21|           Vehicle Theft|              ?|     Minor Damage|               Police|            VA|    Riverwood|      6608 MLK Hwy|                       8|                          1|              ?|              0|        0|                      ?|              5070|         780|           780|         3510| Mercedes|      E400|     2007|             Y|null|\n",
      "|               134| 29|       687698|      2000-09-06|          OH|   100/300|             2000|              1413.14|       5000000|     430632|     FEMALE|                    PhD|             sales|    board-games|           own-child|        35100|           0|   2015-02-22| Multi-vehicle Collision| Rear Collision|     Minor Damage|               Police|            NY|     Columbus| 7121 Francis Lane|                       7|                          3|             NO|              2|        3|                     NO|             34650|        7700|          3850|        23100|    Dodge|       RAM|     2007|             N|null|\n",
      "|               256| 41|       227811|      1990-05-25|          IL|   250/500|             2000|              1415.74|       6000000|     608117|     FEMALE|                    PhD|      armed-forces|    board-games|           unmarried|        48900|      -62400|   2015-01-10|Single Vehicle Collision|Front Collision|     Major Damage|               Police|            OH|    Arlington|  6956 Maple Drive|                       5|                          1|              ?|              1|        2|                     NO|             63400|        6340|          6340|        50720|Chevrolet|     Tahoe|     2014|             Y|null|\n",
      "|               228| 44|       367455|      2014-06-06|          IL|  500/1000|             1000|              1583.91|       6000000|     610706|       MALE|              Associate|             sales|    board-games|           unmarried|        66000|      -46000|   2015-02-17|           Vehicle Theft|              ?|     Minor Damage|                 None|            NY|    Arlington|      3041 3rd Ave|                      20|                          1|             NO|              0|        1|                     NO|              6500|        1300|           650|         4550|   Accura|       RSX|     2009|             N|null|\n",
      "|               256| 39|       104594|      2006-10-12|          OH|   250/500|             1000|               1351.1|             0|     478456|     FEMALE|                    PhD|      tech-support| bungie-jumping|           unmarried|            0|           0|   2015-01-02| Multi-vehicle Collision| Rear Collision|     Major Damage|                 Fire|            SC|    Arlington|8973 Washington St|                      19|                          3|             NO|              0|        2|                     NO|             64100|        6410|          6410|        51280|     Saab|        95|     2003|             Y|null|\n",
      "|               137| 34|       413978|      2000-06-04|          IN|   250/500|             1000|              1333.35|             0|     441716|       MALE|                    PhD|    prof-specialty|    board-games|             husband|            0|      -77000|   2015-01-13| Multi-vehicle Collision|Front Collision|     Minor Damage|               Police|            NY|  Springfield| 5846 Weaver Drive|                       0|                          3|              ?|              0|        0|                      ?|             78650|       21450|          7150|        50050|   Nissan|Pathfinder|     2012|             N|null|\n",
      "|               165| 37|       429027|      1990-02-03|          IL|   100/300|             1000|              1137.03|             0|     603195|       MALE|              Associate|      tech-support|   base-jumping|           unmarried|            0|           0|   2015-02-27| Multi-vehicle Collision|Front Collision|       Total Loss|               Police|            VA|     Columbus|      3525 3rd Hwy|                      23|                          3|              ?|              2|        2|                    YES|             51590|        9380|          9380|        32830|     Audi|        A5|     2015|             N|null|\n",
      "|                27| 33|       485665|      1997-02-05|          IL|   100/300|              500|              1442.99|             0|     601734|     FEMALE|                    PhD|     other-service|           golf|           own-child|            0|           0|   2015-01-30|Single Vehicle Collision|Front Collision|       Total Loss|               Police|            WV|    Arlington|   4872 Rock Ridge|                      21|                          1|             NO|              1|        1|                    YES|             27700|        2770|          2770|        22160|   Toyota|     Camry|     2012|             N|null|\n",
      "|               212| 42|       636550|      2011-07-25|          IL|   100/300|              500|              1315.68|             0|     600983|       MALE|                    PhD|   priv-house-serv|        camping|                wife|            0|      -39300|   2015-01-05|Single Vehicle Collision| Rear Collision|       Total Loss|                Other|            NC|    Hillsdale|  3066 Francis Ave|                      14|                          1|             NO|              2|        1|                      ?|             42300|        4700|          4700|        32900|     Saab|       92x|     1996|             N|null|\n",
      "+------------------+---+-------------+----------------+------------+----------+-----------------+---------------------+--------------+-----------+-----------+-----------------------+------------------+---------------+--------------------+-------------+------------+-------------+------------------------+---------------+-----------------+---------------------+--------------+-------------+------------------+------------------------+---------------------------+---------------+---------------+---------+-----------------------+------------------+------------+--------------+-------------+---------+----------+---------+--------------+----+\n",
      "only showing top 10 rows\n",
      "\n"
     ]
    }
   ],
   "source": [
    "filtered_df = df.filter((col(\"incident_date\").between(\"2010-02-01\",\"2015-03-01\")))\n",
    "\n",
    "# display the filtered DataFrame\n",
    "filtered_df.show(10, truncate=30)\n"
   ]
  },
  {
   "cell_type": "code",
   "execution_count": 17,
   "metadata": {
    "executionInfo": {
     "elapsed": 23908,
     "status": "aborted",
     "timestamp": 1758485272289,
     "user": {
      "displayName": "Abdoulaye Issa",
      "userId": "11578120158179831578"
     },
     "user_tz": 240
    },
    "id": "4N2USWSWuLc3"
   },
   "outputs": [
    {
     "name": "stdout",
     "output_type": "stream",
     "text": [
      "+------------------+---+-------------+----------------+------------+----------+-----------------+---------------------+--------------+-----------+-----------+-----------------------+------------------+---------------+--------------------+-------------+------------+-------------+-------------+--------------+-----------------+---------------------+--------------+-------------+-----------------+------------------------+---------------------------+---------------+---------------+---------+-----------------------+------------------+------------+--------------+-------------+---------+----------+---------+--------------+----+\n",
      "|months_as_customer|age|policy_number|policy_bind_date|policy_state|policy_csl|policy_deductable|policy_annual_premium|umbrella_limit|insured_zip|insured_sex|insured_education_level|insured_occupation|insured_hobbies|insured_relationship|capital-gains|capital-loss|incident_date|incident_type|collision_type|incident_severity|authorities_contacted|incident_state|incident_city|incident_location|incident_hour_of_the_day|number_of_vehicles_involved|property_damage|bodily_injuries|witnesses|police_report_available|total_claim_amount|injury_claim|property_claim|vehicle_claim|auto_make|auto_model|auto_year|fraud_reported|_c39|\n",
      "+------------------+---+-------------+----------------+------------+----------+-----------------+---------------------+--------------+-----------+-----------+-----------------------+------------------+---------------+--------------------+-------------+------------+-------------+-------------+--------------+-----------------+---------------------+--------------+-------------+-----------------+------------------------+---------------------------+---------------+---------------+---------+-----------------------+------------------+------------+--------------+-------------+---------+----------+---------+--------------+----+\n",
      "+------------------+---+-------------+----------------+------------+----------+-----------------+---------------------+--------------+-----------+-----------+-----------------------+------------------+---------------+--------------------+-------------+------------+-------------+-------------+--------------+-----------------+---------------------+--------------+-------------+-----------------+------------------------+---------------------------+---------------+---------------+---------+-----------------------+------------------+------------+--------------+-------------+---------+----------+---------+--------------+----+\n",
      "\n"
     ]
    }
   ],
   "source": [
    "# Dropping rows with null values\n",
    "df_dropna = df.dropna()\n",
    "\n",
    "# Displaying the DataFrame after dropping null values\n",
    "df_dropna.show(10, truncate=30)\n"
   ]
  },
  {
   "cell_type": "code",
   "execution_count": 18,
   "metadata": {
    "executionInfo": {
     "elapsed": 23910,
     "status": "aborted",
     "timestamp": 1758485272291,
     "user": {
      "displayName": "Abdoulaye Issa",
      "userId": "11578120158179831578"
     },
     "user_tz": 240
    },
    "id": "2fSwP_h-wohR"
   },
   "outputs": [
    {
     "name": "stdout",
     "output_type": "stream",
     "text": [
      "+------------------+---+-------------+----------------+------------+----------+-----------------+---------------------+--------------+-----------+-----------+-----------------------+------------------+---------------+--------------------+-------------+------------+-------------+------------------------+---------------+-----------------+---------------------+--------------+-------------+------------------+------------------------+---------------------------+---------------+---------------+---------+-----------------------+------------------+------------+--------------+-------------+---------+----------+---------+--------------+----+\n",
      "|months_as_customer|age|policy_number|policy_bind_date|policy_state|policy_csl|policy_deductable|policy_annual_premium|umbrella_limit|insured_zip|insured_sex|insured_education_level|insured_occupation|insured_hobbies|insured_relationship|capital-gains|capital-loss|incident_date|           incident_type| collision_type|incident_severity|authorities_contacted|incident_state|incident_city| incident_location|incident_hour_of_the_day|number_of_vehicles_involved|property_damage|bodily_injuries|witnesses|police_report_available|total_claim_amount|injury_claim|property_claim|vehicle_claim|auto_make|auto_model|auto_year|fraud_reported|_c39|\n",
      "+------------------+---+-------------+----------------+------------+----------+-----------------+---------------------+--------------+-----------+-----------+-----------------------+------------------+---------------+--------------------+-------------+------------+-------------+------------------------+---------------+-----------------+---------------------+--------------+-------------+------------------+------------------------+---------------------------+---------------+---------------+---------+-----------------------+------------------+------------+--------------+-------------+---------+----------+---------+--------------+----+\n",
      "|               328| 48|       521585|      2014-10-17|          OH|   250/500|             1000|              1406.91|             0|     466132|       MALE|                     MD|      craft-repair|       sleeping|             husband|        53300|           0|   2015-01-25|Single Vehicle Collision| Side Collision|     Major Damage|               Police|            SC|     Columbus|    9935 4th Drive|                       5|                          1|            YES|              1|        2|                    YES|             71610|        6510|         13020|        52080|     Saab|       92x|     2004|             Y| N/A|\n",
      "|               228| 42|       342868|      2006-06-27|          IN|   250/500|             2000|              1197.22|       5000000|     468176|       MALE|                     MD| machine-op-inspct|        reading|      other-relative|            0|           0|   2015-01-21|           Vehicle Theft|              ?|     Minor Damage|               Police|            VA|    Riverwood|      6608 MLK Hwy|                       8|                          1|              ?|              0|        0|                      ?|              5070|         780|           780|         3510| Mercedes|      E400|     2007|             Y| N/A|\n",
      "|               134| 29|       687698|      2000-09-06|          OH|   100/300|             2000|              1413.14|       5000000|     430632|     FEMALE|                    PhD|             sales|    board-games|           own-child|        35100|           0|   2015-02-22| Multi-vehicle Collision| Rear Collision|     Minor Damage|               Police|            NY|     Columbus| 7121 Francis Lane|                       7|                          3|             NO|              2|        3|                     NO|             34650|        7700|          3850|        23100|    Dodge|       RAM|     2007|             N| N/A|\n",
      "|               256| 41|       227811|      1990-05-25|          IL|   250/500|             2000|              1415.74|       6000000|     608117|     FEMALE|                    PhD|      armed-forces|    board-games|           unmarried|        48900|      -62400|   2015-01-10|Single Vehicle Collision|Front Collision|     Major Damage|               Police|            OH|    Arlington|  6956 Maple Drive|                       5|                          1|              ?|              1|        2|                     NO|             63400|        6340|          6340|        50720|Chevrolet|     Tahoe|     2014|             Y| N/A|\n",
      "|               228| 44|       367455|      2014-06-06|          IL|  500/1000|             1000|              1583.91|       6000000|     610706|       MALE|              Associate|             sales|    board-games|           unmarried|        66000|      -46000|   2015-02-17|           Vehicle Theft|              ?|     Minor Damage|                 None|            NY|    Arlington|      3041 3rd Ave|                      20|                          1|             NO|              0|        1|                     NO|              6500|        1300|           650|         4550|   Accura|       RSX|     2009|             N| N/A|\n",
      "|               256| 39|       104594|      2006-10-12|          OH|   250/500|             1000|               1351.1|             0|     478456|     FEMALE|                    PhD|      tech-support| bungie-jumping|           unmarried|            0|           0|   2015-01-02| Multi-vehicle Collision| Rear Collision|     Major Damage|                 Fire|            SC|    Arlington|8973 Washington St|                      19|                          3|             NO|              0|        2|                     NO|             64100|        6410|          6410|        51280|     Saab|        95|     2003|             Y| N/A|\n",
      "|               137| 34|       413978|      2000-06-04|          IN|   250/500|             1000|              1333.35|             0|     441716|       MALE|                    PhD|    prof-specialty|    board-games|             husband|            0|      -77000|   2015-01-13| Multi-vehicle Collision|Front Collision|     Minor Damage|               Police|            NY|  Springfield| 5846 Weaver Drive|                       0|                          3|              ?|              0|        0|                      ?|             78650|       21450|          7150|        50050|   Nissan|Pathfinder|     2012|             N| N/A|\n",
      "|               165| 37|       429027|      1990-02-03|          IL|   100/300|             1000|              1137.03|             0|     603195|       MALE|              Associate|      tech-support|   base-jumping|           unmarried|            0|           0|   2015-02-27| Multi-vehicle Collision|Front Collision|       Total Loss|               Police|            VA|     Columbus|      3525 3rd Hwy|                      23|                          3|              ?|              2|        2|                    YES|             51590|        9380|          9380|        32830|     Audi|        A5|     2015|             N| N/A|\n",
      "|                27| 33|       485665|      1997-02-05|          IL|   100/300|              500|              1442.99|             0|     601734|     FEMALE|                    PhD|     other-service|           golf|           own-child|            0|           0|   2015-01-30|Single Vehicle Collision|Front Collision|       Total Loss|               Police|            WV|    Arlington|   4872 Rock Ridge|                      21|                          1|             NO|              1|        1|                    YES|             27700|        2770|          2770|        22160|   Toyota|     Camry|     2012|             N| N/A|\n",
      "|               212| 42|       636550|      2011-07-25|          IL|   100/300|              500|              1315.68|             0|     600983|       MALE|                    PhD|   priv-house-serv|        camping|                wife|            0|      -39300|   2015-01-05|Single Vehicle Collision| Rear Collision|       Total Loss|                Other|            NC|    Hillsdale|  3066 Francis Ave|                      14|                          1|             NO|              2|        1|                      ?|             42300|        4700|          4700|        32900|     Saab|       92x|     1996|             N| N/A|\n",
      "+------------------+---+-------------+----------------+------------+----------+-----------------+---------------------+--------------+-----------+-----------+-----------------------+------------------+---------------+--------------------+-------------+------------+-------------+------------------------+---------------+-----------------+---------------------+--------------+-------------+------------------+------------------------+---------------------------+---------------+---------------+---------+-----------------------+------------------+------------+--------------+-------------+---------+----------+---------+--------------+----+\n",
      "only showing top 10 rows\n",
      "\n"
     ]
    }
   ],
   "source": [
    "# Filling null values with a specific value\n",
    "df_fillna = df.fillna(\"N/A\")\n",
    "\n",
    "# Displaying the DataFrame after filling null values\n",
    "df_fillna.show(10, truncate=30)\n",
    "\n"
   ]
  },
  {
   "cell_type": "code",
   "execution_count": 19,
   "metadata": {
    "executionInfo": {
     "elapsed": 23911,
     "status": "aborted",
     "timestamp": 1758485272293,
     "user": {
      "displayName": "Abdoulaye Issa",
      "userId": "11578120158179831578"
     },
     "user_tz": 240
    },
    "id": "DcDqxU6Jwslv"
   },
   "outputs": [
    {
     "name": "stdout",
     "output_type": "stream",
     "text": [
      "+------------------+---+-------------+----------------+------------+----------+-----------------+---------------------+--------------+-----------+-----------+-----------------------+------------------+---------------+--------------------+-------------+------------+-------------+------------------------+---------------+-----------------+---------------------+--------------+-------------+------------------+------------------------+---------------------------+---------------+---------------+---------+-----------------------+------------------+------------+--------------+-------------+---------+----------+---------+--------------+----+\n",
      "|months_as_customer|age|policy_number|policy_bind_date|policy_state|policy_csl|policy_deductable|policy_annual_premium|umbrella_limit|insured_zip|insured_sex|insured_education_level|insured_occupation|insured_hobbies|insured_relationship|capital-gains|capital-loss|incident_date|           incident_type| collision_type|incident_severity|authorities_contacted|incident_state|incident_city| incident_location|incident_hour_of_the_day|number_of_vehicles_involved|property_damage|bodily_injuries|witnesses|police_report_available|total_claim_amount|injury_claim|property_claim|vehicle_claim|auto_make|auto_model|auto_year|fraud_reported|_c39|\n",
      "+------------------+---+-------------+----------------+------------+----------+-----------------+---------------------+--------------+-----------+-----------+-----------------------+------------------+---------------+--------------------+-------------+------------+-------------+------------------------+---------------+-----------------+---------------------+--------------+-------------+------------------+------------------------+---------------------------+---------------+---------------+---------+-----------------------+------------------+------------+--------------+-------------+---------+----------+---------+--------------+----+\n",
      "|               328| 48|       521585|      2014-10-17|          OH|   250/500|             1000|              1406.91|             0|     466132|       MALE|                     MD|      craft-repair|       sleeping|             husband|        53300|           0|   2015-01-25|Single Vehicle Collision| Side Collision|     Major Damage|               Police|            SC|     Columbus|    9935 4th Drive|                       5|                          1|            YES|              1|        2|                    YES|             71610|        6510|         13020|        52080|     Saab|       92x|     2004|             Y| N/A|\n",
      "|               228| 42|       342868|      2006-06-27|          IN|   250/500|             2000|              1197.22|       5000000|     468176|       MALE|                     MD| machine-op-inspct|        reading|      other-relative|            0|           0|   2015-01-21|           Vehicle Theft|              ?|     Minor Damage|               Police|            VA|    Riverwood|      6608 MLK Hwy|                       8|                          1|              ?|              0|        0|                      ?|              5070|         780|           780|         3510| Mercedes|      E400|     2007|             Y| N/A|\n",
      "|               134| 29|       687698|      2000-09-06|          OH|   100/300|             2000|              1413.14|       5000000|     430632|     FEMALE|                    PhD|             sales|    board-games|           own-child|        35100|           0|   2015-02-22| Multi-vehicle Collision| Rear Collision|     Minor Damage|               Police|            NY|     Columbus| 7121 Francis Lane|                       7|                          3|             NO|              2|        3|                     NO|             34650|        7700|          3850|        23100|    Dodge|       RAM|     2007|             N| N/A|\n",
      "|               256| 41|       227811|      1990-05-25|          IL|   250/500|             2000|              1415.74|       6000000|     608117|     FEMALE|                    PhD|      armed-forces|    board-games|           unmarried|        48900|      -62400|   2015-01-10|Single Vehicle Collision|Front Collision|     Major Damage|               Police|            OH|    Arlington|  6956 Maple Drive|                       5|                          1|              ?|              1|        2|                     NO|             63400|        6340|          6340|        50720|Chevrolet|     Tahoe|     2014|             Y| N/A|\n",
      "|               228| 44|       367455|      2014-06-06|          IL|  500/1000|             1000|              1583.91|       6000000|     610706|       MALE|              Associate|             sales|    board-games|           unmarried|        66000|      -46000|   2015-02-17|           Vehicle Theft|              ?|     Minor Damage|                 None|            NY|    Arlington|      3041 3rd Ave|                      20|                          1|             NO|              0|        1|                     NO|              6500|        1300|           650|         4550|   Accura|       RSX|     2009|             N| N/A|\n",
      "|               256| 39|       104594|      2006-10-12|          OH|   250/500|             1000|               1351.1|             0|     478456|     FEMALE|                    PhD|      tech-support| bungie-jumping|           unmarried|            0|           0|   2015-01-02| Multi-vehicle Collision| Rear Collision|     Major Damage|                 Fire|            SC|    Arlington|8973 Washington St|                      19|                          3|             NO|              0|        2|                     NO|             64100|        6410|          6410|        51280|     Saab|        95|     2003|             Y| N/A|\n",
      "|               137| 34|       413978|      2000-06-04|          IN|   250/500|             1000|              1333.35|             0|     441716|       MALE|                    PhD|    prof-specialty|    board-games|             husband|            0|      -77000|   2015-01-13| Multi-vehicle Collision|Front Collision|     Minor Damage|               Police|            NY|  Springfield| 5846 Weaver Drive|                       0|                          3|              ?|              0|        0|                      ?|             78650|       21450|          7150|        50050|   Nissan|Pathfinder|     2012|             N| N/A|\n",
      "|               165| 37|       429027|      1990-02-03|          IL|   100/300|             1000|              1137.03|             0|     603195|       MALE|              Associate|      tech-support|   base-jumping|           unmarried|            0|           0|   2015-02-27| Multi-vehicle Collision|Front Collision|       Total Loss|               Police|            VA|     Columbus|      3525 3rd Hwy|                      23|                          3|              ?|              2|        2|                    YES|             51590|        9380|          9380|        32830|     Audi|        A5|     2015|             N| N/A|\n",
      "|                27| 33|       485665|      1997-02-05|          IL|   100/300|              500|              1442.99|             0|     601734|     FEMALE|                    PhD|     other-service|           golf|           own-child|            0|           0|   2015-01-30|Single Vehicle Collision|Front Collision|       Total Loss|               Police|            WV|    Arlington|   4872 Rock Ridge|                      21|                          1|             NO|              1|        1|                    YES|             27700|        2770|          2770|        22160|   Toyota|     Camry|     2012|             N| N/A|\n",
      "|               212| 42|       636550|      2011-07-25|          IL|   100/300|              500|              1315.68|             0|     600983|       MALE|                    PhD|   priv-house-serv|        camping|                wife|            0|      -39300|   2015-01-05|Single Vehicle Collision| Rear Collision|       Total Loss|                Other|            NC|    Hillsdale|  3066 Francis Ave|                      14|                          1|             NO|              2|        1|                      ?|             42300|        4700|          4700|        32900|     Saab|       92x|     1996|             N| N/A|\n",
      "+------------------+---+-------------+----------------+------------+----------+-----------------+---------------------+--------------+-----------+-----------+-----------------------+------------------+---------------+--------------------+-------------+------------+-------------+------------------------+---------------+-----------------+---------------------+--------------+-------------+------------------+------------------------+---------------------------+---------------+---------------+---------+-----------------------+------------------+------------+--------------+-------------+---------+----------+---------+--------------+----+\n",
      "only showing top 10 rows\n",
      "\n"
     ]
    }
   ],
   "source": [
    "# Filling null values with a specific value\n",
    "df_fillna = df.fillna(\"N/A\")\n",
    "\n",
    "# Displaying the DataFrame after filling null values\n",
    "df_fillna.show(10, truncate=30)\n",
    "\n",
    "\n"
   ]
  },
  {
   "cell_type": "code",
   "execution_count": 20,
   "metadata": {
    "executionInfo": {
     "elapsed": 23912,
     "status": "aborted",
     "timestamp": 1758485272294,
     "user": {
      "displayName": "Abdoulaye Issa",
      "userId": "11578120158179831578"
     },
     "user_tz": 240
    },
    "id": "NwHFeZ0Hx9L8"
   },
   "outputs": [
    {
     "name": "stderr",
     "output_type": "stream",
     "text": [
      "[Stage 15:>                                                         (0 + 1) / 1]\r"
     ]
    },
    {
     "name": "stdout",
     "output_type": "stream",
     "text": [
      "+------------------+---+-------------+----------------+------------+----------+-----------------+---------------------+--------------+-----------+-----------+-----------------------+------------------+---------------+--------------------+-------------+------------+-------------+------------------------+---------------+-----------------+---------------------+--------------+-------------+------------------+------------------------+---------------------------+---------------+---------------+---------+-----------------------+------------------+------------+--------------+-------------+---------+----------+---------+--------------+----+----------------------------+\n",
      "|months_as_customer|age|policy_number|policy_bind_date|policy_state|policy_csl|policy_deductable|policy_annual_premium|umbrella_limit|insured_zip|insured_sex|insured_education_level|insured_occupation|insured_hobbies|insured_relationship|capital-gains|capital-loss|incident_date|           incident_type| collision_type|incident_severity|authorities_contacted|incident_state|incident_city| incident_location|incident_hour_of_the_day|number_of_vehicles_involved|property_damage|bodily_injuries|witnesses|police_report_available|total_claim_amount|injury_claim|property_claim|vehicle_claim|auto_make|auto_model|auto_year|fraud_reported|_c39|process_insured_relationship|\n",
      "+------------------+---+-------------+----------------+------------+----------+-----------------+---------------------+--------------+-----------+-----------+-----------------------+------------------+---------------+--------------------+-------------+------------+-------------+------------------------+---------------+-----------------+---------------------+--------------+-------------+------------------+------------------------+---------------------------+---------------+---------------+---------+-----------------------+------------------+------------+--------------+-------------+---------+----------+---------+--------------+----+----------------------------+\n",
      "|               328| 48|       521585|      2014-10-17|          OH|   250/500|             1000|              1406.91|             0|     466132|       MALE|                     MD|      craft-repair|       sleeping|             husband|        53300|           0|   2015-01-25|Single Vehicle Collision| Side Collision|     Major Damage|               Police|            SC|     Columbus|    9935 4th Drive|                       5|                          1|            YES|              1|        2|                    YES|             71610|        6510|         13020|        52080|     Saab|       92x|     2004|             Y|null|                     HUSBAND|\n",
      "|               228| 42|       342868|      2006-06-27|          IN|   250/500|             2000|              1197.22|       5000000|     468176|       MALE|                     MD| machine-op-inspct|        reading|      other-relative|            0|           0|   2015-01-21|           Vehicle Theft|              ?|     Minor Damage|               Police|            VA|    Riverwood|      6608 MLK Hwy|                       8|                          1|              ?|              0|        0|                      ?|              5070|         780|           780|         3510| Mercedes|      E400|     2007|             Y|null|              OTHER-RELATIVE|\n",
      "|               134| 29|       687698|      2000-09-06|          OH|   100/300|             2000|              1413.14|       5000000|     430632|     FEMALE|                    PhD|             sales|    board-games|           own-child|        35100|           0|   2015-02-22| Multi-vehicle Collision| Rear Collision|     Minor Damage|               Police|            NY|     Columbus| 7121 Francis Lane|                       7|                          3|             NO|              2|        3|                     NO|             34650|        7700|          3850|        23100|    Dodge|       RAM|     2007|             N|null|                   OWN-CHILD|\n",
      "|               256| 41|       227811|      1990-05-25|          IL|   250/500|             2000|              1415.74|       6000000|     608117|     FEMALE|                    PhD|      armed-forces|    board-games|           unmarried|        48900|      -62400|   2015-01-10|Single Vehicle Collision|Front Collision|     Major Damage|               Police|            OH|    Arlington|  6956 Maple Drive|                       5|                          1|              ?|              1|        2|                     NO|             63400|        6340|          6340|        50720|Chevrolet|     Tahoe|     2014|             Y|null|                   UNMARRIED|\n",
      "|               228| 44|       367455|      2014-06-06|          IL|  500/1000|             1000|              1583.91|       6000000|     610706|       MALE|              Associate|             sales|    board-games|           unmarried|        66000|      -46000|   2015-02-17|           Vehicle Theft|              ?|     Minor Damage|                 None|            NY|    Arlington|      3041 3rd Ave|                      20|                          1|             NO|              0|        1|                     NO|              6500|        1300|           650|         4550|   Accura|       RSX|     2009|             N|null|                   UNMARRIED|\n",
      "|               256| 39|       104594|      2006-10-12|          OH|   250/500|             1000|               1351.1|             0|     478456|     FEMALE|                    PhD|      tech-support| bungie-jumping|           unmarried|            0|           0|   2015-01-02| Multi-vehicle Collision| Rear Collision|     Major Damage|                 Fire|            SC|    Arlington|8973 Washington St|                      19|                          3|             NO|              0|        2|                     NO|             64100|        6410|          6410|        51280|     Saab|        95|     2003|             Y|null|                   UNMARRIED|\n",
      "|               137| 34|       413978|      2000-06-04|          IN|   250/500|             1000|              1333.35|             0|     441716|       MALE|                    PhD|    prof-specialty|    board-games|             husband|            0|      -77000|   2015-01-13| Multi-vehicle Collision|Front Collision|     Minor Damage|               Police|            NY|  Springfield| 5846 Weaver Drive|                       0|                          3|              ?|              0|        0|                      ?|             78650|       21450|          7150|        50050|   Nissan|Pathfinder|     2012|             N|null|                     HUSBAND|\n",
      "|               165| 37|       429027|      1990-02-03|          IL|   100/300|             1000|              1137.03|             0|     603195|       MALE|              Associate|      tech-support|   base-jumping|           unmarried|            0|           0|   2015-02-27| Multi-vehicle Collision|Front Collision|       Total Loss|               Police|            VA|     Columbus|      3525 3rd Hwy|                      23|                          3|              ?|              2|        2|                    YES|             51590|        9380|          9380|        32830|     Audi|        A5|     2015|             N|null|                   UNMARRIED|\n",
      "|                27| 33|       485665|      1997-02-05|          IL|   100/300|              500|              1442.99|             0|     601734|     FEMALE|                    PhD|     other-service|           golf|           own-child|            0|           0|   2015-01-30|Single Vehicle Collision|Front Collision|       Total Loss|               Police|            WV|    Arlington|   4872 Rock Ridge|                      21|                          1|             NO|              1|        1|                    YES|             27700|        2770|          2770|        22160|   Toyota|     Camry|     2012|             N|null|                   OWN-CHILD|\n",
      "|               212| 42|       636550|      2011-07-25|          IL|   100/300|              500|              1315.68|             0|     600983|       MALE|                    PhD|   priv-house-serv|        camping|                wife|            0|      -39300|   2015-01-05|Single Vehicle Collision| Rear Collision|       Total Loss|                Other|            NC|    Hillsdale|  3066 Francis Ave|                      14|                          1|             NO|              2|        1|                      ?|             42300|        4700|          4700|        32900|     Saab|       92x|     1996|             N|null|                        WIFE|\n",
      "+------------------+---+-------------+----------------+------------+----------+-----------------+---------------------+--------------+-----------+-----------+-----------------------+------------------+---------------+--------------------+-------------+------------+-------------+------------------------+---------------+-----------------+---------------------+--------------+-------------+------------------+------------------------+---------------------------+---------------+---------------+---------+-----------------------+------------------+------------+--------------+-------------+---------+----------+---------+--------------+----+----------------------------+\n",
      "only showing top 10 rows\n",
      "\n"
     ]
    },
    {
     "name": "stderr",
     "output_type": "stream",
     "text": [
      "                                                                                \r"
     ]
    }
   ],
   "source": [
    "'''\n",
    "df = spark.createDataFrame(df,\n",
    "\n",
    "  [\n",
    "               \"months_as_customer\"\n",
    "               ,\"age\"\n",
    "               ,\"policy_state\"\n",
    "               ,\"policy_annual_premium\"\n",
    "               ,\"insured_zip\"\n",
    "               ,\"insured_sex\"\n",
    "               ,\"insured_education_level\"\n",
    "               ,\"insured_occupation\"\n",
    "               ,\"insured_hobbies\"\n",
    "               ,\"insured_relationship\"\n",
    "               ,\"incident_date\"\n",
    "               ,\"incident_type\"\n",
    "               ,\"collision_type\"\n",
    "               ,\"collision_type\"\n",
    "               ,\"incident_severity\"\n",
    "               ,\"authorities_contacted\"\n",
    "               ,\"incident_state\"\n",
    "               ,\"incident_city\"\n",
    "               ,\"incident_location\"\n",
    "               ,\"incident_hour_of_the_day\"\n",
    "               ,\"number_of_vehicles_involved\"\n",
    "               ,\"police_report_available\"\n",
    "               ,\"total_claim_amount\"\n",
    "               ,\"injury_claim\"\n",
    "               ,\"property_claim\"\n",
    "               ,\"vehicle_claim\"\n",
    "               ,\"auto_make\"\n",
    "               ,\"auto_model\"\n",
    "               ,\"auto_year\"\n",
    "  ])\n",
    "\n",
    "  '''\n",
    "# Ajouter l'import manquant\n",
    "from pyspark.sql.functions import udf\n",
    "from pyspark.sql.types import StringType\n",
    "\n",
    "# Define a UDF to handle null values\n",
    "def process_insured_relationship(insured_relationship):\n",
    "    if insured_relationship is None:\n",
    "        return \"Unknown\"\n",
    "    else:\n",
    "        return insured_relationship.upper()\n",
    "\n",
    "# Register the UDF\n",
    "process_insured_relationship_udf = udf(process_insured_relationship, StringType())\n",
    "\n",
    "# Apply the UDF to the DataFrame\n",
    "df_with_processed_insured_relationship = df.withColumn(\"process_insured_relationship\", process_insured_relationship_udf(df[\"insured_relationship\"]))\n",
    "\n",
    "# Show the resulting DataFrame\n",
    "df_with_processed_insured_relationship.show(10, truncate=30)\n",
    "#df_year.show(10, truncate=30)     # 10 lignes, troncature à 30 caractères\n"
   ]
  },
  {
   "cell_type": "code",
   "execution_count": 21,
   "metadata": {
    "executionInfo": {
     "elapsed": 23914,
     "status": "aborted",
     "timestamp": 1758485272296,
     "user": {
      "displayName": "Abdoulaye Issa",
      "userId": "11578120158179831578"
     },
     "user_tz": 240
    },
    "id": "khrWlAnB0qOo"
   },
   "outputs": [
    {
     "name": "stdout",
     "output_type": "stream",
     "text": [
      "Requirement already satisfied: numpy in /usr/local/lib/python3.10/dist-packages (2.2.6)\n",
      "Requirement already satisfied: pandas in /usr/local/lib/python3.10/dist-packages (2.3.2)\n",
      "Requirement already satisfied: matplotlib in /usr/local/lib/python3.10/dist-packages (3.10.6)\n",
      "Requirement already satisfied: seaborn in /usr/local/lib/python3.10/dist-packages (0.13.2)\n",
      "Requirement already satisfied: scikit-learn in /usr/local/lib/python3.10/dist-packages (1.7.2)\n",
      "Requirement already satisfied: python-dateutil>=2.8.2 in /usr/local/lib/python3.10/dist-packages (from pandas) (2.9.0.post0)\n",
      "Requirement already satisfied: pytz>=2020.1 in /usr/local/lib/python3.10/dist-packages (from pandas) (2025.2)\n",
      "Requirement already satisfied: tzdata>=2022.7 in /usr/local/lib/python3.10/dist-packages (from pandas) (2025.2)\n",
      "Requirement already satisfied: packaging>=20.0 in /usr/local/lib/python3.10/dist-packages (from matplotlib) (25.0)\n",
      "Requirement already satisfied: kiwisolver>=1.3.1 in /usr/local/lib/python3.10/dist-packages (from matplotlib) (1.4.9)\n",
      "Requirement already satisfied: pillow>=8 in /usr/local/lib/python3.10/dist-packages (from matplotlib) (11.3.0)\n",
      "Requirement already satisfied: fonttools>=4.22.0 in /usr/local/lib/python3.10/dist-packages (from matplotlib) (4.60.0)\n",
      "Requirement already satisfied: pyparsing>=2.3.1 in /usr/local/lib/python3.10/dist-packages (from matplotlib) (3.2.5)\n",
      "Requirement already satisfied: cycler>=0.10 in /usr/local/lib/python3.10/dist-packages (from matplotlib) (0.12.1)\n",
      "Requirement already satisfied: contourpy>=1.0.1 in /usr/local/lib/python3.10/dist-packages (from matplotlib) (1.3.2)\n",
      "Requirement already satisfied: joblib>=1.2.0 in /usr/local/lib/python3.10/dist-packages (from scikit-learn) (1.5.2)\n",
      "Requirement already satisfied: threadpoolctl>=3.1.0 in /usr/local/lib/python3.10/dist-packages (from scikit-learn) (3.6.0)\n",
      "Requirement already satisfied: scipy>=1.8.0 in /usr/local/lib/python3.10/dist-packages (from scikit-learn) (1.15.3)\n",
      "Requirement already satisfied: six>=1.5 in /usr/local/lib/python3.10/dist-packages (from python-dateutil>=2.8.2->pandas) (1.17.0)\n",
      "\u001b[33mWARNING: Running pip as the 'root' user can result in broken permissions and conflicting behaviour with the system package manager. It is recommended to use a virtual environment instead: https://pip.pypa.io/warnings/venv\u001b[0m\u001b[33m\n",
      "\u001b[0m"
     ]
    },
    {
     "data": {
      "text/plain": [
       "'\\n#Pour utiliser ceci, il faut utiliser les colonnes numeriques\\n# Create a sample DataFrame with missing values\\ndata = [\\n    (1, 2.0),\\n    (2, None),\\n    (3, 5.0),\\n    (4, None),\\n    (5, 7.0)\\n]\\n#df = spark.createDataFrame(data, [\"id\", \"value\"])\\n# collision_type  property_damage|\\n# Create an instance of Imputer and specify the input/output columns\\nimputer = Imputer(inputCols=[\"collision_type\"], outputCols=[\"imputed_collision_type\"])\\n\\n# Fit the imputer to the data and transform the DataFrame\\nimputer_model = imputer.fit(df)\\nimputed_df = imputer_model.transform(df)\\n\\n# Show the resulting DataFrame\\nimputed_df.show()\\n\\n'"
      ]
     },
     "execution_count": 21,
     "metadata": {},
     "output_type": "execute_result"
    }
   ],
   "source": [
    "!pip install numpy pandas matplotlib seaborn scikit-learn\n",
    "from pyspark.sql import SparkSession\n",
    "from pyspark.ml.feature import Imputer\n",
    "'''\n",
    "#Pour utiliser ceci, il faut utiliser les colonnes numeriques\n",
    "# Create a sample DataFrame with missing values\n",
    "data = [\n",
    "    (1, 2.0),\n",
    "    (2, None),\n",
    "    (3, 5.0),\n",
    "    (4, None),\n",
    "    (5, 7.0)\n",
    "]\n",
    "#df = spark.createDataFrame(data, [\"id\", \"value\"])\n",
    "# collision_type  property_damage|\n",
    "# Create an instance of Imputer and specify the input/output columns\n",
    "imputer = Imputer(inputCols=[\"collision_type\"], outputCols=[\"imputed_collision_type\"])\n",
    "\n",
    "# Fit the imputer to the data and transform the DataFrame\n",
    "imputer_model = imputer.fit(df)\n",
    "imputed_df = imputer_model.transform(df)\n",
    "\n",
    "# Show the resulting DataFrame\n",
    "imputed_df.show()\n",
    "\n",
    "'''"
   ]
  },
  {
   "cell_type": "code",
   "execution_count": 22,
   "metadata": {
    "executionInfo": {
     "elapsed": 23916,
     "status": "aborted",
     "timestamp": 1758485272298,
     "user": {
      "displayName": "Abdoulaye Issa",
      "userId": "11578120158179831578"
     },
     "user_tz": 240
    },
    "id": "DLRBcVDNAxN_"
   },
   "outputs": [
    {
     "name": "stdout",
     "output_type": "stream",
     "text": [
      "   months_as_customer age policy_number policy_bind_date policy_state  \\\n",
      "0                 328  48        521585       2014-10-17           OH   \n",
      "1                 228  42        342868       2006-06-27           IN   \n",
      "2                 134  29        687698       2000-09-06           OH   \n",
      "3                 256  41        227811       1990-05-25           IL   \n",
      "4                 228  44        367455       2014-06-06           IL   \n",
      "5                 256  39        104594       2006-10-12           OH   \n",
      "6                 137  34        413978       2000-06-04           IN   \n",
      "7                 165  37        429027       1990-02-03           IL   \n",
      "8                  27  33        485665       1997-02-05           IL   \n",
      "9                 212  42        636550       2011-07-25           IL   \n",
      "10                235  42        543610       2002-05-26           OH   \n",
      "11                447  61        214618       1999-05-29           OH   \n",
      "12                 60  23        842643       1997-11-20           OH   \n",
      "13                121  34        626808       2012-10-26           OH   \n",
      "14                180  38        644081       1998-12-28           OH   \n",
      "15                473  58        892874       1992-10-19           IN   \n",
      "16                 70  26        558938       2005-06-08           OH   \n",
      "17                140  31        275265       2004-11-15           IN   \n",
      "18                160  37        921202       2014-12-28           OH   \n",
      "19                196  39        143972       1992-08-02           IN   \n",
      "\n",
      "   policy_csl policy_deductable policy_annual_premium umbrella_limit  \\\n",
      "0     250/500              1000               1406.91              0   \n",
      "1     250/500              2000               1197.22        5000000   \n",
      "2     100/300              2000               1413.14        5000000   \n",
      "3     250/500              2000               1415.74        6000000   \n",
      "4    500/1000              1000               1583.91        6000000   \n",
      "5     250/500              1000                1351.1              0   \n",
      "6     250/500              1000               1333.35              0   \n",
      "7     100/300              1000               1137.03              0   \n",
      "8     100/300               500               1442.99              0   \n",
      "9     100/300               500               1315.68              0   \n",
      "10    100/300               500               1253.12        4000000   \n",
      "11    100/300              2000               1137.16              0   \n",
      "12   500/1000               500               1215.36        3000000   \n",
      "13    100/300              1000                936.61              0   \n",
      "14    250/500              2000               1301.13              0   \n",
      "15    100/300              2000                1131.4              0   \n",
      "16   500/1000              1000               1199.44        5000000   \n",
      "17   500/1000               500                708.64        6000000   \n",
      "18   500/1000               500               1374.22              0   \n",
      "19   500/1000              2000               1475.73              0   \n",
      "\n",
      "   insured_zip  ... total_claim_amount injury_claim property_claim  \\\n",
      "0       466132  ...              71610         6510          13020   \n",
      "1       468176  ...               5070          780            780   \n",
      "2       430632  ...              34650         7700           3850   \n",
      "3       608117  ...              63400         6340           6340   \n",
      "4       610706  ...               6500         1300            650   \n",
      "5       478456  ...              64100         6410           6410   \n",
      "6       441716  ...              78650        21450           7150   \n",
      "7       603195  ...              51590         9380           9380   \n",
      "8       601734  ...              27700         2770           2770   \n",
      "9       600983  ...              42300         4700           4700   \n",
      "10      462283  ...              87010         7910          15820   \n",
      "11      615561  ...             114920        17680          17680   \n",
      "12      432220  ...              56520         4710           9420   \n",
      "13      464652  ...               7280         1120           1120   \n",
      "14      476685  ...              46200         4200           8400   \n",
      "15      458733  ...              63120        10520          10520   \n",
      "16      619884  ...              52110         5790           5790   \n",
      "17      470610  ...              77880        14160           7080   \n",
      "18      472135  ...              72930         6630          13260   \n",
      "19      477670  ...              60400         6040           6040   \n",
      "\n",
      "   vehicle_claim  auto_make  auto_model auto_year fraud_reported  _c39  \\\n",
      "0          52080       Saab         92x      2004              Y  None   \n",
      "1           3510   Mercedes        E400      2007              Y  None   \n",
      "2          23100      Dodge         RAM      2007              N  None   \n",
      "3          50720  Chevrolet       Tahoe      2014              Y  None   \n",
      "4           4550     Accura         RSX      2009              N  None   \n",
      "5          51280       Saab          95      2003              Y  None   \n",
      "6          50050     Nissan  Pathfinder      2012              N  None   \n",
      "7          32830       Audi          A5      2015              N  None   \n",
      "8          22160     Toyota       Camry      2012              N  None   \n",
      "9          32900       Saab         92x      1996              N  None   \n",
      "10         63280       Ford        F150      2002              N  None   \n",
      "11         79560       Audi          A3      2006              N  None   \n",
      "12         42390       Saab          95      2000              N  None   \n",
      "13          5040     Toyota  Highlander      2010              N  None   \n",
      "14         33600      Dodge        Neon      2003              Y  None   \n",
      "15         42080     Accura         MDX      1999              Y  None   \n",
      "16         40530     Nissan      Maxima      2012              N  None   \n",
      "17         56640     Suburu      Legacy      2015              N  None   \n",
      "18         53040     Accura          TL      2015              N  None   \n",
      "19         48320     Nissan  Pathfinder      2014              N  None   \n",
      "\n",
      "   insured_sex_with_insured_relationship  \n",
      "0                           MALE husband  \n",
      "1                    MALE other-relative  \n",
      "2                       FEMALE own-child  \n",
      "3                       FEMALE unmarried  \n",
      "4                         MALE unmarried  \n",
      "5                       FEMALE unmarried  \n",
      "6                           MALE husband  \n",
      "7                         MALE unmarried  \n",
      "8                       FEMALE own-child  \n",
      "9                              MALE wife  \n",
      "10                 FEMALE other-relative  \n",
      "11                 FEMALE other-relative  \n",
      "12                             MALE wife  \n",
      "13                           FEMALE wife  \n",
      "14                  FEMALE not-in-family  \n",
      "15                 FEMALE other-relative  \n",
      "16                        MALE own-child  \n",
      "17                        MALE unmarried  \n",
      "18                 FEMALE other-relative  \n",
      "19                      FEMALE own-child  \n",
      "\n",
      "[20 rows x 41 columns]\n"
     ]
    }
   ],
   "source": [
    "#insured_sex insured_relationship\n",
    "\n",
    "def concat(insured_sex, insured_relationship):\n",
    "    return insured_sex + \" \" + insured_relationship\n",
    "\n",
    "from pyspark.sql.functions import udf\n",
    "concat_udf = udf(concat)\n",
    "\n",
    "from pyspark.sql.types import StringType\n",
    "concat_udf = udf(concat, StringType())\n",
    "\n",
    "df = df.withColumn(\"insured_sex_with_insured_relationship\", concat_udf(df[\"insured_sex\"], df[\"insured_relationship\"]))\n",
    "\n",
    "#df.show(20, truncate=False)\n",
    "#on peut faire un regroupement selon insured_sex_with_insured_relationship = FEMALE own-child,  MALE unmarried, MALE husband, MALE wife\n",
    "\n",
    "\"\"\"\n",
    "# Paramètres pour un meilleur affichage\n",
    "df.show(\n",
    "    n=20,           # Nombre de lignes\n",
    "    truncate=False, # Ne pas tronquer les colonnes\n",
    "    vertical=False  # Affichage horizontal\n",
    ")\n",
    "\"\"\"\n",
    "\n",
    "# Convertir en DataFrame Pandas pour un affichage tableau propre\n",
    "df_sample = df.limit(20).toPandas()  # Limiter à 20 lignes\n",
    "print(df_sample)"
   ]
  },
  {
   "cell_type": "code",
   "execution_count": 23,
   "metadata": {
    "executionInfo": {
     "elapsed": 23921,
     "status": "aborted",
     "timestamp": 1758485272303,
     "user": {
      "displayName": "Abdoulaye Issa",
      "userId": "11578120158179831578"
     },
     "user_tz": 240
    },
    "id": "Dk6H6xszG-Z3"
   },
   "outputs": [
    {
     "name": "stdout",
     "output_type": "stream",
     "text": [
      "+---+-----------+----------+\n",
      "|age|insured_sex|row_number|\n",
      "+---+-----------+----------+\n",
      "| 21|       MALE|         1|\n",
      "| 21|       MALE|         2|\n",
      "| 21|       MALE|         3|\n",
      "| 22|       MALE|         4|\n",
      "| 23|       MALE|         5|\n",
      "| 23|       MALE|         6|\n",
      "| 23|       MALE|         7|\n",
      "| 24|       MALE|         8|\n",
      "| 25|       MALE|         9|\n",
      "| 25|       MALE|        10|\n",
      "| 25|       MALE|        11|\n",
      "| 26|       MALE|        12|\n",
      "| 26|       MALE|        13|\n",
      "| 26|       MALE|        14|\n",
      "| 26|       MALE|        15|\n",
      "| 26|       MALE|        16|\n",
      "| 26|       MALE|        17|\n",
      "| 26|       MALE|        18|\n",
      "| 26|       MALE|        19|\n",
      "| 26|       MALE|        20|\n",
      "+---+-----------+----------+\n",
      "only showing top 20 rows\n",
      "\n"
     ]
    }
   ],
   "source": [
    "#ceci je n ai pas encore mis\n",
    "from pyspark.sql.functions import col, row_number, lead, lag, count, avg\n",
    "from pyspark.sql.window import Window\n",
    "\n",
    "df_non_nul = df.filter(col('months_as_customer').isNotNull() & col('age').isNotNull() &\n",
    "               col('policy_state').isNotNull() & col('policy_annual_premium').isNotNull() &\n",
    "               col('insured_zip').isNotNull() & col('insured_sex').isNotNull() &\n",
    "               col('insured_education_level').isNotNull() & col('insured_occupation').isNotNull() &\n",
    "               col('insured_hobbies').isNotNull() & col('insured_relationship').isNotNull() &\n",
    "               col('incident_date').isNotNull() & col('incident_type').isNotNull() &\n",
    "               col('collision_type').isNotNull() & col('collision_type').isNotNull() &\n",
    "               col('incident_severity').isNotNull() & col('authorities_contacted').isNotNull() &\n",
    "               col('incident_state').isNotNull() & col('incident_city').isNotNull() &\n",
    "               col('incident_location').isNotNull() & col('incident_hour_of_the_day').isNotNull() &\n",
    "               col('number_of_vehicles_involved').isNotNull() & col('police_report_available').isNotNull() &\n",
    "               col('total_claim_amount').isNotNull() & col('injury_claim').isNotNull() &\n",
    "               col('property_claim').isNotNull() & col('vehicle_claim').isNotNull() &\n",
    "               col('auto_make').isNotNull() & col('auto_model').isNotNull() &\n",
    "               col('auto_year').isNotNull())\n",
    "\n",
    "\n",
    "window_spec = Window.partitionBy(\"insured_sex\").orderBy(\"age\")\n",
    "result = df_non_nul.withColumn(\"row_number\", row_number().over(window_spec))\n",
    "result.select(\n",
    "               \"age\"\n",
    "               ,\"insured_sex\"\n",
    "               ,\"row_number\"\n",
    "    ).show()\n"
   ]
  },
  {
   "cell_type": "code",
   "execution_count": 24,
   "metadata": {
    "executionInfo": {
     "elapsed": 23924,
     "status": "aborted",
     "timestamp": 1758485272307,
     "user": {
      "displayName": "Abdoulaye Issa",
      "userId": "11578120158179831578"
     },
     "user_tz": 240
    },
    "id": "T-9MaJgbK3Io"
   },
   "outputs": [
    {
     "name": "stdout",
     "output_type": "stream",
     "text": [
      "+------------------+---+-------------+----------------+------------+----------+-----------------+---------------------+--------------+-----------+-----------+-----------------------+------------------+---------------+--------------------+-------------+------------+-------------+--------------------+---------------+-----------------+---------------------+--------------+-------------+-------------------+------------------------+---------------------------+---------------+---------------+---------+-----------------------+------------------+------------+--------------+-------------+---------+----------+---------+--------------+----+-------------------------------------+----------+---------+\n",
      "|months_as_customer|age|policy_number|policy_bind_date|policy_state|policy_csl|policy_deductable|policy_annual_premium|umbrella_limit|insured_zip|insured_sex|insured_education_level|insured_occupation|insured_hobbies|insured_relationship|capital-gains|capital-loss|incident_date|       incident_type| collision_type|incident_severity|authorities_contacted|incident_state|incident_city|  incident_location|incident_hour_of_the_day|number_of_vehicles_involved|property_damage|bodily_injuries|witnesses|police_report_available|total_claim_amount|injury_claim|property_claim|vehicle_claim|auto_make|auto_model|auto_year|fraud_reported|_c39|insured_sex_with_insured_relationship|row_number|count_sex|\n",
      "+------------------+---+-------------+----------------+------------+----------+-----------------+---------------------+--------------+-----------+-----------+-----------------------+------------------+---------------+--------------------+-------------+------------+-------------+--------------------+---------------+-----------------+---------------------+--------------+-------------+-------------------+------------------------+---------------------------+---------------+---------------+---------+-----------------------+------------------+------------+--------------+-------------+---------+----------+---------+--------------+----+-------------------------------------+----------+---------+\n",
      "|                 7| 21|       204294|      1991-11-16|          IN|  500/1000|             1000|              1342.72|             0|     445638|       MALE|              Associate| machine-op-inspct|        camping|                wife|            0|      -45300|   2015-02-10|Single Vehicle Co...|Front Collision|       Total Loss|                Other|            NY|    Hillsdale|     2654 Elm Drive|                      21|                          1|              ?|              1|        2|                      ?|             62460|        6940|          6940|        48580|    Honda|    Accord|     2003|             N|null|                            MALE wife|         1|        3|\n",
      "|                 8| 21|       355085|      2012-10-09|          IN|  500/1000|              500|               1021.9|             0|     464237|       MALE|            High School| handlers-cleaners|         hiking|             husband|            0|           0|   2015-02-05|Single Vehicle Co...|Front Collision|     Major Damage|                Other|            WV|     Columbus|       6117 4th Ave|                      21|                          1|              ?|              0|        0|                      ?|             91260|       14040|         14040|        63180|   Toyota|   Corolla|     2012|             N|null|                         MALE husband|         2|        3|\n",
      "|                13| 21|       990998|      2006-10-18|          IN|   100/300|             1000|              1556.31|             0|     463809|       MALE|              Associate|    prof-specialty|           golf|       not-in-family|            0|      -75000|   2015-01-19|Multi-vehicle Col...| Side Collision|       Total Loss|               Police|            NY|    Hillsdale|       9580 MLK Ave|                      19|                          3|            YES|              2|        0|                    YES|             94930|        8630|          8630|        77670|   Accura|       RSX|     2014|             N|null|                   MALE not-in-family|         3|        3|\n",
      "|                39| 22|       691115|      1993-01-28|          IN|  500/1000|              500|              1173.21|             0|     431202|       MALE|                     JD|   farming-fishing|           polo|       not-in-family|            0|           0|   2015-02-14|Single Vehicle Co...| Rear Collision|     Major Damage|               Police|            SC|    Northbend|      4782 Sky Lane|                      14|                          1|            YES|              0|        1|                    YES|             86130|       15660|          7830|        62640|   Suburu|    Legacy|     2009|             Y|null|                   MALE not-in-family|         4|        4|\n",
      "|                60| 23|       842643|      1997-11-20|          OH|  500/1000|              500|              1215.36|       3000000|     432220|       MALE|                     MD|   protective-serv|        reading|                wife|            0|           0|   2015-01-22|Single Vehicle Co...| Rear Collision|       Total Loss|            Ambulance|            SC|    Northbend|     6655 5th Drive|                       9|                          1|            YES|              1|        0|                     NO|             56520|        4710|          9420|        42390|     Saab|        95|     2000|             N|null|                            MALE wife|         5|        7|\n",
      "|                61| 23|       432068|      2007-03-09|          IL|   100/300|              500|              1111.72|             0|     448857|       MALE|                     JD|   exec-managerial| bungie-jumping|      other-relative|        54600|           0|   2015-02-25|Single Vehicle Co...| Side Collision|     Major Damage|                 Fire|            PA|    Riverwood|  2774 Apache Drive|                       6|                          1|              ?|              1|        2|                      ?|             41850|        4650|          4650|        32550|   Suburu|    Legacy|     1997|             N|null|                  MALE other-relative|         6|        7|\n",
      "|                58| 23|       520179|      1992-05-29|          OH|  500/1000|             2000|              1471.44|       5000000|     446657|       MALE|            High School|  transport-moving|        reading|           own-child|        57500|           0|   2015-01-20|Single Vehicle Co...| Rear Collision|     Major Damage|                 Fire|            NC|    Riverwood|    6110 Rock Ridge|                       8|                          1|             NO|              2|        1|                     NO|             50380|        4580|          9160|        36640|Chevrolet|     Tahoe|     2007|             Y|null|                       MALE own-child|         7|        7|\n",
      "|                78| 24|       910622|      1992-03-22|          IN|   100/300|              500|              1175.51|             0|     474792|       MALE|                Masters|      craft-repair|       yachting|             husband|            0|           0|   2015-01-06|       Vehicle Theft|              ?|     Minor Damage|               Police|            NY|     Columbus|     3553 Texas Ave|                      20|                          1|              ?|              0|        1|                    YES|              7480|         680|           680|         6120|    Dodge|      Neon|     2003|             N|null|                         MALE husband|         8|        8|\n",
      "|                64| 25|       908616|      2000-02-18|          IL|   250/500|             1000|               954.16|             0|     473328|       MALE|                Masters|    prof-specialty|    video-games|             husband|        53200|           0|   2015-01-18|Multi-vehicle Col...| Side Collision|     Major Damage|            Ambulance|            SC|     Columbus|     4687 5th Drive|                      22|                          4|             NO|              0|        0|                      ?|             75600|       12600|         12600|        50400|   Toyota|   Corolla|     2005|             N|null|                         MALE husband|         9|       11|\n",
      "|                29| 25|       235220|      2014-11-01|          IL|   250/500|             2000|              1352.83|             0|     464959|       MALE|                Masters|   farming-fishing|      skydiving|           own-child|            0|      -71700|   2015-01-22|Multi-vehicle Col...| Rear Collision|     Minor Damage|                Other|            SC|    Hillsdale|       1679 2nd Hwy|                       4|                          4|            YES|              1|        2|                    YES|             64890|        7210|          7210|        50470|   Nissan|Pathfinder|     2013|             Y|null|                       MALE own-child|        10|       11|\n",
      "|                41| 25|       564654|      2003-07-16|          OH|   100/300|             1000|              1004.14|             0|     459889|       MALE|                Masters|   priv-house-serv|       sleeping|                wife|        35400|           0|   2015-02-15|Multi-vehicle Col...|Front Collision|     Major Damage|                 Fire|            NC|    Hillsdale|     4242 Rock Lane|                      13|                          3|             NO|              1|        3|                     NO|             48000|        9600|          4800|        33600|    Dodge|       RAM|     1995|             N|null|                            MALE wife|        11|       11|\n",
      "|                70| 26|       558938|      2005-06-08|          OH|  500/1000|             1000|              1199.44|       5000000|     619884|       MALE|                College| machine-op-inspct|         hiking|           own-child|        63600|           0|   2015-02-22|Multi-vehicle Col...| Rear Collision|     Major Damage|                Other|            NY|    Riverwood|        5074 3rd St|                       0|                          3|              ?|              1|        2|                    YES|             52110|        5790|          5790|        40530|   Nissan|    Maxima|     2012|             N|null|                       MALE own-child|        12|       28|\n",
      "|                79| 26|       206213|      1995-05-08|          IL|   100/300|              500|              1451.62|             0|     456446|       MALE|              Associate|      tech-support|       kayaking|       not-in-family|            0|      -55700|   2015-01-03|Single Vehicle Co...| Rear Collision|     Minor Damage|            Ambulance|            WV|     Columbus|   4862 Lincoln Hwy|                      19|                          1|             NO|              2|        2|                      ?|             40000|        8000|          4000|        28000|      BMW|        M5|     2010|             N|null|                   MALE not-in-family|        13|       28|\n",
      "|                22| 26|       420810|      2007-08-11|          OH|   100/300|             1000|              1276.57|             0|     467784|       MALE|                    PhD|      craft-repair|      skydiving|       not-in-family|        71500|           0|   2015-01-06|Single Vehicle Co...| Rear Collision|     Minor Damage|                 Fire|            NY|    Arlington|    6723 Best Drive|                       3|                          1|            YES|              1|        2|                     NO|             78900|       15780|          7890|        55230|Chevrolet| Silverado|     1995|             N|null|                   MALE not-in-family|        14|       28|\n",
      "|                86| 26|       391652|      1998-10-12|          OH|   100/300|              500|              1382.88|       7000000|     434923|       MALE|                     JD|      tech-support|      cross-fit|      other-relative|            0|      -30300|   2015-01-12|Single Vehicle Co...| Rear Collision|     Minor Damage|               Police|            SC|    Northbend|2293 Washington Ave|                      11|                          1|              ?|              1|        1|                    YES|             81840|       14880|          7440|        59520|Chevrolet|    Malibu|     2011|             Y|null|                  MALE other-relative|        15|       28|\n",
      "|                73| 26|       918777|      2003-04-04|          IL|   250/500|             2000|              1191.19|       4000000|     468813|       MALE|                     MD|   farming-fishing|     basketball|       not-in-family|        29300|           0|   2015-02-12|Multi-vehicle Col...| Rear Collision|       Total Loss|                Other|            VA|   Northbrook|     3653 Elm Drive|                       9|                          3|              ?|              0|        1|                    YES|             40160|        5020|             0|        35140|Chevrolet|     Tahoe|     2003|             N|null|                   MALE not-in-family|        16|       28|\n",
      "|               107| 26|       261119|      1997-03-21|          IL|  500/1000|             2000|               932.14|             0|     612550|       MALE|                     MD|             sales|      cross-fit|           own-child|        40600|           0|   2015-01-10|Multi-vehicle Col...| Rear Collision|       Total Loss|                 Fire|            SC|     Columbus|     1273 Rock Lane|                       2|                          3|             NO|              2|        3|                     NO|             78650|       14300|          7150|        57200|     Audi|        A3|     1996|             Y|null|                       MALE own-child|        17|       28|\n",
      "|                10| 26|       582973|      2008-06-11|          IN|   100/300|             2000|               765.64|             0|     466191|       MALE|                     MD|             sales|   base-jumping|       not-in-family|            0|      -22200|   2015-02-16|Multi-vehicle Col...|Front Collision|     Major Damage|            Ambulance|            SC|   Northbrook|    6985 Maple Lane|                       3|                          3|              ?|              0|        3|                      ?|             31350|        2850|          5700|        22800|    Honda|    Accord|     2001|             Y|null|                   MALE not-in-family|        18|       28|\n",
      "|                97| 26|       225865|      1991-11-04|          IL|   250/500|             1000|              1252.08|             0|     465456|       MALE|                College|   exec-managerial|       sleeping|       not-in-family|            0|           0|   2015-02-08|Multi-vehicle Col...| Rear Collision|     Major Damage|                Other|            VA|  Springfield|      6191 Oak Lane|                       4|                          2|            YES|              2|        2|                     NO|             50400|       10080|          5040|        35280|    Honda|       CRV|     2000|             Y|null|                   MALE not-in-family|        19|       28|\n",
      "|                66| 26|       445973|      1998-11-13|          IL|   250/500|             1000|               988.29|             0|     476502|       MALE|                College|      armed-forces|      skydiving|           own-child|            0|           0|   2015-02-02|Single Vehicle Co...| Rear Collision|     Major Damage|               Police|            NY|    Northbend|   8203 Lincoln Ave|                       8|                          1|              ?|              2|        2|                    YES|             57860|           0|         10520|        47340|   Suburu|   Impreza|     2008|             Y|null|                       MALE own-child|        20|       28|\n",
      "+------------------+---+-------------+----------------+------------+----------+-----------------+---------------------+--------------+-----------+-----------+-----------------------+------------------+---------------+--------------------+-------------+------------+-------------+--------------------+---------------+-----------------+---------------------+--------------+-------------+-------------------+------------------------+---------------------------+---------------+---------------+---------+-----------------------+------------------+------------+--------------+-------------+---------+----------+---------+--------------+----+-------------------------------------+----------+---------+\n",
      "only showing top 20 rows\n",
      "\n"
     ]
    }
   ],
   "source": [
    "#Nested Window Functions\n",
    "\n",
    "window_spec = Window.partitionBy(\"insured_sex\").orderBy(\"age\")\n",
    "#result = df_non_nul.withColumn(\"row_number\", row_number().over(window_spec))\n",
    "\n",
    "#result = df.withColumn(\"row_number\", row_number().over(window_spec))\n",
    "#result.select(\"title\",\"country\",\"date_added\",\"row_number\").show()\n",
    "\n",
    "df_count_sex = result.withColumn(\"count_sex\", count(\"insured_sex\").over(window_spec))\n",
    "\n",
    "#window_spec = Window.partitionBy(\"country\").orderBy(\"release_year\")\n",
    "#df = df.withColumn(\"running_total\", count(\"show_id\").over(window_spec))\n",
    "df_count_sex.show()\n",
    "\n",
    "#df = df.withColumn(\"next_running_total\", lead(\"running_total\").over(window_spec))\n",
    "#df = df.withColumn(\"diff\", df[\"next_running_total\"] - df[\"running_total\"])\n",
    "\n",
    "\n"
   ]
  },
  {
   "cell_type": "code",
   "execution_count": 25,
   "metadata": {
    "executionInfo": {
     "elapsed": 23926,
     "status": "aborted",
     "timestamp": 1758485272309,
     "user": {
      "displayName": "Abdoulaye Issa",
      "userId": "11578120158179831578"
     },
     "user_tz": 240
    },
    "id": "3l7gL_khO7ot"
   },
   "outputs": [
    {
     "name": "stdout",
     "output_type": "stream",
     "text": [
      "+---+-----+\n",
      "|age|count|\n",
      "+---+-----+\n",
      "| 44|   32|\n",
      "| 43|   49|\n",
      "| 56|    8|\n",
      "| 48|   25|\n",
      "| 62|    4|\n",
      "| 55|   14|\n",
      "| 35|   32|\n",
      "| 64|    2|\n",
      "| 52|    4|\n",
      "| 21|    6|\n",
      "| 61|   10|\n",
      "| 31|   42|\n",
      "| 27|   24|\n",
      "| 36|   32|\n",
      "| 60|    9|\n",
      "| 20|    1|\n",
      "| 33|   39|\n",
      "| 38|   42|\n",
      "| 40|   38|\n",
      "| 30|   42|\n",
      "+---+-----+\n",
      "only showing top 20 rows\n",
      "\n"
     ]
    }
   ],
   "source": [
    "grouped_df_age = df.groupBy(\"age\")\n",
    "\n",
    "# Count the number of rows in each group\n",
    "count_df_age = grouped_df_age.count()\n",
    "count_df_age.show()"
   ]
  },
  {
   "cell_type": "code",
   "execution_count": 26,
   "metadata": {
    "executionInfo": {
     "elapsed": 23928,
     "status": "aborted",
     "timestamp": 1758485272311,
     "user": {
      "displayName": "Abdoulaye Issa",
      "userId": "11578120158179831578"
     },
     "user_tz": 240
    },
    "id": "TQvFS6vmPHrl"
   },
   "outputs": [
    {
     "name": "stdout",
     "output_type": "stream",
     "text": [
      "+---+-----+\n",
      "|age|count|\n",
      "+---+-----+\n",
      "| 44|   32|\n",
      "| 43|   49|\n",
      "| 56|    8|\n",
      "| 48|   25|\n",
      "| 62|    4|\n",
      "| 55|   14|\n",
      "| 35|   32|\n",
      "| 64|    2|\n",
      "| 52|    4|\n",
      "| 21|    6|\n",
      "| 61|   10|\n",
      "| 31|   42|\n",
      "| 27|   24|\n",
      "| 36|   32|\n",
      "| 60|    9|\n",
      "| 20|    1|\n",
      "| 33|   39|\n",
      "| 38|   42|\n",
      "| 40|   38|\n",
      "| 30|   42|\n",
      "+---+-----+\n",
      "only showing top 20 rows\n",
      "\n",
      "+---+-----------------------------------------+\n",
      "|age|max(policy_annual_premium AS max_premium)|\n",
      "+---+-----------------------------------------+\n",
      "| 43|                                   984.02|\n",
      "| 44|                                   974.16|\n",
      "| 56|                                  1935.85|\n",
      "| 21|                                   915.41|\n",
      "| 35|                                   919.37|\n",
      "| 48|                                    958.3|\n",
      "| 52|                                    973.5|\n",
      "| 55|                                   995.56|\n",
      "| 62|                                  1395.77|\n",
      "| 64|                                   989.24|\n",
      "| 20|                                  1189.98|\n",
      "| 27|                                    982.7|\n",
      "| 31|                                   951.27|\n",
      "| 36|                                   987.42|\n",
      "| 60|                                   766.19|\n",
      "| 61|                                  1618.65|\n",
      "| 24|                                   922.67|\n",
      "| 30|                                   956.69|\n",
      "| 33|                                   969.88|\n",
      "| 38|                                   999.52|\n",
      "+---+-----------------------------------------+\n",
      "only showing top 20 rows\n",
      "\n"
     ]
    },
    {
     "data": {
      "text/plain": [
       "'\\n# Correct - agg() retourne un DataFrame\\nmax_policy_df = grouped_df.agg(max(col(\"policy_annual_premium\")).alias(\"max_premium\"))\\nmax_policy_df.show()\\n\\n# Si vous voulez juste la valeur maximale\\nmax_value = max_policy_df.collect()[0][\"max_premium\"]\\nprint(f\"Maximum: {max_value}\")\\n\\n\\n\\n\\ngrouped_df = df.groupBy(\"country\")\\ncount_df = grouped_df.count()\\ncount_df.show()\\n\\n# Apply custom aggregation using max\\nmax_release_df = grouped_df.agg(max(col(\"date_added\")))\\nmax_release_df.show()\\n'"
      ]
     },
     "execution_count": 26,
     "metadata": {},
     "output_type": "execute_result"
    }
   ],
   "source": [
    "from pyspark.sql.functions import max, col\n",
    "'''\n",
    "# Apply custom aggregation using max\n",
    "max_age_df = count_df_age.agg(max(col(\"count\")))\n",
    "max_age_df.show()\n",
    "'''\n",
    "\n",
    "grouped_df = df.groupBy(\"age\")\n",
    "count_df = grouped_df.count()\n",
    "count_df.show()\n",
    "max_policy_annual_premium = grouped_df.agg(max(col(\"policy_annual_premium\").alias(\"max_premium\")))\n",
    "max_policy_annual_premium.show()\n",
    "\n",
    "\n",
    "\n",
    "'''\n",
    "# Correct - agg() retourne un DataFrame\n",
    "max_policy_df = grouped_df.agg(max(col(\"policy_annual_premium\")).alias(\"max_premium\"))\n",
    "max_policy_df.show()\n",
    "\n",
    "# Si vous voulez juste la valeur maximale\n",
    "max_value = max_policy_df.collect()[0][\"max_premium\"]\n",
    "print(f\"Maximum: {max_value}\")\n",
    "\n",
    "\n",
    "\n",
    "\n",
    "grouped_df = df.groupBy(\"country\")\n",
    "count_df = grouped_df.count()\n",
    "count_df.show()\n",
    "\n",
    "# Apply custom aggregation using max\n",
    "max_release_df = grouped_df.agg(max(col(\"date_added\")))\n",
    "max_release_df.show()\n",
    "'''"
   ]
  },
  {
   "cell_type": "code",
   "execution_count": 27,
   "metadata": {
    "executionInfo": {
     "elapsed": 23930,
     "status": "aborted",
     "timestamp": 1758485272313,
     "user": {
      "displayName": "Abdoulaye Issa",
      "userId": "11578120158179831578"
     },
     "user_tz": 240
    },
    "id": "_9mRWWKeSSg4"
   },
   "outputs": [
    {
     "data": {
      "text/plain": [
       "'\\npolicy_state_df = (\\n    df.groupBy(\"policy_state\")\\n    .agg(\\n        count(\"policy_state\").alias(\"NumberOfstate\")\\n        ,max(\"policy_annual_premium \").alias(\"max_policy_annual_premium\")\\n        ,min(\\'age\\').alias(\"minAge\")\\n        ,max(\\'age\\').alias(\"maxAge\")\\n        ))\\n\\npolicy_state_df.show(4)\\n\\n'"
      ]
     },
     "execution_count": 27,
     "metadata": {},
     "output_type": "execute_result"
    }
   ],
   "source": [
    "\n",
    "'''\n",
    "policy_state_df = (\n",
    "    df.groupBy(\"policy_state\")\n",
    "    .agg(\n",
    "        count(\"policy_state\").alias(\"NumberOfstate\")\n",
    "        ,max(\"policy_annual_premium \").alias(\"max_policy_annual_premium\")\n",
    "        ,min('age').alias(\"minAge\")\n",
    "        ,max('age').alias(\"maxAge\")\n",
    "        ))\n",
    "\n",
    "policy_state_df.show(4)\n",
    "\n",
    "'''"
   ]
  },
  {
   "cell_type": "code",
   "execution_count": 28,
   "metadata": {
    "executionInfo": {
     "elapsed": 23931,
     "status": "aborted",
     "timestamp": 1758485272315,
     "user": {
      "displayName": "Abdoulaye Issa",
      "userId": "11578120158179831578"
     },
     "user_tz": 240
    },
    "id": "LHMolALibPbG"
   },
   "outputs": [
    {
     "name": "stdout",
     "output_type": "stream",
     "text": [
      "Requirement already satisfied: delta-spark==2.4.0 in /usr/local/lib/python3.10/dist-packages (2.4.0)\n",
      "Requirement already satisfied: pyspark<3.5.0,>=3.4.0 in /usr/local/lib/python3.10/dist-packages (from delta-spark==2.4.0) (3.4.1)\n",
      "Requirement already satisfied: importlib-metadata>=1.0.0 in /usr/local/lib/python3.10/dist-packages (from delta-spark==2.4.0) (8.7.0)\n",
      "Requirement already satisfied: zipp>=3.20 in /usr/local/lib/python3.10/dist-packages (from importlib-metadata>=1.0.0->delta-spark==2.4.0) (3.23.0)\n",
      "Requirement already satisfied: py4j==0.10.9.7 in /usr/local/lib/python3.10/dist-packages (from pyspark<3.5.0,>=3.4.0->delta-spark==2.4.0) (0.10.9.7)\n",
      "\u001b[33mWARNING: Running pip as the 'root' user can result in broken permissions and conflicting behaviour with the system package manager. It is recommended to use a virtual environment instead: https://pip.pypa.io/warnings/venv\u001b[0m\u001b[33m\n",
      "\u001b[0mRequirement already satisfied: pyspark==3.4.1 in /usr/local/lib/python3.10/dist-packages (3.4.1)\n",
      "Requirement already satisfied: py4j==0.10.9.7 in /usr/local/lib/python3.10/dist-packages (from pyspark==3.4.1) (0.10.9.7)\n",
      "\u001b[33mWARNING: Running pip as the 'root' user can result in broken permissions and conflicting behaviour with the system package manager. It is recommended to use a virtual environment instead: https://pip.pypa.io/warnings/venv\u001b[0m\u001b[33m\n",
      "\u001b[0m"
     ]
    },
    {
     "name": "stderr",
     "output_type": "stream",
     "text": [
      "                                                                                \r"
     ]
    },
    {
     "name": "stdout",
     "output_type": "stream",
     "text": [
      "+------------------+---+-------------+----------------+------------+----------+-----------------+---------------------+--------------+-----------+-----------+-----------------------+------------------+---------------+--------------------+-------------+------------+-------------+--------------------+--------------+-----------------+---------------------+--------------+-------------+-----------------+------------------------+---------------------------+---------------+---------------+---------+-----------------------+------------------+------------+--------------+-------------+---------+----------+---------+--------------+----+-------------------------------------+\n",
      "|months_as_customer|age|policy_number|policy_bind_date|policy_state|policy_csl|policy_deductable|policy_annual_premium|umbrella_limit|insured_zip|insured_sex|insured_education_level|insured_occupation|insured_hobbies|insured_relationship|capital-gains|capital-loss|incident_date|       incident_type|collision_type|incident_severity|authorities_contacted|incident_state|incident_city|incident_location|incident_hour_of_the_day|number_of_vehicles_involved|property_damage|bodily_injuries|witnesses|police_report_available|total_claim_amount|injury_claim|property_claim|vehicle_claim|auto_make|auto_model|auto_year|fraud_reported|_c39|insured_sex_with_insured_relationship|\n",
      "+------------------+---+-------------+----------------+------------+----------+-----------------+---------------------+--------------+-----------+-----------+-----------------------+------------------+---------------+--------------------+-------------+------------+-------------+--------------------+--------------+-----------------+---------------------+--------------+-------------+-----------------+------------------------+---------------------------+---------------+---------------+---------+-----------------------+------------------+------------+--------------+-------------+---------+----------+---------+--------------+----+-------------------------------------+\n",
      "|               328| 48|       521585|      2014-10-17|          OH|   250/500|             1000|              1406.91|             0|     466132|       MALE|                     MD|      craft-repair|       sleeping|             husband|        53300|           0|   2015-01-25|Single Vehicle Co...|Side Collision|     Major Damage|               Police|            SC|     Columbus|   9935 4th Drive|                       5|                          1|            YES|              1|        2|                    YES|             71610|        6510|         13020|        52080|     Saab|       92x|     2004|             Y|null|                         MALE husband|\n",
      "|               228| 42|       342868|      2006-06-27|          IN|   250/500|             2000|              1197.22|       5000000|     468176|       MALE|                     MD| machine-op-inspct|        reading|      other-relative|            0|           0|   2015-01-21|       Vehicle Theft|             ?|     Minor Damage|               Police|            VA|    Riverwood|     6608 MLK Hwy|                       8|                          1|              ?|              0|        0|                      ?|              5070|         780|           780|         3510| Mercedes|      E400|     2007|             Y|null|                  MALE other-relative|\n",
      "|               134| 29|       687698|      2000-09-06|          OH|   100/300|             2000|              1413.14|       5000000|     430632|     FEMALE|                    PhD|             sales|    board-games|           own-child|        35100|           0|   2015-02-22|Multi-vehicle Col...|Rear Collision|     Minor Damage|               Police|            NY|     Columbus|7121 Francis Lane|                       7|                          3|             NO|              2|        3|                     NO|             34650|        7700|          3850|        23100|    Dodge|       RAM|     2007|             N|null|                     FEMALE own-child|\n",
      "+------------------+---+-------------+----------------+------------+----------+-----------------+---------------------+--------------+-----------+-----------+-----------------------+------------------+---------------+--------------------+-------------+------------+-------------+--------------------+--------------+-----------------+---------------------+--------------+-------------+-----------------+------------------------+---------------------------+---------------+---------------+---------+-----------------------+------------------+------------+--------------+-------------+---------+----------+---------+--------------+----+-------------------------------------+\n",
      "\n",
      "+------------------+---+-------------+----------------+------------+----------+-----------------+---------------------+--------------+-----------+-----------+-----------------------+------------------+---------------+--------------------+-------------+------------+-------------+--------------------+---------------+-----------------+---------------------+--------------+-------------+-----------------+------------------------+---------------------------+---------------+---------------+---------+-----------------------+------------------+------------+--------------+-------------+---------+----------+---------+--------------+----+-------------------------------------+\n",
      "|months_as_customer|age|policy_number|policy_bind_date|policy_state|policy_csl|policy_deductable|policy_annual_premium|umbrella_limit|insured_zip|insured_sex|insured_education_level|insured_occupation|insured_hobbies|insured_relationship|capital-gains|capital-loss|incident_date|       incident_type| collision_type|incident_severity|authorities_contacted|incident_state|incident_city|incident_location|incident_hour_of_the_day|number_of_vehicles_involved|property_damage|bodily_injuries|witnesses|police_report_available|total_claim_amount|injury_claim|property_claim|vehicle_claim|auto_make|auto_model|auto_year|fraud_reported|_c39|insured_sex_with_insured_relationship|\n",
      "+------------------+---+-------------+----------------+------------+----------+-----------------+---------------------+--------------+-----------+-----------+-----------------------+------------------+---------------+--------------------+-------------+------------+-------------+--------------------+---------------+-----------------+---------------------+--------------+-------------+-----------------+------------------------+---------------------------+---------------+---------------+---------+-----------------------+------------------+------------+--------------+-------------+---------+----------+---------+--------------+----+-------------------------------------+\n",
      "|               328| 48|       521585|      2014-10-17|          OH|   250/500|             1000|              1406.91|             0|     466132|       MALE|                     MD|      craft-repair|       sleeping|             husband|        53300|           0|   2015-01-25|Single Vehicle Co...| Side Collision|     Major Damage|               Police|            SC|     Columbus|   9935 4th Drive|                       5|                          1|            YES|              1|        2|                    YES|             71610|        6510|         13020|        52080|     Saab|       92x|     2004|             Y|null|                         MALE husband|\n",
      "|               228| 42|       342868|      2006-06-27|          IN|   250/500|             2000|              1197.22|       5000000|     468176|       MALE|                     MD| machine-op-inspct|        reading|      other-relative|            0|           0|   2015-01-21|       Vehicle Theft|              ?|     Minor Damage|               Police|            VA|    Riverwood|     6608 MLK Hwy|                       8|                          1|              ?|              0|        0|                      ?|              5070|         780|           780|         3510| Mercedes|      E400|     2007|             Y|null|                  MALE other-relative|\n",
      "|               134| 29|       687698|      2000-09-06|          OH|   100/300|             2000|              1413.14|       5000000|     430632|     FEMALE|                    PhD|             sales|    board-games|           own-child|        35100|           0|   2015-02-22|Multi-vehicle Col...| Rear Collision|     Minor Damage|               Police|            NY|     Columbus|7121 Francis Lane|                       7|                          3|             NO|              2|        3|                     NO|             34650|        7700|          3850|        23100|    Dodge|       RAM|     2007|             N|null|                     FEMALE own-child|\n",
      "|               256| 41|       227811|      1990-05-25|          IL|   250/500|             2000|              1415.74|       6000000|     608117|     FEMALE|                    PhD|      armed-forces|    board-games|           unmarried|        48900|      -62400|   2015-01-10|Single Vehicle Co...|Front Collision|     Major Damage|               Police|            OH|    Arlington| 6956 Maple Drive|                       5|                          1|              ?|              1|        2|                     NO|             63400|        6340|          6340|        50720|Chevrolet|     Tahoe|     2014|             Y|null|                     FEMALE unmarried|\n",
      "|               228| 44|       367455|      2014-06-06|          IL|  500/1000|             1000|              1583.91|       6000000|     610706|       MALE|              Associate|             sales|    board-games|           unmarried|        66000|      -46000|   2015-02-17|       Vehicle Theft|              ?|     Minor Damage|                 None|            NY|    Arlington|     3041 3rd Ave|                      20|                          1|             NO|              0|        1|                     NO|              6500|        1300|           650|         4550|   Accura|       RSX|     2009|             N|null|                       MALE unmarried|\n",
      "+------------------+---+-------------+----------------+------------+----------+-----------------+---------------------+--------------+-----------+-----------+-----------------------+------------------+---------------+--------------------+-------------+------------+-------------+--------------------+---------------+-----------------+---------------------+--------------+-------------+-----------------+------------------------+---------------------------+---------------+---------------+---------+-----------------------+------------------+------------+--------------+-------------+---------+----------+---------+--------------+----+-------------------------------------+\n",
      "only showing top 5 rows\n",
      "\n"
     ]
    },
    {
     "data": {
      "text/plain": [
       "'\\n    # Sauvegarder en Parquet (très stable)\\ndf.write.format(\"parquet\").mode(\"overwrite\").saveAsTable(\"default.insurance_claims\")\\n    \\nprint(\"✅ Table Parquet créée avec succès!\")\\n    \\n    # 4. LIRE ET AFFICHER LES RÉSULTATS\\nresults = spark.sql(\"SELECT * FROM default.insurance_claims LIMIT 3\")\\n    \\nprint(\"=== RÉSULTATS (Format lisible avec Pandas) ===\")\\npandas_results = results.toPandas()\\nresults.show()\\nprint(pandas_results)\\n'"
      ]
     },
     "execution_count": 28,
     "metadata": {},
     "output_type": "execute_result"
    }
   ],
   "source": [
    "!pip install delta-spark==2.4.0\n",
    "#!pip install pyspark==3.3.1\n",
    "!pip install pyspark==3.4.1\n",
    "\n",
    " \n",
    "from delta import configure_spark_with_delta_pip, DeltaTable\n",
    "from pyspark.sql import SparkSession\n",
    "\n",
    "\n",
    "#df.write.format(\"delta\").mode(\"overwrite\").saveAsTable(\"default.insurance_claims\")\n",
    "#SELECT * FROM default.insurance_claims LIMIT 3;\n",
    "#df = spark.read.format(\"delta\").load(\"C:\\\\Users\\owner\\\\Desktop\\\\cours\\\\Formation\\\\Projet github\\\\Spark\\\\archive (5)\\\\insurance_claims.csv\")\n",
    "spark.sql(\"DROP TABLE IF EXISTS default.insurance_claims\")\n",
    "spark.sql(\"DROP TABLE IF EXISTS default.insurance_claimsV2\")\n",
    "spark.sql(\"DROP TABLE IF EXISTS default.insurance_claimsV3\")\n",
    "\n",
    "#The write operation in PySpark does not return a DataFrame—it returns None\n",
    "#df = df.write.format(\"delta\").mode(\"overwrite\").saveAsTable(\"default.insurance_claimsV3\")\n",
    "\n",
    "\n",
    "# Perform the write operation (do not overwrite the df by doing df = df...)\n",
    "df.write.format(\"delta\").mode(\"overwrite\").saveAsTable(\"default.insurance_claimsV3\")\n",
    "results = spark.sql(\" SELECT * FROM default.insurance_claimsV3 LIMIT 3\")\n",
    "\n",
    "#ceci fonctionne \n",
    "'''\n",
    "df.write.format(\"delta\").mode(\"overwrite\").save(\"insurance_claims/spark-warehouse/insurance_claims/\")\n",
    "#insurance_claims/assurance_claims.ipynb\n",
    "#insurance_claims/spark-warehouse/insurance_claims/\n",
    "\n",
    "# Register the Delta table manually\n",
    "results = spark.sql(\"CREATE TABLE IF NOT EXISTS default.insurance_claims USING DELTA LOCATION 'insurance_claims/spark-warehouse/insurance_claims/'\")\n",
    "'''\n",
    "\n",
    "results.show()\n",
    "\n",
    "df.show(5)\n",
    "'''\n",
    "    # Sauvegarder en Parquet (très stable)\n",
    "df.write.format(\"parquet\").mode(\"overwrite\").saveAsTable(\"default.insurance_claims\")\n",
    "    \n",
    "print(\"✅ Table Parquet créée avec succès!\")\n",
    "    \n",
    "    # 4. LIRE ET AFFICHER LES RÉSULTATS\n",
    "results = spark.sql(\"SELECT * FROM default.insurance_claims LIMIT 3\")\n",
    "    \n",
    "print(\"=== RÉSULTATS (Format lisible avec Pandas) ===\")\n",
    "pandas_results = results.toPandas()\n",
    "results.show()\n",
    "print(pandas_results)\n",
    "'''"
   ]
  },
  {
   "cell_type": "code",
   "execution_count": 29,
   "metadata": {},
   "outputs": [],
   "source": [
    "schema1 = StructType([\n",
    "    StructField(\"months_as_customer\", StringType(), True),\n",
    "    #StructField(\"age\", StringType(), True),\n",
    "    StructField(\"age\", IntegerType(), True),\n",
    "    #StructField(\"policy_number\", StringType(), True),\n",
    "    StructField(\"policy_number\", IntegerType(), True),\n",
    "    #StructField(\"policy_bind_date\", StringType(), True),\n",
    "    StructField(\"policy_bind_date\", DateType(), True),\n",
    "    StructField(\"policy_state\", StringType(), True),\n",
    "    StructField(\"policy_csl\", StringType(), True),\n",
    "    #StructField(\"policy_deductable\", DateType(), True),\n",
    "    StructField(\"policy_deductable\", StringType(), True),\n",
    "    StructField(\"policy_annual_premium\", StringType(), True),\n",
    "    #StructField(\"umbrella_limit\", StringType(), True),\n",
    "    StructField(\"umbrella_limit\", IntegerType(), True),\n",
    "    #StructField(\"insured_zip\", StringType(), True),\n",
    "    StructField(\"insured_zip\", IntegerType(), True),\n",
    "    StructField(\"insured_sex\", StringType(), True),\n",
    "    StructField(\"insured_education_level\", StringType(), True),\n",
    "    StructField(\"insured_occupation\", StringType(), True),\n",
    "    StructField(\"insured_hobbies\", StringType(), True),\n",
    "    StructField(\"insured_relationship\", StringType(), True),\n",
    "    #StructField(\"capital-gains\", StringType(), True),\n",
    "    StructField(\"capital-gains\", IntegerType(), True),\n",
    "    #StructField(\"capital-loss\", DateType(), True),\n",
    "    StructField(\"capital-loss\", StringType(), True),\n",
    "    #StructField(\"incident_date\", IntegerType(), True),\n",
    "    #StructField(\"incident_date\", StringType(), True),\n",
    "    StructField(\"incident_date\", DateType(), True),\n",
    "    StructField(\"incident_type\", StringType(), True),\n",
    "    StructField(\"collision_type\", StringType(), True),\n",
    "    StructField(\"incident_severity\", StringType(), True),\n",
    "    StructField(\"authorities_contacted\", StringType(), True),\n",
    "    #StructField(\"incident_state\", DateType(), True),\n",
    "    StructField(\"incident_state\", StringType(), True),\n",
    "    #StructField(\"incident_city\", IntegerType(), True),\n",
    "    StructField(\"incident_city\", StringType(), True),\n",
    "    StructField(\"incident_location\", StringType(), True),\n",
    "    #StructField(\"incident_hour_of_the_day\", StringType(), True),\n",
    "    StructField(\"incident_hour_of_the_day\", IntegerType(), True),\n",
    "    #StructField(\"number_of_vehicles_involved\", StringType(), True),\n",
    "    StructField(\"number_of_vehicles_involved\", IntegerType(), True),\n",
    "    #StructField(\"property_damage\", StringType(), True),\n",
    "    StructField(\"property_damage\", IntegerType(), True),\n",
    "    #StructField(\"bodily_injuries\", StringType(), True),\n",
    "    StructField(\"bodily_injuries\", IntegerType(), True),\n",
    "    #StructField(\"witnesses\", DateType(), True),\n",
    "    #StructField(\"witnesses\", StringType(), True),\n",
    "    StructField(\"witnesses\", IntegerType(), True),\n",
    "    #StructField(\"police_report_available\", IntegerType(), True),\n",
    "    StructField(\"police_report_available\", StringType(), True),\n",
    "    StructField(\"total_claim_amount\", StringType(), True),\n",
    "    StructField(\"injury_claim\", IntegerType(), True),\n",
    "    #StructField(\"injury_claim\", StringType(), True),\n",
    "    StructField(\"property_claim\", IntegerType(), True),\n",
    "    #StructField(\"property_claim\", StringType(), True),\n",
    "    #StructField(\"vehicle_claim\", StringType(), True),\n",
    "    StructField(\"vehicle_claim\", IntegerType(), True),\n",
    "    StructField(\"auto_make\", StringType(), True),\n",
    "    StructField(\"auto_model\", StringType(), True),\n",
    "    #StructField(\"auto_year\", StringType(), True),\n",
    "    StructField(\"auto_year\", IntegerType(), True),\n",
    "    StructField(\"fraud_reported\", StringType(), True),\n",
    "    StructField(\"_c39\", StringType(), True)  \n",
    "    ])\n",
    " \n",
    "#df_with_correct_types = df.withColumn(\"age\", df[\"age\"].cast(\"int\"))\n",
    "#df_with_correct_types.write.parquet(\"/opt/workspace/insurance_claims/spark-warehouse/insurance_claimsv3/part-00000-7d50c1e2-7304-4db8-96ba-a8428a6fbc8e-c000_int.snappy.parquet\")\n",
    "\n",
    "\n",
    "#df = df.withColumn(\"age\", col(\"age\").cast(\"int\"))\n",
    "#df.show(5)\n",
    "\n",
    "# 2. Lire les données Parquet avec le schéma explicite\n",
    "#df = spark.read.schema(schema1).parquet(\"/opt/workspace/insurance_claims/spark-warehouse/insurance_claimsv3/part-00000-7d50c1e2-7304-4db8-96ba-a8428a6fbc8e-c000.snappy.parquet\")\n",
    "\n",
    "#df.show(5)\n",
    "#/opt/workspace/data/delta_lake/netflix_titles"
   ]
  },
  {
   "cell_type": "code",
   "execution_count": 30,
   "metadata": {},
   "outputs": [],
   "source": [
    "get_ipython().run_line_magic('load_ext', 'sparksql_magic')\n",
    "get_ipython().run_line_magic('config', 'SparkSql.limit=20')"
   ]
  },
  {
   "cell_type": "code",
   "execution_count": 31,
   "metadata": {},
   "outputs": [
    {
     "data": {
      "text/html": [
       "<table><tr style=\"border-bottom: 1px solid\"></tr></table>"
      ],
      "text/plain": [
       "<IPython.core.display.HTML object>"
      ]
     },
     "execution_count": 31,
     "metadata": {},
     "output_type": "execute_result"
    }
   ],
   "source": [
    "%%sparksql\n",
    "CREATE OR REPLACE TABLE default.insurance_claims_delta (\n",
    " \n",
    "\n",
    "    months_as_customer STRING,\n",
    "    age STRING,\n",
    "    policy_number STRING,\n",
    "    policy_bind_date STRING, \n",
    "    policy_state STRING, \n",
    "    policy_csl STRING,\n",
    "    policy_deductable STRING, \n",
    "    policy_annual_premium STRING, \n",
    "    umbrella_limit STRING,  \n",
    "    insured_zip STRING, \n",
    "    insured_sex STRING, \n",
    "    insured_education_level STRING, \n",
    "    insured_occupation STRING, \n",
    "    insured_hobbies STRING, \n",
    "    insured_relationship STRING,  \n",
    "    capital_gains STRING, \n",
    "    capital_loss STRING, \n",
    "    incident_date STRING,\n",
    "    incident_type STRING, \n",
    "    collision_type STRING,\n",
    "    incident_severity STRING,\n",
    "    authorities_contacted STRING,\n",
    "    incident_state STRING,\n",
    "    incident_city STRING,\n",
    "    incident_location STRING,\n",
    "    incident_hour_of_the_day STRING,\n",
    "    number_of_vehicles_involved STRING,\n",
    "    property_damage STRING,\n",
    "    bodily_injuries STRING,\n",
    "    witnesses STRING,\n",
    "    police_report_available STRING,\n",
    "    total_claim_amount STRING,\n",
    "    injury_claim STRING,\n",
    "    property_claim STRING,\n",
    "    vehicle_claim STRING,\n",
    "    auto_make STRING,\n",
    "    auto_model STRING,\n",
    "    auto_year STRING,\n",
    "    fraud_reported STRING,\n",
    "    _c39 STRING \n",
    "\n",
    "    \n",
    ") USING DELTA LOCATION 'insurance_claims/spark-warehouse/insurance_claimsv3';\n",
    "\n",
    "\n"
   ]
  },
  {
   "cell_type": "code",
   "execution_count": 32,
   "metadata": {},
   "outputs": [
    {
     "data": {
      "text/plain": [
       "'\\n    show_id STRING,\\n    type STRING,\\n    title STRING,\\n    director STRING,\\n    cast STRING,\\n    country STRING,\\n    date_added STRING,\\n    release_year STRING,\\n    rating STRING,\\n    duration STRING,\\n    listed_in STRING,\\n    description STRING à\\n\\n        months_as_customer STRING,\\n    age STRING,\\n    age IntegerType,\\n    policy_number STRING,\\n    policy_number STRING, \\n    policy_bind_date STRING, \\n    policy_bind_date STRING,\\n    policy_state STRING, \\n    policy_csl STRING,\\n    policy_deductable DateType,\\n    policy_deductable STRING, \\n    policy_annual_premium STRING, \\n    umbrella_limit STRING,\\n    umbrella_limit STRING, \\n    insured_zip STRING, \\n    insured_zip STRING, \\n    insured_sex STRING, \\n    insured_education_level STRING, \\n    insured_occupation STRING, \\n    insured_hobbies STRING, \\n    insured_relationship STRING, \\n    capital-gains STRING, \\n    capital-gains STRING, \\n    capital-loss STRING,\\n    capital-loss STRING, \\n    incident_date IntegerType,\\n    incident_date STRING,\\n    incident_date DateType,\\n    incident_type STRING, \\n    collision_type STRING,\\n    incident_severity STRING,\\n    authorities_contacted STRING,\\n    incident_state DateType,\\n    incident_state STRING,\\n    incident_city IntegerType,\\n    incident_city STRING,\\n    incident_location STRING,\\n    incident_hour_of_the_day STRING,\\n    incident_hour_of_the_day IntegerType,\\n    number_of_vehicles_involved STRING,\\n    number_of_vehicles_involved IntegerType,\\n    property_damage STRING,\\n    property_damage IntegerType,\\n    bodily_injuries STRING,\\n    bodily_injuries IntegerType,\\n    witnesses DateType,\\n    witnesses StringType,\\n    witnesses IntegerType,\\n    police_report_available IntegerType,\\n    police_report_available STRING,\\n    total_claim_amount STRING,\\n    injury_claim IntegerType,\\n    injury_claim STRING,\\n    property_claim  IntegerType,\\n    property_claim STRING,\\n    vehicle_claim STRING,\\n    vehicle_claim IntegerType,\\n    auto_make STRING,\\n    auto_model STRING,\\n    auto_year STRING,\\n    auto_year IntegerType,\\n    fraud_reported STRING,\\n    _c39 STRING \\n'"
      ]
     },
     "execution_count": 32,
     "metadata": {},
     "output_type": "execute_result"
    }
   ],
   "source": [
    "'''\n",
    "    show_id STRING,\n",
    "    type STRING,\n",
    "    title STRING,\n",
    "    director STRING,\n",
    "    cast STRING,\n",
    "    country STRING,\n",
    "    date_added STRING,\n",
    "    release_year STRING,\n",
    "    rating STRING,\n",
    "    duration STRING,\n",
    "    listed_in STRING,\n",
    "    description STRING à\n",
    "\n",
    "        months_as_customer STRING,\n",
    "    age STRING,\n",
    "    age IntegerType,\n",
    "    policy_number STRING,\n",
    "    policy_number STRING, \n",
    "    policy_bind_date STRING, \n",
    "    policy_bind_date STRING,\n",
    "    policy_state STRING, \n",
    "    policy_csl STRING,\n",
    "    policy_deductable DateType,\n",
    "    policy_deductable STRING, \n",
    "    policy_annual_premium STRING, \n",
    "    umbrella_limit STRING,\n",
    "    umbrella_limit STRING, \n",
    "    insured_zip STRING, \n",
    "    insured_zip STRING, \n",
    "    insured_sex STRING, \n",
    "    insured_education_level STRING, \n",
    "    insured_occupation STRING, \n",
    "    insured_hobbies STRING, \n",
    "    insured_relationship STRING, \n",
    "    capital-gains STRING, \n",
    "    capital-gains STRING, \n",
    "    capital-loss STRING,\n",
    "    capital-loss STRING, \n",
    "    incident_date IntegerType,\n",
    "    incident_date STRING,\n",
    "    incident_date DateType,\n",
    "    incident_type STRING, \n",
    "    collision_type STRING,\n",
    "    incident_severity STRING,\n",
    "    authorities_contacted STRING,\n",
    "    incident_state DateType,\n",
    "    incident_state STRING,\n",
    "    incident_city IntegerType,\n",
    "    incident_city STRING,\n",
    "    incident_location STRING,\n",
    "    incident_hour_of_the_day STRING,\n",
    "    incident_hour_of_the_day IntegerType,\n",
    "    number_of_vehicles_involved STRING,\n",
    "    number_of_vehicles_involved IntegerType,\n",
    "    property_damage STRING,\n",
    "    property_damage IntegerType,\n",
    "    bodily_injuries STRING,\n",
    "    bodily_injuries IntegerType,\n",
    "    witnesses DateType,\n",
    "    witnesses StringType,\n",
    "    witnesses IntegerType,\n",
    "    police_report_available IntegerType,\n",
    "    police_report_available STRING,\n",
    "    total_claim_amount STRING,\n",
    "    injury_claim IntegerType,\n",
    "    injury_claim STRING,\n",
    "    property_claim  IntegerType,\n",
    "    property_claim STRING,\n",
    "    vehicle_claim STRING,\n",
    "    vehicle_claim IntegerType,\n",
    "    auto_make STRING,\n",
    "    auto_model STRING,\n",
    "    auto_year STRING,\n",
    "    auto_year IntegerType,\n",
    "    fraud_reported STRING,\n",
    "    _c39 STRING \n",
    "'''  "
   ]
  },
  {
   "cell_type": "code",
   "execution_count": 33,
   "metadata": {},
   "outputs": [],
   "source": [
    "df = (spark.read\n",
    "      .format(\"csv\")\n",
    "      .option(\"header\", \"true\")\n",
    "      .load(\"../data/insurance_claims.csv\"))  "
   ]
  },
  {
   "cell_type": "code",
   "execution_count": 34,
   "metadata": {},
   "outputs": [
    {
     "name": "stdout",
     "output_type": "stream",
     "text": [
      "root\n",
      " |-- months_as_customer: string (nullable = true)\n",
      " |-- age: string (nullable = true)\n",
      " |-- policy_number: string (nullable = true)\n",
      " |-- policy_bind_date: string (nullable = true)\n",
      " |-- policy_state: string (nullable = true)\n",
      " |-- policy_csl: string (nullable = true)\n",
      " |-- policy_deductable: string (nullable = true)\n",
      " |-- policy_annual_premium: string (nullable = true)\n",
      " |-- umbrella_limit: string (nullable = true)\n",
      " |-- insured_zip: string (nullable = true)\n",
      " |-- insured_sex: string (nullable = true)\n",
      " |-- insured_education_level: string (nullable = true)\n",
      " |-- insured_occupation: string (nullable = true)\n",
      " |-- insured_hobbies: string (nullable = true)\n",
      " |-- insured_relationship: string (nullable = true)\n",
      " |-- capital-gains: string (nullable = true)\n",
      " |-- capital-loss: string (nullable = true)\n",
      " |-- incident_date: string (nullable = true)\n",
      " |-- incident_type: string (nullable = true)\n",
      " |-- collision_type: string (nullable = true)\n",
      " |-- incident_severity: string (nullable = true)\n",
      " |-- authorities_contacted: string (nullable = true)\n",
      " |-- incident_state: string (nullable = true)\n",
      " |-- incident_city: string (nullable = true)\n",
      " |-- incident_location: string (nullable = true)\n",
      " |-- incident_hour_of_the_day: string (nullable = true)\n",
      " |-- number_of_vehicles_involved: string (nullable = true)\n",
      " |-- property_damage: string (nullable = true)\n",
      " |-- bodily_injuries: string (nullable = true)\n",
      " |-- witnesses: string (nullable = true)\n",
      " |-- police_report_available: string (nullable = true)\n",
      " |-- total_claim_amount: string (nullable = true)\n",
      " |-- injury_claim: string (nullable = true)\n",
      " |-- property_claim: string (nullable = true)\n",
      " |-- vehicle_claim: string (nullable = true)\n",
      " |-- auto_make: string (nullable = true)\n",
      " |-- auto_model: string (nullable = true)\n",
      " |-- auto_year: string (nullable = true)\n",
      " |-- fraud_reported: string (nullable = true)\n",
      " |-- _c39: string (nullable = true)\n",
      "\n"
     ]
    }
   ],
   "source": [
    "df.printSchema()"
   ]
  },
  {
   "cell_type": "code",
   "execution_count": 35,
   "metadata": {},
   "outputs": [
    {
     "name": "stderr",
     "output_type": "stream",
     "text": [
      "                                                                                \r"
     ]
    }
   ],
   "source": [
    "df.write.format(\"delta\").mode(\"overwrite\").saveAsTable(\"default.insurance_claimsv4\")\n"
   ]
  },
  {
   "cell_type": "code",
   "execution_count": 36,
   "metadata": {},
   "outputs": [
    {
     "name": "stderr",
     "output_type": "stream",
     "text": [
      "                                                                                \r"
     ]
    },
    {
     "data": {
      "text/html": [
       "<table><tr style=\"border-bottom: 1px solid\"><td style=\"font-weight: bold\">months_as_customer</td><td style=\"font-weight: bold\">age</td><td style=\"font-weight: bold\">policy_number</td><td style=\"font-weight: bold\">policy_bind_date</td><td style=\"font-weight: bold\">policy_state</td><td style=\"font-weight: bold\">policy_csl</td><td style=\"font-weight: bold\">policy_deductable</td><td style=\"font-weight: bold\">policy_annual_premium</td><td style=\"font-weight: bold\">umbrella_limit</td><td style=\"font-weight: bold\">insured_zip</td><td style=\"font-weight: bold\">insured_sex</td><td style=\"font-weight: bold\">insured_education_level</td><td style=\"font-weight: bold\">insured_occupation</td><td style=\"font-weight: bold\">insured_hobbies</td><td style=\"font-weight: bold\">insured_relationship</td><td style=\"font-weight: bold\">capital-gains</td><td style=\"font-weight: bold\">capital-loss</td><td style=\"font-weight: bold\">incident_date</td><td style=\"font-weight: bold\">incident_type</td><td style=\"font-weight: bold\">collision_type</td><td style=\"font-weight: bold\">incident_severity</td><td style=\"font-weight: bold\">authorities_contacted</td><td style=\"font-weight: bold\">incident_state</td><td style=\"font-weight: bold\">incident_city</td><td style=\"font-weight: bold\">incident_location</td><td style=\"font-weight: bold\">incident_hour_of_the_day</td><td style=\"font-weight: bold\">number_of_vehicles_involved</td><td style=\"font-weight: bold\">property_damage</td><td style=\"font-weight: bold\">bodily_injuries</td><td style=\"font-weight: bold\">witnesses</td><td style=\"font-weight: bold\">police_report_available</td><td style=\"font-weight: bold\">total_claim_amount</td><td style=\"font-weight: bold\">injury_claim</td><td style=\"font-weight: bold\">property_claim</td><td style=\"font-weight: bold\">vehicle_claim</td><td style=\"font-weight: bold\">auto_make</td><td style=\"font-weight: bold\">auto_model</td><td style=\"font-weight: bold\">auto_year</td><td style=\"font-weight: bold\">fraud_reported</td><td style=\"font-weight: bold\">_c39</td></tr><tr><td>328</td><td>48</td><td>521585</td><td>2014-10-17</td><td>OH</td><td>250/500</td><td>1000</td><td>1406.91</td><td>0</td><td>466132</td><td>MALE</td><td>MD</td><td>craft-repair</td><td>sleeping</td><td>husband</td><td>53300</td><td>0</td><td>2015-01-25</td><td>Single Vehicle Collision</td><td>Side Collision</td><td>Major Damage</td><td>Police</td><td>SC</td><td>Columbus</td><td>9935 4th Drive</td><td>5</td><td>1</td><td>YES</td><td>1</td><td>2</td><td>YES</td><td>71610</td><td>6510</td><td>13020</td><td>52080</td><td>Saab</td><td>92x</td><td>2004</td><td>Y</td><td>null</td></tr><tr><td>228</td><td>42</td><td>342868</td><td>2006-06-27</td><td>IN</td><td>250/500</td><td>2000</td><td>1197.22</td><td>5000000</td><td>468176</td><td>MALE</td><td>MD</td><td>machine-op-inspct</td><td>reading</td><td>other-relative</td><td>0</td><td>0</td><td>2015-01-21</td><td>Vehicle Theft</td><td>?</td><td>Minor Damage</td><td>Police</td><td>VA</td><td>Riverwood</td><td>6608 MLK Hwy</td><td>8</td><td>1</td><td>?</td><td>0</td><td>0</td><td>?</td><td>5070</td><td>780</td><td>780</td><td>3510</td><td>Mercedes</td><td>E400</td><td>2007</td><td>Y</td><td>null</td></tr><tr><td>134</td><td>29</td><td>687698</td><td>2000-09-06</td><td>OH</td><td>100/300</td><td>2000</td><td>1413.14</td><td>5000000</td><td>430632</td><td>FEMALE</td><td>PhD</td><td>sales</td><td>board-games</td><td>own-child</td><td>35100</td><td>0</td><td>2015-02-22</td><td>Multi-vehicle Collision</td><td>Rear Collision</td><td>Minor Damage</td><td>Police</td><td>NY</td><td>Columbus</td><td>7121 Francis Lane</td><td>7</td><td>3</td><td>NO</td><td>2</td><td>3</td><td>NO</td><td>34650</td><td>7700</td><td>3850</td><td>23100</td><td>Dodge</td><td>RAM</td><td>2007</td><td>N</td><td>null</td></tr></table>"
      ],
      "text/plain": [
       "<IPython.core.display.HTML object>"
      ]
     },
     "execution_count": 36,
     "metadata": {},
     "output_type": "execute_result"
    }
   ],
   "source": [
    "%%sparksql \n",
    "SELECT * FROM default.insurance_claimsv4 LIMIT 3;"
   ]
  },
  {
   "cell_type": "code",
   "execution_count": 37,
   "metadata": {},
   "outputs": [],
   "source": [
    "df = spark.read.format(\"delta\").load(\"/opt/workspace/insurance_claims/spark-warehouse/insurance_claimsv4/\")  "
   ]
  },
  {
   "cell_type": "code",
   "execution_count": 38,
   "metadata": {},
   "outputs": [
    {
     "name": "stdout",
     "output_type": "stream",
     "text": [
      "root\n",
      " |-- months_as_customer: string (nullable = true)\n",
      " |-- age: string (nullable = true)\n",
      " |-- policy_number: string (nullable = true)\n",
      " |-- policy_bind_date: string (nullable = true)\n",
      " |-- policy_state: string (nullable = true)\n",
      " |-- policy_csl: string (nullable = true)\n",
      " |-- policy_deductable: string (nullable = true)\n",
      " |-- policy_annual_premium: string (nullable = true)\n",
      " |-- umbrella_limit: string (nullable = true)\n",
      " |-- insured_zip: string (nullable = true)\n",
      " |-- insured_sex: string (nullable = true)\n",
      " |-- insured_education_level: string (nullable = true)\n",
      " |-- insured_occupation: string (nullable = true)\n",
      " |-- insured_hobbies: string (nullable = true)\n",
      " |-- insured_relationship: string (nullable = true)\n",
      " |-- capital-gains: string (nullable = true)\n",
      " |-- capital-loss: string (nullable = true)\n",
      " |-- incident_date: string (nullable = true)\n",
      " |-- incident_type: string (nullable = true)\n",
      " |-- collision_type: string (nullable = true)\n",
      " |-- incident_severity: string (nullable = true)\n",
      " |-- authorities_contacted: string (nullable = true)\n",
      " |-- incident_state: string (nullable = true)\n",
      " |-- incident_city: string (nullable = true)\n",
      " |-- incident_location: string (nullable = true)\n",
      " |-- incident_hour_of_the_day: string (nullable = true)\n",
      " |-- number_of_vehicles_involved: string (nullable = true)\n",
      " |-- property_damage: string (nullable = true)\n",
      " |-- bodily_injuries: string (nullable = true)\n",
      " |-- witnesses: string (nullable = true)\n",
      " |-- police_report_available: string (nullable = true)\n",
      " |-- total_claim_amount: string (nullable = true)\n",
      " |-- injury_claim: string (nullable = true)\n",
      " |-- property_claim: string (nullable = true)\n",
      " |-- vehicle_claim: string (nullable = true)\n",
      " |-- auto_make: string (nullable = true)\n",
      " |-- auto_model: string (nullable = true)\n",
      " |-- auto_year: string (nullable = true)\n",
      " |-- fraud_reported: string (nullable = true)\n",
      " |-- _c39: string (nullable = true)\n",
      "\n"
     ]
    }
   ],
   "source": [
    "df.printSchema()"
   ]
  },
  {
   "cell_type": "code",
   "execution_count": 39,
   "metadata": {},
   "outputs": [
    {
     "data": {
      "text/html": [
       "<table><tr style=\"border-bottom: 1px solid\"><td style=\"font-weight: bold\">months_as_customer</td><td style=\"font-weight: bold\">age</td><td style=\"font-weight: bold\">policy_number</td><td style=\"font-weight: bold\">policy_bind_date</td><td style=\"font-weight: bold\">policy_state</td><td style=\"font-weight: bold\">policy_csl</td><td style=\"font-weight: bold\">policy_deductable</td><td style=\"font-weight: bold\">policy_annual_premium</td><td style=\"font-weight: bold\">umbrella_limit</td><td style=\"font-weight: bold\">insured_zip</td><td style=\"font-weight: bold\">insured_sex</td><td style=\"font-weight: bold\">insured_education_level</td><td style=\"font-weight: bold\">insured_occupation</td><td style=\"font-weight: bold\">insured_hobbies</td><td style=\"font-weight: bold\">insured_relationship</td><td style=\"font-weight: bold\">capital-gains</td><td style=\"font-weight: bold\">capital-loss</td><td style=\"font-weight: bold\">incident_date</td><td style=\"font-weight: bold\">incident_type</td><td style=\"font-weight: bold\">collision_type</td><td style=\"font-weight: bold\">incident_severity</td><td style=\"font-weight: bold\">authorities_contacted</td><td style=\"font-weight: bold\">incident_state</td><td style=\"font-weight: bold\">incident_city</td><td style=\"font-weight: bold\">incident_location</td><td style=\"font-weight: bold\">incident_hour_of_the_day</td><td style=\"font-weight: bold\">number_of_vehicles_involved</td><td style=\"font-weight: bold\">property_damage</td><td style=\"font-weight: bold\">bodily_injuries</td><td style=\"font-weight: bold\">witnesses</td><td style=\"font-weight: bold\">police_report_available</td><td style=\"font-weight: bold\">total_claim_amount</td><td style=\"font-weight: bold\">injury_claim</td><td style=\"font-weight: bold\">property_claim</td><td style=\"font-weight: bold\">vehicle_claim</td><td style=\"font-weight: bold\">auto_make</td><td style=\"font-weight: bold\">auto_model</td><td style=\"font-weight: bold\">auto_year</td><td style=\"font-weight: bold\">fraud_reported</td><td style=\"font-weight: bold\">_c39</td></tr><tr><td>328</td><td>48</td><td>521585</td><td>2014-10-17</td><td>OH</td><td>250/500</td><td>1000</td><td>1406.91</td><td>0</td><td>466132</td><td>MALE</td><td>MD</td><td>craft-repair</td><td>sleeping</td><td>husband</td><td>53300</td><td>0</td><td>2015-01-25</td><td>Single Vehicle Collision</td><td>Side Collision</td><td>Major Damage</td><td>Police</td><td>SC</td><td>Columbus</td><td>9935 4th Drive</td><td>5</td><td>1</td><td>YES</td><td>1</td><td>2</td><td>YES</td><td>71610</td><td>6510</td><td>13020</td><td>52080</td><td>Saab</td><td>92x</td><td>2004</td><td>Y</td><td>null</td></tr><tr><td>228</td><td>42</td><td>342868</td><td>2006-06-27</td><td>IN</td><td>250/500</td><td>2000</td><td>1197.22</td><td>5000000</td><td>468176</td><td>MALE</td><td>MD</td><td>machine-op-inspct</td><td>reading</td><td>other-relative</td><td>0</td><td>0</td><td>2015-01-21</td><td>Vehicle Theft</td><td>?</td><td>Minor Damage</td><td>Police</td><td>VA</td><td>Riverwood</td><td>6608 MLK Hwy</td><td>8</td><td>1</td><td>?</td><td>0</td><td>0</td><td>?</td><td>5070</td><td>780</td><td>780</td><td>3510</td><td>Mercedes</td><td>E400</td><td>2007</td><td>Y</td><td>null</td></tr><tr><td>134</td><td>29</td><td>687698</td><td>2000-09-06</td><td>OH</td><td>100/300</td><td>2000</td><td>1413.14</td><td>5000000</td><td>430632</td><td>FEMALE</td><td>PhD</td><td>sales</td><td>board-games</td><td>own-child</td><td>35100</td><td>0</td><td>2015-02-22</td><td>Multi-vehicle Collision</td><td>Rear Collision</td><td>Minor Damage</td><td>Police</td><td>NY</td><td>Columbus</td><td>7121 Francis Lane</td><td>7</td><td>3</td><td>NO</td><td>2</td><td>3</td><td>NO</td><td>34650</td><td>7700</td><td>3850</td><td>23100</td><td>Dodge</td><td>RAM</td><td>2007</td><td>N</td><td>null</td></tr></table>"
      ],
      "text/plain": [
       "<IPython.core.display.HTML object>"
      ]
     },
     "execution_count": 39,
     "metadata": {},
     "output_type": "execute_result"
    }
   ],
   "source": [
    "%%sparksql\n",
    "SELECT * FROM delta.`/opt/workspace/insurance_claims/spark-warehouse/insurance_claimsv4/` LIMIT 3;    \n"
   ]
  },
  {
   "cell_type": "code",
   "execution_count": 40,
   "metadata": {},
   "outputs": [
    {
     "name": "stdout",
     "output_type": "stream",
     "text": [
      "only showing top 20 row(s)\n"
     ]
    },
    {
     "data": {
      "text/html": [
       "<table><tr style=\"border-bottom: 1px solid\"><td style=\"font-weight: bold\">version</td><td style=\"font-weight: bold\">timestamp</td><td style=\"font-weight: bold\">userId</td><td style=\"font-weight: bold\">userName</td><td style=\"font-weight: bold\">operation</td><td style=\"font-weight: bold\">operationParameters</td><td style=\"font-weight: bold\">job</td><td style=\"font-weight: bold\">notebook</td><td style=\"font-weight: bold\">clusterId</td><td style=\"font-weight: bold\">readVersion</td><td style=\"font-weight: bold\">isolationLevel</td><td style=\"font-weight: bold\">isBlindAppend</td><td style=\"font-weight: bold\">operationMetrics</td><td style=\"font-weight: bold\">userMetadata</td><td style=\"font-weight: bold\">engineInfo</td></tr><tr><td>26</td><td>2025-10-02 18:33:13.337000</td><td>null</td><td>null</td><td>CREATE OR REPLACE TABLE AS SELECT</td><td>{&#x27;description&#x27;: None, &#x27;partitionBy&#x27;: &#x27;[]&#x27;, &#x27;properties&#x27;: &#x27;{&quot;delta.logRetentionDuration&quot;:&quot;interval 60 days&quot;,&quot;delta.deletedFileRetentionDuration&quot;:&quot;interval 60 days&quot;}&#x27;, &#x27;isManaged&#x27;: &#x27;true&#x27;}</td><td>null</td><td>null</td><td>null</td><td>25</td><td>Serializable</td><td>False</td><td>{&#x27;numOutputRows&#x27;: &#x27;1000&#x27;, &#x27;numOutputBytes&#x27;: &#x27;83910&#x27;, &#x27;numFiles&#x27;: &#x27;1&#x27;}</td><td>null</td><td>Apache-Spark/3.4.1 Delta-Lake/2.4.0</td></tr><tr><td>25</td><td>2025-09-30 00:50:08.569000</td><td>null</td><td>null</td><td>OPTIMIZE</td><td>{&#x27;predicate&#x27;: &#x27;[]&#x27;, &#x27;zOrderBy&#x27;: &#x27;[&quot;age&quot;]&#x27;}</td><td>null</td><td>null</td><td>null</td><td>24</td><td>SnapshotIsolation</td><td>False</td><td>{&#x27;numRemovedBytes&#x27;: &#x27;83910&#x27;, &#x27;p50FileSize&#x27;: &#x27;83910&#x27;, &#x27;p25FileSize&#x27;: &#x27;83910&#x27;, &#x27;numAddedFiles&#x27;: &#x27;1&#x27;, &#x27;minFileSize&#x27;: &#x27;83910&#x27;, &#x27;p75FileSize&#x27;: &#x27;83910&#x27;, &#x27;numDeletionVectorsRemoved&#x27;: &#x27;0&#x27;, &#x27;numAddedBytes&#x27;: &#x27;83910&#x27;, &#x27;maxFileSize&#x27;: &#x27;83910&#x27;, &#x27;numRemovedFiles&#x27;: &#x27;1&#x27;}</td><td>null</td><td>Apache-Spark/3.4.1 Delta-Lake/2.4.0</td></tr><tr><td>24</td><td>2025-09-30 00:50:03.606000</td><td>null</td><td>null</td><td>OPTIMIZE</td><td>{&#x27;predicate&#x27;: &#x27;[]&#x27;, &#x27;zOrderBy&#x27;: &#x27;[&quot;age&quot;]&#x27;}</td><td>null</td><td>null</td><td>null</td><td>23</td><td>SnapshotIsolation</td><td>False</td><td>{&#x27;numRemovedBytes&#x27;: &#x27;83910&#x27;, &#x27;p50FileSize&#x27;: &#x27;83910&#x27;, &#x27;p25FileSize&#x27;: &#x27;83910&#x27;, &#x27;numAddedFiles&#x27;: &#x27;1&#x27;, &#x27;minFileSize&#x27;: &#x27;83910&#x27;, &#x27;p75FileSize&#x27;: &#x27;83910&#x27;, &#x27;numDeletionVectorsRemoved&#x27;: &#x27;0&#x27;, &#x27;numAddedBytes&#x27;: &#x27;83910&#x27;, &#x27;maxFileSize&#x27;: &#x27;83910&#x27;, &#x27;numRemovedFiles&#x27;: &#x27;1&#x27;}</td><td>null</td><td>Apache-Spark/3.4.1 Delta-Lake/2.4.0</td></tr><tr><td>23</td><td>2025-09-30 00:37:16.879000</td><td>null</td><td>null</td><td>SET TBLPROPERTIES</td><td>{&#x27;properties&#x27;: &#x27;{&quot;delta.logRetentionDuration&quot;:&quot;interval 60 days&quot;,&quot;delta.deletedFileRetentionDuration&quot;:&quot;interval 60 days&quot;}&#x27;}</td><td>null</td><td>null</td><td>null</td><td>22</td><td>Serializable</td><td>True</td><td>{}</td><td>null</td><td>Apache-Spark/3.4.1 Delta-Lake/2.4.0</td></tr><tr><td>22</td><td>2025-09-30 00:37:06.262000</td><td>null</td><td>null</td><td>CREATE OR REPLACE TABLE AS SELECT</td><td>{&#x27;description&#x27;: None, &#x27;partitionBy&#x27;: &#x27;[]&#x27;, &#x27;properties&#x27;: &#x27;{&quot;delta.logRetentionDuration&quot;:&quot;interval 60 days&quot;,&quot;delta.deletedFileRetentionDuration&quot;:&quot;interval 60 days&quot;}&#x27;, &#x27;isManaged&#x27;: &#x27;true&#x27;}</td><td>null</td><td>null</td><td>null</td><td>21</td><td>Serializable</td><td>False</td><td>{&#x27;numOutputRows&#x27;: &#x27;1000&#x27;, &#x27;numOutputBytes&#x27;: &#x27;83910&#x27;, &#x27;numFiles&#x27;: &#x27;1&#x27;}</td><td>null</td><td>Apache-Spark/3.4.1 Delta-Lake/2.4.0</td></tr><tr><td>21</td><td>2025-09-29 00:25:50.387000</td><td>null</td><td>null</td><td>SET TBLPROPERTIES</td><td>{&#x27;properties&#x27;: &#x27;{&quot;delta.logRetentionDuration&quot;:&quot;interval 60 days&quot;,&quot;delta.deletedFileRetentionDuration&quot;:&quot;interval 60 days&quot;}&#x27;}</td><td>null</td><td>null</td><td>null</td><td>20</td><td>Serializable</td><td>True</td><td>{}</td><td>null</td><td>Apache-Spark/3.4.1 Delta-Lake/2.4.0</td></tr><tr><td>20</td><td>2025-09-29 00:25:39.481000</td><td>null</td><td>null</td><td>CREATE OR REPLACE TABLE AS SELECT</td><td>{&#x27;description&#x27;: None, &#x27;partitionBy&#x27;: &#x27;[]&#x27;, &#x27;properties&#x27;: &#x27;{&quot;delta.logRetentionDuration&quot;:&quot;interval 60 days&quot;,&quot;delta.deletedFileRetentionDuration&quot;:&quot;interval 60 days&quot;}&#x27;, &#x27;isManaged&#x27;: &#x27;true&#x27;}</td><td>null</td><td>null</td><td>null</td><td>19</td><td>Serializable</td><td>False</td><td>{&#x27;numOutputRows&#x27;: &#x27;1000&#x27;, &#x27;numOutputBytes&#x27;: &#x27;83910&#x27;, &#x27;numFiles&#x27;: &#x27;1&#x27;}</td><td>null</td><td>Apache-Spark/3.4.1 Delta-Lake/2.4.0</td></tr><tr><td>19</td><td>2025-09-28 21:11:41.665000</td><td>null</td><td>null</td><td>SET TBLPROPERTIES</td><td>{&#x27;properties&#x27;: &#x27;{&quot;delta.logRetentionDuration&quot;:&quot;interval 60 days&quot;,&quot;delta.deletedFileRetentionDuration&quot;:&quot;interval 60 days&quot;}&#x27;}</td><td>null</td><td>null</td><td>null</td><td>18</td><td>Serializable</td><td>True</td><td>{}</td><td>null</td><td>Apache-Spark/3.4.1 Delta-Lake/2.4.0</td></tr><tr><td>18</td><td>2025-09-28 21:11:32.982000</td><td>null</td><td>null</td><td>CREATE OR REPLACE TABLE AS SELECT</td><td>{&#x27;description&#x27;: None, &#x27;partitionBy&#x27;: &#x27;[]&#x27;, &#x27;properties&#x27;: &#x27;{&quot;delta.logRetentionDuration&quot;:&quot;interval 60 days&quot;,&quot;delta.deletedFileRetentionDuration&quot;:&quot;interval 60 days&quot;}&#x27;, &#x27;isManaged&#x27;: &#x27;true&#x27;}</td><td>null</td><td>null</td><td>null</td><td>17</td><td>Serializable</td><td>False</td><td>{&#x27;numOutputRows&#x27;: &#x27;1000&#x27;, &#x27;numOutputBytes&#x27;: &#x27;83910&#x27;, &#x27;numFiles&#x27;: &#x27;1&#x27;}</td><td>null</td><td>Apache-Spark/3.4.1 Delta-Lake/2.4.0</td></tr><tr><td>17</td><td>2025-09-28 19:21:40.533000</td><td>null</td><td>null</td><td>SET TBLPROPERTIES</td><td>{&#x27;properties&#x27;: &#x27;{&quot;delta.logRetentionDuration&quot;:&quot;interval 60 days&quot;,&quot;delta.deletedFileRetentionDuration&quot;:&quot;interval 60 days&quot;}&#x27;}</td><td>null</td><td>null</td><td>null</td><td>16</td><td>Serializable</td><td>True</td><td>{}</td><td>null</td><td>Apache-Spark/3.4.1 Delta-Lake/2.4.0</td></tr><tr><td>16</td><td>2025-09-28 19:21:33.578000</td><td>null</td><td>null</td><td>CREATE OR REPLACE TABLE AS SELECT</td><td>{&#x27;description&#x27;: None, &#x27;partitionBy&#x27;: &#x27;[]&#x27;, &#x27;properties&#x27;: &#x27;{&quot;delta.logRetentionDuration&quot;:&quot;interval 60 days&quot;,&quot;delta.deletedFileRetentionDuration&quot;:&quot;interval 60 days&quot;}&#x27;, &#x27;isManaged&#x27;: &#x27;true&#x27;}</td><td>null</td><td>null</td><td>null</td><td>15</td><td>Serializable</td><td>False</td><td>{&#x27;numOutputRows&#x27;: &#x27;1000&#x27;, &#x27;numOutputBytes&#x27;: &#x27;83910&#x27;, &#x27;numFiles&#x27;: &#x27;1&#x27;}</td><td>null</td><td>Apache-Spark/3.4.1 Delta-Lake/2.4.0</td></tr><tr><td>15</td><td>2025-09-27 19:26:53.830000</td><td>null</td><td>null</td><td>SET TBLPROPERTIES</td><td>{&#x27;properties&#x27;: &#x27;{&quot;delta.logRetentionDuration&quot;:&quot;interval 60 days&quot;,&quot;delta.deletedFileRetentionDuration&quot;:&quot;interval 60 days&quot;}&#x27;}</td><td>null</td><td>null</td><td>null</td><td>14</td><td>Serializable</td><td>True</td><td>{}</td><td>null</td><td>Apache-Spark/3.4.1 Delta-Lake/2.4.0</td></tr><tr><td>14</td><td>2025-09-27 19:26:04.936000</td><td>null</td><td>null</td><td>CREATE OR REPLACE TABLE AS SELECT</td><td>{&#x27;description&#x27;: None, &#x27;partitionBy&#x27;: &#x27;[]&#x27;, &#x27;properties&#x27;: &#x27;{&quot;delta.logRetentionDuration&quot;:&quot;interval 60 days&quot;,&quot;delta.deletedFileRetentionDuration&quot;:&quot;interval 60 days&quot;}&#x27;, &#x27;isManaged&#x27;: &#x27;true&#x27;}</td><td>null</td><td>null</td><td>null</td><td>13</td><td>Serializable</td><td>False</td><td>{&#x27;numOutputRows&#x27;: &#x27;1000&#x27;, &#x27;numOutputBytes&#x27;: &#x27;83910&#x27;, &#x27;numFiles&#x27;: &#x27;1&#x27;}</td><td>null</td><td>Apache-Spark/3.4.1 Delta-Lake/2.4.0</td></tr><tr><td>13</td><td>2025-09-27 02:49:17.381000</td><td>null</td><td>null</td><td>OPTIMIZE</td><td>{&#x27;predicate&#x27;: &#x27;[]&#x27;, &#x27;zOrderBy&#x27;: &#x27;[&quot;age&quot;]&#x27;}</td><td>null</td><td>null</td><td>null</td><td>12</td><td>SnapshotIsolation</td><td>False</td><td>{&#x27;numRemovedBytes&#x27;: &#x27;83910&#x27;, &#x27;p50FileSize&#x27;: &#x27;83910&#x27;, &#x27;p25FileSize&#x27;: &#x27;83910&#x27;, &#x27;numAddedFiles&#x27;: &#x27;1&#x27;, &#x27;minFileSize&#x27;: &#x27;83910&#x27;, &#x27;p75FileSize&#x27;: &#x27;83910&#x27;, &#x27;numDeletionVectorsRemoved&#x27;: &#x27;0&#x27;, &#x27;numAddedBytes&#x27;: &#x27;83910&#x27;, &#x27;maxFileSize&#x27;: &#x27;83910&#x27;, &#x27;numRemovedFiles&#x27;: &#x27;1&#x27;}</td><td>null</td><td>Apache-Spark/3.4.1 Delta-Lake/2.4.0</td></tr><tr><td>12</td><td>2025-09-27 02:49:06.073000</td><td>null</td><td>null</td><td>OPTIMIZE</td><td>{&#x27;predicate&#x27;: &#x27;[]&#x27;, &#x27;zOrderBy&#x27;: &#x27;[&quot;age&quot;]&#x27;}</td><td>null</td><td>null</td><td>null</td><td>11</td><td>SnapshotIsolation</td><td>False</td><td>{&#x27;numRemovedBytes&#x27;: &#x27;83910&#x27;, &#x27;p50FileSize&#x27;: &#x27;83910&#x27;, &#x27;p25FileSize&#x27;: &#x27;83910&#x27;, &#x27;numAddedFiles&#x27;: &#x27;1&#x27;, &#x27;minFileSize&#x27;: &#x27;83910&#x27;, &#x27;p75FileSize&#x27;: &#x27;83910&#x27;, &#x27;numDeletionVectorsRemoved&#x27;: &#x27;0&#x27;, &#x27;numAddedBytes&#x27;: &#x27;83910&#x27;, &#x27;maxFileSize&#x27;: &#x27;83910&#x27;, &#x27;numRemovedFiles&#x27;: &#x27;1&#x27;}</td><td>null</td><td>Apache-Spark/3.4.1 Delta-Lake/2.4.0</td></tr><tr><td>11</td><td>2025-09-27 02:16:59.928000</td><td>null</td><td>null</td><td>SET TBLPROPERTIES</td><td>{&#x27;properties&#x27;: &#x27;{&quot;delta.logRetentionDuration&quot;:&quot;interval 60 days&quot;,&quot;delta.deletedFileRetentionDuration&quot;:&quot;interval 60 days&quot;}&#x27;}</td><td>null</td><td>null</td><td>null</td><td>10</td><td>Serializable</td><td>True</td><td>{}</td><td>null</td><td>Apache-Spark/3.4.1 Delta-Lake/2.4.0</td></tr><tr><td>10</td><td>2025-09-27 02:16:44.493000</td><td>null</td><td>null</td><td>CREATE OR REPLACE TABLE AS SELECT</td><td>{&#x27;description&#x27;: None, &#x27;partitionBy&#x27;: &#x27;[]&#x27;, &#x27;properties&#x27;: &#x27;{&quot;delta.logRetentionDuration&quot;:&quot;interval 60 days&quot;,&quot;delta.deletedFileRetentionDuration&quot;:&quot;interval 60 days&quot;}&#x27;, &#x27;isManaged&#x27;: &#x27;true&#x27;}</td><td>null</td><td>null</td><td>null</td><td>9</td><td>Serializable</td><td>False</td><td>{&#x27;numOutputRows&#x27;: &#x27;1000&#x27;, &#x27;numOutputBytes&#x27;: &#x27;83910&#x27;, &#x27;numFiles&#x27;: &#x27;1&#x27;}</td><td>null</td><td>Apache-Spark/3.4.1 Delta-Lake/2.4.0</td></tr><tr><td>9</td><td>2025-09-26 01:26:18.203000</td><td>null</td><td>null</td><td>OPTIMIZE</td><td>{&#x27;predicate&#x27;: &#x27;[]&#x27;, &#x27;zOrderBy&#x27;: &#x27;[&quot;age&quot;]&#x27;}</td><td>null</td><td>null</td><td>null</td><td>8</td><td>SnapshotIsolation</td><td>False</td><td>{&#x27;numRemovedBytes&#x27;: &#x27;83910&#x27;, &#x27;p50FileSize&#x27;: &#x27;83910&#x27;, &#x27;p25FileSize&#x27;: &#x27;83910&#x27;, &#x27;numAddedFiles&#x27;: &#x27;1&#x27;, &#x27;minFileSize&#x27;: &#x27;83910&#x27;, &#x27;p75FileSize&#x27;: &#x27;83910&#x27;, &#x27;numDeletionVectorsRemoved&#x27;: &#x27;0&#x27;, &#x27;numAddedBytes&#x27;: &#x27;83910&#x27;, &#x27;maxFileSize&#x27;: &#x27;83910&#x27;, &#x27;numRemovedFiles&#x27;: &#x27;1&#x27;}</td><td>null</td><td>Apache-Spark/3.4.1 Delta-Lake/2.4.0</td></tr><tr><td>8</td><td>2025-09-26 01:26:01.291000</td><td>null</td><td>null</td><td>OPTIMIZE</td><td>{&#x27;predicate&#x27;: &#x27;[]&#x27;, &#x27;zOrderBy&#x27;: &#x27;[&quot;age&quot;]&#x27;}</td><td>null</td><td>null</td><td>null</td><td>7</td><td>SnapshotIsolation</td><td>False</td><td>{&#x27;numRemovedBytes&#x27;: &#x27;83910&#x27;, &#x27;p50FileSize&#x27;: &#x27;83910&#x27;, &#x27;p25FileSize&#x27;: &#x27;83910&#x27;, &#x27;numAddedFiles&#x27;: &#x27;1&#x27;, &#x27;minFileSize&#x27;: &#x27;83910&#x27;, &#x27;p75FileSize&#x27;: &#x27;83910&#x27;, &#x27;numDeletionVectorsRemoved&#x27;: &#x27;0&#x27;, &#x27;numAddedBytes&#x27;: &#x27;83910&#x27;, &#x27;maxFileSize&#x27;: &#x27;83910&#x27;, &#x27;numRemovedFiles&#x27;: &#x27;1&#x27;}</td><td>null</td><td>Apache-Spark/3.4.1 Delta-Lake/2.4.0</td></tr><tr><td>7</td><td>2025-09-25 19:48:24.068000</td><td>null</td><td>null</td><td>SET TBLPROPERTIES</td><td>{&#x27;properties&#x27;: &#x27;{&quot;delta.logRetentionDuration&quot;:&quot;interval 60 days&quot;,&quot;delta.deletedFileRetentionDuration&quot;:&quot;interval 60 days&quot;}&#x27;}</td><td>null</td><td>null</td><td>null</td><td>6</td><td>Serializable</td><td>True</td><td>{}</td><td>null</td><td>Apache-Spark/3.4.1 Delta-Lake/2.4.0</td></tr></table>"
      ],
      "text/plain": [
       "<IPython.core.display.HTML object>"
      ]
     },
     "execution_count": 40,
     "metadata": {},
     "output_type": "execute_result"
    }
   ],
   "source": [
    "%%sparksql\n",
    "DESCRIBE HISTORY '/opt/workspace/insurance_claims/spark-warehouse/insurance_claimsv4'"
   ]
  },
  {
   "cell_type": "code",
   "execution_count": 41,
   "metadata": {},
   "outputs": [
    {
     "data": {
      "text/html": [
       "<table><tr style=\"border-bottom: 1px solid\"></tr></table>"
      ],
      "text/plain": [
       "<IPython.core.display.HTML object>"
      ]
     },
     "execution_count": 41,
     "metadata": {},
     "output_type": "execute_result"
    }
   ],
   "source": [
    "%%sparksql\n",
    "ALTER TABLE delta.`/opt/workspace/insurance_claims/spark-warehouse/insurance_claimsv4` SET TBLPROPERTIES (\n",
    "  delta.logRetentionDuration = 'interval 60 days',\n",
    "  delta.deletedFileRetentionDuration = 'interval 60 days'\n",
    ");"
   ]
  },
  {
   "cell_type": "code",
   "execution_count": 42,
   "metadata": {},
   "outputs": [
    {
     "name": "stdout",
     "output_type": "stream",
     "text": [
      "The sparksql_magic extension is already loaded. To reload it, use:\n",
      "  %reload_ext sparksql_magic\n"
     ]
    }
   ],
   "source": [
    "%load_ext sparksql_magic\n",
    "%config SparkSql.limit=20"
   ]
  },
  {
   "cell_type": "code",
   "execution_count": 43,
   "metadata": {},
   "outputs": [],
   "source": [
    "# For PySpark:\n",
    "deltaTable = DeltaTable.forPath(spark, \"/opt/workspace/insurance_claims/spark-warehouse/insurance_claimsv4\")"
   ]
  },
  {
   "cell_type": "code",
   "execution_count": 44,
   "metadata": {},
   "outputs": [
    {
     "name": "stdout",
     "output_type": "stream",
     "text": [
      "+------------------+---+-------------+----------------+------------+----------+-----------------+---------------------+--------------+-----------+-----------+-----------------------+------------------+---------------+--------------------+-------------+------------+-------------+--------------------+---------------+-----------------+---------------------+--------------+-------------+-----------------+------------------------+---------------------------+---------------+---------------+---------+-----------------------+------------------+------------+--------------+-------------+---------+----------+---------+--------------+----+\n",
      "|months_as_customer|age|policy_number|policy_bind_date|policy_state|policy_csl|policy_deductable|policy_annual_premium|umbrella_limit|insured_zip|insured_sex|insured_education_level|insured_occupation|insured_hobbies|insured_relationship|capital-gains|capital-loss|incident_date|       incident_type| collision_type|incident_severity|authorities_contacted|incident_state|incident_city|incident_location|incident_hour_of_the_day|number_of_vehicles_involved|property_damage|bodily_injuries|witnesses|police_report_available|total_claim_amount|injury_claim|property_claim|vehicle_claim|auto_make|auto_model|auto_year|fraud_reported|_c39|\n",
      "+------------------+---+-------------+----------------+------------+----------+-----------------+---------------------+--------------+-----------+-----------+-----------------------+------------------+---------------+--------------------+-------------+------------+-------------+--------------------+---------------+-----------------+---------------------+--------------+-------------+-----------------+------------------------+---------------------------+---------------+---------------+---------+-----------------------+------------------+------------+--------------+-------------+---------+----------+---------+--------------+----+\n",
      "|               328| 48|       521585|      2014-10-17|          OH|   250/500|             1000|              1406.91|             0|     466132|       MALE|                     MD|      craft-repair|       sleeping|             husband|        53300|           0|   2015-01-25|Single Vehicle Co...| Side Collision|     Major Damage|               Police|            SC|     Columbus|   9935 4th Drive|                       5|                          1|            YES|              1|        2|                    YES|             71610|        6510|         13020|        52080|     Saab|       92x|     2004|             Y|null|\n",
      "|               228| 42|       342868|      2006-06-27|          IN|   250/500|             2000|              1197.22|       5000000|     468176|       MALE|                     MD| machine-op-inspct|        reading|      other-relative|            0|           0|   2015-01-21|       Vehicle Theft|              ?|     Minor Damage|               Police|            VA|    Riverwood|     6608 MLK Hwy|                       8|                          1|              ?|              0|        0|                      ?|              5070|         780|           780|         3510| Mercedes|      E400|     2007|             Y|null|\n",
      "|               134| 29|       687698|      2000-09-06|          OH|   100/300|             2000|              1413.14|       5000000|     430632|     FEMALE|                    PhD|             sales|    board-games|           own-child|        35100|           0|   2015-02-22|Multi-vehicle Col...| Rear Collision|     Minor Damage|               Police|            NY|     Columbus|7121 Francis Lane|                       7|                          3|             NO|              2|        3|                     NO|             34650|        7700|          3850|        23100|    Dodge|       RAM|     2007|             N|null|\n",
      "|               256| 41|       227811|      1990-05-25|          IL|   250/500|             2000|              1415.74|       6000000|     608117|     FEMALE|                    PhD|      armed-forces|    board-games|           unmarried|        48900|      -62400|   2015-01-10|Single Vehicle Co...|Front Collision|     Major Damage|               Police|            OH|    Arlington| 6956 Maple Drive|                       5|                          1|              ?|              1|        2|                     NO|             63400|        6340|          6340|        50720|Chevrolet|     Tahoe|     2014|             Y|null|\n",
      "|               228| 44|       367455|      2014-06-06|          IL|  500/1000|             1000|              1583.91|       6000000|     610706|       MALE|              Associate|             sales|    board-games|           unmarried|        66000|      -46000|   2015-02-17|       Vehicle Theft|              ?|     Minor Damage|                 None|            NY|    Arlington|     3041 3rd Ave|                      20|                          1|             NO|              0|        1|                     NO|              6500|        1300|           650|         4550|   Accura|       RSX|     2009|             N|null|\n",
      "+------------------+---+-------------+----------------+------------+----------+-----------------+---------------------+--------------+-----------+-----------+-----------------------+------------------+---------------+--------------------+-------------+------------+-------------+--------------------+---------------+-----------------+---------------------+--------------+-------------+-----------------+------------------------+---------------------------+---------------+---------------+---------+-----------------------+------------------+------------+--------------+-------------+---------+----------+---------+--------------+----+\n",
      "only showing top 5 rows\n",
      "\n"
     ]
    }
   ],
   "source": [
    "deltaTable.toDF().show(5)"
   ]
  },
  {
   "cell_type": "code",
   "execution_count": 45,
   "metadata": {},
   "outputs": [],
   "source": [
    "from pyspark.sql.functions import expr, lit\n",
    "# Update policy_number to not have nulls\n",
    "deltaTable.update(\n",
    "  condition = expr(\"policy_number IS NULL\"),\n",
    "  set = { \"policy_number\": lit(\"\") })"
   ]
  },
  {
   "cell_type": "code",
   "execution_count": 46,
   "metadata": {},
   "outputs": [
    {
     "data": {
      "text/html": [
       "<table><tr style=\"border-bottom: 1px solid\"><td style=\"font-weight: bold\">num_affected_rows</td></tr><tr><td>0</td></tr></table>"
      ],
      "text/plain": [
       "<IPython.core.display.HTML object>"
      ]
     },
     "execution_count": 46,
     "metadata": {},
     "output_type": "execute_result"
    }
   ],
   "source": [
    "%%sparksql\n",
    "UPDATE delta.`/opt/workspace/insurance_claims/spark-warehouse/insurance_claimsv4` SET policy_state = \"\" WHERE policy_state IS NULL;"
   ]
  },
  {
   "cell_type": "code",
   "execution_count": 47,
   "metadata": {},
   "outputs": [
    {
     "name": "stderr",
     "output_type": "stream",
     "text": [
      "                                                                                \r"
     ]
    },
    {
     "name": "stdout",
     "output_type": "stream",
     "text": [
      "+------------------+---+-------------+----------------+------------+----------+-----------------+---------------------+--------------+-----------+-----------+-----------------------+------------------+---------------+--------------------+-------------+------------+-------------+--------------------+---------------+-----------------+---------------------+--------------+-------------+-----------------+------------------------+---------------------------+---------------+---------------+---------+-----------------------+------------------+------------+--------------+-------------+---------+----------+---------+--------------+----+\n",
      "|months_as_customer|age|policy_number|policy_bind_date|policy_state|policy_csl|policy_deductable|policy_annual_premium|umbrella_limit|insured_zip|insured_sex|insured_education_level|insured_occupation|insured_hobbies|insured_relationship|capital-gains|capital-loss|incident_date|       incident_type| collision_type|incident_severity|authorities_contacted|incident_state|incident_city|incident_location|incident_hour_of_the_day|number_of_vehicles_involved|property_damage|bodily_injuries|witnesses|police_report_available|total_claim_amount|injury_claim|property_claim|vehicle_claim|auto_make|auto_model|auto_year|fraud_reported|_c39|\n",
      "+------------------+---+-------------+----------------+------------+----------+-----------------+---------------------+--------------+-----------+-----------+-----------------------+------------------+---------------+--------------------+-------------+------------+-------------+--------------------+---------------+-----------------+---------------------+--------------+-------------+-----------------+------------------------+---------------------------+---------------+---------------+---------+-----------------------+------------------+------------+--------------+-------------+---------+----------+---------+--------------+----+\n",
      "|               328| 48|       521585|      2014-10-17|          OH|   250/500|             1000|              1406.91|             0|     466132|       MALE|                     MD|      craft-repair|       sleeping|             husband|        53300|           0|   2015-01-25|Single Vehicle Co...| Side Collision|     Major Damage|               Police|            SC|     Columbus|   9935 4th Drive|                       5|                          1|            YES|              1|        2|                    YES|             71610|        6510|         13020|        52080|     Saab|       92x|     2004|             Y|null|\n",
      "|               228| 42|       342868|      2006-06-27|          IN|   250/500|             2000|              1197.22|       5000000|     468176|       MALE|                     MD| machine-op-inspct|        reading|      other-relative|            0|           0|   2015-01-21|       Vehicle Theft|              ?|     Minor Damage|               Police|            VA|    Riverwood|     6608 MLK Hwy|                       8|                          1|              ?|              0|        0|                      ?|              5070|         780|           780|         3510| Mercedes|      E400|     2007|             Y|null|\n",
      "|               134| 29|       687698|      2000-09-06|          OH|   100/300|             2000|              1413.14|       5000000|     430632|     FEMALE|                    PhD|             sales|    board-games|           own-child|        35100|           0|   2015-02-22|Multi-vehicle Col...| Rear Collision|     Minor Damage|               Police|            NY|     Columbus|7121 Francis Lane|                       7|                          3|             NO|              2|        3|                     NO|             34650|        7700|          3850|        23100|    Dodge|       RAM|     2007|             N|null|\n",
      "|               256| 41|       227811|      1990-05-25|          IL|   250/500|             2000|              1415.74|       6000000|     608117|     FEMALE|                    PhD|      armed-forces|    board-games|           unmarried|        48900|      -62400|   2015-01-10|Single Vehicle Co...|Front Collision|     Major Damage|               Police|            OH|    Arlington| 6956 Maple Drive|                       5|                          1|              ?|              1|        2|                     NO|             63400|        6340|          6340|        50720|Chevrolet|     Tahoe|     2014|             Y|null|\n",
      "|               228| 44|       367455|      2014-06-06|          IL|  500/1000|             1000|              1583.91|       6000000|     610706|       MALE|              Associate|             sales|    board-games|           unmarried|        66000|      -46000|   2015-02-17|       Vehicle Theft|              ?|     Minor Damage|                 None|            NY|    Arlington|     3041 3rd Ave|                      20|                          1|             NO|              0|        1|                     NO|              6500|        1300|           650|         4550|   Accura|       RSX|     2009|             N|null|\n",
      "+------------------+---+-------------+----------------+------------+----------+-----------------+---------------------+--------------+-----------+-----------+-----------------------+------------------+---------------+--------------------+-------------+------------+-------------+--------------------+---------------+-----------------+---------------------+--------------+-------------+-----------------+------------------------+---------------------------+---------------+---------------+---------+-----------------------+------------------+------------+--------------+-------------+---------+----------+---------+--------------+----+\n",
      "only showing top 5 rows\n",
      "\n"
     ]
    }
   ],
   "source": [
    "deltaTable.toDF().show(5)"
   ]
  },
  {
   "cell_type": "code",
   "execution_count": 48,
   "metadata": {},
   "outputs": [
    {
     "data": {
      "text/html": [
       "<table><tr style=\"border-bottom: 1px solid\"></tr></table>"
      ],
      "text/plain": [
       "<IPython.core.display.HTML object>"
      ]
     },
     "execution_count": 48,
     "metadata": {},
     "output_type": "execute_result"
    }
   ],
   "source": [
    "%%sparksql\n",
    "DROP TABLE IF EXISTS default.insurance_claimsv3_cdf;"
   ]
  },
  {
   "cell_type": "code",
   "execution_count": 49,
   "metadata": {},
   "outputs": [
    {
     "data": {
      "text/html": [
       "<table><tr style=\"border-bottom: 1px solid\"></tr></table>"
      ],
      "text/plain": [
       "<IPython.core.display.HTML object>"
      ]
     },
     "execution_count": 49,
     "metadata": {},
     "output_type": "execute_result"
    }
   ],
   "source": [
    "%%sparksql\n",
    "CREATE OR REPLACE TABLE default.insurance_claimsv3_cdf (\n",
    "    --ici je cree une table bronze\n",
    "    months_as_customer STRING,\n",
    "    age STRING,\n",
    "    policy_number STRING,\n",
    "    policy_bind_date STRING, \n",
    "    policy_state STRING, \n",
    "    policy_csl STRING,\n",
    "    policy_deductable STRING, \n",
    "    policy_annual_premium STRING, \n",
    "    umbrella_limit STRING,  \n",
    "    insured_zip STRING, \n",
    "    insured_sex STRING, \n",
    "    insured_education_level STRING, \n",
    "    insured_occupation STRING, \n",
    "    insured_hobbies STRING, \n",
    "    insured_relationship STRING,  \n",
    "    capital_gains STRING, \n",
    "    capital_loss STRING, \n",
    "    incident_date STRING,\n",
    "    incident_type STRING, \n",
    "    collision_type STRING,\n",
    "    incident_severity STRING,\n",
    "    authorities_contacted STRING,\n",
    "    incident_state STRING,\n",
    "    incident_city STRING,\n",
    "    incident_location STRING,\n",
    "    incident_hour_of_the_day STRING,\n",
    "    number_of_vehicles_involved STRING,\n",
    "    property_damage STRING,\n",
    "    bodily_injuries STRING,\n",
    "    witnesses STRING,\n",
    "    police_report_available STRING,\n",
    "    total_claim_amount STRING,\n",
    "    injury_claim STRING,\n",
    "    property_claim STRING,\n",
    "    vehicle_claim STRING,\n",
    "    auto_make STRING,\n",
    "    auto_model STRING,\n",
    "    auto_year STRING,\n",
    "    fraud_reported STRING,\n",
    "    _c39 STRING, \n",
    "    missing_data BOOLEAN,\n",
    "    age_group STRING,\n",
    "    fraud_reported_bool BOOLEAN,\n",
    "    age_risk_score FLOAT,\n",
    "    risque_selon_lanciennete FLOAT,\n",
    "    risque_total FLOAT,\n",
    "    risque_selon_la_fraude FLOAT,\n",
    "    cathegorie_risque STRING\n",
    "    \n",
    ") USING DELTA LOCATION 'insurance_claims/insurance_claims/spark-warehouse/insurance_claimsv4' \n",
    "TBLPROPERTIES (delta.enableChangeDataFeed = true, medallionLevel = 'bronze',   delta.columnMapping.mode = 'name');"
   ]
  },
  {
   "cell_type": "code",
   "execution_count": 1,
   "metadata": {},
   "outputs": [
    {
     "ename": "NameError",
     "evalue": "name 'spark' is not defined",
     "output_type": "error",
     "traceback": [
      "\u001b[0;31m---------------------------------------------------------------------------\u001b[0m",
      "\u001b[0;31mNameError\u001b[0m                                 Traceback (most recent call last)",
      "Cell \u001b[0;32mIn[1], line 3\u001b[0m\n\u001b[1;32m      1\u001b[0m \u001b[38;5;66;03m# Read CSV file into a DataFrame\u001b[39;00m\n\u001b[1;32m      2\u001b[0m \u001b[38;5;66;03m# Initial Load of Bronze Table\u001b[39;00m\n\u001b[0;32m----> 3\u001b[0m df \u001b[38;5;241m=\u001b[39m (\u001b[43mspark\u001b[49m\u001b[38;5;241m.\u001b[39mread\n\u001b[1;32m      4\u001b[0m       \u001b[38;5;241m.\u001b[39mformat(\u001b[38;5;124m\"\u001b[39m\u001b[38;5;124mcsv\u001b[39m\u001b[38;5;124m\"\u001b[39m)\n\u001b[1;32m      5\u001b[0m       \u001b[38;5;241m.\u001b[39moption(\u001b[38;5;124m\"\u001b[39m\u001b[38;5;124mheader\u001b[39m\u001b[38;5;124m\"\u001b[39m, \u001b[38;5;124m\"\u001b[39m\u001b[38;5;124mtrue\u001b[39m\u001b[38;5;124m\"\u001b[39m)\n\u001b[1;32m      6\u001b[0m       \u001b[38;5;241m.\u001b[39mload(\u001b[38;5;124m\"\u001b[39m\u001b[38;5;124m../data/insurance_claims.csv\u001b[39m\u001b[38;5;124m\"\u001b[39m));\n\u001b[1;32m      7\u001b[0m \u001b[38;5;66;03m#Manually Align Columns (je me suis rendu compte )\u001b[39;00m\n\u001b[1;32m      8\u001b[0m df \u001b[38;5;241m=\u001b[39m df\u001b[38;5;241m.\u001b[39mwithColumnRenamed(\u001b[38;5;124m\"\u001b[39m\u001b[38;5;124mcapital-gains\u001b[39m\u001b[38;5;124m\"\u001b[39m, \u001b[38;5;124m\"\u001b[39m\u001b[38;5;124mcapital_gains\u001b[39m\u001b[38;5;124m\"\u001b[39m) \\\n\u001b[1;32m      9\u001b[0m        \u001b[38;5;241m.\u001b[39mwithColumnRenamed(\u001b[38;5;124m\"\u001b[39m\u001b[38;5;124mcapital-loss\u001b[39m\u001b[38;5;124m\"\u001b[39m, \u001b[38;5;124m\"\u001b[39m\u001b[38;5;124mcapital_loss\u001b[39m\u001b[38;5;124m\"\u001b[39m)\n",
      "\u001b[0;31mNameError\u001b[0m: name 'spark' is not defined"
     ]
    }
   ],
   "source": [
    "# Read CSV file into a DataFrame\n",
    "# Initial Load of Bronze Table\n",
    "df = (spark.read\n",
    "      .format(\"csv\")\n",
    "      .option(\"header\", \"true\")\n",
    "      .load(\"../data/insurance_claims.csv\"));\n",
    "#Manually Align Columns (je me suis rendu compte )\n",
    "df = df.withColumnRenamed(\"capital-gains\", \"capital_gains\") \\\n",
    "       .withColumnRenamed(\"capital-loss\", \"capital_loss\")\n",
    "\n",
    "df.write.format(\"delta\").mode(\"append\").saveAsTable(\"default.insurance_claimsv3_cdf\")\n",
    "df.show(5)"
   ]
  },
  {
   "cell_type": "code",
   "execution_count": 51,
   "metadata": {},
   "outputs": [
    {
     "name": "stdout",
     "output_type": "stream",
     "text": [
      "Last version: 14\n"
     ]
    }
   ],
   "source": [
    "#%%sparksql\n",
    "#DROP TABLE IF EXISTS default.insurance_claimsv3_cleansed;\n",
    "history_df = spark.sql(\"DESCRIBE HISTORY '/opt/workspace/data/delta_lake/insurance_claimsv3_cleansed'\")\n",
    "latest_version = history_df.head(1)[0]['version']\n",
    "print(f\"Last version: {latest_version}\")"
   ]
  },
  {
   "cell_type": "code",
   "execution_count": 53,
   "metadata": {},
   "outputs": [
    {
     "data": {
      "text/html": [
       "<table><tr style=\"border-bottom: 1px solid\"></tr></table>"
      ],
      "text/plain": [
       "<IPython.core.display.HTML object>"
      ]
     },
     "execution_count": 53,
     "metadata": {},
     "output_type": "execute_result"
    }
   ],
   "source": [
    "%%sparksql\n",
    "CREATE OR REPLACE TABLE default.insurance_claimsv3_cleansed (\n",
    "    ---ici je cree un table silver en utilisant le medallion architecture\n",
    "    months_as_customer STRING,\n",
    "    age STRING,\n",
    "    policy_number STRING,\n",
    "    policy_bind_date STRING, \n",
    "    policy_state STRING, \n",
    "    policy_csl STRING,\n",
    "    policy_deductable STRING, \n",
    "    policy_annual_premium STRING, \n",
    "    umbrella_limit STRING,  \n",
    "    insured_zip STRING, \n",
    "    insured_sex STRING, \n",
    "    insured_education_level STRING, \n",
    "    insured_occupation STRING, \n",
    "    insured_hobbies STRING, \n",
    "    insured_relationship STRING,  \n",
    "    capital_gains STRING, \n",
    "    capital_loss STRING, \n",
    "    incident_date STRING,\n",
    "    incident_type STRING, \n",
    "    collision_type STRING,\n",
    "    incident_severity STRING,\n",
    "    authorities_contacted STRING,\n",
    "    incident_state STRING,\n",
    "    incident_city STRING,\n",
    "    incident_location STRING,\n",
    "    incident_hour_of_the_day STRING,\n",
    "    number_of_vehicles_involved STRING,\n",
    "    property_damage STRING,\n",
    "    bodily_injuries STRING,\n",
    "    witnesses STRING,\n",
    "    police_report_available STRING,\n",
    "    total_claim_amount STRING,\n",
    "    injury_claim STRING,\n",
    "    property_claim STRING,\n",
    "    vehicle_claim STRING,\n",
    "    auto_make STRING,\n",
    "    auto_model STRING,\n",
    "    auto_year STRING,\n",
    "    fraud_reported STRING,\n",
    "    _c39 STRING \n",
    "    \n",
    ") USING DELTA LOCATION '/opt/workspace/data/delta_lake/insurance_claimsv3_cleansed'\n",
    "TBLPROPERTIES (delta.enableChangeDataFeed = true, medallionLevel = 'silver'\n",
    "/*\n",
    "#, updatedFromTable= 'default.insurance_claimsv3_cdf', updatedFromTableVersion= '29' # ici si on ne veut pas a chaque fois specifier la version\n",
    "#on remplace 29 par {latest_version} cependant si on veut une version specifique on supprime la table et on recree la table  \n",
    "#updatedFromTable= 'default.insurance_claimsv3_cdf', updatedFromTableVersion= '{latest_version}'  \n",
    "*/\n",
    ", updatedFromTable= 'default.insurance_claimsv3_cdf', updatedFromTableVersion= '69'\n",
    ");"
   ]
  },
  {
   "cell_type": "code",
   "execution_count": 54,
   "metadata": {},
   "outputs": [
    {
     "data": {
      "text/plain": [
       "70"
      ]
     },
     "execution_count": 54,
     "metadata": {},
     "output_type": "execute_result"
    }
   ],
   "source": [
    "#get the value of the last Updated Version from the silver table\n",
    "lastUpdateVersion = int(spark.sql(\"SHOW TBLPROPERTIES default.insurance_claimsv3_cleansed ('updatedFromTableVersion')\").first()[\"value\"])+1\n",
    "lastUpdateVersion"
   ]
  },
  {
   "cell_type": "code",
   "execution_count": 55,
   "metadata": {},
   "outputs": [
    {
     "name": "stderr",
     "output_type": "stream",
     "text": [
      "                                                                                \r"
     ]
    },
    {
     "data": {
      "text/plain": [
       "83"
      ]
     },
     "execution_count": 55,
     "metadata": {},
     "output_type": "execute_result"
    }
   ],
   "source": [
    "#get the value of the last Updated Version from the silver table\n",
    "latestVersion = spark.sql(\"DESCRIBE HISTORY default.insurance_claimsv3_cdf\").first()[\"version\"]\n",
    "latestVersion"
   ]
  },
  {
   "cell_type": "code",
   "execution_count": 56,
   "metadata": {},
   "outputs": [],
   "source": [
    "#Create temp view of chnage to bronze table since last load of silver"
   ]
  },
  {
   "cell_type": "code",
   "execution_count": 57,
   "metadata": {},
   "outputs": [],
   "source": [
    "#!pip install spark-sql-magic"
   ]
  },
  {
   "cell_type": "code",
   "execution_count": 58,
   "metadata": {},
   "outputs": [
    {
     "name": "stdout",
     "output_type": "stream",
     "text": [
      "++\n",
      "||\n",
      "++\n",
      "++\n",
      "\n"
     ]
    }
   ],
   "source": [
    "\n",
    "#%%sparksql\n",
    "#La fonction table_changes est  utilisée pour obtenir les changements dans une table Delta.\n",
    "query = f\"\"\"\n",
    "CREATE OR REPLACE TEMPORARY VIEW bronzeTable_latest_version as\n",
    "SELECT * FROM (\n",
    "    SELECT *, \n",
    "        RANK() OVER (\n",
    "        PARTITION BY (lower(months_as_customer), lower(age), lower(policy_number), policy_bind_date) \n",
    "        ORDER BY policy_annual_premium DESC) as prix_de_la_police  \n",
    "    --FROM table_changes('default.insurance_claimsv3_cdf',{lastUpdateVersion},{latestVersion})\n",
    "    FROM table_changes('default.insurance_claimsv3_cdf', 1, 8)  -- Corrected version order\n",
    "    WHERE policy_annual_premium IS NOT NULL AND age IS NOT NULL AND policy_number IS NOT NULL AND  _change_type !='update_preimage'\n",
    ")\n",
    "WHERE policy_deductable = 1;\n",
    "\"\"\"\n",
    "\n",
    "df = spark.sql(query)\n",
    "df.show()\n"
   ]
  },
  {
   "cell_type": "code",
   "execution_count": 59,
   "metadata": {},
   "outputs": [
    {
     "name": "stderr",
     "output_type": "stream",
     "text": [
      "                                                                                \r"
     ]
    },
    {
     "data": {
      "text/html": [
       "<table><tr style=\"border-bottom: 1px solid\"><td style=\"font-weight: bold\">num_affected_rows</td><td style=\"font-weight: bold\">num_updated_rows</td><td style=\"font-weight: bold\">num_deleted_rows</td><td style=\"font-weight: bold\">num_inserted_rows</td></tr><tr><td>0</td><td>0</td><td>0</td><td>0</td></tr></table>"
      ],
      "text/plain": [
       "<IPython.core.display.HTML object>"
      ]
     },
     "execution_count": 59,
     "metadata": {},
     "output_type": "execute_result"
    }
   ],
   "source": [
    "%%sparksql \n",
    "MERGE INTO default.insurance_claimsv3_cleansed t \n",
    "USING bronzeTable_latest_version s \n",
    "ON lower(t.months_as_customer) = lower(s.months_as_customer)\n",
    "AND lower(t.age) = lower(s.age)\n",
    "AND lower(t.policy_number) = lower(s.policy_number)\n",
    "AND t.policy_bind_date = s.policy_bind_date\n",
    "WHEN MATCHED AND s._change_type='update_postimage' OR s._change_type='update_postimage' THEN UPDATE SET *\n",
    "WHEN MATCHED AND s._change_type='delete' THEN DELETE\n",
    "WHEN NOT MATCHED AND s._change_type='insert' THEN INSERT *\n",
    "\n",
    "\n",
    "\n",
    "---Merge Change Data into Silver\n",
    "---ceci est incompatible tout simplement parceque jai change le tableau \n",
    "---results = spark.sql(\" SELECT * FROM default.insurance_claimsv3_cdf LIMIT 3\") \n",
    "\n"
   ]
  },
  {
   "cell_type": "code",
   "execution_count": 60,
   "metadata": {},
   "outputs": [
    {
     "data": {
      "text/html": [
       "<table><tr style=\"border-bottom: 1px solid\"></tr></table>"
      ],
      "text/plain": [
       "<IPython.core.display.HTML object>"
      ]
     },
     "execution_count": 60,
     "metadata": {},
     "output_type": "execute_result"
    }
   ],
   "source": [
    "\n",
    "%%sparksql\n",
    "ALTER TABLE default.insurance_claimsv3_cleansed SET TBLPROPERTIES(updatedFromTableVersion = {latestVersion});\n"
   ]
  },
  {
   "cell_type": "code",
   "execution_count": 61,
   "metadata": {},
   "outputs": [
    {
     "name": "stderr",
     "output_type": "stream",
     "text": [
      "                                                                                \r"
     ]
    },
    {
     "data": {
      "text/html": [
       "<table><tr style=\"border-bottom: 1px solid\"><td style=\"font-weight: bold\">num_affected_rows</td></tr><tr><td>7000</td></tr></table>"
      ],
      "text/plain": [
       "<IPython.core.display.HTML object>"
      ]
     },
     "execution_count": 61,
     "metadata": {},
     "output_type": "execute_result"
    }
   ],
   "source": [
    "%%sparksql\n",
    "--Update Bronze Table\n",
    "-- Mise à jour des valeurs dans la table\n",
    "UPDATE default.insurance_claimsv3_cdf\n",
    "SET \n",
    "    -- Mettre à 0 si l'âge est inférieur à 16 ou supérieur à 100\n",
    "    age = CASE \n",
    "            WHEN age < 16 OR age > 100 THEN 0\n",
    "            ELSE age\n",
    "          END,\n",
    "\n",
    "    -- Mettre à 0 si le montant total des réclamations est négatif ou si le mois d'abonnement est négatif\n",
    "    total_claim_amount = CASE\n",
    "                           WHEN total_claim_amount < 0 OR months_as_customer < 0 THEN 0\n",
    "                           ELSE total_claim_amount\n",
    "                         END,\n",
    "\n",
    "    -- Mettre à 0 si le numéro de police est NULL\n",
    "    policy_number = CASE \n",
    "                      WHEN policy_number IS NULL THEN 0\n",
    "                      ELSE policy_number\n",
    "                    END,\n",
    "\n",
    "    -- Mettre à 0 si la date de l'incident est NULL\n",
    "    incident_date = CASE\n",
    "                      WHEN incident_date IS NULL THEN 0\n",
    "                      ELSE incident_date\n",
    "                    END\n",
    ";\n"
   ]
  },
  {
   "cell_type": "code",
   "execution_count": 62,
   "metadata": {},
   "outputs": [
    {
     "name": "stdout",
     "output_type": "stream",
     "text": [
      "+------------------+---+-------------+----------------+------------+----------+-----------------+---------------------+--------------+-----------+-----------+-----------------------+------------------+---------------+--------------------+-------------+------------+-------------+--------------------+--------------+-----------------+---------------------+--------------+-------------+-----------------+------------------------+---------------------------+---------------+---------------+---------+-----------------------+------------------+------------+--------------+-------------+---------+----------+---------+--------------+----+------------+-----------+--------------+------------------------+------------+----------------------+-----------------+-------------------+\n",
      "|months_as_customer|age|policy_number|policy_bind_date|policy_state|policy_csl|policy_deductable|policy_annual_premium|umbrella_limit|insured_zip|insured_sex|insured_education_level|insured_occupation|insured_hobbies|insured_relationship|capital_gains|capital_loss|incident_date|       incident_type|collision_type|incident_severity|authorities_contacted|incident_state|incident_city|incident_location|incident_hour_of_the_day|number_of_vehicles_involved|property_damage|bodily_injuries|witnesses|police_report_available|total_claim_amount|injury_claim|property_claim|vehicle_claim|auto_make|auto_model|auto_year|fraud_reported|_c39|missing_data|  age_group|age_risk_score|risque_selon_lanciennete|risque_total|risque_selon_la_fraude|cathegorie_risque|fraud_reported_bool|\n",
      "+------------------+---+-------------+----------------+------------+----------+-----------------+---------------------+--------------+-----------+-----------+-----------------------+------------------+---------------+--------------------+-------------+------------+-------------+--------------------+--------------+-----------------+---------------------+--------------+-------------+-----------------+------------------------+---------------------------+---------------+---------------+---------+-----------------------+------------------+------------+--------------+-------------+---------+----------+---------+--------------+----+------------+-----------+--------------+------------------------+------------+----------------------+-----------------+-------------------+\n",
      "|               328| 48|       521585|      2014-10-17|          OH|   250/500|             1000|              1406.91|             0|     466132|       MALE|                     MD|      craft-repair|       sleeping|             husband|        53300|           0|   2015-01-25|Single Vehicle Co...|Side Collision|     Major Damage|               Police|            SC|     Columbus|   9935 4th Drive|                       5|                          1|            YES|              1|        2|                    YES|             71610|        6510|         13020|        52080|     Saab|       92x|     2004|             Y|null|       false| Middle_Age|           0.6|                     0.6|   0.6333333|                   0.7|           medium|               true|\n",
      "|               228| 42|       342868|      2006-06-27|          IN|   250/500|             2000|              1197.22|       5000000|     468176|       MALE|                     MD| machine-op-inspct|        reading|      other-relative|            0|           0|   2015-01-21|       Vehicle Theft|             ?|     Minor Damage|               Police|            VA|    Riverwood|     6608 MLK Hwy|                       8|                          1|              ?|              0|        0|                      ?|              5070|         780|           780|         3510| Mercedes|      E400|     2007|             Y|null|       false| Middle_Age|           0.6|                     0.6|   0.6333333|                   0.7|           medium|               true|\n",
      "|               134| 29|       687698|      2000-09-06|          OH|   100/300|             2000|              1413.14|       5000000|     430632|     FEMALE|                    PhD|             sales|    board-games|           own-child|        35100|           0|   2015-02-22|Multi-vehicle Col...|Rear Collision|     Minor Damage|               Police|            NY|     Columbus|7121 Francis Lane|                       7|                          3|             NO|              2|        3|                     NO|             34650|        7700|          3850|        23100|    Dodge|       RAM|     2007|             N|null|       false|Young_Adult|           0.6|                     0.6|         0.4|                   0.0|              low|              false|\n",
      "+------------------+---+-------------+----------------+------------+----------+-----------------+---------------------+--------------+-----------+-----------+-----------------------+------------------+---------------+--------------------+-------------+------------+-------------+--------------------+--------------+-----------------+---------------------+--------------+-------------+-----------------+------------------------+---------------------------+---------------+---------------+---------+-----------------------+------------------+------------+--------------+-------------+---------+----------+---------+--------------+----+------------+-----------+--------------+------------------------+------------+----------------------+-----------------+-------------------+\n",
      "\n"
     ]
    }
   ],
   "source": [
    "results = spark.sql(\" SELECT * FROM default.insurance_claimsv3_cdf LIMIT 3\") \n",
    "results.show()\n"
   ]
  },
  {
   "cell_type": "code",
   "execution_count": 63,
   "metadata": {},
   "outputs": [
    {
     "data": {
      "text/plain": [
       "\"\\n%%sparksql\\n-- Ajouter la colonne missing_data si elle n'existe pas\\n-- ALTER TABLE default.insurance_claimsv3_cdf ADD COLUMNS (missing_data BOOLEAN);\\n\""
      ]
     },
     "execution_count": 63,
     "metadata": {},
     "output_type": "execute_result"
    }
   ],
   "source": [
    "'''\n",
    "%%sparksql\n",
    "-- Ajouter la colonne missing_data si elle n'existe pas\n",
    "-- ALTER TABLE default.insurance_claimsv3_cdf ADD COLUMNS (missing_data BOOLEAN);\n",
    "'''"
   ]
  },
  {
   "cell_type": "code",
   "execution_count": 64,
   "metadata": {},
   "outputs": [
    {
     "name": "stdout",
     "output_type": "stream",
     "text": [
      "La colonne missing_data existe déjà.\n"
     ]
    }
   ],
   "source": [
    "# Nom de la table et colonne à vérifier\n",
    "table_name = \"default.insurance_claimsv3_cdf\"\n",
    "column_name = \"missing_data\"\n",
    "new_column_type = \"BOOLEAN\"\n",
    "\n",
    "# Vérifier si la colonne existe déjà dans la table\n",
    "#columns = [col.name for col in spark.table(table_name).columns]\n",
    "columns = [col for col in spark.table(table_name).columns]\n",
    "\n",
    "# Si la colonne n'existe pas, ajouter la colonne\n",
    "if column_name not in columns:\n",
    "    # Ajouter la colonne à la table\n",
    "    spark.sql(f\"ALTER TABLE {table_name} ADD COLUMNS ({column_name} {new_column_type})\")\n",
    "    print(f\"La colonne {column_name} a été ajoutée à la table.\")\n",
    "else:\n",
    "    print(f\"La colonne {column_name} existe déjà.\")\n",
    "    "
   ]
  },
  {
   "cell_type": "code",
   "execution_count": 65,
   "metadata": {},
   "outputs": [
    {
     "name": "stderr",
     "output_type": "stream",
     "text": [
      "                                                                                \r"
     ]
    },
    {
     "data": {
      "text/html": [
       "<table><tr style=\"border-bottom: 1px solid\"><td style=\"font-weight: bold\">num_affected_rows</td></tr><tr><td>7000</td></tr></table>"
      ],
      "text/plain": [
       "<IPython.core.display.HTML object>"
      ]
     },
     "execution_count": 65,
     "metadata": {},
     "output_type": "execute_result"
    }
   ],
   "source": [
    "%%sparksql\n",
    "-- Mise à jour de la table pour marquer les données manquantes (je mets ces deux tirets car c est sparksql\n",
    "UPDATE default.insurance_claimsv3_cdf  \n",
    "SET \n",
    "    missing_data = CASE \n",
    "                     WHEN policy_number IS NULL OR policy_number = '' THEN TRUE\n",
    "                     WHEN incident_date IS NULL OR incident_date = '' THEN TRUE\n",
    "                     WHEN total_claim_amount IS NULL OR total_claim_amount = '' THEN TRUE\n",
    "                     ELSE FALSE\n",
    "                   END;\n",
    "                "
   ]
  },
  {
   "cell_type": "code",
   "execution_count": 66,
   "metadata": {},
   "outputs": [
    {
     "data": {
      "text/plain": [
       "\"\\n%%sparksql\\n-- Ajouter la colonne age_group si elle n'existe pas\\nALTER TABLE default.insurance_claimsv3_cdf ADD COLUMNS (age_group STRING);\\n\""
      ]
     },
     "execution_count": 66,
     "metadata": {},
     "output_type": "execute_result"
    }
   ],
   "source": [
    "\"\"\"\n",
    "%%sparksql\n",
    "-- Ajouter la colonne age_group si elle n'existe pas\n",
    "ALTER TABLE default.insurance_claimsv3_cdf ADD COLUMNS (age_group STRING);\n",
    "\"\"\""
   ]
  },
  {
   "cell_type": "code",
   "execution_count": 67,
   "metadata": {},
   "outputs": [
    {
     "name": "stdout",
     "output_type": "stream",
     "text": [
      "La colonne age_group existe déjà.\n"
     ]
    }
   ],
   "source": [
    "# Nom de la table et colonne à vérifier\n",
    "table_name = \"default.insurance_claimsv3_cdf\"\n",
    "column_name = \"age_group\"\n",
    "new_column_type = \"STRING\"\n",
    "\n",
    "# Vérifier si la colonne existe déjà dans la table\n",
    "#columns = [col.name for col in spark.table(table_name).columns]\n",
    "columns = [col for col in spark.table(table_name).columns]\n",
    "\n",
    "# Si la colonne n'existe pas, ajouter la colonne\n",
    "if column_name not in columns:\n",
    "    # Ajouter la colonne à la table\n",
    "    spark.sql(f\"ALTER TABLE {table_name} ADD COLUMNS ({column_name} {new_column_type})\")\n",
    "    print(f\"La colonne {column_name} a été ajoutée à la table.\")\n",
    "else:\n",
    "    print(f\"La colonne {column_name} existe déjà.\")"
   ]
  },
  {
   "cell_type": "code",
   "execution_count": 68,
   "metadata": {},
   "outputs": [
    {
     "name": "stdout",
     "output_type": "stream",
     "text": [
      "La colonne age_risk_score existe déjà.\n"
     ]
    }
   ],
   "source": [
    "# Nom de la table et colonne à vérifier\n",
    "table_name = \"default.insurance_claimsv3_cdf\"\n",
    "column_name = \"age_risk_score\"\n",
    "new_column_type = \"FLOAT\"\n",
    "\n",
    "#ALTER TABLE default.insurance_claimsv3_cdf ADD COLUMNS (new_float_column FLOAT);\n",
    "\n",
    "# Vérifier si la colonne existe déjà dans la table\n",
    "#columns = [col.name for col in spark.table(table_name).columns]\n",
    "columns = [col for col in spark.table(table_name).columns]\n",
    "\n",
    "# Si la colonne n'existe pas, ajouter la colonne\n",
    "if column_name not in columns:\n",
    "    # Ajouter la colonne à la table\n",
    "    spark.sql(f\"ALTER TABLE {table_name} ADD COLUMNS ({column_name} {new_column_type})\")\n",
    "    print(f\"La colonne {column_name} a été ajoutée à la table.\")\n",
    "else:\n",
    "    print(f\"La colonne {column_name} existe déjà.\")"
   ]
  },
  {
   "cell_type": "code",
   "execution_count": 69,
   "metadata": {},
   "outputs": [
    {
     "name": "stdout",
     "output_type": "stream",
     "text": [
      "La colonne risque_selon_lanciennete existe déjà.\n"
     ]
    }
   ],
   "source": [
    "# Nom de la table et colonne à vérifier\n",
    "table_name = \"default.insurance_claimsv3_cdf\"\n",
    "column_name = \"risque_selon_lanciennete\"  \n",
    "new_column_type = \"FLOAT\"\n",
    "\n",
    "#ALTER TABLE default.insurance_claimsv3_cdf ADD COLUMNS (new_float_column FLOAT);\n",
    "\n",
    "# Vérifier si la colonne existe déjà dans la table\n",
    "#columns = [col.name for col in spark.table(table_name).columns]\n",
    "columns = [col for col in spark.table(table_name).columns]\n",
    "\n",
    "# Si la colonne n'existe pas, ajouter la colonne\n",
    "if column_name not in columns:\n",
    "    # Ajouter la colonne à la table\n",
    "    spark.sql(f\"ALTER TABLE {table_name} ADD COLUMNS ({column_name} {new_column_type})\")\n",
    "    print(f\"La colonne {column_name} a été ajoutée à la table.\")\n",
    "else:\n",
    "    print(f\"La colonne {column_name} existe déjà.\")"
   ]
  },
  {
   "cell_type": "code",
   "execution_count": 70,
   "metadata": {},
   "outputs": [
    {
     "name": "stdout",
     "output_type": "stream",
     "text": [
      "La colonne risque_total existe déjà.\n"
     ]
    }
   ],
   "source": [
    "# Nom de la table et colonne à vérifier\n",
    "table_name = \"default.insurance_claimsv3_cdf\"\n",
    "column_name = \"risque_total\"  \n",
    "new_column_type = \"FLOAT\"\n",
    "\n",
    "#ALTER TABLE default.insurance_claimsv3_cdf ADD COLUMNS (new_float_column FLOAT);\n",
    "\n",
    "# Vérifier si la colonne existe déjà dans la table\n",
    "#columns = [col.name for col in spark.table(table_name).columns]\n",
    "columns = [col for col in spark.table(table_name).columns]\n",
    "\n",
    "# Si la colonne n'existe pas, ajouter la colonne\n",
    "if column_name not in columns:\n",
    "    # Ajouter la colonne à la table\n",
    "    spark.sql(f\"ALTER TABLE {table_name} ADD COLUMNS ({column_name} {new_column_type})\")\n",
    "    print(f\"La colonne {column_name} a été ajoutée à la table.\")\n",
    "else:\n",
    "    print(f\"La colonne {column_name} existe déjà.\")"
   ]
  },
  {
   "cell_type": "code",
   "execution_count": 71,
   "metadata": {},
   "outputs": [
    {
     "name": "stdout",
     "output_type": "stream",
     "text": [
      "La colonne risque_selon_la_fraude existe déjà.\n"
     ]
    }
   ],
   "source": [
    "# Nom de la table et colonne à vérifier\n",
    "# ici nous allons attribuer un score de risque si l'assuré a fraudé\n",
    "table_name = \"default.insurance_claimsv3_cdf\"\n",
    "column_name = \"risque_selon_la_fraude\"\n",
    "new_column_type = \"FLOAT\"\n",
    "\n",
    "#ALTER TABLE default.insurance_claimsv3_cdf ADD COLUMNS (new_float_column FLOAT);\n",
    "\n",
    "# Vérifier si la colonne existe déjà dans la table\n",
    "#columns = [col.name for col in spark.table(table_name).columns]\n",
    "columns = [col for col in spark.table(table_name).columns]\n",
    "\n",
    "# Si la colonne n'existe pas, ajouter la colonne\n",
    "if column_name not in columns:\n",
    "    # Ajouter la colonne à la table\n",
    "    spark.sql(f\"ALTER TABLE {table_name} ADD COLUMNS ({column_name} {new_column_type})\")\n",
    "    print(f\"La colonne {column_name} a été ajoutée à la table.\")\n",
    "else:\n",
    "    print(f\"La colonne {column_name} existe déjà.\")"
   ]
  },
  {
   "cell_type": "code",
   "execution_count": 72,
   "metadata": {},
   "outputs": [
    {
     "data": {
      "text/plain": [
       "\"\\nLe mappage des colonnes dans Delta Lake est une fonctionnalité importante qui permet de gérer les changements dans le schéma\\nd'une table de manière plus flexible\\nÉvolution du schéma sans rupture :\\nLorsqu'une colonne est renommée ou réorganisée dans un DataFrame, Delta Lake peut être configuré pour mapper automatiquement les\\nanciennes colonnes aux nouvelles. Cela permet de gérer l'évolution du schéma sans avoir à recharger ou migrer les données de manière lourde.\\n\\nChangement de noms de colonnes :\\nQuand tu modifies le nom d'une colonne, si tu utilises un mode de mappage comme name, Delta pourra automatiquement faire le lien entre \\nl'ancien et le nouveau nom, ce qui évite des erreurs lors de l'interrogation des données ou de la lecture de versions anciennes de la table.\\n\\n\\n\""
      ]
     },
     "execution_count": 72,
     "metadata": {},
     "output_type": "execute_result"
    }
   ],
   "source": [
    "#%%sparksql\n",
    "# 1. Mettre à jour le protocole Delta pour supporter le mappage des colonnes\n",
    "spark.sql(\"\"\"\n",
    "ALTER TABLE default.insurance_claimsv3_cdf \n",
    "SET TBLPROPERTIES (\n",
    "    'delta.columnMapping.mode' = 'name',\n",
    "    'delta.minReaderVersion' = '3', \n",
    "    'delta.minWriterVersion' = '7'\n",
    ");\n",
    "\"\"\")\n",
    "\n",
    "# minreader 2 minwriter 5 \n",
    "\n",
    "# 2. Activer le mappage des colonnes sur la table Delta\n",
    "spark.sql(\"\"\"\n",
    "ALTER TABLE default.insurance_claimsv3_cdf \n",
    "SET TBLPROPERTIES ('delta.columnMapping.mode' = 'name');\n",
    "\"\"\")\n",
    "\n",
    "# 3. Si nécessaire, supprimer la colonne (fraud_reported_bool)\n",
    "spark.sql(\"\"\"\n",
    "ALTER TABLE default.insurance_claimsv3_cdf \n",
    "DROP COLUMN IF EXISTS fraud_reported_bool;\n",
    "\"\"\")\n",
    "\n",
    "# 4. Ajouter la colonne fraud_reported_bool si nécessaire\n",
    "spark.sql(\"\"\"\n",
    "ALTER TABLE default.insurance_claimsv3_cdf \n",
    "ADD COLUMNS (fraud_reported_bool BOOLEAN);\n",
    "\"\"\")\n",
    "\n",
    "\n",
    "'''\n",
    "-- Supprimer la colonne fraud_reported_bool si elle existe\n",
    "ALTER TABLE default.insurance_claimsv3_cdf DROP COLUMN IF EXISTS fraud_reported_bool;\n",
    "'''\n",
    "\n",
    "'''\n",
    "Le mappage des colonnes dans Delta Lake est une fonctionnalité importante qui permet de gérer les changements dans le schéma\n",
    "d'une table de manière plus flexible\n",
    "Évolution du schéma sans rupture :\n",
    "Lorsqu'une colonne est renommée ou réorganisée dans un DataFrame, Delta Lake peut être configuré pour mapper automatiquement les\n",
    "anciennes colonnes aux nouvelles. Cela permet de gérer l'évolution du schéma sans avoir à recharger ou migrer les données de manière lourde.\n",
    "\n",
    "Changement de noms de colonnes :\n",
    "Quand tu modifies le nom d'une colonne, si tu utilises un mode de mappage comme name, Delta pourra automatiquement faire le lien entre \n",
    "l'ancien et le nouveau nom, ce qui évite des erreurs lors de l'interrogation des données ou de la lecture de versions anciennes de la table.\n",
    "\n",
    "\n",
    "'''"
   ]
  },
  {
   "cell_type": "code",
   "execution_count": 73,
   "metadata": {},
   "outputs": [
    {
     "name": "stdout",
     "output_type": "stream",
     "text": [
      "La colonne cathegorie_risque existe déjà.\n"
     ]
    }
   ],
   "source": [
    "# Nom de la table et colonne à vérifier\n",
    "# ici nous allons attribuer un score de risque si l'assuré a fraudé\n",
    "table_name = \"default.insurance_claimsv3_cdf\"\n",
    "column_name = \"cathegorie_risque\"\n",
    "new_column_type = \"STRING\"\n",
    "    \n",
    "#ALTER TABLE default.insurance_claimsv3_cdf ADD COLUMNS (new_float_column FLOAT);\n",
    "\n",
    "# Vérifier si la colonne existe déjà dans la table\n",
    "#columns = [col.name for col in spark.table(table_name).columns]\n",
    "columns = [col for col in spark.table(table_name).columns]\n",
    "\n",
    "# Si la colonne n'existe pas, ajouter la colonne\n",
    "if column_name not in columns:\n",
    "    # Ajouter la colonne à la table\n",
    "    spark.sql(f\"ALTER TABLE {table_name} ADD COLUMNS ({column_name} {new_column_type})\")\n",
    "    print(f\"La colonne {column_name} a été ajoutée à la table.\")\n",
    "else:\n",
    "    print(f\"La colonne {column_name} existe déjà.\")"
   ]
  },
  {
   "cell_type": "code",
   "execution_count": 74,
   "metadata": {},
   "outputs": [
    {
     "name": "stdout",
     "output_type": "stream",
     "text": [
      "+------+------------------------------------+--------------------------------------------+-----------+-------------------------------------------------------------------------------------------------------------------------+-----------------------+----------------------+----------------+--------+-----------+---------------------------------------------------------------------------------------------------------------------------------------+----------------+----------------+-------------------------------------------------------------------------------------------+\n",
      "|format|id                                  |name                                        |description|location                                                                                                                 |createdAt              |lastModified          |partitionColumns|numFiles|sizeInBytes|properties                                                                                                                             |minReaderVersion|minWriterVersion|tableFeatures                                                                              |\n",
      "+------+------------------------------------+--------------------------------------------+-----------+-------------------------------------------------------------------------------------------------------------------------+-----------------------+----------------------+----------------+--------+-----------+---------------------------------------------------------------------------------------------------------------------------------------+----------------+----------------+-------------------------------------------------------------------------------------------+\n",
      "|delta |55c36f38-7c30-4a20-9e3d-9d52daa600c7|spark_catalog.default.insurance_claimsv3_cdf|null       |file:/opt/workspace/insurance_claims/spark-warehouse/insurance_claims/insurance_claims/spark-warehouse/insurance_claimsv4|2025-09-27 02:21:28.119|2025-10-02 18:39:08.11|[]              |7       |634412     |{delta.enableChangeDataFeed -> true, medallionLevel -> bronze, delta.columnMapping.mode -> name, delta.columnMapping.maxColumnId -> 54}|3               |7               |[appendOnly, changeDataFeed, checkConstraints, columnMapping, generatedColumns, invariants]|\n",
      "+------+------------------------------------+--------------------------------------------+-----------+-------------------------------------------------------------------------------------------------------------------------+-----------------------+----------------------+----------------+--------+-----------+---------------------------------------------------------------------------------------------------------------------------------------+----------------+----------------+-------------------------------------------------------------------------------------------+\n",
      "\n"
     ]
    }
   ],
   "source": [
    "#ici en fait j'utilise python voila le prkoi je fais spark.sql\n",
    "# vérifier la version du protocole Delta de ma table\n",
    "spark.sql(\"\"\"\n",
    "DESCRIBE DETAIL default.insurance_claimsv3_cdf\n",
    "\"\"\").show(truncate=False)"
   ]
  },
  {
   "cell_type": "code",
   "execution_count": 75,
   "metadata": {},
   "outputs": [
    {
     "data": {
      "text/plain": [
       "\"\\n%%sparksql\\n-- Ajouter la colonne missing_data si elle n'existe pas\\nALTER TABLE default.insurance_claimsv3_cdf ADD COLUMNS (fraud_reported_bool BOOLEAN);\\n\""
      ]
     },
     "execution_count": 75,
     "metadata": {},
     "output_type": "execute_result"
    }
   ],
   "source": [
    "'''\n",
    "%%sparksql\n",
    "-- Ajouter la colonne missing_data si elle n'existe pas\n",
    "ALTER TABLE default.insurance_claimsv3_cdf ADD COLUMNS (fraud_reported_bool BOOLEAN);\n",
    "'''"
   ]
  },
  {
   "cell_type": "code",
   "execution_count": 76,
   "metadata": {},
   "outputs": [
    {
     "name": "stderr",
     "output_type": "stream",
     "text": [
      "                                                                                \r"
     ]
    },
    {
     "data": {
      "text/html": [
       "<table><tr style=\"border-bottom: 1px solid\"><td style=\"font-weight: bold\">num_affected_rows</td></tr><tr><td>7000</td></tr></table>"
      ],
      "text/plain": [
       "<IPython.core.display.HTML object>"
      ]
     },
     "execution_count": 76,
     "metadata": {},
     "output_type": "execute_result"
    }
   ],
   "source": [
    " \n",
    "%%sparksql\n",
    "-- Mise à jour de la table pour marquer les groupes d'âge\n",
    "UPDATE default.insurance_claimsv3_cdf  \n",
    "SET \n",
    "    age_group = CASE \n",
    "                  WHEN age < 25 THEN 'Young'\n",
    "                  WHEN age < 35 THEN 'Young_Adult'\n",
    "                  WHEN age < 50 THEN 'Middle_Age'\n",
    "                  WHEN age < 65 THEN 'Senior'\n",
    "                  ELSE 'Elder'\n",
    "                END;\n",
    " "
   ]
  },
  {
   "cell_type": "code",
   "execution_count": 77,
   "metadata": {},
   "outputs": [
    {
     "name": "stderr",
     "output_type": "stream",
     "text": [
      "                                                                                \r"
     ]
    },
    {
     "data": {
      "text/html": [
       "<table><tr style=\"border-bottom: 1px solid\"><td style=\"font-weight: bold\">num_affected_rows</td></tr><tr><td>7000</td></tr></table>"
      ],
      "text/plain": [
       "<IPython.core.display.HTML object>"
      ]
     },
     "execution_count": 77,
     "metadata": {},
     "output_type": "execute_result"
    }
   ],
   "source": [
    "\n",
    "%%sparksql\n",
    "-- Mise à jour de la table pour marquer les groupes d'âge\n",
    "UPDATE default.insurance_claimsv3_cdf  \n",
    "SET \n",
    "    fraud_reported_bool = CASE \n",
    "                  WHEN fraud_reported = \"Y\" THEN 'True'\n",
    "                  ELSE 'False'\n",
    "                END;\n",
    "\n"
   ]
  },
  {
   "cell_type": "code",
   "execution_count": 78,
   "metadata": {},
   "outputs": [
    {
     "name": "stderr",
     "output_type": "stream",
     "text": [
      "                                                                                \r"
     ]
    },
    {
     "data": {
      "text/html": [
       "<table><tr style=\"border-bottom: 1px solid\"><td style=\"font-weight: bold\">num_affected_rows</td></tr><tr><td>7000</td></tr></table>"
      ],
      "text/plain": [
       "<IPython.core.display.HTML object>"
      ]
     },
     "execution_count": 78,
     "metadata": {},
     "output_type": "execute_result"
    }
   ],
   "source": [
    "%%sparksql\n",
    "-- Mise à jour des risques par age ici jai dabord essayer de voir le nombre daccident par groupe et nous avons vu que les jeunes \n",
    "-- font moins daccident donc nous allons les favoriser en meme temps afin dattirer la clientelle jeune on aurait pu dire aussi\n",
    "-- que plus lage augmente  on acquiert plus dexperience  ce qui n est pas  a 100%  vrai on peut aussi dire plus on est vieux plus \n",
    "-- on pert certaine faculte. nous allons dans notre cas de figure un peu equilibrer notre jugement plus on est jeune plus on a moins \n",
    "-- dexperience et plus on prend de lage plus on pert certaines facultes \n",
    "UPDATE default.insurance_claimsv3_cdf  \n",
    "SET \n",
    "    age_risk_score = CASE \n",
    "                      WHEN age_group = \"Young\" THEN 0.3\n",
    "                      WHEN age_group = \"Young_Adult\" THEN 0.6\n",
    "                      WHEN age_group = \"Middle_Age\" THEN 0.6\n",
    "                      WHEN age_group = \"Senior\" THEN 0.3\n",
    "                      ELSE 0.0\n",
    "                    END;\n",
    "               "
   ]
  },
  {
   "cell_type": "code",
   "execution_count": 79,
   "metadata": {},
   "outputs": [
    {
     "name": "stderr",
     "output_type": "stream",
     "text": [
      "                                                                                \r"
     ]
    },
    {
     "data": {
      "text/html": [
       "<table><tr style=\"border-bottom: 1px solid\"><td style=\"font-weight: bold\">num_affected_rows</td></tr><tr><td>7000</td></tr></table>"
      ],
      "text/plain": [
       "<IPython.core.display.HTML object>"
      ]
     },
     "execution_count": 79,
     "metadata": {},
     "output_type": "execute_result"
    }
   ],
   "source": [
    "%%sparksql\n",
    "--  Score basé sur l'historique de l'anciennete selon le conducteur\n",
    "UPDATE default.insurance_claimsv3_cdf  \n",
    "SET \n",
    "    risque_selon_lanciennete = CASE \n",
    "                      WHEN months_as_customer > 12  THEN 0.6\n",
    "                      WHEN months_as_customer < 36  THEN 0.4\n",
    "                      ELSE 'low'\n",
    "                    END;\n",
    "\n",
    "\n",
    "               "
   ]
  },
  {
   "cell_type": "code",
   "execution_count": 80,
   "metadata": {},
   "outputs": [
    {
     "name": "stderr",
     "output_type": "stream",
     "text": [
      "                                                                                \r"
     ]
    },
    {
     "data": {
      "text/html": [
       "<table><tr style=\"border-bottom: 1px solid\"><td style=\"font-weight: bold\">num_affected_rows</td></tr><tr><td>7000</td></tr></table>"
      ],
      "text/plain": [
       "<IPython.core.display.HTML object>"
      ]
     },
     "execution_count": 80,
     "metadata": {},
     "output_type": "execute_result"
    }
   ],
   "source": [
    "%%sparksql\n",
    "--    # Score basé sur le fait si le conducteur a fraude ou pas \n",
    "UPDATE default.insurance_claimsv3_cdf  \n",
    "SET \n",
    "    risque_selon_la_fraude = CASE \n",
    "                      WHEN fraud_reported_bool = \"True\"  THEN 0.7\n",
    "                      ELSE 0.0\n",
    "                    END;\n",
    "\n",
    "\n",
    "               "
   ]
  },
  {
   "cell_type": "code",
   "execution_count": null,
   "metadata": {},
   "outputs": [],
   "source": [
    "         "
   ]
  },
  {
   "cell_type": "code",
   "execution_count": null,
   "metadata": {},
   "outputs": [],
   "source": [
    "\n",
    "               "
   ]
  },
  {
   "cell_type": "code",
   "execution_count": 81,
   "metadata": {},
   "outputs": [
    {
     "name": "stderr",
     "output_type": "stream",
     "text": [
      "                                                                                \r"
     ]
    },
    {
     "name": "stdout",
     "output_type": "stream",
     "text": [
      "+-------------+------------+\n",
      "|policy_number|risque_total|\n",
      "+-------------+------------+\n",
      "|       521585|   0.6333333|\n",
      "|       342868|   0.6333333|\n",
      "|       687698|         0.4|\n",
      "|       227811|   0.6333333|\n",
      "|       367455|         0.4|\n",
      "|       104594|   0.6333333|\n",
      "|       413978|         0.4|\n",
      "|       429027|         0.4|\n",
      "|       485665|         0.4|\n",
      "|       636550|         0.4|\n",
      "|       543610|         0.4|\n",
      "|       214618|         0.3|\n",
      "|       842643|         0.3|\n",
      "|       626808|         0.4|\n",
      "|       644081|   0.6333333|\n",
      "|       892874|  0.53333336|\n",
      "|       558938|         0.4|\n",
      "|       275265|         0.4|\n",
      "|       921202|         0.4|\n",
      "|       143972|         0.4|\n",
      "|       183430|         0.3|\n",
      "|       431876|         0.4|\n",
      "|       285496|  0.53333336|\n",
      "|       115399|  0.53333336|\n",
      "|       736882|         0.4|\n",
      "|       699044|  0.56666666|\n",
      "|       863236|         0.4|\n",
      "|       608513|   0.6333333|\n",
      "|       914088|         0.4|\n",
      "|       596785|         0.4|\n",
      "|       908616|         0.4|\n",
      "|       666333|   0.6333333|\n",
      "|       336614|         0.4|\n",
      "|       584859|         0.4|\n",
      "|       990493|         0.4|\n",
      "|       129872|   0.6333333|\n",
      "|       200152|   0.6333333|\n",
      "|       933293|         0.4|\n",
      "|       485664|         0.3|\n",
      "|       982871|   0.6333333|\n",
      "|       206213|         0.4|\n",
      "|       616337|   0.6333333|\n",
      "|       448961|         0.3|\n",
      "|       790442|         0.4|\n",
      "|       108844|         0.4|\n",
      "|       430029|         0.4|\n",
      "|       529112|         0.4|\n",
      "|       939631|   0.6333333|\n",
      "|       866931|         0.4|\n",
      "|       582011|         0.4|\n",
      "|       691189|         0.3|\n",
      "|       537546|         0.4|\n",
      "|       394975|         0.4|\n",
      "|       729634|         0.4|\n",
      "|       282195|         0.4|\n",
      "|       420810|         0.4|\n",
      "|       524836|         0.3|\n",
      "|       307195|         0.4|\n",
      "|       623648|  0.33333334|\n",
      "|       485372|         0.4|\n",
      "|       598554|   0.6333333|\n",
      "|       303987|         0.4|\n",
      "|       343161|         0.4|\n",
      "|       519312|   0.6333333|\n",
      "|       132902|   0.6333333|\n",
      "|       332867|   0.6333333|\n",
      "|       356590|   0.6333333|\n",
      "|       346002|         0.3|\n",
      "|       500533|         0.4|\n",
      "|       348209|         0.4|\n",
      "|       486676|   0.6333333|\n",
      "|       260845|   0.6333333|\n",
      "|       657045|         0.4|\n",
      "|       761189|         0.4|\n",
      "|       175177|         0.4|\n",
      "|       116700|         0.4|\n",
      "|       166264|         0.4|\n",
      "|       527945|         0.4|\n",
      "|       627540|         0.4|\n",
      "|       279422|   0.6333333|\n",
      "|       484200|         0.4|\n",
      "|       645258|         0.4|\n",
      "|       694662|         0.4|\n",
      "|       960680|         0.4|\n",
      "|       498140|   0.6333333|\n",
      "|       498875|         0.4|\n",
      "|       798177|         0.4|\n",
      "|       614763|         0.4|\n",
      "|       679370|         0.4|\n",
      "|       958857|   0.6333333|\n",
      "|       686816|         0.4|\n",
      "|       127754|  0.53333336|\n",
      "|       918629|         0.4|\n",
      "|       731450|         0.4|\n",
      "|       307447|         0.4|\n",
      "|       992145|         0.4|\n",
      "|       900628|   0.6333333|\n",
      "|       235220|   0.6333333|\n",
      "|       740019|         0.4|\n",
      "|       246882|         0.4|\n",
      "+-------------+------------+\n",
      "only showing top 100 rows\n",
      "\n"
     ]
    },
    {
     "data": {
      "text/plain": [
       "'\\n\\ndf_agg = df_agg.withColumn(\\n    \"risque_total\",\\n    (F.col(\"risque_selon_lanciennete\").cast(\"double\") +\\n     F.col(\"risque_selon_la_fraude\").cast(\"double\") +\\n     F.col(\"age_risk_score\").cast(\"double\")) / 3\\n)\\ndf_agg.select(\"policy_number\", \"risque_total\").show(100)\\ndf_agg = df_agg.withColumn(\\n    \"risque_total\",\\n    (F.col(\"risque_selon_lanciennete\") + F.col(\"risque_selon_la_fraude\") + F.col(\"age_risk_score\")) / 3\\n)\\n\\n# Afficher les résultats\\ndf_agg.select(\"policy_number\", \"risque_total\").show(100)\\n\\n'"
      ]
     },
     "execution_count": 81,
     "metadata": {},
     "output_type": "execute_result"
    }
   ],
   "source": [
    "from delta.tables import DeltaTable\n",
    "from pyspark.sql import functions as F\n",
    "\n",
    "# Charger la table Delta\n",
    "delta_table = DeltaTable.forName(spark, \"default.insurance_claimsv3_cdf\")\n",
    "\n",
    "# Mettre à jour la colonne 'risque_total'\n",
    "delta_table.update(\n",
    "    condition=\"TRUE\",  # Applique la mise à jour à toutes les lignes\n",
    "    set={\n",
    "        \"risque_total\": (\n",
    "            (F.col(\"risque_selon_lanciennete\").cast(\"double\") +\n",
    "             F.col(\"risque_selon_la_fraude\").cast(\"double\") +\n",
    "             F.col(\"age_risk_score\").cast(\"double\")) / 3\n",
    "        )\n",
    "    }\n",
    ")\n",
    "\n",
    "# Vérifier la mise à jour\n",
    "df_tableFinale = spark.table(\"default.insurance_claimsv3_cdf\")\n",
    "df_tableFinale.select(\"policy_number\", \"risque_total\").show(100)\n",
    "\n",
    "\n",
    "\n",
    "\"\"\"\n",
    "\n",
    "df_agg = df_agg.withColumn(\n",
    "    \"risque_total\",\n",
    "    (F.col(\"risque_selon_lanciennete\").cast(\"double\") +\n",
    "     F.col(\"risque_selon_la_fraude\").cast(\"double\") +\n",
    "     F.col(\"age_risk_score\").cast(\"double\")) / 3\n",
    ")\n",
    "df_agg.select(\"policy_number\", \"risque_total\").show(100)\n",
    "df_agg = df_agg.withColumn(\n",
    "    \"risque_total\",\n",
    "    (F.col(\"risque_selon_lanciennete\") + F.col(\"risque_selon_la_fraude\") + F.col(\"age_risk_score\")) / 3\n",
    ")\n",
    "\n",
    "# Afficher les résultats\n",
    "df_agg.select(\"policy_number\", \"risque_total\").show(100)\n",
    "\n",
    "\"\"\"\n"
   ]
  },
  {
   "cell_type": "code",
   "execution_count": 82,
   "metadata": {},
   "outputs": [
    {
     "name": "stderr",
     "output_type": "stream",
     "text": [
      "                                                                                \r"
     ]
    },
    {
     "data": {
      "text/html": [
       "<table><tr style=\"border-bottom: 1px solid\"><td style=\"font-weight: bold\">num_affected_rows</td></tr><tr><td>7000</td></tr></table>"
      ],
      "text/plain": [
       "<IPython.core.display.HTML object>"
      ]
     },
     "execution_count": 82,
     "metadata": {},
     "output_type": "execute_result"
    }
   ],
   "source": [
    "%%sparksql\n",
    "--    # Score basé sur le fait si le conducteur a fraude ou pas \n",
    "UPDATE default.insurance_claimsv3_cdf  \n",
    "SET \n",
    "    cathegorie_risque = CASE \n",
    "                      WHEN risque_total > 0.8  THEN 'high'\n",
    "                      WHEN risque_total > 0.5  THEN 'medium'\n",
    "                      ELSE 'low'\n",
    "                    END;\n",
    "             "
   ]
  },
  {
   "cell_type": "code",
   "execution_count": 83,
   "metadata": {},
   "outputs": [
    {
     "name": "stdout",
     "output_type": "stream",
     "text": [
      "+-------------+------------+-----------------+\n",
      "|policy_number|risque_total|cathegorie_risque|\n",
      "+-------------+------------+-----------------+\n",
      "|       521585|   0.6333333|           medium|\n",
      "|       342868|   0.6333333|           medium|\n",
      "|       687698|         0.4|              low|\n",
      "|       227811|   0.6333333|           medium|\n",
      "|       367455|         0.4|              low|\n",
      "|       104594|   0.6333333|           medium|\n",
      "|       413978|         0.4|              low|\n",
      "|       429027|         0.4|              low|\n",
      "|       485665|         0.4|              low|\n",
      "|       636550|         0.4|              low|\n",
      "|       543610|         0.4|              low|\n",
      "|       214618|         0.3|              low|\n",
      "|       842643|         0.3|              low|\n",
      "|       626808|         0.4|              low|\n",
      "|       644081|   0.6333333|           medium|\n",
      "|       892874|  0.53333336|           medium|\n",
      "|       558938|         0.4|              low|\n",
      "|       275265|         0.4|              low|\n",
      "|       921202|         0.4|              low|\n",
      "|       143972|         0.4|              low|\n",
      "|       183430|         0.3|              low|\n",
      "|       431876|         0.4|              low|\n",
      "|       285496|  0.53333336|           medium|\n",
      "|       115399|  0.53333336|           medium|\n",
      "|       736882|         0.4|              low|\n",
      "|       699044|  0.56666666|           medium|\n",
      "|       863236|         0.4|              low|\n",
      "|       608513|   0.6333333|           medium|\n",
      "|       914088|         0.4|              low|\n",
      "|       596785|         0.4|              low|\n",
      "|       908616|         0.4|              low|\n",
      "|       666333|   0.6333333|           medium|\n",
      "|       336614|         0.4|              low|\n",
      "|       584859|         0.4|              low|\n",
      "|       990493|         0.4|              low|\n",
      "|       129872|   0.6333333|           medium|\n",
      "|       200152|   0.6333333|           medium|\n",
      "|       933293|         0.4|              low|\n",
      "|       485664|         0.3|              low|\n",
      "|       982871|   0.6333333|           medium|\n",
      "|       206213|         0.4|              low|\n",
      "|       616337|   0.6333333|           medium|\n",
      "|       448961|         0.3|              low|\n",
      "|       790442|         0.4|              low|\n",
      "|       108844|         0.4|              low|\n",
      "|       430029|         0.4|              low|\n",
      "|       529112|         0.4|              low|\n",
      "|       939631|   0.6333333|           medium|\n",
      "|       866931|         0.4|              low|\n",
      "|       582011|         0.4|              low|\n",
      "|       691189|         0.3|              low|\n",
      "|       537546|         0.4|              low|\n",
      "|       394975|         0.4|              low|\n",
      "|       729634|         0.4|              low|\n",
      "|       282195|         0.4|              low|\n",
      "|       420810|         0.4|              low|\n",
      "|       524836|         0.3|              low|\n",
      "|       307195|         0.4|              low|\n",
      "|       623648|  0.33333334|              low|\n",
      "|       485372|         0.4|              low|\n",
      "|       598554|   0.6333333|           medium|\n",
      "|       303987|         0.4|              low|\n",
      "|       343161|         0.4|              low|\n",
      "|       519312|   0.6333333|           medium|\n",
      "|       132902|   0.6333333|           medium|\n",
      "|       332867|   0.6333333|           medium|\n",
      "|       356590|   0.6333333|           medium|\n",
      "|       346002|         0.3|              low|\n",
      "|       500533|         0.4|              low|\n",
      "|       348209|         0.4|              low|\n",
      "|       486676|   0.6333333|           medium|\n",
      "|       260845|   0.6333333|           medium|\n",
      "|       657045|         0.4|              low|\n",
      "|       761189|         0.4|              low|\n",
      "|       175177|         0.4|              low|\n",
      "|       116700|         0.4|              low|\n",
      "|       166264|         0.4|              low|\n",
      "|       527945|         0.4|              low|\n",
      "|       627540|         0.4|              low|\n",
      "|       279422|   0.6333333|           medium|\n",
      "|       484200|         0.4|              low|\n",
      "|       645258|         0.4|              low|\n",
      "|       694662|         0.4|              low|\n",
      "|       960680|         0.4|              low|\n",
      "|       498140|   0.6333333|           medium|\n",
      "|       498875|         0.4|              low|\n",
      "|       798177|         0.4|              low|\n",
      "|       614763|         0.4|              low|\n",
      "|       679370|         0.4|              low|\n",
      "|       958857|   0.6333333|           medium|\n",
      "|       686816|         0.4|              low|\n",
      "|       127754|  0.53333336|           medium|\n",
      "|       918629|         0.4|              low|\n",
      "|       731450|         0.4|              low|\n",
      "|       307447|         0.4|              low|\n",
      "|       992145|         0.4|              low|\n",
      "|       900628|   0.6333333|           medium|\n",
      "|       235220|   0.6333333|           medium|\n",
      "|       740019|         0.4|              low|\n",
      "|       246882|         0.4|              low|\n",
      "+-------------+------------+-----------------+\n",
      "only showing top 100 rows\n",
      "\n"
     ]
    }
   ],
   "source": [
    "df_tableFinale.select(\"policy_number\", \"risque_total\",\"cathegorie_risque\").show(100)  "
   ]
  },
  {
   "cell_type": "code",
   "execution_count": 84,
   "metadata": {},
   "outputs": [
    {
     "name": "stdout",
     "output_type": "stream",
     "text": [
      "+------------------+---+-------------+----------------+------------+----------+-----------------+---------------------+--------------+-----------+-----------+-----------------------+------------------+---------------+--------------------+-------------+------------+-------------+--------------------+---------------+-----------------+---------------------+--------------+-------------+-----------------+------------------------+---------------------------+---------------+---------------+---------+-----------------------+------------------+------------+--------------+-------------+---------+----------+---------+--------------+----+------------+-----------+--------------+------------------------+------------+----------------------+-----------------+-------------------+\n",
      "|months_as_customer|age|policy_number|policy_bind_date|policy_state|policy_csl|policy_deductable|policy_annual_premium|umbrella_limit|insured_zip|insured_sex|insured_education_level|insured_occupation|insured_hobbies|insured_relationship|capital_gains|capital_loss|incident_date|       incident_type| collision_type|incident_severity|authorities_contacted|incident_state|incident_city|incident_location|incident_hour_of_the_day|number_of_vehicles_involved|property_damage|bodily_injuries|witnesses|police_report_available|total_claim_amount|injury_claim|property_claim|vehicle_claim|auto_make|auto_model|auto_year|fraud_reported|_c39|missing_data|  age_group|age_risk_score|risque_selon_lanciennete|risque_total|risque_selon_la_fraude|cathegorie_risque|fraud_reported_bool|\n",
      "+------------------+---+-------------+----------------+------------+----------+-----------------+---------------------+--------------+-----------+-----------+-----------------------+------------------+---------------+--------------------+-------------+------------+-------------+--------------------+---------------+-----------------+---------------------+--------------+-------------+-----------------+------------------------+---------------------------+---------------+---------------+---------+-----------------------+------------------+------------+--------------+-------------+---------+----------+---------+--------------+----+------------+-----------+--------------+------------------------+------------+----------------------+-----------------+-------------------+\n",
      "|               328| 48|       521585|      2014-10-17|          OH|   250/500|             1000|              1406.91|             0|     466132|       MALE|                     MD|      craft-repair|       sleeping|             husband|        53300|           0|   2015-01-25|Single Vehicle Co...| Side Collision|     Major Damage|               Police|            SC|     Columbus|   9935 4th Drive|                       5|                          1|            YES|              1|        2|                    YES|             71610|        6510|         13020|        52080|     Saab|       92x|     2004|             Y|null|       false| Middle_Age|           0.6|                     0.6|   0.6333333|                   0.7|           medium|               true|\n",
      "|               228| 42|       342868|      2006-06-27|          IN|   250/500|             2000|              1197.22|       5000000|     468176|       MALE|                     MD| machine-op-inspct|        reading|      other-relative|            0|           0|   2015-01-21|       Vehicle Theft|              ?|     Minor Damage|               Police|            VA|    Riverwood|     6608 MLK Hwy|                       8|                          1|              ?|              0|        0|                      ?|              5070|         780|           780|         3510| Mercedes|      E400|     2007|             Y|null|       false| Middle_Age|           0.6|                     0.6|   0.6333333|                   0.7|           medium|               true|\n",
      "|               134| 29|       687698|      2000-09-06|          OH|   100/300|             2000|              1413.14|       5000000|     430632|     FEMALE|                    PhD|             sales|    board-games|           own-child|        35100|           0|   2015-02-22|Multi-vehicle Col...| Rear Collision|     Minor Damage|               Police|            NY|     Columbus|7121 Francis Lane|                       7|                          3|             NO|              2|        3|                     NO|             34650|        7700|          3850|        23100|    Dodge|       RAM|     2007|             N|null|       false|Young_Adult|           0.6|                     0.6|         0.4|                   0.0|              low|              false|\n",
      "|               256| 41|       227811|      1990-05-25|          IL|   250/500|             2000|              1415.74|       6000000|     608117|     FEMALE|                    PhD|      armed-forces|    board-games|           unmarried|        48900|      -62400|   2015-01-10|Single Vehicle Co...|Front Collision|     Major Damage|               Police|            OH|    Arlington| 6956 Maple Drive|                       5|                          1|              ?|              1|        2|                     NO|             63400|        6340|          6340|        50720|Chevrolet|     Tahoe|     2014|             Y|null|       false| Middle_Age|           0.6|                     0.6|   0.6333333|                   0.7|           medium|               true|\n",
      "|               228| 44|       367455|      2014-06-06|          IL|  500/1000|             1000|              1583.91|       6000000|     610706|       MALE|              Associate|             sales|    board-games|           unmarried|        66000|      -46000|   2015-02-17|       Vehicle Theft|              ?|     Minor Damage|                 None|            NY|    Arlington|     3041 3rd Ave|                      20|                          1|             NO|              0|        1|                     NO|              6500|        1300|           650|         4550|   Accura|       RSX|     2009|             N|null|       false| Middle_Age|           0.6|                     0.6|         0.4|                   0.0|              low|              false|\n",
      "+------------------+---+-------------+----------------+------------+----------+-----------------+---------------------+--------------+-----------+-----------+-----------------------+------------------+---------------+--------------------+-------------+------------+-------------+--------------------+---------------+-----------------+---------------------+--------------+-------------+-----------------+------------------------+---------------------------+---------------+---------------+---------+-----------------------+------------------+------------+--------------+-------------+---------+----------+---------+--------------+----+------------+-----------+--------------+------------------------+------------+----------------------+-----------------+-------------------+\n",
      "only showing top 5 rows\n",
      "\n"
     ]
    }
   ],
   "source": [
    "\n",
    "results = spark.sql(\" SELECT * FROM default.insurance_claimsv3_cdf\") \n",
    "#results = spark.sql(\" SELECT * FROM default.insurance_claimsv3_cdf LIMIT 3\") \n",
    "results.show(5)\n",
    "\n"
   ]
  },
  {
   "cell_type": "code",
   "execution_count": 85,
   "metadata": {},
   "outputs": [
    {
     "name": "stdout",
     "output_type": "stream",
     "text": [
      "+--------------+-----+\n",
      "|fraud_reported|count|\n",
      "+--------------+-----+\n",
      "|             N| 5271|\n",
      "|             Y| 1729|\n",
      "+--------------+-----+\n",
      "\n"
     ]
    }
   ],
   "source": [
    "#distributions des variables categorielles \n",
    "fraud_reported = df_tableFinale.groupBy(\"fraud_reported\").count()\n",
    "\n",
    "fraud_reported.show(5)\n",
    "\n"
   ]
  },
  {
   "cell_type": "code",
   "execution_count": 86,
   "metadata": {},
   "outputs": [
    {
     "name": "stdout",
     "output_type": "stream",
     "text": [
      "+--------------------+-----+\n",
      "|       incident_type|count|\n",
      "+--------------------+-----+\n",
      "|Multi-vehicle Col...| 2933|\n",
      "|          Parked Car|  588|\n",
      "|Single Vehicle Co...| 2821|\n",
      "|       Vehicle Theft|  658|\n",
      "+--------------------+-----+\n",
      "\n"
     ]
    }
   ],
   "source": [
    "#distributions des variables categorielles \n",
    "incident_type = df_tableFinale.groupBy(\"incident_type\").count()\n",
    "\n",
    "incident_type.show(5)\n",
    "\n"
   ]
  },
  {
   "cell_type": "code",
   "execution_count": 87,
   "metadata": {},
   "outputs": [
    {
     "name": "stdout",
     "output_type": "stream",
     "text": [
      "+-----------------+-----+\n",
      "|cathegorie_risque|count|\n",
      "+-----------------+-----+\n",
      "|              low| 5285|\n",
      "|           medium| 1715|\n",
      "+-----------------+-----+\n",
      "\n"
     ]
    }
   ],
   "source": [
    "#distributions des variables categorielles \n",
    "results = spark.sql(\" SELECT * FROM default.insurance_claimsv3_cdf\") \n",
    "cathegorie_risque = (df_tableFinale.groupBy(\"cathegorie_risque\").count() if \"cathegorie_risque\" in results.columns else None)\n",
    "\n",
    "cathegorie_risque.show(5)\n"
   ]
  },
  {
   "cell_type": "code",
   "execution_count": 88,
   "metadata": {},
   "outputs": [
    {
     "name": "stdout",
     "output_type": "stream",
     "text": [
      "Nombre total de lignes: 7000\n",
      "Nombre de colonnes: 48\n"
     ]
    }
   ],
   "source": [
    "#RAPPORT DE PROFILING DES DONNÉES\n",
    " \n",
    "print(f\"Nombre total de lignes: {results.count()}\")\n",
    "print(f\"Nombre de colonnes: {len(results.columns)}\")\n",
    "\n"
   ]
  },
  {
   "cell_type": "code",
   "execution_count": 89,
   "metadata": {},
   "outputs": [
    {
     "name": "stdout",
     "output_type": "stream",
     "text": [
      "+-------+-------------------+\n",
      "|summary|     age_risk_score|\n",
      "+-------+-------------------+\n",
      "|  count|               7000|\n",
      "|   mean| 0.5541000220179558|\n",
      "| stddev|0.10800396907103842|\n",
      "|    min|                0.3|\n",
      "|    max|                0.6|\n",
      "+-------+-------------------+\n",
      "\n"
     ]
    }
   ],
   "source": [
    "results.select('age_risk_score').describe().show()\n",
    "\n"
   ]
  },
  {
   "cell_type": "code",
   "execution_count": 90,
   "metadata": {},
   "outputs": [
    {
     "name": "stdout",
     "output_type": "stream",
     "text": [
      "+-------+------------------------+\n",
      "|summary|risque_selon_lanciennete|\n",
      "+-------+------------------------+\n",
      "|  count|                    7000|\n",
      "|   mean|       0.595000023394823|\n",
      "| stddev|    0.031227223379346285|\n",
      "|    min|                     0.4|\n",
      "|    max|                     0.6|\n",
      "+-------+------------------------+\n",
      "\n"
     ]
    }
   ],
   "source": [
    "results.select('risque_selon_lanciennete').describe().show()"
   ]
  },
  {
   "cell_type": "code",
   "execution_count": 91,
   "metadata": {},
   "outputs": [
    {
     "name": "stdout",
     "output_type": "stream",
     "text": [
      "+-------+-------------------+\n",
      "|summary|       risque_total|\n",
      "+-------+-------------------+\n",
      "|  count|               7000|\n",
      "|   mean| 0.4406666714400053|\n",
      "| stddev|0.10566737447259573|\n",
      "|    min|         0.23333333|\n",
      "|    max|          0.6333333|\n",
      "+-------+-------------------+\n",
      "\n"
     ]
    }
   ],
   "source": [
    "results.select('risque_total').describe().show()"
   ]
  },
  {
   "cell_type": "code",
   "execution_count": 92,
   "metadata": {},
   "outputs": [
    {
     "name": "stdout",
     "output_type": "stream",
     "text": [
      "+-------+----------------------+\n",
      "|summary|risque_selon_la_fraude|\n",
      "+-------+----------------------+\n",
      "|  count|                  7000|\n",
      "|   mean|   0.17289999705553055|\n",
      "| stddev|   0.30190827767001105|\n",
      "|    min|                   0.0|\n",
      "|    max|                   0.7|\n",
      "+-------+----------------------+\n",
      "\n"
     ]
    }
   ],
   "source": [
    "results.select('risque_selon_la_fraude').describe().show()\n"
   ]
  },
  {
   "cell_type": "code",
   "execution_count": 93,
   "metadata": {},
   "outputs": [
    {
     "name": "stdout",
     "output_type": "stream",
     "text": [
      "+-------+\n",
      "|summary|\n",
      "+-------+\n",
      "|  count|\n",
      "|   mean|\n",
      "| stddev|\n",
      "|    min|\n",
      "|    max|\n",
      "+-------+\n",
      "\n"
     ]
    }
   ],
   "source": [
    "results.select('fraud_reported_bool').describe().show()"
   ]
  },
  {
   "cell_type": "code",
   "execution_count": 94,
   "metadata": {},
   "outputs": [
    {
     "name": "stdout",
     "output_type": "stream",
     "text": [
      "+---------------+\n",
      "|unique_policies|\n",
      "+---------------+\n",
      "|           1000|\n",
      "+---------------+\n",
      "\n"
     ]
    }
   ],
   "source": [
    "#results.select('fraud_reported_bool').describe().show()\n",
    "\n",
    "from pyspark.sql import functions as F\n",
    "\n",
    "# Utilisation de countDistinct avec la fonction correcte\n",
    "unique_policies_count = results.select(F.countDistinct(\"policy_number\").alias(\"unique_policies\"))\n",
    "\n",
    "# Affichage du résultat\n",
    "unique_policies_count.show()\n",
    " "
   ]
  },
  {
   "cell_type": "code",
   "execution_count": 95,
   "metadata": {},
   "outputs": [
    {
     "data": {
      "text/plain": [
       "'\\nquality_metrics = results.select(\\n        count(\"*\").alias(\"total_records\"),\\n        sum(when(col(\"quality_score\") == 100, 1).otherwise(0)).alias(\"high_quality_records\"),\\n        sum(when(col(\"has_missing_critical_data\"), 1).otherwise(0)).alias(\"records_with_missing_data\"),\\n        avg(\"quality_score\").alias(\"avg_quality_score\"),\\n        countDistinct(\"policy_number\").alias(\"unique_policies\")\\n    ).collect()[0]\\n'"
      ]
     },
     "execution_count": 95,
     "metadata": {},
     "output_type": "execute_result"
    }
   ],
   "source": [
    "# Métriques de qualité, ici je n ai pas la colonne quality_score \n",
    "\"\"\"\n",
    "quality_metrics = results.select(\n",
    "        count(\"*\").alias(\"total_records\"),\n",
    "        sum(when(col(\"quality_score\") == 100, 1).otherwise(0)).alias(\"high_quality_records\"),\n",
    "        sum(when(col(\"has_missing_critical_data\"), 1).otherwise(0)).alias(\"records_with_missing_data\"),\n",
    "        avg(\"quality_score\").alias(\"avg_quality_score\"),\n",
    "        countDistinct(\"policy_number\").alias(\"unique_policies\")\n",
    "    ).collect()[0]\n",
    "\"\"\" "
   ]
  },
  {
   "cell_type": "code",
   "execution_count": null,
   "metadata": {},
   "outputs": [],
   "source": []
  },
  {
   "cell_type": "code",
   "execution_count": 96,
   "metadata": {},
   "outputs": [],
   "source": [
    "\n",
    "from pyspark.sql.functions import to_date, col\n",
    "# Conversion des dates\n",
    "results = results.withColumn(\"policy_bind_date_parsed\", \n",
    "                        to_date(col(\"policy_bind_date\"), \"yyyy-MM-dd\")) \\\n",
    "            .withColumn(\"incident_date_parsed\", \n",
    "                        to_date(col(\"incident_date\"), \"yyyy-MM-dd\"))\n"
   ]
  },
  {
   "cell_type": "code",
   "execution_count": 97,
   "metadata": {},
   "outputs": [],
   "source": [
    "\n",
    "from pyspark.sql.functions import datediff\n",
    "# Création de variables dérivées\n",
    "results = results.withColumn(\"days_policy_to_incident\", \n",
    "                        datediff(col(\"incident_date_parsed\"), \n",
    "                            col(\"policy_bind_date_parsed\"))) \\\n",
    "                .withColumn(\"claim_to_premium_ratio\",\n",
    "                            col(\"total_claim_amount\") / col(\"policy_annual_premium\"))\n",
    "\n"
   ]
  },
  {
   "cell_type": "code",
   "execution_count": 98,
   "metadata": {},
   "outputs": [],
   "source": [
    "\n",
    "from pyspark.sql.functions import upper, trim, when, lit\n",
    "# Standardisation des catégories\n",
    "results = results.withColumn(\"insured_sex_clean\", \n",
    "                        upper(trim(col(\"insured_sex\")))) \\\n",
    "                .withColumn(\"fraud_reported_bool\", \n",
    "                         when(upper(col(\"fraud_reported\")) == \"Y\", lit(True))\n",
    "                            .otherwise(lit(False)))\n"
   ]
  },
  {
   "cell_type": "code",
   "execution_count": 99,
   "metadata": {},
   "outputs": [],
   "source": [
    "\n",
    "# Window specifications\n",
    "state_window = Window.partitionBy(\"policy_state\")\n",
    "occupation_window = Window.partitionBy(\"insured_occupation\")\n",
    "customer_window = Window.partitionBy(\"insured_zip\").orderBy(\"incident_date_parsed\")\n",
    "group_age_window = Window.partitionBy(\"age_group\")\n"
   ]
  },
  {
   "cell_type": "code",
   "execution_count": 100,
   "metadata": {},
   "outputs": [],
   "source": [
    "\n",
    "# Agrégations par état\n",
    "df_agg = results.withColumn(\"avg_claim_amount_by_state\",\n",
    "                    avg(\"total_claim_amount\").over(state_window)) \\\n",
    "            .withColumn(\"fraud_rate_by_state\",\n",
    "                    avg(col(\"fraud_reported_bool\").cast(\"int\")).over(state_window))\n",
    " \n"
   ]
  },
  {
   "cell_type": "code",
   "execution_count": 101,
   "metadata": {},
   "outputs": [],
   "source": [
    "\n",
    "# Agrégations par profession\n",
    "#df_agg = df_agg.withColumn(\"avg_premium_by_occupation\",\n",
    "df_agg = results.withColumn(\"avg_premium_by_occupation\",\n",
    "                    avg(\"policy_annual_premium\").over(occupation_window)) \\\n",
    "                .withColumn(\"claim_count_by_occupation\",\n",
    "                    count(\"*\").over(occupation_window))\n",
    "\n"
   ]
  },
  {
   "cell_type": "code",
   "execution_count": 102,
   "metadata": {},
   "outputs": [],
   "source": [
    "\n",
    "from pyspark.sql.functions import sum, col, row_number\n",
    "df_agg = df_agg.withColumn(\"total_claim_amount\", col(\"total_claim_amount\").cast(\"float\"))\n",
    "# Tendances temporelles par zone\n",
    "df_agg = df_agg.withColumn(\"running_total_claims_area\",\n",
    "                              sum(\"total_claim_amount\").over(customer_window)) \\\n",
    "                   .withColumn(\"incident_rank_in_area\",\n",
    "                              row_number().over(customer_window))\n"
   ]
  },
  {
   "cell_type": "code",
   "execution_count": 103,
   "metadata": {},
   "outputs": [
    {
     "name": "stdout",
     "output_type": "stream",
     "text": [
      "+------------------+---+-------------+----------------+------------+----------+-----------------+---------------------+--------------+-----------+-----------+-----------------------+------------------+---------------+--------------------+-------------+------------+-------------+--------------------+---------------+-----------------+---------------------+--------------+-------------+-----------------+------------------------+---------------------------+---------------+---------------+---------+-----------------------+------------------+------------+--------------+-------------+---------+----------+---------+--------------+----+------------+-----------+--------------+------------------------+------------+----------------------+-----------------+-------------------+\n",
      "|months_as_customer|age|policy_number|policy_bind_date|policy_state|policy_csl|policy_deductable|policy_annual_premium|umbrella_limit|insured_zip|insured_sex|insured_education_level|insured_occupation|insured_hobbies|insured_relationship|capital_gains|capital_loss|incident_date|       incident_type| collision_type|incident_severity|authorities_contacted|incident_state|incident_city|incident_location|incident_hour_of_the_day|number_of_vehicles_involved|property_damage|bodily_injuries|witnesses|police_report_available|total_claim_amount|injury_claim|property_claim|vehicle_claim|auto_make|auto_model|auto_year|fraud_reported|_c39|missing_data|  age_group|age_risk_score|risque_selon_lanciennete|risque_total|risque_selon_la_fraude|cathegorie_risque|fraud_reported_bool|\n",
      "+------------------+---+-------------+----------------+------------+----------+-----------------+---------------------+--------------+-----------+-----------+-----------------------+------------------+---------------+--------------------+-------------+------------+-------------+--------------------+---------------+-----------------+---------------------+--------------+-------------+-----------------+------------------------+---------------------------+---------------+---------------+---------+-----------------------+------------------+------------+--------------+-------------+---------+----------+---------+--------------+----+------------+-----------+--------------+------------------------+------------+----------------------+-----------------+-------------------+\n",
      "|               328| 48|       521585|      2014-10-17|          OH|   250/500|             1000|              1406.91|             0|     466132|       MALE|                     MD|      craft-repair|       sleeping|             husband|        53300|           0|   2015-01-25|Single Vehicle Co...| Side Collision|     Major Damage|               Police|            SC|     Columbus|   9935 4th Drive|                       5|                          1|            YES|              1|        2|                    YES|             71610|        6510|         13020|        52080|     Saab|       92x|     2004|             Y|null|       false| Middle_Age|           0.6|                     0.6|   0.6333333|                   0.7|           medium|               true|\n",
      "|               228| 42|       342868|      2006-06-27|          IN|   250/500|             2000|              1197.22|       5000000|     468176|       MALE|                     MD| machine-op-inspct|        reading|      other-relative|            0|           0|   2015-01-21|       Vehicle Theft|              ?|     Minor Damage|               Police|            VA|    Riverwood|     6608 MLK Hwy|                       8|                          1|              ?|              0|        0|                      ?|              5070|         780|           780|         3510| Mercedes|      E400|     2007|             Y|null|       false| Middle_Age|           0.6|                     0.6|   0.6333333|                   0.7|           medium|               true|\n",
      "|               134| 29|       687698|      2000-09-06|          OH|   100/300|             2000|              1413.14|       5000000|     430632|     FEMALE|                    PhD|             sales|    board-games|           own-child|        35100|           0|   2015-02-22|Multi-vehicle Col...| Rear Collision|     Minor Damage|               Police|            NY|     Columbus|7121 Francis Lane|                       7|                          3|             NO|              2|        3|                     NO|             34650|        7700|          3850|        23100|    Dodge|       RAM|     2007|             N|null|       false|Young_Adult|           0.6|                     0.6|         0.4|                   0.0|              low|              false|\n",
      "|               256| 41|       227811|      1990-05-25|          IL|   250/500|             2000|              1415.74|       6000000|     608117|     FEMALE|                    PhD|      armed-forces|    board-games|           unmarried|        48900|      -62400|   2015-01-10|Single Vehicle Co...|Front Collision|     Major Damage|               Police|            OH|    Arlington| 6956 Maple Drive|                       5|                          1|              ?|              1|        2|                     NO|             63400|        6340|          6340|        50720|Chevrolet|     Tahoe|     2014|             Y|null|       false| Middle_Age|           0.6|                     0.6|   0.6333333|                   0.7|           medium|               true|\n",
      "|               228| 44|       367455|      2014-06-06|          IL|  500/1000|             1000|              1583.91|       6000000|     610706|       MALE|              Associate|             sales|    board-games|           unmarried|        66000|      -46000|   2015-02-17|       Vehicle Theft|              ?|     Minor Damage|                 None|            NY|    Arlington|     3041 3rd Ave|                      20|                          1|             NO|              0|        1|                     NO|              6500|        1300|           650|         4550|   Accura|       RSX|     2009|             N|null|       false| Middle_Age|           0.6|                     0.6|         0.4|                   0.0|              low|              false|\n",
      "+------------------+---+-------------+----------------+------------+----------+-----------------+---------------------+--------------+-----------+-----------+-----------------------+------------------+---------------+--------------------+-------------+------------+-------------+--------------------+---------------+-----------------+---------------------+--------------+-------------+-----------------+------------------------+---------------------------+---------------+---------------+---------+-----------------------+------------------+------------+--------------+-------------+---------+----------+---------+--------------+----+------------+-----------+--------------+------------------------+------------+----------------------+-----------------+-------------------+\n",
      "only showing top 5 rows\n",
      "\n"
     ]
    }
   ],
   "source": [
    "\n",
    "results = spark.sql(\" SELECT * FROM default.insurance_claimsv3_cdf\") \n",
    "#results = spark.sql(\" SELECT * FROM default.insurance_claimsv3_cdf LIMIT 3\") \n",
    "results.show(5)\n"
   ]
  },
  {
   "cell_type": "code",
   "execution_count": null,
   "metadata": {},
   "outputs": [],
   "source": [
    "\n"
   ]
  },
  {
   "cell_type": "code",
   "execution_count": 104,
   "metadata": {},
   "outputs": [
    {
     "name": "stdout",
     "output_type": "stream",
     "text": [
      "+------------------+---+-------------+----------------+------------+----------+-----------------+---------------------+--------------+-----------+-----------+-----------------------+------------------+---------------+--------------------+-------------+------------+-------------+--------------------+--------------+-----------------+---------------------+--------------+-------------+-----------------+------------------------+---------------------------+---------------+---------------+---------+-----------------------+------------------+------------+--------------+-------------+---------+----------+---------+--------------+----+------------+-----------+--------------+------------------------+------------+----------------------+-----------------+-------------------+-----------------------+--------------------+-----------------------+----------------------+-----------------+-------------------------+-------------------------+-------------------------+---------------------+------------------------+\n",
      "|months_as_customer|age|policy_number|policy_bind_date|policy_state|policy_csl|policy_deductable|policy_annual_premium|umbrella_limit|insured_zip|insured_sex|insured_education_level|insured_occupation|insured_hobbies|insured_relationship|capital_gains|capital_loss|incident_date|       incident_type|collision_type|incident_severity|authorities_contacted|incident_state|incident_city|incident_location|incident_hour_of_the_day|number_of_vehicles_involved|property_damage|bodily_injuries|witnesses|police_report_available|total_claim_amount|injury_claim|property_claim|vehicle_claim|auto_make|auto_model|auto_year|fraud_reported|_c39|missing_data|  age_group|age_risk_score|risque_selon_lanciennete|risque_total|risque_selon_la_fraude|cathegorie_risque|fraud_reported_bool|policy_bind_date_parsed|incident_date_parsed|days_policy_to_incident|claim_to_premium_ratio|insured_sex_clean|avg_premium_by_occupation|claim_count_by_occupation|running_total_claims_area|incident_rank_in_area|fraud_rate_by_profession|\n",
      "+------------------+---+-------------+----------------+------------+----------+-----------------+---------------------+--------------+-----------+-----------+-----------------------+------------------+---------------+--------------------+-------------+------------+-------------+--------------------+--------------+-----------------+---------------------+--------------+-------------+-----------------+------------------------+---------------------------+---------------+---------------+---------+-----------------------+------------------+------------+--------------+-------------+---------+----------+---------+--------------+----+------------+-----------+--------------+------------------------+------------+----------------------+-----------------+-------------------+-----------------------+--------------------+-----------------------+----------------------+-----------------+-------------------------+-------------------------+-------------------------+---------------------+------------------------+\n",
      "|               151| 36|       485372|      2005-02-26|          OH|   250/500|             2000|               870.63|             0|     431725|     FEMALE|                     MD|      adm-clerical|       kayaking|           own-child|        94800|      -58500|   2015-01-06|Multi-vehicle Col...|Side Collision|     Minor Damage|               Police|            VA|    Hillsdale|      2299 1st St|                      12|                          3|             NO|              1|        1|                     NO|           62920.0|       11440|          5720|        45760|     Ford|    Escape|     2000|             N|null|       false| Middle_Age|           0.6|                     0.6|         0.4|                   0.0|              low|              false|             2005-02-26|          2015-01-06|                   3601|     72.26950598991534|           FEMALE|       1231.0364615384624|                      455|                 440440.0|                    1|     0.16923076923076924|\n",
      "|               151| 36|       485372|      2005-02-26|          OH|   250/500|             2000|               870.63|             0|     431725|     FEMALE|                     MD|      adm-clerical|       kayaking|           own-child|        94800|      -58500|   2015-01-06|Multi-vehicle Col...|Side Collision|     Minor Damage|               Police|            VA|    Hillsdale|      2299 1st St|                      12|                          3|             NO|              1|        1|                     NO|           62920.0|       11440|          5720|        45760|     Ford|    Escape|     2000|             N|null|       false| Middle_Age|           0.6|                     0.6|         0.4|                   0.0|              low|              false|             2005-02-26|          2015-01-06|                   3601|     72.26950598991534|           FEMALE|       1231.0364615384624|                      455|                 440440.0|                    2|     0.16923076923076924|\n",
      "|               151| 36|       485372|      2005-02-26|          OH|   250/500|             2000|               870.63|             0|     431725|     FEMALE|                     MD|      adm-clerical|       kayaking|           own-child|        94800|      -58500|   2015-01-06|Multi-vehicle Col...|Side Collision|     Minor Damage|               Police|            VA|    Hillsdale|      2299 1st St|                      12|                          3|             NO|              1|        1|                     NO|           62920.0|       11440|          5720|        45760|     Ford|    Escape|     2000|             N|null|       false| Middle_Age|           0.6|                     0.6|         0.4|                   0.0|              low|              false|             2005-02-26|          2015-01-06|                   3601|     72.26950598991534|           FEMALE|       1231.0364615384624|                      455|                 440440.0|                    3|     0.16923076923076924|\n",
      "|               151| 36|       485372|      2005-02-26|          OH|   250/500|             2000|               870.63|             0|     431725|     FEMALE|                     MD|      adm-clerical|       kayaking|           own-child|        94800|      -58500|   2015-01-06|Multi-vehicle Col...|Side Collision|     Minor Damage|               Police|            VA|    Hillsdale|      2299 1st St|                      12|                          3|             NO|              1|        1|                     NO|           62920.0|       11440|          5720|        45760|     Ford|    Escape|     2000|             N|null|       false| Middle_Age|           0.6|                     0.6|         0.4|                   0.0|              low|              false|             2005-02-26|          2015-01-06|                   3601|     72.26950598991534|           FEMALE|       1231.0364615384624|                      455|                 440440.0|                    4|     0.16923076923076924|\n",
      "|               151| 36|       485372|      2005-02-26|          OH|   250/500|             2000|               870.63|             0|     431725|     FEMALE|                     MD|      adm-clerical|       kayaking|           own-child|        94800|      -58500|   2015-01-06|Multi-vehicle Col...|Side Collision|     Minor Damage|               Police|            VA|    Hillsdale|      2299 1st St|                      12|                          3|             NO|              1|        1|                     NO|           62920.0|       11440|          5720|        45760|     Ford|    Escape|     2000|             N|null|       false| Middle_Age|           0.6|                     0.6|         0.4|                   0.0|              low|              false|             2005-02-26|          2015-01-06|                   3601|     72.26950598991534|           FEMALE|       1231.0364615384624|                      455|                 440440.0|                    5|     0.16923076923076924|\n",
      "|               151| 36|       485372|      2005-02-26|          OH|   250/500|             2000|               870.63|             0|     431725|     FEMALE|                     MD|      adm-clerical|       kayaking|           own-child|        94800|      -58500|   2015-01-06|Multi-vehicle Col...|Side Collision|     Minor Damage|               Police|            VA|    Hillsdale|      2299 1st St|                      12|                          3|             NO|              1|        1|                     NO|           62920.0|       11440|          5720|        45760|     Ford|    Escape|     2000|             N|null|       false| Middle_Age|           0.6|                     0.6|         0.4|                   0.0|              low|              false|             2005-02-26|          2015-01-06|                   3601|     72.26950598991534|           FEMALE|       1231.0364615384624|                      455|                 440440.0|                    6|     0.16923076923076924|\n",
      "|               151| 36|       485372|      2005-02-26|          OH|   250/500|             2000|               870.63|             0|     431725|     FEMALE|                     MD|      adm-clerical|       kayaking|           own-child|        94800|      -58500|   2015-01-06|Multi-vehicle Col...|Side Collision|     Minor Damage|               Police|            VA|    Hillsdale|      2299 1st St|                      12|                          3|             NO|              1|        1|                     NO|           62920.0|       11440|          5720|        45760|     Ford|    Escape|     2000|             N|null|       false| Middle_Age|           0.6|                     0.6|         0.4|                   0.0|              low|              false|             2005-02-26|          2015-01-06|                   3601|     72.26950598991534|           FEMALE|       1231.0364615384624|                      455|                 440440.0|                    7|     0.16923076923076924|\n",
      "|               162| 31|       386690|      2006-02-21|          IN|   100/300|             1000|              1050.24|             0|     456789|     FEMALE|                Masters|      adm-clerical|          chess|                wife|        30700|           0|   2015-02-26|          Parked Car|             ?|     Minor Damage|                 None|            NC|    Arlington|   5480 3rd Ridge|                       7|                          1|              ?|              0|        0|                     NO|            3600.0|         360|           720|         2520|      BMW|        X5|     2013|             Y|null|       false|Young_Adult|           0.6|                     0.6|   0.6333333|                   0.7|           medium|               true|             2006-02-21|          2015-02-26|                   3292|    3.4277879341864717|           FEMALE|       1231.0364615384624|                      455|                  25200.0|                    1|     0.16923076923076924|\n",
      "|               162| 31|       386690|      2006-02-21|          IN|   100/300|             1000|              1050.24|             0|     456789|     FEMALE|                Masters|      adm-clerical|          chess|                wife|        30700|           0|   2015-02-26|          Parked Car|             ?|     Minor Damage|                 None|            NC|    Arlington|   5480 3rd Ridge|                       7|                          1|              ?|              0|        0|                     NO|            3600.0|         360|           720|         2520|      BMW|        X5|     2013|             Y|null|       false|Young_Adult|           0.6|                     0.6|   0.6333333|                   0.7|           medium|               true|             2006-02-21|          2015-02-26|                   3292|    3.4277879341864717|           FEMALE|       1231.0364615384624|                      455|                  25200.0|                    2|     0.16923076923076924|\n",
      "|               162| 31|       386690|      2006-02-21|          IN|   100/300|             1000|              1050.24|             0|     456789|     FEMALE|                Masters|      adm-clerical|          chess|                wife|        30700|           0|   2015-02-26|          Parked Car|             ?|     Minor Damage|                 None|            NC|    Arlington|   5480 3rd Ridge|                       7|                          1|              ?|              0|        0|                     NO|            3600.0|         360|           720|         2520|      BMW|        X5|     2013|             Y|null|       false|Young_Adult|           0.6|                     0.6|   0.6333333|                   0.7|           medium|               true|             2006-02-21|          2015-02-26|                   3292|    3.4277879341864717|           FEMALE|       1231.0364615384624|                      455|                  25200.0|                    3|     0.16923076923076924|\n",
      "|               162| 31|       386690|      2006-02-21|          IN|   100/300|             1000|              1050.24|             0|     456789|     FEMALE|                Masters|      adm-clerical|          chess|                wife|        30700|           0|   2015-02-26|          Parked Car|             ?|     Minor Damage|                 None|            NC|    Arlington|   5480 3rd Ridge|                       7|                          1|              ?|              0|        0|                     NO|            3600.0|         360|           720|         2520|      BMW|        X5|     2013|             Y|null|       false|Young_Adult|           0.6|                     0.6|   0.6333333|                   0.7|           medium|               true|             2006-02-21|          2015-02-26|                   3292|    3.4277879341864717|           FEMALE|       1231.0364615384624|                      455|                  25200.0|                    4|     0.16923076923076924|\n",
      "|               162| 31|       386690|      2006-02-21|          IN|   100/300|             1000|              1050.24|             0|     456789|     FEMALE|                Masters|      adm-clerical|          chess|                wife|        30700|           0|   2015-02-26|          Parked Car|             ?|     Minor Damage|                 None|            NC|    Arlington|   5480 3rd Ridge|                       7|                          1|              ?|              0|        0|                     NO|            3600.0|         360|           720|         2520|      BMW|        X5|     2013|             Y|null|       false|Young_Adult|           0.6|                     0.6|   0.6333333|                   0.7|           medium|               true|             2006-02-21|          2015-02-26|                   3292|    3.4277879341864717|           FEMALE|       1231.0364615384624|                      455|                  25200.0|                    5|     0.16923076923076924|\n",
      "|               162| 31|       386690|      2006-02-21|          IN|   100/300|             1000|              1050.24|             0|     456789|     FEMALE|                Masters|      adm-clerical|          chess|                wife|        30700|           0|   2015-02-26|          Parked Car|             ?|     Minor Damage|                 None|            NC|    Arlington|   5480 3rd Ridge|                       7|                          1|              ?|              0|        0|                     NO|            3600.0|         360|           720|         2520|      BMW|        X5|     2013|             Y|null|       false|Young_Adult|           0.6|                     0.6|   0.6333333|                   0.7|           medium|               true|             2006-02-21|          2015-02-26|                   3292|    3.4277879341864717|           FEMALE|       1231.0364615384624|                      455|                  25200.0|                    6|     0.16923076923076924|\n",
      "|               162| 31|       386690|      2006-02-21|          IN|   100/300|             1000|              1050.24|             0|     456789|     FEMALE|                Masters|      adm-clerical|          chess|                wife|        30700|           0|   2015-02-26|          Parked Car|             ?|     Minor Damage|                 None|            NC|    Arlington|   5480 3rd Ridge|                       7|                          1|              ?|              0|        0|                     NO|            3600.0|         360|           720|         2520|      BMW|        X5|     2013|             Y|null|       false|Young_Adult|           0.6|                     0.6|   0.6333333|                   0.7|           medium|               true|             2006-02-21|          2015-02-26|                   3292|    3.4277879341864717|           FEMALE|       1231.0364615384624|                      455|                  25200.0|                    7|     0.16923076923076924|\n",
      "|               266| 42|       929306|      2003-03-06|          IN|   100/300|              500|              1093.83|       4000000|     468454|       MALE|              Associate|      adm-clerical|    board-games|      other-relative|            0|      -49600|   2015-02-21|Multi-vehicle Col...|Side Collision|     Major Damage|            Ambulance|            WV|  Springfield| 4937 Flute Drive|                      18|                          3|              ?|              1|        1|                     NO|           53280.0|        4440|          8880|        39960|   Suburu|   Impreza|     2015|             Y|null|       false| Middle_Age|           0.6|                     0.6|   0.6333333|                   0.7|           medium|               true|             2003-03-06|          2015-02-21|                   4370|     48.70958009928417|             MALE|       1231.0364615384624|                      455|                 372960.0|                    1|     0.16923076923076924|\n",
      "|               266| 42|       929306|      2003-03-06|          IN|   100/300|              500|              1093.83|       4000000|     468454|       MALE|              Associate|      adm-clerical|    board-games|      other-relative|            0|      -49600|   2015-02-21|Multi-vehicle Col...|Side Collision|     Major Damage|            Ambulance|            WV|  Springfield| 4937 Flute Drive|                      18|                          3|              ?|              1|        1|                     NO|           53280.0|        4440|          8880|        39960|   Suburu|   Impreza|     2015|             Y|null|       false| Middle_Age|           0.6|                     0.6|   0.6333333|                   0.7|           medium|               true|             2003-03-06|          2015-02-21|                   4370|     48.70958009928417|             MALE|       1231.0364615384624|                      455|                 372960.0|                    2|     0.16923076923076924|\n",
      "|               266| 42|       929306|      2003-03-06|          IN|   100/300|              500|              1093.83|       4000000|     468454|       MALE|              Associate|      adm-clerical|    board-games|      other-relative|            0|      -49600|   2015-02-21|Multi-vehicle Col...|Side Collision|     Major Damage|            Ambulance|            WV|  Springfield| 4937 Flute Drive|                      18|                          3|              ?|              1|        1|                     NO|           53280.0|        4440|          8880|        39960|   Suburu|   Impreza|     2015|             Y|null|       false| Middle_Age|           0.6|                     0.6|   0.6333333|                   0.7|           medium|               true|             2003-03-06|          2015-02-21|                   4370|     48.70958009928417|             MALE|       1231.0364615384624|                      455|                 372960.0|                    3|     0.16923076923076924|\n",
      "|               266| 42|       929306|      2003-03-06|          IN|   100/300|              500|              1093.83|       4000000|     468454|       MALE|              Associate|      adm-clerical|    board-games|      other-relative|            0|      -49600|   2015-02-21|Multi-vehicle Col...|Side Collision|     Major Damage|            Ambulance|            WV|  Springfield| 4937 Flute Drive|                      18|                          3|              ?|              1|        1|                     NO|           53280.0|        4440|          8880|        39960|   Suburu|   Impreza|     2015|             Y|null|       false| Middle_Age|           0.6|                     0.6|   0.6333333|                   0.7|           medium|               true|             2003-03-06|          2015-02-21|                   4370|     48.70958009928417|             MALE|       1231.0364615384624|                      455|                 372960.0|                    4|     0.16923076923076924|\n",
      "|               266| 42|       929306|      2003-03-06|          IN|   100/300|              500|              1093.83|       4000000|     468454|       MALE|              Associate|      adm-clerical|    board-games|      other-relative|            0|      -49600|   2015-02-21|Multi-vehicle Col...|Side Collision|     Major Damage|            Ambulance|            WV|  Springfield| 4937 Flute Drive|                      18|                          3|              ?|              1|        1|                     NO|           53280.0|        4440|          8880|        39960|   Suburu|   Impreza|     2015|             Y|null|       false| Middle_Age|           0.6|                     0.6|   0.6333333|                   0.7|           medium|               true|             2003-03-06|          2015-02-21|                   4370|     48.70958009928417|             MALE|       1231.0364615384624|                      455|                 372960.0|                    5|     0.16923076923076924|\n",
      "|               266| 42|       929306|      2003-03-06|          IN|   100/300|              500|              1093.83|       4000000|     468454|       MALE|              Associate|      adm-clerical|    board-games|      other-relative|            0|      -49600|   2015-02-21|Multi-vehicle Col...|Side Collision|     Major Damage|            Ambulance|            WV|  Springfield| 4937 Flute Drive|                      18|                          3|              ?|              1|        1|                     NO|           53280.0|        4440|          8880|        39960|   Suburu|   Impreza|     2015|             Y|null|       false| Middle_Age|           0.6|                     0.6|   0.6333333|                   0.7|           medium|               true|             2003-03-06|          2015-02-21|                   4370|     48.70958009928417|             MALE|       1231.0364615384624|                      455|                 372960.0|                    6|     0.16923076923076924|\n",
      "+------------------+---+-------------+----------------+------------+----------+-----------------+---------------------+--------------+-----------+-----------+-----------------------+------------------+---------------+--------------------+-------------+------------+-------------+--------------------+--------------+-----------------+---------------------+--------------+-------------+-----------------+------------------------+---------------------------+---------------+---------------+---------+-----------------------+------------------+------------+--------------+-------------+---------+----------+---------+--------------+----+------------+-----------+--------------+------------------------+------------+----------------------+-----------------+-------------------+-----------------------+--------------------+-----------------------+----------------------+-----------------+-------------------------+-------------------------+-------------------------+---------------------+------------------------+\n",
      "only showing top 20 rows\n",
      "\n"
     ]
    }
   ],
   "source": [
    "\n",
    "# Fraud Agrégations par profession\n",
    "df_agg = df_agg.withColumn(\"fraud_rate_by_profession\",\n",
    "                avg(col(\"fraud_reported_bool\").cast(\"int\")).over(occupation_window))\n",
    "df_agg.show()"
   ]
  },
  {
   "cell_type": "code",
   "execution_count": 105,
   "metadata": {},
   "outputs": [
    {
     "name": "stderr",
     "output_type": "stream",
     "text": [
      "                                                                                \r"
     ]
    },
    {
     "name": "stdout",
     "output_type": "stream",
     "text": [
      "+-----------+------------------------+\n",
      "|  age_group|accident_par_groupe_dage|\n",
      "+-----------+------------------------+\n",
      "|      Young|                     182|\n",
      "|     Senior|                     889|\n",
      "|Young_Adult|                    2338|\n",
      "| Middle_Age|                    3591|\n",
      "+-----------+------------------------+\n",
      "\n"
     ]
    },
    {
     "data": {
      "text/plain": [
       "'\\ndf_agg = df_agg.withColumn(\"accident_par_groupe_dage\",\\n                count(\"policy_number\").over(group_age_window))\\n \\n#df_agg.columns\\ndf_agg.select(\\n    \"accident_par_groupe_dage\",\\n    \"age_group\"\\n).show(100)\\n\\n'"
      ]
     },
     "execution_count": 105,
     "metadata": {},
     "output_type": "execute_result"
    }
   ],
   "source": [
    "# Agrégations par profession\n",
    "#df_agg = df_agg.withColumn(\"avg_premium_by_occupation\",\n",
    "from pyspark.sql import functions as F\n",
    "# Agrégation par groupe d'âge sans spécifier un champ, juste pour compter les lignes\n",
    "df_agg = df_agg.withColumn(\n",
    "    \"accident_par_groupe_dage\",\n",
    "    F.count(\"*\").over(group_age_window)\n",
    ")\n",
    "\n",
    "df_agg.select(\n",
    "    \"age_group\", \n",
    "    \"accident_par_groupe_dage\"\n",
    ").distinct().show()\n",
    "\n",
    "\n",
    "\"\"\"\n",
    "from pyspark.sql import functions as F\n",
    "\n",
    "# Agrégation par groupe d'âge sans spécifier un champ, juste pour compter les lignes\n",
    "df_agg = df_agg.withColumn(\n",
    "    \"accident_par_groupe_dage\",\n",
    "    F.count(\"*\").over(group_age_window)\n",
    ")\n",
    "\n",
    "df_agg.select(\n",
    "    \"age_group\", \n",
    "    \"accident_par_groupe_dage\"\n",
    ").distinct().show()\n",
    "\"\"\"\n",
    "#----\n",
    "\"\"\"\n",
    "df_agg = df_agg.withColumn(\"accident_par_groupe_dage\",\n",
    "                count(\"policy_number\").over(group_age_window))\n",
    " \n",
    "#df_agg.columns\n",
    "df_agg.select(\n",
    "    \"accident_par_groupe_dage\",\n",
    "    \"age_group\"\n",
    ").show(100)\n",
    "\n",
    "\"\"\""
   ]
  },
  {
   "cell_type": "code",
   "execution_count": 106,
   "metadata": {},
   "outputs": [
    {
     "name": "stdout",
     "output_type": "stream",
     "text": [
      "+------------------------+-----------+\n",
      "|accident_par_groupe_dage|  age_group|\n",
      "+------------------------+-----------+\n",
      "|                     182|      Young|\n",
      "|                     889|     Senior|\n",
      "|                    2338|Young_Adult|\n",
      "|                    3591| Middle_Age|\n",
      "+------------------------+-----------+\n",
      "\n"
     ]
    }
   ],
   "source": [
    "from pyspark.sql import functions as F\n",
    "from pyspark.sql.window import Window\n",
    "\n",
    "# Définir la fenêtre (partitionnée par age_group)\n",
    "group_age_window1 = Window.partitionBy(\"age_group\").orderBy(\"age_group\")\n",
    "\n",
    "# Appliquer le comptage des accidents par groupe d'âge\n",
    "df_agg = df_agg.withColumn(\n",
    "    \"accident_par_groupe_dage\",\n",
    "    F.count(\"policy_number\").over(group_age_window1)\n",
    ").orderBy(\"age\")\n",
    "\n",
    "# Appliquer row_number() pour ne garder qu'une ligne par groupe d'âge\n",
    "df_agg = df_agg.withColumn(\"row_num\", F.row_number().over(group_age_window1))\n",
    "\n",
    "# Filtrer pour ne garder que la première ligne de chaque groupe d'âge\n",
    "df_agg_unique = df_agg.filter(df_agg.row_num == 1)\n",
    "\n",
    "# Afficher le résultat\n",
    "df_agg_unique.select(\n",
    "    \"accident_par_groupe_dage\",\n",
    "    \"age_group\"\n",
    ").show(20)"
   ]
  },
  {
   "cell_type": "code",
   "execution_count": null,
   "metadata": {},
   "outputs": [],
   "source": []
  },
  {
   "cell_type": "code",
   "execution_count": null,
   "metadata": {},
   "outputs": [],
   "source": []
  },
  {
   "cell_type": "code",
   "execution_count": null,
   "metadata": {},
   "outputs": [],
   "source": []
  },
  {
   "cell_type": "code",
   "execution_count": 108,
   "metadata": {},
   "outputs": [
    {
     "name": "stdout",
     "output_type": "stream",
     "text": [
      "+--------------+------------------+\n",
      "|incident_state|           avg_age|\n",
      "+--------------+------------------+\n",
      "|            PA|              36.6|\n",
      "|            OH| 38.21739130434783|\n",
      "|            SC|38.568548387096776|\n",
      "|            VA|              38.8|\n",
      "|            NY| 39.12595419847328|\n",
      "|            NC|39.154545454545456|\n",
      "|            WV| 39.53917050691244|\n",
      "+--------------+------------------+\n",
      "\n"
     ]
    }
   ],
   "source": [
    "#%%sparksql\n",
    "\n",
    "#For PySpark:\n",
    "deltaTable = DeltaTable.forPath(spark, \"/opt/workspace/insurance_claims/spark-warehouse/insurance_claimsv4\")  \n",
    "\n",
    "# Convertir la DeltaTable en DataFrame car sinon on ne pourra pas utiliser la fonction select\n",
    "df = deltaTable.toDF()  # Ici, on convertit la DeltaTable en DataFrame\n",
    "\n",
    "'''\n",
    "df = deltaTable.select(\n",
    "    col('value.age').alias('age'),\n",
    "    col('incident_state.name').alias('incident_state'))\n",
    "'''\n",
    " \n",
    "df_moyenne_age = (df.select('age', 'incident_state').groupBy('incident_state').agg(avg('age').alias('avg_age')).orderBy('avg_age'))\n",
    "\n",
    "'''\n",
    "# Agréger par incident_state et calculer la moyenne de l'âge\n",
    "df_moyenne_age = (df.select('age', 'incident_state')\n",
    "                  .groupBy('incident_state')\n",
    "                  .agg(F.avg('age').alias('avg_age'))\n",
    "                  .orderBy('avg_age', ascending=False))  # Trier par avg_age décroissant\n",
    "'''\n",
    "\n",
    "# Register the DeltaTable as a temporary view (on va enlever ceci car deltaTable do not have attribut createOrReplaceTempView car ce nest pas sql\n",
    "#deltaTable.createOrReplaceTempView(\"delta_view\")\n",
    "\n",
    "\n",
    "# Show the result\n",
    "df_moyenne_age.show()"
   ]
  },
  {
   "cell_type": "code",
   "execution_count": 107,
   "metadata": {},
   "outputs": [
    {
     "name": "stdout",
     "output_type": "stream",
     "text": [
      "+---+-----------+----------+\n",
      "|age|insured_sex|row_number|\n",
      "+---+-----------+----------+\n",
      "| 21|       MALE|         1|\n",
      "| 21|       MALE|         2|\n",
      "| 21|       MALE|         3|\n",
      "| 21|       MALE|         4|\n",
      "| 21|       MALE|         5|\n",
      "| 21|       MALE|         6|\n",
      "| 21|       MALE|         7|\n",
      "| 21|       MALE|         8|\n",
      "| 21|       MALE|         9|\n",
      "| 21|       MALE|        10|\n",
      "| 21|       MALE|        11|\n",
      "| 21|       MALE|        12|\n",
      "| 21|       MALE|        13|\n",
      "| 21|       MALE|        14|\n",
      "| 21|       MALE|        15|\n",
      "| 21|       MALE|        16|\n",
      "| 21|       MALE|        17|\n",
      "| 21|       MALE|        18|\n",
      "| 21|       MALE|        19|\n",
      "| 21|       MALE|        20|\n",
      "+---+-----------+----------+\n",
      "only showing top 20 rows\n",
      "\n"
     ]
    }
   ],
   "source": [
    "\n",
    "window_spec = Window.partitionBy(\"insured_sex\").orderBy(\"age\")\n",
    "result = df_agg.withColumn(\"row_number\", row_number().over(window_spec))\n",
    "result.select(\n",
    "               \"age\"\n",
    "               ,\"insured_sex\"\n",
    "               ,\"row_number\"\n",
    "    ).show()\n",
    "\n"
   ]
  },
  {
   "cell_type": "code",
   "execution_count": 109,
   "metadata": {},
   "outputs": [
    {
     "name": "stdout",
     "output_type": "stream",
     "text": [
      "+------------+------------------+\n",
      "|policy_state|count_policy_state|\n",
      "+------------+------------------+\n",
      "|          IN|               310|\n",
      "|          IL|               338|\n",
      "|          OH|               352|\n",
      "+------------+------------------+\n",
      "\n"
     ]
    }
   ],
   "source": [
    "#%%sparksql\n",
    "\n",
    "#For PySpark:\n",
    "#deltaTable = DeltaTable.forPath(spark, \"/opt/workspace/insurance_claims/spark-warehouse/insurance_claimsv4\")  \n",
    "\n",
    "# Convertir la DeltaTable en DataFrame car sinon on ne pourra pas utiliser la fonction select\n",
    "#df = deltaTable.toDF()  # Ici, on convertit la DeltaTable en DataFrame\n",
    "\n",
    "# policy_state\n",
    "df_policy_state = (df.select('policy_state').groupBy('policy_state').agg(count('policy_state').alias('count_policy_state')).orderBy('count_policy_state'))\n",
    "df_policy_state.show()\n",
    "# IN INDIANA, IL ILINOIS, OH OHIO "
   ]
  },
  {
   "cell_type": "code",
   "execution_count": 110,
   "metadata": {},
   "outputs": [
    {
     "name": "stdout",
     "output_type": "stream",
     "text": [
      "+------------+------------------+\n",
      "|policy_state|count_policy_state|\n",
      "+------------+------------------+\n",
      "|          IN|               310|\n",
      "|          IL|               338|\n",
      "|          OH|               352|\n",
      "+------------+------------------+\n",
      "\n"
     ]
    }
   ],
   "source": [
    "#%%sparksql\n",
    "\n",
    "#For PySpark:\n",
    "#deltaTable = DeltaTable.forPath(spark, \"/opt/workspace/insurance_claims/spark-warehouse/insurance_claimsv4\")  \n",
    "\n",
    "# Convertir la DeltaTable en DataFrame car sinon on ne pourra pas utiliser la fonction select\n",
    "#df = deltaTable.toDF()  # Ici, on convertit la DeltaTable en DataFrame\n",
    "\n",
    "# policy_state\n",
    "df_policy_state = (df.select('policy_state').groupBy('policy_state').agg(count('policy_state').alias('count_policy_state')).orderBy('count_policy_state'))\n",
    "df_policy_state.show()\n",
    "# IN INDIANA, IL ILINOIS, OH OHIO "
   ]
  },
  {
   "cell_type": "code",
   "execution_count": 111,
   "metadata": {},
   "outputs": [],
   "source": [
    " # Define lookup table\n",
    "lookup = {\"IN\": \"INDIANA\", \"IL\": \"ILINOIS\", \"OH\": \"OHIO\"}\n",
    "\n",
    "# Create broadcast variable\n",
    "broadcast_lookup = spark.sparkContext.broadcast(lookup)"
   ]
  },
  {
   "cell_type": "code",
   "execution_count": 112,
   "metadata": {},
   "outputs": [
    {
     "name": "stdout",
     "output_type": "stream",
     "text": [
      "Requirement already satisfied: pyarrow in /usr/local/lib/python3.10/dist-packages (21.0.0)\n",
      "\u001b[33mWARNING: Running pip as the 'root' user can result in broken permissions and conflicting behaviour with the system package manager. It is recommended to use a virtual environment instead: https://pip.pypa.io/warnings/venv\u001b[0m\u001b[33m\n",
      "\u001b[0m"
     ]
    },
    {
     "name": "stderr",
     "output_type": "stream",
     "text": [
      "/usr/local/lib/python3.10/dist-packages/pyspark/sql/pandas/functions.py:399: UserWarning: In Python 3.6+ and Spark 3.0+, it is preferred to specify type hints for pandas UDF instead of specifying pandas UDF type which will be deprecated in the future releases. See SPARK-28264 for more details.\n",
      "  warnings.warn(\n"
     ]
    }
   ],
   "source": [
    "# Import necessary functions from PySpark\n",
    "!pip install pyarrow\n",
    "from pyspark.sql.functions import rand, when, pandas_udf, PandasUDFType\n",
    "from pyspark.sql.types import StringType\n",
    "@pandas_udf('string', PandasUDFType.SCALAR)\n",
    "def state_convert(s):\n",
    "    return s.map(broadcast_lookup.value)"
   ]
  },
  {
   "cell_type": "code",
   "execution_count": 113,
   "metadata": {},
   "outputs": [
    {
     "name": "stderr",
     "output_type": "stream",
     "text": [
      "                                                                                \r"
     ]
    },
    {
     "name": "stdout",
     "output_type": "stream",
     "text": [
      "    months_as_customer age policy_number policy_bind_date policy_state  \\\n",
      "0                  328  48        521585       2014-10-17           OH   \n",
      "1                  228  42        342868       2006-06-27           IN   \n",
      "2                  134  29        687698       2000-09-06           OH   \n",
      "3                  256  41        227811       1990-05-25           IL   \n",
      "4                  228  44        367455       2014-06-06           IL   \n",
      "..                 ...  ..           ...              ...          ...   \n",
      "995                  3  38        941851       1991-07-16           OH   \n",
      "996                285  41        186934       2014-01-05           IL   \n",
      "997                130  34        918516       2003-02-17           OH   \n",
      "998                458  62        533940       2011-11-18           IL   \n",
      "999                456  60        556080       1996-11-11           OH   \n",
      "\n",
      "    policy_csl policy_deductable policy_annual_premium umbrella_limit  \\\n",
      "0      250/500              1000               1406.91              0   \n",
      "1      250/500              2000               1197.22        5000000   \n",
      "2      100/300              2000               1413.14        5000000   \n",
      "3      250/500              2000               1415.74        6000000   \n",
      "4     500/1000              1000               1583.91        6000000   \n",
      "..         ...               ...                   ...            ...   \n",
      "995   500/1000              1000                1310.8              0   \n",
      "996    100/300              1000               1436.79              0   \n",
      "997    250/500               500               1383.49        3000000   \n",
      "998   500/1000              2000               1356.92        5000000   \n",
      "999    250/500              1000                766.19              0   \n",
      "\n",
      "    insured_zip  ... total_claim_amount injury_claim property_claim  \\\n",
      "0        466132  ...              71610         6510          13020   \n",
      "1        468176  ...               5070          780            780   \n",
      "2        430632  ...              34650         7700           3850   \n",
      "3        608117  ...              63400         6340           6340   \n",
      "4        610706  ...               6500         1300            650   \n",
      "..          ...  ...                ...          ...            ...   \n",
      "995      431289  ...              87200        17440           8720   \n",
      "996      608177  ...             108480        18080          18080   \n",
      "997      442797  ...              67500         7500           7500   \n",
      "998      441714  ...              46980         5220           5220   \n",
      "999      612260  ...               5060          460            920   \n",
      "\n",
      "    vehicle_claim   auto_make auto_model auto_year fraud_reported  _c39  \\\n",
      "0           52080        Saab        92x      2004              Y  None   \n",
      "1            3510    Mercedes       E400      2007              Y  None   \n",
      "2           23100       Dodge        RAM      2007              N  None   \n",
      "3           50720   Chevrolet      Tahoe      2014              Y  None   \n",
      "4            4550      Accura        RSX      2009              N  None   \n",
      "..            ...         ...        ...       ...            ...   ...   \n",
      "995         61040       Honda     Accord      2006              N  None   \n",
      "996         72320  Volkswagen     Passat      2015              N  None   \n",
      "997         52500      Suburu    Impreza      1996              N  None   \n",
      "998         36540        Audi         A5      1998              N  None   \n",
      "999          3680    Mercedes       E400      2007              N  None   \n",
      "\n",
      "    state_name  \n",
      "0         OHIO  \n",
      "1      INDIANA  \n",
      "2         OHIO  \n",
      "3      ILINOIS  \n",
      "4      ILINOIS  \n",
      "..         ...  \n",
      "995       OHIO  \n",
      "996    ILINOIS  \n",
      "997       OHIO  \n",
      "998    ILINOIS  \n",
      "999       OHIO  \n",
      "\n",
      "[1000 rows x 41 columns]\n"
     ]
    }
   ],
   "source": [
    "df = df.withColumn(\"state_name\", state_convert(df.policy_state)) \n",
    "df_pandas = df.toPandas()\n",
    "\n",
    "# Afficher le DataFrame sous forme de tableau\n",
    "print(df_pandas)\n"
   ]
  },
  {
   "cell_type": "code",
   "execution_count": 114,
   "metadata": {},
   "outputs": [
    {
     "data": {
      "text/plain": [
       "\"\\nData skew refers to an imbalance in the distribution of data in a dataset, particularly in the context of distributed \\ncomputing and big data processing frameworks (like Apache Spark or Hadoop). It occurs when data is unevenly distributed \\nacross nodes or partitions, leading to some nodes being overloaded with too much data while others have too little.\\nc'est ce qu'on a fait avec repartition by colonne pour eviter le data skew (example 6.4) \\n\""
      ]
     },
     "execution_count": 114,
     "metadata": {},
     "output_type": "execute_result"
    }
   ],
   "source": [
    " \"\"\"\n",
    " Data skew refers to an imbalance in the distribution of data in a dataset, particularly in the context of distributed \n",
    " computing and big data processing frameworks (like Apache Spark or Hadoop). It occurs when data is unevenly distributed \n",
    " across nodes or partitions, leading to some nodes being overloaded with too much data while others have too little.\n",
    " c'est ce qu'on a fait avec repartition by colonne pour eviter le data skew (example 6.4) \n",
    " \"\"\""
   ]
  },
  {
   "cell_type": "code",
   "execution_count": 115,
   "metadata": {},
   "outputs": [
    {
     "data": {
      "text/plain": [
       "'\\n# Cache the DataFrame using cache() method: ici le but est de sauvegarder notre dataframe en cache car on veut gagner en temps \\n# je peux essayer de le faire avant de faire les df_agg  6.5\\ndf_pandas.cache()\\n# Check the storage level of the cached DataFrame\\nprint(df_pandas.storageLevel)\\n\\nmeasure_time(df_pandas)\\ndf_pandas.persist(StorageLevel.MEMORY_AND_DISK_DESER)\\n'"
      ]
     },
     "execution_count": 115,
     "metadata": {},
     "output_type": "execute_result"
    }
   ],
   "source": [
    "\"\"\"\n",
    "# Cache the DataFrame using cache() method: ici le but est de sauvegarder notre dataframe en cache car on veut gagner en temps \n",
    "# je peux essayer de le faire avant de faire les df_agg  6.5\n",
    "df_pandas.cache()\n",
    "# Check the storage level of the cached DataFrame\n",
    "print(df_pandas.storageLevel)\n",
    "\n",
    "measure_time(df_pandas)\n",
    "df_pandas.persist(StorageLevel.MEMORY_AND_DISK_DESER)\n",
    "\"\"\""
   ]
  },
  {
   "cell_type": "code",
   "execution_count": 116,
   "metadata": {},
   "outputs": [
    {
     "data": {
      "text/plain": [
       "'\\n# Persist the DataFrame using persist() method with a different storage level\\ndf_pandas.persist(StorageLevel.MEMORY_AND_DISK_DESER)\\n# Check the storage level of the persisted DataFrame\\nprint(df_pandas.storageLevel)\\n'"
      ]
     },
     "execution_count": 116,
     "metadata": {},
     "output_type": "execute_result"
    }
   ],
   "source": [
    "\"\"\"\n",
    "# Persist the DataFrame using persist() method with a different storage level\n",
    "df_pandas.persist(StorageLevel.MEMORY_AND_DISK_DESER)\n",
    "# Check the storage level of the persisted DataFrame\n",
    "print(df_pandas.storageLevel)\n",
    "\"\"\""
   ]
  },
  {
   "cell_type": "code",
   "execution_count": 117,
   "metadata": {},
   "outputs": [
    {
     "data": {
      "text/plain": [
       "'\\nresults_df = large_df.groupBy(\"ProductId\").agg({\"Id\": \"count\"}) \\nmeasure_time(results_df)\\n# Show the result\\nresults_df.show(5)\\n'"
      ]
     },
     "execution_count": 117,
     "metadata": {},
     "output_type": "execute_result"
    }
   ],
   "source": [
    "\"\"\"\n",
    "results_df = large_df.groupBy(\"ProductId\").agg({\"Id\": \"count\"}) \n",
    "measure_time(results_df)\n",
    "# Show the result\n",
    "results_df.show(5)\n",
    "\"\"\""
   ]
  },
  {
   "cell_type": "code",
   "execution_count": 118,
   "metadata": {},
   "outputs": [
    {
     "data": {
      "text/plain": [
       "'\\n# Unpersist the DataFrame using unpersist() method\\nlarge_df.unpersist()\\n# Check the storage level of the unpersisted DataFrame\\nprint(large_df.storageLevel)\\n'"
      ]
     },
     "execution_count": 118,
     "metadata": {},
     "output_type": "execute_result"
    }
   ],
   "source": [
    "\"\"\"\n",
    "# Unpersist the DataFrame using unpersist() method\n",
    "large_df.unpersist()\n",
    "# Check the storage level of the unpersisted DataFrame\n",
    "print(large_df.storageLevel)\n",
    "\"\"\"\n"
   ]
  },
  {
   "cell_type": "code",
   "execution_count": null,
   "metadata": {},
   "outputs": [],
   "source": []
  },
  {
   "cell_type": "code",
   "execution_count": null,
   "metadata": {},
   "outputs": [],
   "source": []
  },
  {
   "cell_type": "code",
   "execution_count": null,
   "metadata": {},
   "outputs": [],
   "source": []
  },
  {
   "cell_type": "code",
   "execution_count": null,
   "metadata": {},
   "outputs": [],
   "source": []
  },
  {
   "cell_type": "code",
   "execution_count": 129,
   "metadata": {},
   "outputs": [
    {
     "name": "stderr",
     "output_type": "stream",
     "text": [
      "                                                                                \r"
     ]
    },
    {
     "name": "stdout",
     "output_type": "stream",
     "text": [
      "+----------+---------------+\n",
      "| auto_make|auto_make_count|\n",
      "+----------+---------------+\n",
      "|     Dodge|             80|\n",
      "|    Suburu|             80|\n",
      "|       BMW|             72|\n",
      "|      Jeep|             67|\n",
      "|     Honda|             55|\n",
      "|Volkswagen|             68|\n",
      "| Chevrolet|             76|\n",
      "|      Audi|             69|\n",
      "|      Ford|             72|\n",
      "|    Accura|             68|\n",
      "|    Nissan|             78|\n",
      "|    Toyota|             70|\n",
      "|      Saab|             80|\n",
      "|  Mercedes|             65|\n",
      "+----------+---------------+\n",
      "\n"
     ]
    }
   ],
   "source": [
    "# nous voulons savoir les marques les plus utilisées: \n",
    "df_auto_les_plus_utilisees = (df.select('auto_make').groupBy('auto_make').agg(count('auto_make').alias('auto_make_count')))\n",
    "df_auto_les_plus_utilisees.show()"
   ]
  },
  {
   "cell_type": "code",
   "execution_count": 130,
   "metadata": {},
   "outputs": [
    {
     "name": "stdout",
     "output_type": "stream",
     "text": [
      "root\n",
      " |-- months_as_customer: string (nullable = true)\n",
      " |-- age: string (nullable = true)\n",
      " |-- policy_number: string (nullable = true)\n",
      " |-- policy_bind_date: string (nullable = true)\n",
      " |-- policy_state: string (nullable = true)\n",
      " |-- policy_csl: string (nullable = true)\n",
      " |-- policy_deductable: string (nullable = true)\n",
      " |-- policy_annual_premium: string (nullable = true)\n",
      " |-- umbrella_limit: string (nullable = true)\n",
      " |-- insured_zip: string (nullable = true)\n",
      " |-- insured_sex: string (nullable = true)\n",
      " |-- insured_education_level: string (nullable = true)\n",
      " |-- insured_occupation: string (nullable = true)\n",
      " |-- insured_hobbies: string (nullable = true)\n",
      " |-- insured_relationship: string (nullable = true)\n",
      " |-- capital_gains: string (nullable = true)\n",
      " |-- capital_loss: string (nullable = true)\n",
      " |-- incident_date: string (nullable = true)\n",
      " |-- incident_type: string (nullable = true)\n",
      " |-- collision_type: string (nullable = true)\n",
      " |-- incident_severity: string (nullable = true)\n",
      " |-- authorities_contacted: string (nullable = true)\n",
      " |-- incident_state: string (nullable = true)\n",
      " |-- incident_city: string (nullable = true)\n",
      " |-- incident_location: string (nullable = true)\n",
      " |-- incident_hour_of_the_day: string (nullable = true)\n",
      " |-- number_of_vehicles_involved: string (nullable = true)\n",
      " |-- property_damage: string (nullable = true)\n",
      " |-- bodily_injuries: string (nullable = true)\n",
      " |-- witnesses: string (nullable = true)\n",
      " |-- police_report_available: string (nullable = true)\n",
      " |-- total_claim_amount: float (nullable = true)\n",
      " |-- injury_claim: string (nullable = true)\n",
      " |-- property_claim: string (nullable = true)\n",
      " |-- vehicle_claim: string (nullable = true)\n",
      " |-- auto_make: string (nullable = true)\n",
      " |-- auto_model: string (nullable = true)\n",
      " |-- auto_year: string (nullable = true)\n",
      " |-- fraud_reported: string (nullable = true)\n",
      " |-- _c39: string (nullable = true)\n",
      " |-- missing_data: boolean (nullable = true)\n",
      " |-- age_group: string (nullable = true)\n",
      " |-- age_risk_score: float (nullable = true)\n",
      " |-- risque_selon_lanciennete: float (nullable = true)\n",
      " |-- risque_total: float (nullable = true)\n",
      " |-- risque_selon_la_fraude: float (nullable = true)\n",
      " |-- cathegorie_risque: string (nullable = true)\n",
      " |-- fraud_reported_bool: boolean (nullable = false)\n",
      " |-- policy_bind_date_parsed: date (nullable = true)\n",
      " |-- incident_date_parsed: date (nullable = true)\n",
      " |-- days_policy_to_incident: integer (nullable = true)\n",
      " |-- claim_to_premium_ratio: double (nullable = true)\n",
      " |-- insured_sex_clean: string (nullable = true)\n",
      " |-- avg_premium_by_occupation: double (nullable = true)\n",
      " |-- claim_count_by_occupation: long (nullable = false)\n",
      " |-- running_total_claims_area: double (nullable = true)\n",
      " |-- incident_rank_in_area: integer (nullable = false)\n",
      " |-- fraud_rate_by_profession: double (nullable = true)\n",
      " |-- accident_par_groupe_dage: long (nullable = false)\n",
      " |-- row_num: integer (nullable = false)\n",
      " |-- row_number: integer (nullable = false)\n",
      "\n"
     ]
    }
   ],
   "source": [
    " result.printSchema()"
   ]
  },
  {
   "cell_type": "code",
   "execution_count": 131,
   "metadata": {},
   "outputs": [
    {
     "name": "stdout",
     "output_type": "stream",
     "text": [
      "+-----------+----------------+\n",
      "|  age_group|nombre_daccident|\n",
      "+-----------+----------------+\n",
      "|      Young|             182|\n",
      "|Young_Adult|            2338|\n",
      "|     Senior|             889|\n",
      "| Middle_Age|            3591|\n",
      "+-----------+----------------+\n",
      "\n"
     ]
    }
   ],
   "source": [
    "#deltaTable1 = DeltaTable.forPath(spark, \"/opt/workspace/insurance_claims/spark-warehouse/insurance_claimsv4_cdf\")\n",
    "deltaTable = DeltaTable.forPath(spark, \"/opt/workspace/insurance_claims/spark-warehouse/insurance_claimsv4\")  \n",
    " \n",
    "df1 = deltaTable.toDF()\n",
    "# nous voulons savoir le nombre d'accident par groupe d'age\n",
    "df_par_groupe_age = (df_agg.select('age_group', 'policy_number').groupBy('age_group').agg(count('policy_number').alias('nombre_daccident')))\n",
    "df_par_groupe_age.show()\n",
    "#data/delta_lake/insurance_claimsv3_cleansed/_delta_log/00000000000000000001.json"
   ]
  },
  {
   "cell_type": "code",
   "execution_count": null,
   "metadata": {},
   "outputs": [],
   "source": []
  },
  {
   "cell_type": "code",
   "execution_count": null,
   "metadata": {},
   "outputs": [],
   "source": []
  },
  {
   "cell_type": "code",
   "execution_count": null,
   "metadata": {},
   "outputs": [],
   "source": []
  },
  {
   "cell_type": "code",
   "execution_count": null,
   "metadata": {},
   "outputs": [],
   "source": []
  },
  {
   "cell_type": "code",
   "execution_count": 132,
   "metadata": {},
   "outputs": [
    {
     "data": {
      "text/html": [
       "<table><tr style=\"border-bottom: 1px solid\"></tr></table>"
      ],
      "text/plain": [
       "<IPython.core.display.HTML object>"
      ]
     },
     "execution_count": 132,
     "metadata": {},
     "output_type": "execute_result"
    }
   ],
   "source": [
    "%%sparksql\n",
    "CREATE OR REPLACE TEMPORARY VIEW bronzeTable_latest_version as\n",
    "SELECT * FROM (\n",
    "    SELECT *, \n",
    "        RANK() OVER (\n",
    "        PARTITION BY (lower(months_as_customer), lower(age), lower(policy_number), policy_bind_date) \n",
    "        ORDER BY policy_annual_premium DESC) as prix_de_la_police  \n",
    "    --FROM table_changes('default.insurance_claimsv3_cdf',{lastUpdateVersion},{latestVersion})\n",
    "    FROM table_changes('default.insurance_claimsv3_cdf', 1, 8)  -- Corrected version order\n",
    "    WHERE policy_annual_premium IS NOT NULL AND age IS NOT NULL AND policy_number IS NOT NULL AND  _change_type !='update_preimage'\n",
    ")\n",
    "WHERE prix_de_la_police > 500;\n",
    "\n"
   ]
  },
  {
   "cell_type": "code",
   "execution_count": 133,
   "metadata": {},
   "outputs": [
    {
     "name": "stderr",
     "output_type": "stream",
     "text": [
      "                                                                                \r"
     ]
    },
    {
     "data": {
      "text/html": [
       "<table><tr style=\"border-bottom: 1px solid\"><td style=\"font-weight: bold\">_change_type</td><td style=\"font-weight: bold\">count(1)</td></tr></table>"
      ],
      "text/plain": [
       "<IPython.core.display.HTML object>"
      ]
     },
     "execution_count": 133,
     "metadata": {},
     "output_type": "execute_result"
    }
   ],
   "source": [
    "%%sparksql\n",
    "SELECT _change_type, COUNT(*) FROM bronzeTable_latest_version GROUP BY _change_type"
   ]
  },
  {
   "cell_type": "code",
   "execution_count": 134,
   "metadata": {},
   "outputs": [],
   "source": [
    "#df = spark.read.format(\"delta\").load(\"/opt/workspace/data/delta_lake/insurance_claimsv3_cleansed\")\n",
    "df = spark.read.format(\"delta\").load(\"/opt/workspace/insurance_claims/spark-warehouse/insurance_claimsv4\")\n",
    "#insurance_claims/spark-warehouse/insurance_claimsv3_cdf"
   ]
  },
  {
   "cell_type": "code",
   "execution_count": 135,
   "metadata": {},
   "outputs": [
    {
     "name": "stderr",
     "output_type": "stream",
     "text": [
      "                                                                                \r"
     ]
    },
    {
     "name": "stdout",
     "output_type": "stream",
     "text": [
      "+------------------+---+-------------+----------------+------------+----------+-----------------+---------------------+--------------+-----------+-----------+-----------------------+------------------+---------------+--------------------+-------------+------------+-------------+--------------------+---------------+-----------------+---------------------+--------------+-------------+-----------------+------------------------+---------------------------+---------------+---------------+---------+-----------------------+------------------+------------+--------------+-------------+---------+----------+---------+--------------+----+\n",
      "|months_as_customer|age|policy_number|policy_bind_date|policy_state|policy_csl|policy_deductable|policy_annual_premium|umbrella_limit|insured_zip|insured_sex|insured_education_level|insured_occupation|insured_hobbies|insured_relationship|capital-gains|capital-loss|incident_date|       incident_type| collision_type|incident_severity|authorities_contacted|incident_state|incident_city|incident_location|incident_hour_of_the_day|number_of_vehicles_involved|property_damage|bodily_injuries|witnesses|police_report_available|total_claim_amount|injury_claim|property_claim|vehicle_claim|auto_make|auto_model|auto_year|fraud_reported|_c39|\n",
      "+------------------+---+-------------+----------------+------------+----------+-----------------+---------------------+--------------+-----------+-----------+-----------------------+------------------+---------------+--------------------+-------------+------------+-------------+--------------------+---------------+-----------------+---------------------+--------------+-------------+-----------------+------------------------+---------------------------+---------------+---------------+---------+-----------------------+------------------+------------+--------------+-------------+---------+----------+---------+--------------+----+\n",
      "|               328| 48|       521585|      2014-10-17|          OH|   250/500|             1000|              1406.91|             0|     466132|       MALE|                     MD|      craft-repair|       sleeping|             husband|        53300|           0|   2015-01-25|Single Vehicle Co...| Side Collision|     Major Damage|               Police|            SC|     Columbus|   9935 4th Drive|                       5|                          1|            YES|              1|        2|                    YES|             71610|        6510|         13020|        52080|     Saab|       92x|     2004|             Y|null|\n",
      "|               228| 42|       342868|      2006-06-27|          IN|   250/500|             2000|              1197.22|       5000000|     468176|       MALE|                     MD| machine-op-inspct|        reading|      other-relative|            0|           0|   2015-01-21|       Vehicle Theft|              ?|     Minor Damage|               Police|            VA|    Riverwood|     6608 MLK Hwy|                       8|                          1|              ?|              0|        0|                      ?|              5070|         780|           780|         3510| Mercedes|      E400|     2007|             Y|null|\n",
      "|               134| 29|       687698|      2000-09-06|          OH|   100/300|             2000|              1413.14|       5000000|     430632|     FEMALE|                    PhD|             sales|    board-games|           own-child|        35100|           0|   2015-02-22|Multi-vehicle Col...| Rear Collision|     Minor Damage|               Police|            NY|     Columbus|7121 Francis Lane|                       7|                          3|             NO|              2|        3|                     NO|             34650|        7700|          3850|        23100|    Dodge|       RAM|     2007|             N|null|\n",
      "|               256| 41|       227811|      1990-05-25|          IL|   250/500|             2000|              1415.74|       6000000|     608117|     FEMALE|                    PhD|      armed-forces|    board-games|           unmarried|        48900|      -62400|   2015-01-10|Single Vehicle Co...|Front Collision|     Major Damage|               Police|            OH|    Arlington| 6956 Maple Drive|                       5|                          1|              ?|              1|        2|                     NO|             63400|        6340|          6340|        50720|Chevrolet|     Tahoe|     2014|             Y|null|\n",
      "|               228| 44|       367455|      2014-06-06|          IL|  500/1000|             1000|              1583.91|       6000000|     610706|       MALE|              Associate|             sales|    board-games|           unmarried|        66000|      -46000|   2015-02-17|       Vehicle Theft|              ?|     Minor Damage|                 None|            NY|    Arlington|     3041 3rd Ave|                      20|                          1|             NO|              0|        1|                     NO|              6500|        1300|           650|         4550|   Accura|       RSX|     2009|             N|null|\n",
      "+------------------+---+-------------+----------------+------------+----------+-----------------+---------------------+--------------+-----------+-----------+-----------------------+------------------+---------------+--------------------+-------------+------------+-------------+--------------------+---------------+-----------------+---------------------+--------------+-------------+-----------------+------------------------+---------------------------+---------------+---------------+---------+-----------------------+------------------+------------+--------------+-------------+---------+----------+---------+--------------+----+\n",
      "only showing top 5 rows\n",
      "\n"
     ]
    }
   ],
   "source": [
    " df.show(5)"
   ]
  },
  {
   "cell_type": "code",
   "execution_count": 136,
   "metadata": {},
   "outputs": [
    {
     "data": {
      "text/html": [
       "<table><tr style=\"border-bottom: 1px solid\"><td style=\"font-weight: bold\">version</td><td style=\"font-weight: bold\">timestamp</td><td style=\"font-weight: bold\">userId</td><td style=\"font-weight: bold\">userName</td><td style=\"font-weight: bold\">operation</td><td style=\"font-weight: bold\">operationParameters</td><td style=\"font-weight: bold\">job</td><td style=\"font-weight: bold\">notebook</td><td style=\"font-weight: bold\">clusterId</td><td style=\"font-weight: bold\">readVersion</td><td style=\"font-weight: bold\">isolationLevel</td><td style=\"font-weight: bold\">isBlindAppend</td><td style=\"font-weight: bold\">operationMetrics</td><td style=\"font-weight: bold\">userMetadata</td><td style=\"font-weight: bold\">engineInfo</td></tr><tr><td>15</td><td>2025-10-02 18:36:30.032000</td><td>null</td><td>null</td><td>SET TBLPROPERTIES</td><td>{&#x27;properties&#x27;: &#x27;{&quot;updatedFromTableVersion&quot;:&quot;83&quot;}&#x27;}</td><td>null</td><td>null</td><td>null</td><td>14</td><td>Serializable</td><td>True</td><td>{}</td><td>null</td><td>Apache-Spark/3.4.1 Delta-Lake/2.4.0</td></tr><tr><td>14</td><td>2025-09-30 00:40:42.467000</td><td>null</td><td>null</td><td>SET TBLPROPERTIES</td><td>{&#x27;properties&#x27;: &#x27;{&quot;updatedFromTableVersion&quot;:&quot;69&quot;}&#x27;}</td><td>null</td><td>null</td><td>null</td><td>13</td><td>Serializable</td><td>True</td><td>{}</td><td>null</td><td>Apache-Spark/3.4.1 Delta-Lake/2.4.0</td></tr><tr><td>13</td><td>2025-09-29 00:47:21.207000</td><td>null</td><td>null</td><td>SET TBLPROPERTIES</td><td>{&#x27;properties&#x27;: &#x27;{&quot;updatedFromTableVersion&quot;:&quot;55&quot;}&#x27;}</td><td>null</td><td>null</td><td>null</td><td>12</td><td>Serializable</td><td>True</td><td>{}</td><td>null</td><td>Apache-Spark/3.4.1 Delta-Lake/2.4.0</td></tr><tr><td>12</td><td>2025-09-29 00:46:53.030000</td><td>null</td><td>null</td><td>CREATE OR REPLACE TABLE</td><td>{&#x27;description&#x27;: None, &#x27;partitionBy&#x27;: &#x27;[]&#x27;, &#x27;properties&#x27;: &#x27;{&quot;updatedFromTable&quot;:&quot;default.insurance_claimsv3_cdf&quot;,&quot;delta.enableChangeDataFeed&quot;:&quot;true&quot;,&quot;updatedFromTableVersion&quot;:&quot;30&quot;,&quot;medallionLevel&quot;:&quot;silver&quot;}&#x27;, &#x27;isManaged&#x27;: &#x27;false&#x27;}</td><td>null</td><td>null</td><td>null</td><td>11</td><td>Serializable</td><td>False</td><td>{}</td><td>null</td><td>Apache-Spark/3.4.1 Delta-Lake/2.4.0</td></tr><tr><td>11</td><td>2025-09-28 21:20:34.912000</td><td>null</td><td>null</td><td>SET TBLPROPERTIES</td><td>{&#x27;properties&#x27;: &#x27;{&quot;updatedFromTableVersion&quot;:&quot;29&quot;}&#x27;}</td><td>null</td><td>null</td><td>null</td><td>10</td><td>Serializable</td><td>True</td><td>{}</td><td>null</td><td>Apache-Spark/3.4.1 Delta-Lake/2.4.0</td></tr><tr><td>10</td><td>2025-09-28 19:32:06.763000</td><td>null</td><td>null</td><td>SET TBLPROPERTIES</td><td>{&#x27;properties&#x27;: &#x27;{&quot;updatedFromTableVersion&quot;:&quot;18&quot;}&#x27;}</td><td>null</td><td>null</td><td>null</td><td>9</td><td>Serializable</td><td>True</td><td>{}</td><td>null</td><td>Apache-Spark/3.4.1 Delta-Lake/2.4.0</td></tr><tr><td>9</td><td>2025-09-27 20:36:26.035000</td><td>null</td><td>null</td><td>SET TBLPROPERTIES</td><td>{&#x27;properties&#x27;: &#x27;{&quot;updatedFromTableVersion&quot;:&quot;2&quot;}&#x27;}</td><td>null</td><td>null</td><td>null</td><td>8</td><td>Serializable</td><td>True</td><td>{}</td><td>null</td><td>Apache-Spark/3.4.1 Delta-Lake/2.4.0</td></tr><tr><td>8</td><td>2025-09-27 19:37:44.095000</td><td>null</td><td>null</td><td>SET TBLPROPERTIES</td><td>{&#x27;properties&#x27;: &#x27;{&quot;updatedFromTableVersion&quot;:&quot;2&quot;}&#x27;}</td><td>null</td><td>null</td><td>null</td><td>7</td><td>Serializable</td><td>True</td><td>{}</td><td>null</td><td>Apache-Spark/3.4.1 Delta-Lake/2.4.0</td></tr><tr><td>7</td><td>2025-09-27 02:47:21.871000</td><td>null</td><td>null</td><td>SET TBLPROPERTIES</td><td>{&#x27;properties&#x27;: &#x27;{&quot;updatedFromTableVersion&quot;:&quot;1&quot;}&#x27;}</td><td>null</td><td>null</td><td>null</td><td>6</td><td>Serializable</td><td>True</td><td>{}</td><td>null</td><td>Apache-Spark/3.4.1 Delta-Lake/2.4.0</td></tr><tr><td>6</td><td>2025-09-25 21:46:55.532000</td><td>null</td><td>null</td><td>SET TBLPROPERTIES</td><td>{&#x27;properties&#x27;: &#x27;{&quot;updatedFromTableVersion&quot;:&quot;7&quot;}&#x27;}</td><td>null</td><td>null</td><td>null</td><td>5</td><td>Serializable</td><td>True</td><td>{}</td><td>null</td><td>Apache-Spark/3.4.1 Delta-Lake/2.4.0</td></tr><tr><td>5</td><td>2025-09-25 21:37:58.591000</td><td>null</td><td>null</td><td>CREATE OR REPLACE TABLE</td><td>{&#x27;description&#x27;: None, &#x27;partitionBy&#x27;: &#x27;[]&#x27;, &#x27;properties&#x27;: &#x27;{&quot;updatedFromTable&quot;:&quot;default.insurance_claimsv3_cdf&quot;,&quot;delta.enableChangeDataFeed&quot;:&quot;true&quot;,&quot;updatedFromTableVersion&quot;:&quot;2&quot;,&quot;medallionLevel&quot;:&quot;silver&quot;}&#x27;, &#x27;isManaged&#x27;: &#x27;false&#x27;}</td><td>null</td><td>null</td><td>null</td><td>4</td><td>Serializable</td><td>False</td><td>{}</td><td>null</td><td>Apache-Spark/3.4.1 Delta-Lake/2.4.0</td></tr><tr><td>4</td><td>2025-09-25 21:27:51.843000</td><td>null</td><td>null</td><td>SET TBLPROPERTIES</td><td>{&#x27;properties&#x27;: &#x27;{&quot;updatedFromTableVersion&quot;:&quot;7&quot;}&#x27;}</td><td>null</td><td>null</td><td>null</td><td>3</td><td>Serializable</td><td>True</td><td>{}</td><td>null</td><td>Apache-Spark/3.4.1 Delta-Lake/2.4.0</td></tr><tr><td>3</td><td>2025-09-25 21:19:20.090000</td><td>null</td><td>null</td><td>CREATE OR REPLACE TABLE</td><td>{&#x27;description&#x27;: None, &#x27;partitionBy&#x27;: &#x27;[]&#x27;, &#x27;properties&#x27;: &#x27;{&quot;updatedFromTable&quot;:&quot;default.insurance_claimsv3_cdf&quot;,&quot;delta.enableChangeDataFeed&quot;:&quot;true&quot;,&quot;updatedFromTableVersion&quot;:&quot;2&quot;,&quot;medallionLevel&quot;:&quot;silver&quot;}&#x27;, &#x27;isManaged&#x27;: &#x27;false&#x27;}</td><td>null</td><td>null</td><td>null</td><td>2</td><td>Serializable</td><td>False</td><td>{}</td><td>null</td><td>Apache-Spark/3.4.1 Delta-Lake/2.4.0</td></tr><tr><td>2</td><td>2025-09-25 20:08:11.598000</td><td>null</td><td>null</td><td>SET TBLPROPERTIES</td><td>{&#x27;properties&#x27;: &#x27;{&quot;updatedFromTableVersion&quot;:&quot;3&quot;}&#x27;}</td><td>null</td><td>null</td><td>null</td><td>1</td><td>Serializable</td><td>True</td><td>{}</td><td>null</td><td>Apache-Spark/3.4.1 Delta-Lake/2.4.0</td></tr><tr><td>1</td><td>2025-09-25 02:17:18.828000</td><td>null</td><td>null</td><td>SET TBLPROPERTIES</td><td>{&#x27;properties&#x27;: &#x27;{&quot;updatedFromTableVersion&quot;:&quot;2&quot;}&#x27;}</td><td>null</td><td>null</td><td>null</td><td>0</td><td>Serializable</td><td>True</td><td>{}</td><td>null</td><td>Apache-Spark/3.4.1 Delta-Lake/2.4.0</td></tr><tr><td>0</td><td>2025-09-25 01:51:39.459000</td><td>null</td><td>null</td><td>CREATE OR REPLACE TABLE</td><td>{&#x27;description&#x27;: None, &#x27;partitionBy&#x27;: &#x27;[]&#x27;, &#x27;properties&#x27;: &#x27;{&quot;updatedFromTable&quot;:&quot;default.insurance_claimsv3_cdf&quot;,&quot;delta.enableChangeDataFeed&quot;:&quot;true&quot;,&quot;updatedFromTableVersion&quot;:&quot;-1&quot;,&quot;medallionLevel&quot;:&quot;silver&quot;}&#x27;, &#x27;isManaged&#x27;: &#x27;false&#x27;}</td><td>null</td><td>null</td><td>null</td><td>null</td><td>Serializable</td><td>True</td><td>{}</td><td>null</td><td>Apache-Spark/3.4.1 Delta-Lake/2.4.0</td></tr></table>"
      ],
      "text/plain": [
       "<IPython.core.display.HTML object>"
      ]
     },
     "execution_count": 136,
     "metadata": {},
     "output_type": "execute_result"
    }
   ],
   "source": [
    "%%sparksql\n",
    "DESCRIBE HISTORY \"/opt/workspace/data/delta_lake/insurance_claimsv3_cleansed\""
   ]
  },
  {
   "cell_type": "code",
   "execution_count": 137,
   "metadata": {},
   "outputs": [],
   "source": [
    " #Optimize performance with file management - Compaction (bin-packing)"
   ]
  },
  {
   "cell_type": "code",
   "execution_count": 138,
   "metadata": {},
   "outputs": [
    {
     "data": {
      "text/plain": [
       "DataFrame[path: string, metrics: struct<numFilesAdded:bigint,numFilesRemoved:bigint,filesAdded:struct<min:bigint,max:bigint,avg:double,totalFiles:bigint,totalSize:bigint>,filesRemoved:struct<min:bigint,max:bigint,avg:double,totalFiles:bigint,totalSize:bigint>,partitionsOptimized:bigint,zOrderStats:struct<strategyName:string,inputCubeFiles:struct<num:bigint,size:bigint>,inputOtherFiles:struct<num:bigint,size:bigint>,inputNumCubes:bigint,mergedFiles:struct<num:bigint,size:bigint>,numOutputCubes:bigint,mergedNumCubes:bigint>,numBatches:bigint,totalConsideredFiles:bigint,totalFilesSkipped:bigint,preserveInsertionOrder:boolean,numFilesSkippedToReduceWriteAmplification:bigint,numBytesSkippedToReduceWriteAmplification:bigint,startTimeMs:bigint,endTimeMs:bigint,totalClusterParallelism:bigint,totalScheduledTasks:bigint,autoCompactParallelismStats:struct<maxClusterActiveParallelism:bigint,minClusterActiveParallelism:bigint,maxSessionActiveParallelism:bigint,minSessionActiveParallelism:bigint>,deletionVectorStats:struct<numDeletionVectorsRemoved:bigint,numDeletionVectorRowsRemoved:bigint>,numTableColumns:bigint,numTableColumnsWithStats:bigint>]"
      ]
     },
     "execution_count": 138,
     "metadata": {},
     "output_type": "execute_result"
    }
   ],
   "source": [
    "deltaTable = DeltaTable.forPath(spark, \"/opt/workspace/insurance_claims/spark-warehouse/insurance_claimsv4\")   \n",
    "# For Hive metastore-based tables: deltaTable = DeltaTable.forName(spark, tableName)\n",
    "deltaTable.optimize().executeCompaction()"
   ]
  },
  {
   "cell_type": "code",
   "execution_count": 139,
   "metadata": {},
   "outputs": [
    {
     "name": "stderr",
     "output_type": "stream",
     "text": [
      "                                                                                \r"
     ]
    },
    {
     "data": {
      "text/html": [
       "<table><tr style=\"border-bottom: 1px solid\"><td style=\"font-weight: bold\">path</td><td style=\"font-weight: bold\">metrics</td></tr><tr><td>file:/opt/workspace/insurance_claims/spark-warehouse/insurance_claimsv4</td><td>Row(numFilesAdded=0, numFilesRemoved=0, filesAdded=Row(min=None, max=None, avg=0.0, totalFiles=0, totalSize=0), filesRemoved=Row(min=None, max=None, avg=0.0, totalFiles=0, totalSize=0), partitionsOptimized=0, zOrderStats=None, numBatches=0, totalConsideredFiles=1, totalFilesSkipped=1, preserveInsertionOrder=False, numFilesSkippedToReduceWriteAmplification=0, numBytesSkippedToReduceWriteAmplification=0, startTimeMs=1759431496317, endTimeMs=0, totalClusterParallelism=8, totalScheduledTasks=0, autoCompactParallelismStats=None, deletionVectorStats=None, numTableColumns=40, numTableColumnsWithStats=32)</td></tr></table>"
      ],
      "text/plain": [
       "<IPython.core.display.HTML object>"
      ]
     },
     "execution_count": 139,
     "metadata": {},
     "output_type": "execute_result"
    }
   ],
   "source": [
    "%%sparksql\n",
    "-- Optimizes the path-based Delta Lake table\n",
    "OPTIMIZE \"/opt/workspace/insurance_claims/spark-warehouse/insurance_claimsv4\" "
   ]
  },
  {
   "cell_type": "code",
   "execution_count": 140,
   "metadata": {},
   "outputs": [],
   "source": [
    "#Data skipping - Z-Ordering (multi-dimensional clustering)"
   ]
  },
  {
   "cell_type": "code",
   "execution_count": 141,
   "metadata": {},
   "outputs": [
    {
     "name": "stderr",
     "output_type": "stream",
     "text": [
      "                                                                                \r"
     ]
    },
    {
     "data": {
      "text/plain": [
       "DataFrame[path: string, metrics: struct<numFilesAdded:bigint,numFilesRemoved:bigint,filesAdded:struct<min:bigint,max:bigint,avg:double,totalFiles:bigint,totalSize:bigint>,filesRemoved:struct<min:bigint,max:bigint,avg:double,totalFiles:bigint,totalSize:bigint>,partitionsOptimized:bigint,zOrderStats:struct<strategyName:string,inputCubeFiles:struct<num:bigint,size:bigint>,inputOtherFiles:struct<num:bigint,size:bigint>,inputNumCubes:bigint,mergedFiles:struct<num:bigint,size:bigint>,numOutputCubes:bigint,mergedNumCubes:bigint>,numBatches:bigint,totalConsideredFiles:bigint,totalFilesSkipped:bigint,preserveInsertionOrder:boolean,numFilesSkippedToReduceWriteAmplification:bigint,numBytesSkippedToReduceWriteAmplification:bigint,startTimeMs:bigint,endTimeMs:bigint,totalClusterParallelism:bigint,totalScheduledTasks:bigint,autoCompactParallelismStats:struct<maxClusterActiveParallelism:bigint,minClusterActiveParallelism:bigint,maxSessionActiveParallelism:bigint,minSessionActiveParallelism:bigint>,deletionVectorStats:struct<numDeletionVectorsRemoved:bigint,numDeletionVectorRowsRemoved:bigint>,numTableColumns:bigint,numTableColumnsWithStats:bigint>]"
      ]
     },
     "execution_count": 141,
     "metadata": {},
     "output_type": "execute_result"
    }
   ],
   "source": [
    "deltaTable = DeltaTable.forPath(spark, \"/opt/workspace/insurance_claims/spark-warehouse/insurance_claimsv4\")  # path-based table\n",
    "# For Hive metastore-based tables: deltaTable = DeltaTable.forName(spark, tableName)\n",
    "deltaTable.optimize().executeZOrderBy(\"age\")"
   ]
  },
  {
   "cell_type": "code",
   "execution_count": 142,
   "metadata": {},
   "outputs": [
    {
     "data": {
      "text/html": [
       "<table><tr style=\"border-bottom: 1px solid\"><td style=\"font-weight: bold\">path</td><td style=\"font-weight: bold\">metrics</td></tr><tr><td>file:/opt/workspace/insurance_claims/spark-warehouse/insurance_claimsv4</td><td>Row(numFilesAdded=1, numFilesRemoved=1, filesAdded=Row(min=83910, max=83910, avg=83910.0, totalFiles=1, totalSize=83910), filesRemoved=Row(min=83910, max=83910, avg=83910.0, totalFiles=1, totalSize=83910), partitionsOptimized=1, zOrderStats=Row(strategyName=&#x27;all&#x27;, inputCubeFiles=Row(num=0, size=0), inputOtherFiles=Row(num=1, size=83910), inputNumCubes=0, mergedFiles=Row(num=1, size=83910), numOutputCubes=1, mergedNumCubes=None), numBatches=1, totalConsideredFiles=1, totalFilesSkipped=0, preserveInsertionOrder=False, numFilesSkippedToReduceWriteAmplification=0, numBytesSkippedToReduceWriteAmplification=0, startTimeMs=1759431517589, endTimeMs=0, totalClusterParallelism=8, totalScheduledTasks=0, autoCompactParallelismStats=None, deletionVectorStats=None, numTableColumns=40, numTableColumnsWithStats=32)</td></tr></table>"
      ],
      "text/plain": [
       "<IPython.core.display.HTML object>"
      ]
     },
     "execution_count": 142,
     "metadata": {},
     "output_type": "execute_result"
    }
   ],
   "source": [
    "%%sparksql\n",
    "OPTIMIZE \"/opt/workspace/insurance_claims/spark-warehouse/insurance_claimsv4\" ZORDER BY (age)"
   ]
  },
  {
   "cell_type": "code",
   "execution_count": 143,
   "metadata": {},
   "outputs": [
    {
     "name": "stdout",
     "output_type": "stream",
     "text": [
      "only showing top 20 row(s)\n"
     ]
    },
    {
     "data": {
      "text/html": [
       "<table><tr style=\"border-bottom: 1px solid\"><td style=\"font-weight: bold\">version</td><td style=\"font-weight: bold\">timestamp</td><td style=\"font-weight: bold\">userId</td><td style=\"font-weight: bold\">userName</td><td style=\"font-weight: bold\">operation</td><td style=\"font-weight: bold\">operationParameters</td><td style=\"font-weight: bold\">job</td><td style=\"font-weight: bold\">notebook</td><td style=\"font-weight: bold\">clusterId</td><td style=\"font-weight: bold\">readVersion</td><td style=\"font-weight: bold\">isolationLevel</td><td style=\"font-weight: bold\">isBlindAppend</td><td style=\"font-weight: bold\">operationMetrics</td><td style=\"font-weight: bold\">userMetadata</td><td style=\"font-weight: bold\">engineInfo</td></tr><tr><td>29</td><td>2025-10-02 18:58:35.047000</td><td>null</td><td>null</td><td>OPTIMIZE</td><td>{&#x27;predicate&#x27;: &#x27;[]&#x27;, &#x27;zOrderBy&#x27;: &#x27;[&quot;age&quot;]&#x27;}</td><td>null</td><td>null</td><td>null</td><td>28</td><td>SnapshotIsolation</td><td>False</td><td>{&#x27;numRemovedBytes&#x27;: &#x27;83910&#x27;, &#x27;p50FileSize&#x27;: &#x27;83910&#x27;, &#x27;p25FileSize&#x27;: &#x27;83910&#x27;, &#x27;numAddedFiles&#x27;: &#x27;1&#x27;, &#x27;minFileSize&#x27;: &#x27;83910&#x27;, &#x27;p75FileSize&#x27;: &#x27;83910&#x27;, &#x27;numDeletionVectorsRemoved&#x27;: &#x27;0&#x27;, &#x27;numAddedBytes&#x27;: &#x27;83910&#x27;, &#x27;maxFileSize&#x27;: &#x27;83910&#x27;, &#x27;numRemovedFiles&#x27;: &#x27;1&#x27;}</td><td>null</td><td>Apache-Spark/3.4.1 Delta-Lake/2.4.0</td></tr><tr><td>28</td><td>2025-10-02 18:58:26.782000</td><td>null</td><td>null</td><td>OPTIMIZE</td><td>{&#x27;predicate&#x27;: &#x27;[]&#x27;, &#x27;zOrderBy&#x27;: &#x27;[&quot;age&quot;]&#x27;}</td><td>null</td><td>null</td><td>null</td><td>27</td><td>SnapshotIsolation</td><td>False</td><td>{&#x27;numRemovedBytes&#x27;: &#x27;83910&#x27;, &#x27;p50FileSize&#x27;: &#x27;83910&#x27;, &#x27;p25FileSize&#x27;: &#x27;83910&#x27;, &#x27;numAddedFiles&#x27;: &#x27;1&#x27;, &#x27;minFileSize&#x27;: &#x27;83910&#x27;, &#x27;p75FileSize&#x27;: &#x27;83910&#x27;, &#x27;numDeletionVectorsRemoved&#x27;: &#x27;0&#x27;, &#x27;numAddedBytes&#x27;: &#x27;83910&#x27;, &#x27;maxFileSize&#x27;: &#x27;83910&#x27;, &#x27;numRemovedFiles&#x27;: &#x27;1&#x27;}</td><td>null</td><td>Apache-Spark/3.4.1 Delta-Lake/2.4.0</td></tr><tr><td>27</td><td>2025-10-02 18:33:26.986000</td><td>null</td><td>null</td><td>SET TBLPROPERTIES</td><td>{&#x27;properties&#x27;: &#x27;{&quot;delta.logRetentionDuration&quot;:&quot;interval 60 days&quot;,&quot;delta.deletedFileRetentionDuration&quot;:&quot;interval 60 days&quot;}&#x27;}</td><td>null</td><td>null</td><td>null</td><td>26</td><td>Serializable</td><td>True</td><td>{}</td><td>null</td><td>Apache-Spark/3.4.1 Delta-Lake/2.4.0</td></tr><tr><td>26</td><td>2025-10-02 18:33:13.337000</td><td>null</td><td>null</td><td>CREATE OR REPLACE TABLE AS SELECT</td><td>{&#x27;description&#x27;: None, &#x27;partitionBy&#x27;: &#x27;[]&#x27;, &#x27;properties&#x27;: &#x27;{&quot;delta.logRetentionDuration&quot;:&quot;interval 60 days&quot;,&quot;delta.deletedFileRetentionDuration&quot;:&quot;interval 60 days&quot;}&#x27;, &#x27;isManaged&#x27;: &#x27;true&#x27;}</td><td>null</td><td>null</td><td>null</td><td>25</td><td>Serializable</td><td>False</td><td>{&#x27;numOutputRows&#x27;: &#x27;1000&#x27;, &#x27;numOutputBytes&#x27;: &#x27;83910&#x27;, &#x27;numFiles&#x27;: &#x27;1&#x27;}</td><td>null</td><td>Apache-Spark/3.4.1 Delta-Lake/2.4.0</td></tr><tr><td>25</td><td>2025-09-30 00:50:08.569000</td><td>null</td><td>null</td><td>OPTIMIZE</td><td>{&#x27;predicate&#x27;: &#x27;[]&#x27;, &#x27;zOrderBy&#x27;: &#x27;[&quot;age&quot;]&#x27;}</td><td>null</td><td>null</td><td>null</td><td>24</td><td>SnapshotIsolation</td><td>False</td><td>{&#x27;numRemovedBytes&#x27;: &#x27;83910&#x27;, &#x27;p50FileSize&#x27;: &#x27;83910&#x27;, &#x27;p25FileSize&#x27;: &#x27;83910&#x27;, &#x27;numAddedFiles&#x27;: &#x27;1&#x27;, &#x27;minFileSize&#x27;: &#x27;83910&#x27;, &#x27;p75FileSize&#x27;: &#x27;83910&#x27;, &#x27;numDeletionVectorsRemoved&#x27;: &#x27;0&#x27;, &#x27;numAddedBytes&#x27;: &#x27;83910&#x27;, &#x27;maxFileSize&#x27;: &#x27;83910&#x27;, &#x27;numRemovedFiles&#x27;: &#x27;1&#x27;}</td><td>null</td><td>Apache-Spark/3.4.1 Delta-Lake/2.4.0</td></tr><tr><td>24</td><td>2025-09-30 00:50:03.606000</td><td>null</td><td>null</td><td>OPTIMIZE</td><td>{&#x27;predicate&#x27;: &#x27;[]&#x27;, &#x27;zOrderBy&#x27;: &#x27;[&quot;age&quot;]&#x27;}</td><td>null</td><td>null</td><td>null</td><td>23</td><td>SnapshotIsolation</td><td>False</td><td>{&#x27;numRemovedBytes&#x27;: &#x27;83910&#x27;, &#x27;p50FileSize&#x27;: &#x27;83910&#x27;, &#x27;p25FileSize&#x27;: &#x27;83910&#x27;, &#x27;numAddedFiles&#x27;: &#x27;1&#x27;, &#x27;minFileSize&#x27;: &#x27;83910&#x27;, &#x27;p75FileSize&#x27;: &#x27;83910&#x27;, &#x27;numDeletionVectorsRemoved&#x27;: &#x27;0&#x27;, &#x27;numAddedBytes&#x27;: &#x27;83910&#x27;, &#x27;maxFileSize&#x27;: &#x27;83910&#x27;, &#x27;numRemovedFiles&#x27;: &#x27;1&#x27;}</td><td>null</td><td>Apache-Spark/3.4.1 Delta-Lake/2.4.0</td></tr><tr><td>23</td><td>2025-09-30 00:37:16.879000</td><td>null</td><td>null</td><td>SET TBLPROPERTIES</td><td>{&#x27;properties&#x27;: &#x27;{&quot;delta.logRetentionDuration&quot;:&quot;interval 60 days&quot;,&quot;delta.deletedFileRetentionDuration&quot;:&quot;interval 60 days&quot;}&#x27;}</td><td>null</td><td>null</td><td>null</td><td>22</td><td>Serializable</td><td>True</td><td>{}</td><td>null</td><td>Apache-Spark/3.4.1 Delta-Lake/2.4.0</td></tr><tr><td>22</td><td>2025-09-30 00:37:06.262000</td><td>null</td><td>null</td><td>CREATE OR REPLACE TABLE AS SELECT</td><td>{&#x27;description&#x27;: None, &#x27;partitionBy&#x27;: &#x27;[]&#x27;, &#x27;properties&#x27;: &#x27;{&quot;delta.logRetentionDuration&quot;:&quot;interval 60 days&quot;,&quot;delta.deletedFileRetentionDuration&quot;:&quot;interval 60 days&quot;}&#x27;, &#x27;isManaged&#x27;: &#x27;true&#x27;}</td><td>null</td><td>null</td><td>null</td><td>21</td><td>Serializable</td><td>False</td><td>{&#x27;numOutputRows&#x27;: &#x27;1000&#x27;, &#x27;numOutputBytes&#x27;: &#x27;83910&#x27;, &#x27;numFiles&#x27;: &#x27;1&#x27;}</td><td>null</td><td>Apache-Spark/3.4.1 Delta-Lake/2.4.0</td></tr><tr><td>21</td><td>2025-09-29 00:25:50.387000</td><td>null</td><td>null</td><td>SET TBLPROPERTIES</td><td>{&#x27;properties&#x27;: &#x27;{&quot;delta.logRetentionDuration&quot;:&quot;interval 60 days&quot;,&quot;delta.deletedFileRetentionDuration&quot;:&quot;interval 60 days&quot;}&#x27;}</td><td>null</td><td>null</td><td>null</td><td>20</td><td>Serializable</td><td>True</td><td>{}</td><td>null</td><td>Apache-Spark/3.4.1 Delta-Lake/2.4.0</td></tr><tr><td>20</td><td>2025-09-29 00:25:39.481000</td><td>null</td><td>null</td><td>CREATE OR REPLACE TABLE AS SELECT</td><td>{&#x27;description&#x27;: None, &#x27;partitionBy&#x27;: &#x27;[]&#x27;, &#x27;properties&#x27;: &#x27;{&quot;delta.logRetentionDuration&quot;:&quot;interval 60 days&quot;,&quot;delta.deletedFileRetentionDuration&quot;:&quot;interval 60 days&quot;}&#x27;, &#x27;isManaged&#x27;: &#x27;true&#x27;}</td><td>null</td><td>null</td><td>null</td><td>19</td><td>Serializable</td><td>False</td><td>{&#x27;numOutputRows&#x27;: &#x27;1000&#x27;, &#x27;numOutputBytes&#x27;: &#x27;83910&#x27;, &#x27;numFiles&#x27;: &#x27;1&#x27;}</td><td>null</td><td>Apache-Spark/3.4.1 Delta-Lake/2.4.0</td></tr><tr><td>19</td><td>2025-09-28 21:11:41.665000</td><td>null</td><td>null</td><td>SET TBLPROPERTIES</td><td>{&#x27;properties&#x27;: &#x27;{&quot;delta.logRetentionDuration&quot;:&quot;interval 60 days&quot;,&quot;delta.deletedFileRetentionDuration&quot;:&quot;interval 60 days&quot;}&#x27;}</td><td>null</td><td>null</td><td>null</td><td>18</td><td>Serializable</td><td>True</td><td>{}</td><td>null</td><td>Apache-Spark/3.4.1 Delta-Lake/2.4.0</td></tr><tr><td>18</td><td>2025-09-28 21:11:32.982000</td><td>null</td><td>null</td><td>CREATE OR REPLACE TABLE AS SELECT</td><td>{&#x27;description&#x27;: None, &#x27;partitionBy&#x27;: &#x27;[]&#x27;, &#x27;properties&#x27;: &#x27;{&quot;delta.logRetentionDuration&quot;:&quot;interval 60 days&quot;,&quot;delta.deletedFileRetentionDuration&quot;:&quot;interval 60 days&quot;}&#x27;, &#x27;isManaged&#x27;: &#x27;true&#x27;}</td><td>null</td><td>null</td><td>null</td><td>17</td><td>Serializable</td><td>False</td><td>{&#x27;numOutputRows&#x27;: &#x27;1000&#x27;, &#x27;numOutputBytes&#x27;: &#x27;83910&#x27;, &#x27;numFiles&#x27;: &#x27;1&#x27;}</td><td>null</td><td>Apache-Spark/3.4.1 Delta-Lake/2.4.0</td></tr><tr><td>17</td><td>2025-09-28 19:21:40.533000</td><td>null</td><td>null</td><td>SET TBLPROPERTIES</td><td>{&#x27;properties&#x27;: &#x27;{&quot;delta.logRetentionDuration&quot;:&quot;interval 60 days&quot;,&quot;delta.deletedFileRetentionDuration&quot;:&quot;interval 60 days&quot;}&#x27;}</td><td>null</td><td>null</td><td>null</td><td>16</td><td>Serializable</td><td>True</td><td>{}</td><td>null</td><td>Apache-Spark/3.4.1 Delta-Lake/2.4.0</td></tr><tr><td>16</td><td>2025-09-28 19:21:33.578000</td><td>null</td><td>null</td><td>CREATE OR REPLACE TABLE AS SELECT</td><td>{&#x27;description&#x27;: None, &#x27;partitionBy&#x27;: &#x27;[]&#x27;, &#x27;properties&#x27;: &#x27;{&quot;delta.logRetentionDuration&quot;:&quot;interval 60 days&quot;,&quot;delta.deletedFileRetentionDuration&quot;:&quot;interval 60 days&quot;}&#x27;, &#x27;isManaged&#x27;: &#x27;true&#x27;}</td><td>null</td><td>null</td><td>null</td><td>15</td><td>Serializable</td><td>False</td><td>{&#x27;numOutputRows&#x27;: &#x27;1000&#x27;, &#x27;numOutputBytes&#x27;: &#x27;83910&#x27;, &#x27;numFiles&#x27;: &#x27;1&#x27;}</td><td>null</td><td>Apache-Spark/3.4.1 Delta-Lake/2.4.0</td></tr><tr><td>15</td><td>2025-09-27 19:26:53.830000</td><td>null</td><td>null</td><td>SET TBLPROPERTIES</td><td>{&#x27;properties&#x27;: &#x27;{&quot;delta.logRetentionDuration&quot;:&quot;interval 60 days&quot;,&quot;delta.deletedFileRetentionDuration&quot;:&quot;interval 60 days&quot;}&#x27;}</td><td>null</td><td>null</td><td>null</td><td>14</td><td>Serializable</td><td>True</td><td>{}</td><td>null</td><td>Apache-Spark/3.4.1 Delta-Lake/2.4.0</td></tr><tr><td>14</td><td>2025-09-27 19:26:04.936000</td><td>null</td><td>null</td><td>CREATE OR REPLACE TABLE AS SELECT</td><td>{&#x27;description&#x27;: None, &#x27;partitionBy&#x27;: &#x27;[]&#x27;, &#x27;properties&#x27;: &#x27;{&quot;delta.logRetentionDuration&quot;:&quot;interval 60 days&quot;,&quot;delta.deletedFileRetentionDuration&quot;:&quot;interval 60 days&quot;}&#x27;, &#x27;isManaged&#x27;: &#x27;true&#x27;}</td><td>null</td><td>null</td><td>null</td><td>13</td><td>Serializable</td><td>False</td><td>{&#x27;numOutputRows&#x27;: &#x27;1000&#x27;, &#x27;numOutputBytes&#x27;: &#x27;83910&#x27;, &#x27;numFiles&#x27;: &#x27;1&#x27;}</td><td>null</td><td>Apache-Spark/3.4.1 Delta-Lake/2.4.0</td></tr><tr><td>13</td><td>2025-09-27 02:49:17.381000</td><td>null</td><td>null</td><td>OPTIMIZE</td><td>{&#x27;predicate&#x27;: &#x27;[]&#x27;, &#x27;zOrderBy&#x27;: &#x27;[&quot;age&quot;]&#x27;}</td><td>null</td><td>null</td><td>null</td><td>12</td><td>SnapshotIsolation</td><td>False</td><td>{&#x27;numRemovedBytes&#x27;: &#x27;83910&#x27;, &#x27;p50FileSize&#x27;: &#x27;83910&#x27;, &#x27;p25FileSize&#x27;: &#x27;83910&#x27;, &#x27;numAddedFiles&#x27;: &#x27;1&#x27;, &#x27;minFileSize&#x27;: &#x27;83910&#x27;, &#x27;p75FileSize&#x27;: &#x27;83910&#x27;, &#x27;numDeletionVectorsRemoved&#x27;: &#x27;0&#x27;, &#x27;numAddedBytes&#x27;: &#x27;83910&#x27;, &#x27;maxFileSize&#x27;: &#x27;83910&#x27;, &#x27;numRemovedFiles&#x27;: &#x27;1&#x27;}</td><td>null</td><td>Apache-Spark/3.4.1 Delta-Lake/2.4.0</td></tr><tr><td>12</td><td>2025-09-27 02:49:06.073000</td><td>null</td><td>null</td><td>OPTIMIZE</td><td>{&#x27;predicate&#x27;: &#x27;[]&#x27;, &#x27;zOrderBy&#x27;: &#x27;[&quot;age&quot;]&#x27;}</td><td>null</td><td>null</td><td>null</td><td>11</td><td>SnapshotIsolation</td><td>False</td><td>{&#x27;numRemovedBytes&#x27;: &#x27;83910&#x27;, &#x27;p50FileSize&#x27;: &#x27;83910&#x27;, &#x27;p25FileSize&#x27;: &#x27;83910&#x27;, &#x27;numAddedFiles&#x27;: &#x27;1&#x27;, &#x27;minFileSize&#x27;: &#x27;83910&#x27;, &#x27;p75FileSize&#x27;: &#x27;83910&#x27;, &#x27;numDeletionVectorsRemoved&#x27;: &#x27;0&#x27;, &#x27;numAddedBytes&#x27;: &#x27;83910&#x27;, &#x27;maxFileSize&#x27;: &#x27;83910&#x27;, &#x27;numRemovedFiles&#x27;: &#x27;1&#x27;}</td><td>null</td><td>Apache-Spark/3.4.1 Delta-Lake/2.4.0</td></tr><tr><td>11</td><td>2025-09-27 02:16:59.928000</td><td>null</td><td>null</td><td>SET TBLPROPERTIES</td><td>{&#x27;properties&#x27;: &#x27;{&quot;delta.logRetentionDuration&quot;:&quot;interval 60 days&quot;,&quot;delta.deletedFileRetentionDuration&quot;:&quot;interval 60 days&quot;}&#x27;}</td><td>null</td><td>null</td><td>null</td><td>10</td><td>Serializable</td><td>True</td><td>{}</td><td>null</td><td>Apache-Spark/3.4.1 Delta-Lake/2.4.0</td></tr><tr><td>10</td><td>2025-09-27 02:16:44.493000</td><td>null</td><td>null</td><td>CREATE OR REPLACE TABLE AS SELECT</td><td>{&#x27;description&#x27;: None, &#x27;partitionBy&#x27;: &#x27;[]&#x27;, &#x27;properties&#x27;: &#x27;{&quot;delta.logRetentionDuration&quot;:&quot;interval 60 days&quot;,&quot;delta.deletedFileRetentionDuration&quot;:&quot;interval 60 days&quot;}&#x27;, &#x27;isManaged&#x27;: &#x27;true&#x27;}</td><td>null</td><td>null</td><td>null</td><td>9</td><td>Serializable</td><td>False</td><td>{&#x27;numOutputRows&#x27;: &#x27;1000&#x27;, &#x27;numOutputBytes&#x27;: &#x27;83910&#x27;, &#x27;numFiles&#x27;: &#x27;1&#x27;}</td><td>null</td><td>Apache-Spark/3.4.1 Delta-Lake/2.4.0</td></tr></table>"
      ],
      "text/plain": [
       "<IPython.core.display.HTML object>"
      ]
     },
     "execution_count": 143,
     "metadata": {},
     "output_type": "execute_result"
    }
   ],
   "source": [
    "%%sparksql\n",
    "DESCRIBE HISTORY \"/opt/workspace/insurance_claims/spark-warehouse/insurance_claimsv4\""
   ]
  },
  {
   "cell_type": "code",
   "execution_count": 144,
   "metadata": {},
   "outputs": [],
   "source": [
    "# Read the data as a DataFrame\n",
    "df = (spark.read\n",
    "      .format(\"csv\")\n",
    "      .option(\"header\", \"true\")\n",
    "      .load(\"../data/insurance_claims.csv\"))\n"
   ]
  },
  {
   "cell_type": "code",
   "execution_count": 145,
   "metadata": {},
   "outputs": [
    {
     "name": "stdout",
     "output_type": "stream",
     "text": [
      "root\n",
      " |-- months_as_customer: string (nullable = true)\n",
      " |-- age: string (nullable = true)\n",
      " |-- policy_number: string (nullable = true)\n",
      " |-- policy_bind_date: string (nullable = true)\n",
      " |-- policy_state: string (nullable = true)\n",
      " |-- policy_csl: string (nullable = true)\n",
      " |-- policy_deductable: string (nullable = true)\n",
      " |-- policy_annual_premium: string (nullable = true)\n",
      " |-- umbrella_limit: string (nullable = true)\n",
      " |-- insured_zip: string (nullable = true)\n",
      " |-- insured_sex: string (nullable = true)\n",
      " |-- insured_education_level: string (nullable = true)\n",
      " |-- insured_occupation: string (nullable = true)\n",
      " |-- insured_hobbies: string (nullable = true)\n",
      " |-- insured_relationship: string (nullable = true)\n",
      " |-- capital-gains: string (nullable = true)\n",
      " |-- capital-loss: string (nullable = true)\n",
      " |-- incident_date: string (nullable = true)\n",
      " |-- incident_type: string (nullable = true)\n",
      " |-- collision_type: string (nullable = true)\n",
      " |-- incident_severity: string (nullable = true)\n",
      " |-- authorities_contacted: string (nullable = true)\n",
      " |-- incident_state: string (nullable = true)\n",
      " |-- incident_city: string (nullable = true)\n",
      " |-- incident_location: string (nullable = true)\n",
      " |-- incident_hour_of_the_day: string (nullable = true)\n",
      " |-- number_of_vehicles_involved: string (nullable = true)\n",
      " |-- property_damage: string (nullable = true)\n",
      " |-- bodily_injuries: string (nullable = true)\n",
      " |-- witnesses: string (nullable = true)\n",
      " |-- police_report_available: string (nullable = true)\n",
      " |-- total_claim_amount: string (nullable = true)\n",
      " |-- injury_claim: string (nullable = true)\n",
      " |-- property_claim: string (nullable = true)\n",
      " |-- vehicle_claim: string (nullable = true)\n",
      " |-- auto_make: string (nullable = true)\n",
      " |-- auto_model: string (nullable = true)\n",
      " |-- auto_year: string (nullable = true)\n",
      " |-- fraud_reported: string (nullable = true)\n",
      " |-- _c39: string (nullable = true)\n",
      "\n"
     ]
    }
   ],
   "source": [
    "df.printSchema()"
   ]
  },
  {
   "cell_type": "code",
   "execution_count": 146,
   "metadata": {},
   "outputs": [
    {
     "name": "stderr",
     "output_type": "stream",
     "text": [
      "                                                                                \r"
     ]
    }
   ],
   "source": [
    "from pyspark.sql.functions import substring, col\n",
    "# Write the data to a Delta Lake table with partitioning\n",
    "#on recupere la date,  Extraire les 4 premiers caractères (année)\n",
    "df_year = df.withColumn(\"year\", substring(col(\"incident_date\"), 1, 4))\n",
    "\n",
    "df =  df_year.write.format(\"delta\") \\\n",
    "    .partitionBy(\"year\") \\\n",
    "    .mode(\"overwrite\") \\\n",
    "    .save(\"/opt/workspace/insurance_claims/spark-warehouse/insurance_claimsPartitioning\")\n",
    "\n",
    " \n",
    "\n",
    "#df = df_year.write.partitionBy(\"year\").delta(\"/opt/workspace/insurance_claims/spark-warehouse/insurance_claimsPartitioning\")\n",
    "#df.write.format(\"delta\").mode(\"overwrite\").saveAsTable(\"default.insurance_claimsV3\")\n",
    " "
   ]
  },
  {
   "cell_type": "code",
   "execution_count": 147,
   "metadata": {},
   "outputs": [
    {
     "name": "stdout",
     "output_type": "stream",
     "text": [
      "+------------------+---+-------------+----------------+------------+----------+-----------------+---------------------+--------------+-----------+-----------+-----------------------+------------------+---------------+--------------------+-------------+------------+-------------+--------------------+---------------+-----------------+---------------------+--------------+-------------+------------------+------------------------+---------------------------+---------------+---------------+---------+-----------------------+------------------+------------+--------------+-------------+---------+----------+---------+--------------+----+----+\n",
      "|months_as_customer|age|policy_number|policy_bind_date|policy_state|policy_csl|policy_deductable|policy_annual_premium|umbrella_limit|insured_zip|insured_sex|insured_education_level|insured_occupation|insured_hobbies|insured_relationship|capital-gains|capital-loss|incident_date|       incident_type| collision_type|incident_severity|authorities_contacted|incident_state|incident_city| incident_location|incident_hour_of_the_day|number_of_vehicles_involved|property_damage|bodily_injuries|witnesses|police_report_available|total_claim_amount|injury_claim|property_claim|vehicle_claim|auto_make|auto_model|auto_year|fraud_reported|_c39|year|\n",
      "+------------------+---+-------------+----------------+------------+----------+-----------------+---------------------+--------------+-----------+-----------+-----------------------+------------------+---------------+--------------------+-------------+------------+-------------+--------------------+---------------+-----------------+---------------------+--------------+-------------+------------------+------------------------+---------------------------+---------------+---------------+---------+-----------------------+------------------+------------+--------------+-------------+---------+----------+---------+--------------+----+----+\n",
      "|               328| 48|       521585|      2014-10-17|          OH|   250/500|             1000|              1406.91|             0|     466132|       MALE|                     MD|      craft-repair|       sleeping|             husband|        53300|           0|   2015-01-25|Single Vehicle Co...| Side Collision|     Major Damage|               Police|            SC|     Columbus|    9935 4th Drive|                       5|                          1|            YES|              1|        2|                    YES|             71610|        6510|         13020|        52080|     Saab|       92x|     2004|             Y|null|2015|\n",
      "|               228| 42|       342868|      2006-06-27|          IN|   250/500|             2000|              1197.22|       5000000|     468176|       MALE|                     MD| machine-op-inspct|        reading|      other-relative|            0|           0|   2015-01-21|       Vehicle Theft|              ?|     Minor Damage|               Police|            VA|    Riverwood|      6608 MLK Hwy|                       8|                          1|              ?|              0|        0|                      ?|              5070|         780|           780|         3510| Mercedes|      E400|     2007|             Y|null|2015|\n",
      "|               134| 29|       687698|      2000-09-06|          OH|   100/300|             2000|              1413.14|       5000000|     430632|     FEMALE|                    PhD|             sales|    board-games|           own-child|        35100|           0|   2015-02-22|Multi-vehicle Col...| Rear Collision|     Minor Damage|               Police|            NY|     Columbus| 7121 Francis Lane|                       7|                          3|             NO|              2|        3|                     NO|             34650|        7700|          3850|        23100|    Dodge|       RAM|     2007|             N|null|2015|\n",
      "|               256| 41|       227811|      1990-05-25|          IL|   250/500|             2000|              1415.74|       6000000|     608117|     FEMALE|                    PhD|      armed-forces|    board-games|           unmarried|        48900|      -62400|   2015-01-10|Single Vehicle Co...|Front Collision|     Major Damage|               Police|            OH|    Arlington|  6956 Maple Drive|                       5|                          1|              ?|              1|        2|                     NO|             63400|        6340|          6340|        50720|Chevrolet|     Tahoe|     2014|             Y|null|2015|\n",
      "|               228| 44|       367455|      2014-06-06|          IL|  500/1000|             1000|              1583.91|       6000000|     610706|       MALE|              Associate|             sales|    board-games|           unmarried|        66000|      -46000|   2015-02-17|       Vehicle Theft|              ?|     Minor Damage|                 None|            NY|    Arlington|      3041 3rd Ave|                      20|                          1|             NO|              0|        1|                     NO|              6500|        1300|           650|         4550|   Accura|       RSX|     2009|             N|null|2015|\n",
      "|               256| 39|       104594|      2006-10-12|          OH|   250/500|             1000|               1351.1|             0|     478456|     FEMALE|                    PhD|      tech-support| bungie-jumping|           unmarried|            0|           0|   2015-01-02|Multi-vehicle Col...| Rear Collision|     Major Damage|                 Fire|            SC|    Arlington|8973 Washington St|                      19|                          3|             NO|              0|        2|                     NO|             64100|        6410|          6410|        51280|     Saab|        95|     2003|             Y|null|2015|\n",
      "|               137| 34|       413978|      2000-06-04|          IN|   250/500|             1000|              1333.35|             0|     441716|       MALE|                    PhD|    prof-specialty|    board-games|             husband|            0|      -77000|   2015-01-13|Multi-vehicle Col...|Front Collision|     Minor Damage|               Police|            NY|  Springfield| 5846 Weaver Drive|                       0|                          3|              ?|              0|        0|                      ?|             78650|       21450|          7150|        50050|   Nissan|Pathfinder|     2012|             N|null|2015|\n",
      "|               165| 37|       429027|      1990-02-03|          IL|   100/300|             1000|              1137.03|             0|     603195|       MALE|              Associate|      tech-support|   base-jumping|           unmarried|            0|           0|   2015-02-27|Multi-vehicle Col...|Front Collision|       Total Loss|               Police|            VA|     Columbus|      3525 3rd Hwy|                      23|                          3|              ?|              2|        2|                    YES|             51590|        9380|          9380|        32830|     Audi|        A5|     2015|             N|null|2015|\n",
      "|                27| 33|       485665|      1997-02-05|          IL|   100/300|              500|              1442.99|             0|     601734|     FEMALE|                    PhD|     other-service|           golf|           own-child|            0|           0|   2015-01-30|Single Vehicle Co...|Front Collision|       Total Loss|               Police|            WV|    Arlington|   4872 Rock Ridge|                      21|                          1|             NO|              1|        1|                    YES|             27700|        2770|          2770|        22160|   Toyota|     Camry|     2012|             N|null|2015|\n",
      "|               212| 42|       636550|      2011-07-25|          IL|   100/300|              500|              1315.68|             0|     600983|       MALE|                    PhD|   priv-house-serv|        camping|                wife|            0|      -39300|   2015-01-05|Single Vehicle Co...| Rear Collision|       Total Loss|                Other|            NC|    Hillsdale|  3066 Francis Ave|                      14|                          1|             NO|              2|        1|                      ?|             42300|        4700|          4700|        32900|     Saab|       92x|     1996|             N|null|2015|\n",
      "|               235| 42|       543610|      2002-05-26|          OH|   100/300|              500|              1253.12|       4000000|     462283|     FEMALE|                Masters|   exec-managerial|        dancing|      other-relative|        38400|           0|   2015-01-06|Single Vehicle Co...|Front Collision|       Total Loss|               Police|            NY|    Northbend|    1558 1st Ridge|                      22|                          1|            YES|              2|        2|                      ?|             87010|        7910|         15820|        63280|     Ford|      F150|     2002|             N|null|2015|\n",
      "|               447| 61|       214618|      1999-05-29|          OH|   100/300|             2000|              1137.16|             0|     615561|     FEMALE|            High School|   exec-managerial|      skydiving|      other-relative|            0|      -51000|   2015-02-15|Multi-vehicle Col...|Front Collision|     Major Damage|                 Fire|            SC|  Springfield|      5971 5th Hwy|                      21|                          3|            YES|              1|        2|                    YES|            114920|       17680|         17680|        79560|     Audi|        A3|     2006|             N|null|2015|\n",
      "|                60| 23|       842643|      1997-11-20|          OH|  500/1000|              500|              1215.36|       3000000|     432220|       MALE|                     MD|   protective-serv|        reading|                wife|            0|           0|   2015-01-22|Single Vehicle Co...| Rear Collision|       Total Loss|            Ambulance|            SC|    Northbend|    6655 5th Drive|                       9|                          1|            YES|              1|        0|                     NO|             56520|        4710|          9420|        42390|     Saab|        95|     2000|             N|null|2015|\n",
      "|               121| 34|       626808|      2012-10-26|          OH|   100/300|             1000|               936.61|             0|     464652|     FEMALE|                     MD|      armed-forces| bungie-jumping|                wife|        52800|      -32800|   2015-01-08|          Parked Car|              ?|     Minor Damage|                 None|            SC|  Springfield|     6582 Elm Lane|                       5|                          1|             NO|              1|        1|                     NO|              7280|        1120|          1120|         5040|   Toyota|Highlander|     2010|             N|null|2015|\n",
      "|               180| 38|       644081|      1998-12-28|          OH|   250/500|             2000|              1301.13|             0|     476685|     FEMALE|                College| machine-op-inspct|    board-games|       not-in-family|        41300|      -55500|   2015-01-15|Single Vehicle Co...| Rear Collision|       Total Loss|               Police|            SC|  Springfield|    6851 3rd Drive|                      12|                          1|             NO|              0|        2|                    YES|             46200|        4200|          8400|        33600|    Dodge|      Neon|     2003|             Y|null|2015|\n",
      "|               473| 58|       892874|      1992-10-19|          IN|   100/300|             2000|               1131.4|             0|     458733|     FEMALE|                     MD|  transport-moving|         movies|      other-relative|        55700|           0|   2015-01-29|Multi-vehicle Col...| Side Collision|     Major Damage|                Other|            WV|    Hillsdale|   9573 Weaver Ave|                      12|                          4|            YES|              0|        0|                     NO|             63120|       10520|         10520|        42080|   Accura|       MDX|     1999|             Y|null|2015|\n",
      "|                70| 26|       558938|      2005-06-08|          OH|  500/1000|             1000|              1199.44|       5000000|     619884|       MALE|                College| machine-op-inspct|         hiking|           own-child|        63600|           0|   2015-02-22|Multi-vehicle Col...| Rear Collision|     Major Damage|                Other|            NY|    Riverwood|       5074 3rd St|                       0|                          3|              ?|              1|        2|                    YES|             52110|        5790|          5790|        40530|   Nissan|    Maxima|     2012|             N|null|2015|\n",
      "|               140| 31|       275265|      2004-11-15|          IN|  500/1000|              500|               708.64|       6000000|     470610|       MALE|            High School| machine-op-inspct|        reading|           unmarried|        53500|           0|   2015-01-06|Single Vehicle Co...| Side Collision|       Total Loss|               Police|            WV|    Northbend|      4546 Tree St|                       9|                          1|             NO|              0|        2|                    YES|             77880|       14160|          7080|        56640|   Suburu|    Legacy|     2015|             N|null|2015|\n",
      "|               160| 37|       921202|      2014-12-28|          OH|  500/1000|              500|              1374.22|             0|     472135|     FEMALE|                     MD|      craft-repair|       yachting|      other-relative|        45500|      -37800|   2015-01-19|Single Vehicle Co...| Side Collision|       Total Loss|                Other|            NY|   Northbrook|   3842 Solo Ridge|                      19|                          1|            YES|              1|        0|                     NO|             72930|        6630|         13260|        53040|   Accura|        TL|     2015|             N|null|2015|\n",
      "|               196| 39|       143972|      1992-08-02|          IN|  500/1000|             2000|              1475.73|             0|     477670|     FEMALE|            High School| handlers-cleaners|        camping|           own-child|        57000|      -27300|   2015-02-22|Multi-vehicle Col...| Side Collision|     Major Damage|               Police|            VA|     Columbus|    8101 3rd Ridge|                       8|                          3|              ?|              2|        0|                     NO|             60400|        6040|          6040|        48320|   Nissan|Pathfinder|     2014|             N|null|2015|\n",
      "+------------------+---+-------------+----------------+------------+----------+-----------------+---------------------+--------------+-----------+-----------+-----------------------+------------------+---------------+--------------------+-------------+------------+-------------+--------------------+---------------+-----------------+---------------------+--------------+-------------+------------------+------------------------+---------------------------+---------------+---------------+---------+-----------------------+------------------+------------+--------------+-------------+---------+----------+---------+--------------+----+----+\n",
      "only showing top 20 rows\n",
      "\n"
     ]
    }
   ],
   "source": [
    "# Query the partitioned table\n",
    "df = spark.read.format(\"delta\").load(\"/opt/workspace/insurance_claims/spark-warehouse/insurance_claimsPartitioning\")\n",
    "df.show()"
   ]
  },
  {
   "cell_type": "code",
   "execution_count": 10,
   "metadata": {},
   "outputs": [
    {
     "name": "stdout",
     "output_type": "stream",
     "text": [
      "+---------+---------+-----------+\n",
      "|namespace|tableName|isTemporary|\n",
      "+---------+---------+-----------+\n",
      "+---------+---------+-----------+\n",
      "\n"
     ]
    }
   ],
   "source": [
    "\n",
    "      "
   ]
  },
  {
   "cell_type": "code",
   "execution_count": 149,
   "metadata": {},
   "outputs": [
    {
     "data": {
      "text/plain": [
       "'\\n#%%sparksql\\n# Crée une nouvelle table Delta à partir de la table existante\\ndf1 = spark.read.format(\"delta\").load(\"/opt/workspace/insurance_claims/spark-warehouse/insurance_claimsv4\")\\n\\n# Sauvegarde le DataFrame dans une nouvelle table Delta\\ndf1.write.format(\"delta\").save(\"/opt/workspace/insurance_claims/spark-warehouse/insurance_claimsv7\")\\n\\n'"
      ]
     },
     "execution_count": 149,
     "metadata": {},
     "output_type": "execute_result"
    }
   ],
   "source": [
    "'''\n",
    "#%%sparksql\n",
    "# Crée une nouvelle table Delta à partir de la table existante\n",
    "df1 = spark.read.format(\"delta\").load(\"/opt/workspace/insurance_claims/spark-warehouse/insurance_claimsv4\")\n",
    "\n",
    "# Sauvegarde le DataFrame dans une nouvelle table Delta\n",
    "df1.write.format(\"delta\").save(\"/opt/workspace/insurance_claims/spark-warehouse/insurance_claimsv7\")\n",
    "\n",
    "'''"
   ]
  },
  {
   "cell_type": "code",
   "execution_count": null,
   "metadata": {},
   "outputs": [],
   "source": []
  },
  {
   "cell_type": "code",
   "execution_count": 150,
   "metadata": {},
   "outputs": [
    {
     "name": "stderr",
     "output_type": "stream",
     "text": [
      "                                                                                \r"
     ]
    }
   ],
   "source": [
    "#a. Créez une nouvelle table filtrée contenant uniquement les données valides :\n",
    "#-- Créer une nouvelle table avec seulement les lignes valides\n",
    "#%%sparksql\n",
    "# Exécutez la requête SQL pour créer une nouvelle table filtrée\n",
    "\n",
    "# Créer une DataFrame filtrée\n",
    "df_filtered = spark.read.format(\"delta\").load(\"/opt/workspace/insurance_claims/spark-warehouse/insurance_claimsv5\") \\\n",
    "    .filter(\"auto_make IN ('Mercedes', 'Dodge', 'Nissan')\")\n",
    "\n",
    "# Écrire cette DataFrame dans une nouvelle table Delta\n",
    "df_filtered.write.format(\"delta\").mode(\"overwrite\").save(\"/opt/workspace/insurance_claims/spark-warehouse/insurance_claimsv5_filtered\")\n",
    "\n",
    "\n"
   ]
  },
  {
   "cell_type": "code",
   "execution_count": null,
   "metadata": {},
   "outputs": [],
   "source": [
    " "
   ]
  },
  {
   "cell_type": "code",
   "execution_count": 151,
   "metadata": {},
   "outputs": [
    {
     "name": "stdout",
     "output_type": "stream",
     "text": [
      "+------------------+---+-------------+----------------+------------+----------+-----------------+---------------------+--------------+-----------+-----------+-----------------------+------------------+---------------+--------------------+-------------+------------+-------------+--------------------+---------------+-----------------+---------------------+--------------+-------------+-----------------+------------------------+---------------------------+---------------+---------------+---------+-----------------------+------------------+------------+--------------+-------------+---------+----------+---------+--------------+----+\n",
      "|months_as_customer|age|policy_number|policy_bind_date|policy_state|policy_csl|policy_deductable|policy_annual_premium|umbrella_limit|insured_zip|insured_sex|insured_education_level|insured_occupation|insured_hobbies|insured_relationship|capital-gains|capital-loss|incident_date|       incident_type| collision_type|incident_severity|authorities_contacted|incident_state|incident_city|incident_location|incident_hour_of_the_day|number_of_vehicles_involved|property_damage|bodily_injuries|witnesses|police_report_available|total_claim_amount|injury_claim|property_claim|vehicle_claim|auto_make|auto_model|auto_year|fraud_reported|_c39|\n",
      "+------------------+---+-------------+----------------+------------+----------+-----------------+---------------------+--------------+-----------+-----------+-----------------------+------------------+---------------+--------------------+-------------+------------+-------------+--------------------+---------------+-----------------+---------------------+--------------+-------------+-----------------+------------------------+---------------------------+---------------+---------------+---------+-----------------------+------------------+------------+--------------+-------------+---------+----------+---------+--------------+----+\n",
      "|               228| 42|       342868|      2006-06-27|          IN|   250/500|             2000|              1197.22|       5000000|     468176|       MALE|                     MD| machine-op-inspct|        reading|      other-relative|            0|           0|   2015-01-21|       Vehicle Theft|              ?|     Minor Damage|               Police|            VA|    Riverwood|     6608 MLK Hwy|                       8|                          1|              ?|              0|        0|                      ?|              5070|         780|           780|         3510| Mercedes|      E400|     2007|             Y|null|\n",
      "|               134| 29|       687698|      2000-09-06|          OH|   100/300|             2000|              1413.14|       5000000|     430632|     FEMALE|                    PhD|             sales|    board-games|           own-child|        35100|           0|   2015-02-22|Multi-vehicle Col...| Rear Collision|     Minor Damage|               Police|            NY|     Columbus|7121 Francis Lane|                       7|                          3|             NO|              2|        3|                     NO|             34650|        7700|          3850|        23100|    Dodge|       RAM|     2007|             N|null|\n",
      "|               137| 34|       413978|      2000-06-04|          IN|   250/500|             1000|              1333.35|             0|     441716|       MALE|                    PhD|    prof-specialty|    board-games|             husband|            0|      -77000|   2015-01-13|Multi-vehicle Col...|Front Collision|     Minor Damage|               Police|            NY|  Springfield|5846 Weaver Drive|                       0|                          3|              ?|              0|        0|                      ?|             78650|       21450|          7150|        50050|   Nissan|Pathfinder|     2012|             N|null|\n",
      "|               180| 38|       644081|      1998-12-28|          OH|   250/500|             2000|              1301.13|             0|     476685|     FEMALE|                College| machine-op-inspct|    board-games|       not-in-family|        41300|      -55500|   2015-01-15|Single Vehicle Co...| Rear Collision|       Total Loss|               Police|            SC|  Springfield|   6851 3rd Drive|                      12|                          1|             NO|              0|        2|                    YES|             46200|        4200|          8400|        33600|    Dodge|      Neon|     2003|             Y|null|\n",
      "|                70| 26|       558938|      2005-06-08|          OH|  500/1000|             1000|              1199.44|       5000000|     619884|       MALE|                College| machine-op-inspct|         hiking|           own-child|        63600|           0|   2015-02-22|Multi-vehicle Col...| Rear Collision|     Major Damage|                Other|            NY|    Riverwood|      5074 3rd St|                       0|                          3|              ?|              1|        2|                    YES|             52110|        5790|          5790|        40530|   Nissan|    Maxima|     2012|             N|null|\n",
      "+------------------+---+-------------+----------------+------------+----------+-----------------+---------------------+--------------+-----------+-----------+-----------------------+------------------+---------------+--------------------+-------------+------------+-------------+--------------------+---------------+-----------------+---------------------+--------------+-------------+-----------------+------------------------+---------------------------+---------------+---------------+---------+-----------------------+------------------+------------+--------------+-------------+---------+----------+---------+--------------+----+\n",
      "only showing top 5 rows\n",
      "\n"
     ]
    }
   ],
   "source": [
    "df2 = spark.read.format(\"delta\").load(\"/opt/workspace/insurance_claims/spark-warehouse/insurance_claimsv5_filtered\")\n",
    "df2.show(5)"
   ]
  },
  {
   "cell_type": "code",
   "execution_count": 152,
   "metadata": {},
   "outputs": [],
   "source": [
    "#Cloning Delta Tables"
   ]
  },
  {
   "cell_type": "code",
   "execution_count": 153,
   "metadata": {},
   "outputs": [
    {
     "data": {
      "text/plain": [
       "'\\n%%sparksql\\nALTER TABLE delta.`/opt/workspace/insurance_claims/spark-warehouse/insurance_claimsv5_filtered` DROP CONSTRAINT auto_make;\\n'"
      ]
     },
     "execution_count": 153,
     "metadata": {},
     "output_type": "execute_result"
    }
   ],
   "source": [
    "'''\n",
    "%%sparksql\n",
    "ALTER TABLE delta.`/opt/workspace/insurance_claims/spark-warehouse/insurance_claimsv5_filtered` DROP CONSTRAINT auto_make;\n",
    "'''"
   ]
  },
  {
   "cell_type": "code",
   "execution_count": null,
   "metadata": {},
   "outputs": [],
   "source": []
  },
  {
   "cell_type": "code",
   "execution_count": 159,
   "metadata": {},
   "outputs": [
    {
     "data": {
      "text/plain": [
       "\"\\n%%sparksql\\nALTER TABLE delta.`/opt/workspace/insurance_claims/spark-warehouse/insurance_claimsv5_filtered` ADD CONSTRAINT auto_make CHECK (auto_make IN ('Mercedes', 'Show','TV Show'));\\n\""
      ]
     },
     "execution_count": 159,
     "metadata": {},
     "output_type": "execute_result"
    }
   ],
   "source": [
    "'''\n",
    "%%sparksql\n",
    "ALTER TABLE delta.`/opt/workspace/insurance_claims/spark-warehouse/insurance_claimsv5_filtered` ADD CONSTRAINT auto_make CHECK (auto_make IN ('Mercedes', 'Show','TV Show'));\n",
    "'''"
   ]
  },
  {
   "cell_type": "code",
   "execution_count": 158,
   "metadata": {},
   "outputs": [
    {
     "name": "stderr",
     "output_type": "stream",
     "text": [
      "                                                                                \r"
     ]
    },
    {
     "name": "stdout",
     "output_type": "stream",
     "text": [
      "+------------------+---+-------------+----------------+------------+----------+-----------------+---------------------+--------------+-----------+-----------+-----------------------+------------------+---------------+--------------------+-------------+------------+-------------+--------------------+---------------+-----------------+---------------------+--------------+-------------+------------------+------------------------+---------------------------+---------------+---------------+---------+-----------------------+------------------+------------+--------------+-------------+---------+----------+---------+--------------+----+\n",
      "|months_as_customer|age|policy_number|policy_bind_date|policy_state|policy_csl|policy_deductable|policy_annual_premium|umbrella_limit|insured_zip|insured_sex|insured_education_level|insured_occupation|insured_hobbies|insured_relationship|capital-gains|capital-loss|incident_date|       incident_type| collision_type|incident_severity|authorities_contacted|incident_state|incident_city| incident_location|incident_hour_of_the_day|number_of_vehicles_involved|property_damage|bodily_injuries|witnesses|police_report_available|total_claim_amount|injury_claim|property_claim|vehicle_claim|auto_make|auto_model|auto_year|fraud_reported|_c39|\n",
      "+------------------+---+-------------+----------------+------------+----------+-----------------+---------------------+--------------+-----------+-----------+-----------------------+------------------+---------------+--------------------+-------------+------------+-------------+--------------------+---------------+-----------------+---------------------+--------------+-------------+------------------+------------------------+---------------------------+---------------+---------------+---------+-----------------------+------------------+------------+--------------+-------------+---------+----------+---------+--------------+----+\n",
      "|               328| 48|       521585|      2014-10-17|          OH|   250/500|             1000|              1406.91|             0|     466132|       MALE|                     MD|      craft-repair|       sleeping|             husband|        53300|           0|   2015-01-25|Single Vehicle Co...| Side Collision|     Major Damage|               Police|            SC|     Columbus|    9935 4th Drive|                       5|                          1|            YES|              1|        2|                    YES|             71610|        6510|         13020|        52080|     Saab|       92x|     2004|             Y|null|\n",
      "|               228| 42|       342868|      2006-06-27|          IN|   250/500|             2000|              1197.22|       5000000|     468176|       MALE|                     MD| machine-op-inspct|        reading|      other-relative|            0|           0|   2015-01-21|       Vehicle Theft|              ?|     Minor Damage|               Police|            VA|    Riverwood|      6608 MLK Hwy|                       8|                          1|              ?|              0|        0|                      ?|              5070|         780|           780|         3510| Mercedes|      E400|     2007|             Y|null|\n",
      "|               134| 29|       687698|      2000-09-06|          OH|   100/300|             2000|              1413.14|       5000000|     430632|     FEMALE|                    PhD|             sales|    board-games|           own-child|        35100|           0|   2015-02-22|Multi-vehicle Col...| Rear Collision|     Minor Damage|               Police|            NY|     Columbus| 7121 Francis Lane|                       7|                          3|             NO|              2|        3|                     NO|             34650|        7700|          3850|        23100|    Dodge|       RAM|     2007|             N|null|\n",
      "|               256| 41|       227811|      1990-05-25|          IL|   250/500|             2000|              1415.74|       6000000|     608117|     FEMALE|                    PhD|      armed-forces|    board-games|           unmarried|        48900|      -62400|   2015-01-10|Single Vehicle Co...|Front Collision|     Major Damage|               Police|            OH|    Arlington|  6956 Maple Drive|                       5|                          1|              ?|              1|        2|                     NO|             63400|        6340|          6340|        50720|Chevrolet|     Tahoe|     2014|             Y|null|\n",
      "|               228| 44|       367455|      2014-06-06|          IL|  500/1000|             1000|              1583.91|       6000000|     610706|       MALE|              Associate|             sales|    board-games|           unmarried|        66000|      -46000|   2015-02-17|       Vehicle Theft|              ?|     Minor Damage|                 None|            NY|    Arlington|      3041 3rd Ave|                      20|                          1|             NO|              0|        1|                     NO|              6500|        1300|           650|         4550|   Accura|       RSX|     2009|             N|null|\n",
      "|               256| 39|       104594|      2006-10-12|          OH|   250/500|             1000|               1351.1|             0|     478456|     FEMALE|                    PhD|      tech-support| bungie-jumping|           unmarried|            0|           0|   2015-01-02|Multi-vehicle Col...| Rear Collision|     Major Damage|                 Fire|            SC|    Arlington|8973 Washington St|                      19|                          3|             NO|              0|        2|                     NO|             64100|        6410|          6410|        51280|     Saab|        95|     2003|             Y|null|\n",
      "|               137| 34|       413978|      2000-06-04|          IN|   250/500|             1000|              1333.35|             0|     441716|       MALE|                    PhD|    prof-specialty|    board-games|             husband|            0|      -77000|   2015-01-13|Multi-vehicle Col...|Front Collision|     Minor Damage|               Police|            NY|  Springfield| 5846 Weaver Drive|                       0|                          3|              ?|              0|        0|                      ?|             78650|       21450|          7150|        50050|   Nissan|Pathfinder|     2012|             N|null|\n",
      "|               165| 37|       429027|      1990-02-03|          IL|   100/300|             1000|              1137.03|             0|     603195|       MALE|              Associate|      tech-support|   base-jumping|           unmarried|            0|           0|   2015-02-27|Multi-vehicle Col...|Front Collision|       Total Loss|               Police|            VA|     Columbus|      3525 3rd Hwy|                      23|                          3|              ?|              2|        2|                    YES|             51590|        9380|          9380|        32830|     Audi|        A5|     2015|             N|null|\n",
      "|                27| 33|       485665|      1997-02-05|          IL|   100/300|              500|              1442.99|             0|     601734|     FEMALE|                    PhD|     other-service|           golf|           own-child|            0|           0|   2015-01-30|Single Vehicle Co...|Front Collision|       Total Loss|               Police|            WV|    Arlington|   4872 Rock Ridge|                      21|                          1|             NO|              1|        1|                    YES|             27700|        2770|          2770|        22160|   Toyota|     Camry|     2012|             N|null|\n",
      "|               212| 42|       636550|      2011-07-25|          IL|   100/300|              500|              1315.68|             0|     600983|       MALE|                    PhD|   priv-house-serv|        camping|                wife|            0|      -39300|   2015-01-05|Single Vehicle Co...| Rear Collision|       Total Loss|                Other|            NC|    Hillsdale|  3066 Francis Ave|                      14|                          1|             NO|              2|        1|                      ?|             42300|        4700|          4700|        32900|     Saab|       92x|     1996|             N|null|\n",
      "+------------------+---+-------------+----------------+------------+----------+-----------------+---------------------+--------------+-----------+-----------+-----------------------+------------------+---------------+--------------------+-------------+------------+-------------+--------------------+---------------+-----------------+---------------------+--------------+-------------+------------------+------------------------+---------------------------+---------------+---------------+---------+-----------------------+------------------+------------+--------------+-------------+---------+----------+---------+--------------+----+\n",
      "only showing top 10 rows\n",
      "\n"
     ]
    }
   ],
   "source": [
    "# Charger la table Delta dans un DataFrame\n",
    "df = spark.read.format(\"delta\").load(\"/opt/workspace/insurance_claims/spark-warehouse/insurance_claimsv5\")\n",
    "\n",
    "# Afficher les 10 premières lignes\n",
    "df.show(10)"
   ]
  },
  {
   "cell_type": "code",
   "execution_count": 162,
   "metadata": {},
   "outputs": [
    {
     "data": {
      "text/html": [
       "<table><tr style=\"border-bottom: 1px solid\"><td style=\"font-weight: bold\">num_affected_rows</td></tr><tr><td>1000</td></tr></table>"
      ],
      "text/plain": [
       "<IPython.core.display.HTML object>"
      ]
     },
     "execution_count": 162,
     "metadata": {},
     "output_type": "execute_result"
    }
   ],
   "source": [
    "%%sparksql\n",
    "DELETE FROM delta.`/opt/workspace/insurance_claims/spark-warehouse/insurance_claimsv5_shallow_clone1`"
   ]
  },
  {
   "cell_type": "code",
   "execution_count": 163,
   "metadata": {},
   "outputs": [
    {
     "data": {
      "text/html": [
       "<table><tr style=\"border-bottom: 1px solid\"><td style=\"font-weight: bold\">source_table_size</td><td style=\"font-weight: bold\">source_num_of_files</td><td style=\"font-weight: bold\">num_removed_files</td><td style=\"font-weight: bold\">num_copied_files</td><td style=\"font-weight: bold\">removed_files_size</td><td style=\"font-weight: bold\">copied_files_size</td></tr><tr><td>83910</td><td>1</td><td>0</td><td>0</td><td>0</td><td>0</td></tr></table>"
      ],
      "text/plain": [
       "<IPython.core.display.HTML object>"
      ]
     },
     "execution_count": 163,
     "metadata": {},
     "output_type": "execute_result"
    }
   ],
   "source": [
    "%%sparksql\n",
    "CREATE OR REPLACE TABLE delta.`/opt/workspace/insurance_claims/spark-warehouse/insurance_claimsv5_shallow_clone1` SHALLOW CLONE delta.`/opt/workspace/insurance_claims/spark-warehouse/insurance_claimsv5`"
   ]
  },
  {
   "cell_type": "code",
   "execution_count": 164,
   "metadata": {},
   "outputs": [
    {
     "name": "stdout",
     "output_type": "stream",
     "text": [
      "The sparksql_magic extension is already loaded. To reload it, use:\n",
      "  %reload_ext sparksql_magic\n"
     ]
    }
   ],
   "source": [
    "%load_ext sparksql_magic\n",
    "%config SparkSql.limit=20"
   ]
  },
  {
   "cell_type": "code",
   "execution_count": 165,
   "metadata": {},
   "outputs": [
    {
     "data": {
      "text/html": [
       "<table><tr style=\"border-bottom: 1px solid\"><td style=\"font-weight: bold\">format</td><td style=\"font-weight: bold\">id</td><td style=\"font-weight: bold\">name</td><td style=\"font-weight: bold\">description</td><td style=\"font-weight: bold\">location</td><td style=\"font-weight: bold\">createdAt</td><td style=\"font-weight: bold\">lastModified</td><td style=\"font-weight: bold\">partitionColumns</td><td style=\"font-weight: bold\">numFiles</td><td style=\"font-weight: bold\">sizeInBytes</td><td style=\"font-weight: bold\">properties</td><td style=\"font-weight: bold\">minReaderVersion</td><td style=\"font-weight: bold\">minWriterVersion</td><td style=\"font-weight: bold\">tableFeatures</td></tr><tr><td>delta</td><td>b2811650-d3c2-471c-b650-b9c1960d2252</td><td>null</td><td>null</td><td>file:/opt/workspace/insurance_claims/spark-warehouse/insurance_claimsv5</td><td>2025-09-25 02:53:12.566000</td><td>2025-10-02 01:31:13.250000</td><td>[]</td><td>1</td><td>83910</td><td>{&#x27;delta.deletedFileRetentionDuration&#x27;: &#x27;interval 60 days&#x27;, &#x27;delta.logRetentionDuration&#x27;: &#x27;interval 60 days&#x27;}</td><td>1</td><td>2</td><td>[&#x27;appendOnly&#x27;, &#x27;invariants&#x27;]</td></tr></table>"
      ],
      "text/plain": [
       "<IPython.core.display.HTML object>"
      ]
     },
     "execution_count": 165,
     "metadata": {},
     "output_type": "execute_result"
    }
   ],
   "source": [
    "%%sparksql\n",
    "DESCRIBE DETAIL delta.`/opt/workspace/insurance_claims/spark-warehouse/insurance_claimsv5`"
   ]
  },
  {
   "cell_type": "code",
   "execution_count": 166,
   "metadata": {},
   "outputs": [
    {
     "name": "stdout",
     "output_type": "stream",
     "text": [
      "+------------------+---+-------------+----------------+------------+----------+-----------------+---------------------+--------------+-----------+-----------+-----------------------+------------------+---------------+--------------------+-------------+------------+-------------+--------------------+---------------+-----------------+---------------------+--------------+-------------+-----------------+------------------------+---------------------------+---------------+---------------+---------+-----------------------+------------------+------------+--------------+-------------+---------+----------+---------+--------------+----+\n",
      "|months_as_customer|age|policy_number|policy_bind_date|policy_state|policy_csl|policy_deductable|policy_annual_premium|umbrella_limit|insured_zip|insured_sex|insured_education_level|insured_occupation|insured_hobbies|insured_relationship|capital-gains|capital-loss|incident_date|       incident_type| collision_type|incident_severity|authorities_contacted|incident_state|incident_city|incident_location|incident_hour_of_the_day|number_of_vehicles_involved|property_damage|bodily_injuries|witnesses|police_report_available|total_claim_amount|injury_claim|property_claim|vehicle_claim|auto_make|auto_model|auto_year|fraud_reported|_c39|\n",
      "+------------------+---+-------------+----------------+------------+----------+-----------------+---------------------+--------------+-----------+-----------+-----------------------+------------------+---------------+--------------------+-------------+------------+-------------+--------------------+---------------+-----------------+---------------------+--------------+-------------+-----------------+------------------------+---------------------------+---------------+---------------+---------+-----------------------+------------------+------------+--------------+-------------+---------+----------+---------+--------------+----+\n",
      "|               328| 48|       521585|      2014-10-17|          OH|   250/500|             1000|              1406.91|             0|     466132|       MALE|                     MD|      craft-repair|       sleeping|             husband|        53300|           0|   2015-01-25|Single Vehicle Co...| Side Collision|     Major Damage|               Police|            SC|     Columbus|   9935 4th Drive|                       5|                          1|            YES|              1|        2|                    YES|             71610|        6510|         13020|        52080|     Saab|       92x|     2004|             Y|null|\n",
      "|               228| 42|       342868|      2006-06-27|          IN|   250/500|             2000|              1197.22|       5000000|     468176|       MALE|                     MD| machine-op-inspct|        reading|      other-relative|            0|           0|   2015-01-21|       Vehicle Theft|              ?|     Minor Damage|               Police|            VA|    Riverwood|     6608 MLK Hwy|                       8|                          1|              ?|              0|        0|                      ?|              5070|         780|           780|         3510| Mercedes|      E400|     2007|             Y|null|\n",
      "|               134| 29|       687698|      2000-09-06|          OH|   100/300|             2000|              1413.14|       5000000|     430632|     FEMALE|                    PhD|             sales|    board-games|           own-child|        35100|           0|   2015-02-22|Multi-vehicle Col...| Rear Collision|     Minor Damage|               Police|            NY|     Columbus|7121 Francis Lane|                       7|                          3|             NO|              2|        3|                     NO|             34650|        7700|          3850|        23100|    Dodge|       RAM|     2007|             N|null|\n",
      "|               256| 41|       227811|      1990-05-25|          IL|   250/500|             2000|              1415.74|       6000000|     608117|     FEMALE|                    PhD|      armed-forces|    board-games|           unmarried|        48900|      -62400|   2015-01-10|Single Vehicle Co...|Front Collision|     Major Damage|               Police|            OH|    Arlington| 6956 Maple Drive|                       5|                          1|              ?|              1|        2|                     NO|             63400|        6340|          6340|        50720|Chevrolet|     Tahoe|     2014|             Y|null|\n",
      "|               228| 44|       367455|      2014-06-06|          IL|  500/1000|             1000|              1583.91|       6000000|     610706|       MALE|              Associate|             sales|    board-games|           unmarried|        66000|      -46000|   2015-02-17|       Vehicle Theft|              ?|     Minor Damage|                 None|            NY|    Arlington|     3041 3rd Ave|                      20|                          1|             NO|              0|        1|                     NO|              6500|        1300|           650|         4550|   Accura|       RSX|     2009|             N|null|\n",
      "+------------------+---+-------------+----------------+------------+----------+-----------------+---------------------+--------------+-----------+-----------+-----------------------+------------------+---------------+--------------------+-------------+------------+-------------+--------------------+---------------+-----------------+---------------------+--------------+-------------+-----------------+------------------------+---------------------------+---------------+---------------+---------+-----------------------+------------------+------------+--------------+-------------+---------+----------+---------+--------------+----+\n",
      "only showing top 5 rows\n",
      "\n"
     ]
    }
   ],
   "source": [
    "df = spark.read.format(\"delta\").option(\"versionAsOf\", 0).load(\"/opt/workspace/insurance_claims/spark-warehouse/insurance_claimsv5\")\n",
    "df.show(5)"
   ]
  },
  {
   "cell_type": "code",
   "execution_count": 167,
   "metadata": {},
   "outputs": [
    {
     "name": "stderr",
     "output_type": "stream",
     "text": [
      "                                                                                \r"
     ]
    },
    {
     "data": {
      "text/html": [
       "<table><tr style=\"border-bottom: 1px solid\"><td style=\"font-weight: bold\">months_as_customer</td><td style=\"font-weight: bold\">age</td><td style=\"font-weight: bold\">policy_number</td><td style=\"font-weight: bold\">policy_bind_date</td><td style=\"font-weight: bold\">policy_state</td><td style=\"font-weight: bold\">policy_csl</td><td style=\"font-weight: bold\">policy_deductable</td><td style=\"font-weight: bold\">policy_annual_premium</td><td style=\"font-weight: bold\">umbrella_limit</td><td style=\"font-weight: bold\">insured_zip</td><td style=\"font-weight: bold\">insured_sex</td><td style=\"font-weight: bold\">insured_education_level</td><td style=\"font-weight: bold\">insured_occupation</td><td style=\"font-weight: bold\">insured_hobbies</td><td style=\"font-weight: bold\">insured_relationship</td><td style=\"font-weight: bold\">capital-gains</td><td style=\"font-weight: bold\">capital-loss</td><td style=\"font-weight: bold\">incident_date</td><td style=\"font-weight: bold\">incident_type</td><td style=\"font-weight: bold\">collision_type</td><td style=\"font-weight: bold\">incident_severity</td><td style=\"font-weight: bold\">authorities_contacted</td><td style=\"font-weight: bold\">incident_state</td><td style=\"font-weight: bold\">incident_city</td><td style=\"font-weight: bold\">incident_location</td><td style=\"font-weight: bold\">incident_hour_of_the_day</td><td style=\"font-weight: bold\">number_of_vehicles_involved</td><td style=\"font-weight: bold\">property_damage</td><td style=\"font-weight: bold\">bodily_injuries</td><td style=\"font-weight: bold\">witnesses</td><td style=\"font-weight: bold\">police_report_available</td><td style=\"font-weight: bold\">total_claim_amount</td><td style=\"font-weight: bold\">injury_claim</td><td style=\"font-weight: bold\">property_claim</td><td style=\"font-weight: bold\">vehicle_claim</td><td style=\"font-weight: bold\">auto_make</td><td style=\"font-weight: bold\">auto_model</td><td style=\"font-weight: bold\">auto_year</td><td style=\"font-weight: bold\">fraud_reported</td><td style=\"font-weight: bold\">_c39</td></tr><tr><td>328</td><td>48</td><td>521585</td><td>2014-10-17</td><td>OH</td><td>250/500</td><td>1000</td><td>1406.91</td><td>0</td><td>466132</td><td>MALE</td><td>MD</td><td>craft-repair</td><td>sleeping</td><td>husband</td><td>53300</td><td>0</td><td>2015-01-25</td><td>Single Vehicle Collision</td><td>Side Collision</td><td>Major Damage</td><td>Police</td><td>SC</td><td>Columbus</td><td>9935 4th Drive</td><td>5</td><td>1</td><td>YES</td><td>1</td><td>2</td><td>YES</td><td>71610</td><td>6510</td><td>13020</td><td>52080</td><td>Saab</td><td>92x</td><td>2004</td><td>Y</td><td>null</td></tr><tr><td>228</td><td>42</td><td>342868</td><td>2006-06-27</td><td>IN</td><td>250/500</td><td>2000</td><td>1197.22</td><td>5000000</td><td>468176</td><td>MALE</td><td>MD</td><td>machine-op-inspct</td><td>reading</td><td>other-relative</td><td>0</td><td>0</td><td>2015-01-21</td><td>Vehicle Theft</td><td>?</td><td>Minor Damage</td><td>Police</td><td>VA</td><td>Riverwood</td><td>6608 MLK Hwy</td><td>8</td><td>1</td><td>?</td><td>0</td><td>0</td><td>?</td><td>5070</td><td>780</td><td>780</td><td>3510</td><td>Mercedes</td><td>E400</td><td>2007</td><td>Y</td><td>null</td></tr><tr><td>134</td><td>29</td><td>687698</td><td>2000-09-06</td><td>OH</td><td>100/300</td><td>2000</td><td>1413.14</td><td>5000000</td><td>430632</td><td>FEMALE</td><td>PhD</td><td>sales</td><td>board-games</td><td>own-child</td><td>35100</td><td>0</td><td>2015-02-22</td><td>Multi-vehicle Collision</td><td>Rear Collision</td><td>Minor Damage</td><td>Police</td><td>NY</td><td>Columbus</td><td>7121 Francis Lane</td><td>7</td><td>3</td><td>NO</td><td>2</td><td>3</td><td>NO</td><td>34650</td><td>7700</td><td>3850</td><td>23100</td><td>Dodge</td><td>RAM</td><td>2007</td><td>N</td><td>null</td></tr></table>"
      ],
      "text/plain": [
       "<IPython.core.display.HTML object>"
      ]
     },
     "execution_count": 167,
     "metadata": {},
     "output_type": "execute_result"
    }
   ],
   "source": [
    "%%sparksql\n",
    "SELECT * FROM delta.`/opt/workspace/insurance_claims/spark-warehouse/insurance_claimsv5` VERSION AS OF 0 LIMIT 3;"
   ]
  },
  {
   "cell_type": "code",
   "execution_count": 168,
   "metadata": {},
   "outputs": [
    {
     "data": {
      "text/plain": [
       "DataFrame[table_size_after_restore: bigint, num_of_files_after_restore: bigint, num_removed_files: bigint, num_restored_files: bigint, removed_files_size: bigint, restored_files_size: bigint]"
      ]
     },
     "execution_count": 168,
     "metadata": {},
     "output_type": "execute_result"
    }
   ],
   "source": [
    "deltaTable = DeltaTable.forPath(spark, \"/opt/workspace/insurance_claims/spark-warehouse/insurance_claimsv5\")  # path-based tables, or\n",
    "deltaTable.restoreToVersion(0) # restore table to oldest version"
   ]
  },
  {
   "cell_type": "code",
   "execution_count": 169,
   "metadata": {},
   "outputs": [
    {
     "data": {
      "text/html": [
       "<table><tr style=\"border-bottom: 1px solid\"><td style=\"font-weight: bold\">version</td><td style=\"font-weight: bold\">timestamp</td><td style=\"font-weight: bold\">userId</td><td style=\"font-weight: bold\">userName</td><td style=\"font-weight: bold\">operation</td><td style=\"font-weight: bold\">operationParameters</td><td style=\"font-weight: bold\">job</td><td style=\"font-weight: bold\">notebook</td><td style=\"font-weight: bold\">clusterId</td><td style=\"font-weight: bold\">readVersion</td><td style=\"font-weight: bold\">isolationLevel</td><td style=\"font-weight: bold\">isBlindAppend</td><td style=\"font-weight: bold\">operationMetrics</td><td style=\"font-weight: bold\">userMetadata</td><td style=\"font-weight: bold\">engineInfo</td></tr><tr><td>3</td><td>2025-10-02 19:02:16.114000</td><td>null</td><td>null</td><td>RESTORE</td><td>{&#x27;version&#x27;: &#x27;0&#x27;, &#x27;timestamp&#x27;: None}</td><td>null</td><td>null</td><td>null</td><td>2</td><td>Serializable</td><td>False</td><td>{&#x27;removedFilesSize&#x27;: &#x27;0&#x27;, &#x27;tableSizeAfterRestore&#x27;: &#x27;83910&#x27;, &#x27;numRemovedFiles&#x27;: &#x27;0&#x27;, &#x27;restoredFilesSize&#x27;: &#x27;0&#x27;, &#x27;numOfFilesAfterRestore&#x27;: &#x27;1&#x27;, &#x27;numRestoredFiles&#x27;: &#x27;0&#x27;}</td><td>null</td><td>Apache-Spark/3.4.1 Delta-Lake/2.4.0</td></tr><tr><td>2</td><td>2025-10-02 01:31:13.250000</td><td>null</td><td>null</td><td>SET TBLPROPERTIES</td><td>{&#x27;properties&#x27;: &#x27;{&quot;delta.logRetentionDuration&quot;:&quot;interval 60 days&quot;,&quot;delta.deletedFileRetentionDuration&quot;:&quot;interval 60 days&quot;}&#x27;}</td><td>null</td><td>null</td><td>null</td><td>1</td><td>Serializable</td><td>True</td><td>{}</td><td>null</td><td>Apache-Spark/3.4.1 Delta-Lake/2.4.0</td></tr><tr><td>1</td><td>2025-10-02 00:02:15.662000</td><td>null</td><td>null</td><td>SET TBLPROPERTIES</td><td>{&#x27;properties&#x27;: &#x27;{&quot;delta.logRetentionDuration&quot;:&quot;interval 60 days&quot;,&quot;delta.deletedFileRetentionDuration&quot;:&quot;interval 60 days&quot;}&#x27;}</td><td>null</td><td>null</td><td>null</td><td>0</td><td>Serializable</td><td>True</td><td>{}</td><td>null</td><td>Apache-Spark/3.4.1 Delta-Lake/2.4.0</td></tr><tr><td>0</td><td>2025-09-25 02:53:20.781000</td><td>null</td><td>null</td><td>WRITE</td><td>{&#x27;mode&#x27;: &#x27;ErrorIfExists&#x27;, &#x27;partitionBy&#x27;: &#x27;[]&#x27;}</td><td>null</td><td>null</td><td>null</td><td>null</td><td>Serializable</td><td>True</td><td>{&#x27;numOutputRows&#x27;: &#x27;1000&#x27;, &#x27;numOutputBytes&#x27;: &#x27;83910&#x27;, &#x27;numFiles&#x27;: &#x27;1&#x27;}</td><td>null</td><td>Apache-Spark/3.4.1 Delta-Lake/2.4.0</td></tr></table>"
      ],
      "text/plain": [
       "<IPython.core.display.HTML object>"
      ]
     },
     "execution_count": 169,
     "metadata": {},
     "output_type": "execute_result"
    }
   ],
   "source": [
    "%%sparksql\n",
    "DESCRIBE HISTORY \"/opt/workspace/insurance_claims/spark-warehouse/insurance_claimsv5\""
   ]
  },
  {
   "cell_type": "code",
   "execution_count": 11,
   "metadata": {},
   "outputs": [],
   "source": [
    "spark.stop()"
   ]
  },
  {
   "cell_type": "code",
   "execution_count": null,
   "metadata": {},
   "outputs": [],
   "source": []
  }
 ],
 "metadata": {
  "colab": {
   "authorship_tag": "ABX9TyMkb4TQCaFvq8RLHCIx0F7g",
   "mount_file_id": "1b1VikNEUFbMc8A-3Km9nQNyOxPafedmo",
   "provenance": []
  },
  "kernelspec": {
   "display_name": "Python 3 (ipykernel)",
   "language": "python",
   "name": "python3"
  },
  "language_info": {
   "codemirror_mode": {
    "name": "ipython",
    "version": 3
   },
   "file_extension": ".py",
   "mimetype": "text/x-python",
   "name": "python",
   "nbconvert_exporter": "python",
   "pygments_lexer": "ipython3",
   "version": "3.10.12"
  }
 },
 "nbformat": 4,
 "nbformat_minor": 4
}
